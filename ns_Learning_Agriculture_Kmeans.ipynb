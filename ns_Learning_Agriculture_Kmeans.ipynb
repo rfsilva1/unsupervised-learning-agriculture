{
  "nbformat": 4,
  "nbformat_minor": 0,
  "metadata": {
    "kernelspec": {
      "display_name": "Python 3",
      "language": "python",
      "name": "python3"
    },
    "language_info": {
      "codemirror_mode": {
        "name": "ipython",
        "version": 3
      },
      "file_extension": ".py",
      "mimetype": "text/x-python",
      "name": "python",
      "nbconvert_exporter": "python",
      "pygments_lexer": "ipython3",
      "version": "3.7.3"
    },
    "colab": {
      "name": "k-means-cap-livro - scenario 1.ipynb",
      "provenance": [],
      "collapsed_sections": [
        "qzKf_egwWj0h",
        "IVIP8s4vWj1h",
        "Il_B6-Q_Wj3f",
        "hXCkQzICWj5Y"
      ]
    }
  },
  "cells": [
    {
      "cell_type": "markdown",
      "metadata": {
        "id": "vXXUFQuuWjxe",
        "colab_type": "text"
      },
      "source": [
        "# Book chapter - K-Means++ - Full features\n",
        "\n",
        "---\n",
        "\n"
      ]
    },
    {
      "cell_type": "markdown",
      "metadata": {
        "id": "vE1vP42CWMgV",
        "colab_type": "text"
      },
      "source": [
        "Dataset source: described on the paper\n",
        "\n",
        "Source of the PCA implementation (number 4): https://scikit-learn.org/stable/auto_examples/cluster/plot_kmeans_digits.html"
      ]
    },
    {
      "cell_type": "markdown",
      "metadata": {
        "id": "aGXejg7YWjxg",
        "colab_type": "text"
      },
      "source": [
        "# 1. Import"
      ]
    },
    {
      "cell_type": "code",
      "metadata": {
        "id": "fZLT_MXiWjxi",
        "colab_type": "code",
        "outputId": "f041b61e-1b85-4462-f1a9-2bda13b27630",
        "colab": {
          "base_uri": "https://localhost:8080/",
          "height": 35
        }
      },
      "source": [
        "import pandas as pd\n",
        "import matplotlib.pyplot as plt\n",
        "from scipy.spatial.distance import cdist\n",
        "from sklearn.cluster import KMeans\n",
        "from sklearn.preprocessing import StandardScaler\n",
        "from time import time\n",
        "import numpy as np\n",
        "import matplotlib.pyplot as plt\n",
        "from sklearn import metrics\n",
        "from sklearn import preprocessing\n",
        "from sklearn.cluster import KMeans\n",
        "from sklearn.datasets import load_digits\n",
        "from sklearn.decomposition import PCA\n",
        "from sklearn.preprocessing import scale\n",
        "from sklearn.metrics import *\n",
        "import seaborn as sns\n",
        "sns.set()"
      ],
      "execution_count": 0,
      "outputs": [
        {
          "output_type": "stream",
          "text": [
            "time: 6.51 ms\n"
          ],
          "name": "stdout"
        }
      ]
    },
    {
      "cell_type": "code",
      "metadata": {
        "id": "jYf01wP6Wo_T",
        "colab_type": "code",
        "outputId": "330376b3-a2f3-44bd-e6a5-11abce08e956",
        "colab": {
          "base_uri": "https://localhost:8080/",
          "height": 89
        }
      },
      "source": [
        "!pip install ipython-autotime\n",
        "\n",
        "%load_ext autotime"
      ],
      "execution_count": 0,
      "outputs": [
        {
          "output_type": "stream",
          "text": [
            "Requirement already satisfied: ipython-autotime in /usr/local/lib/python3.6/dist-packages (0.1)\n",
            "The autotime extension is already loaded. To reload it, use:\n",
            "  %reload_ext autotime\n",
            "time: 3.82 s\n"
          ],
          "name": "stdout"
        }
      ]
    },
    {
      "cell_type": "code",
      "metadata": {
        "id": "3AZ63WMbWp_g",
        "colab_type": "code",
        "outputId": "3005b282-d7af-4bcb-a6db-b99ada0c3119",
        "colab": {
          "resources": {
            "http://localhost:8080/nbextensions/google.colab/files.js": {
              "data": "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",
              "ok": true,
              "headers": [
                [
                  "content-type",
                  "application/javascript"
                ]
              ],
              "status": 200,
              "status_text": ""
            }
          },
          "base_uri": "https://localhost:8080/",
          "height": 93
        }
      },
      "source": [
        "from google.colab import files\n",
        "uploaded = files.upload()"
      ],
      "execution_count": 0,
      "outputs": [
        {
          "output_type": "display_data",
          "data": {
            "text/html": [
              "\n",
              "     <input type=\"file\" id=\"files-a846d0c6-7d33-4e6b-95d8-0fa5531b320f\" name=\"files[]\" multiple disabled />\n",
              "     <output id=\"result-a846d0c6-7d33-4e6b-95d8-0fa5531b320f\">\n",
              "      Upload widget is only available when the cell has been executed in the\n",
              "      current browser session. Please rerun this cell to enable.\n",
              "      </output>\n",
              "      <script src=\"/nbextensions/google.colab/files.js\"></script> "
            ],
            "text/plain": [
              "<IPython.core.display.HTML object>"
            ]
          },
          "metadata": {
            "tags": []
          }
        },
        {
          "output_type": "stream",
          "text": [
            "Saving dataset_joined.csv to dataset_joined.csv\n",
            "time: 1min 4s\n"
          ],
          "name": "stdout"
        }
      ]
    },
    {
      "cell_type": "markdown",
      "metadata": {
        "id": "QDNRvU1dWjxl",
        "colab_type": "text"
      },
      "source": [
        "## Read CSV"
      ]
    },
    {
      "cell_type": "code",
      "metadata": {
        "id": "QrUcGUDeWjxn",
        "colab_type": "code",
        "outputId": "fe7a1849-8041-414a-f76f-a15709eea152",
        "colab": {
          "base_uri": "https://localhost:8080/",
          "height": 91
        }
      },
      "source": [
        "df = pd.read_csv('dataset_joined.csv', sep=',', encoding = \"ISO-8859-1\")"
      ],
      "execution_count": 0,
      "outputs": [
        {
          "output_type": "stream",
          "text": [
            "time: 150 ms\n"
          ],
          "name": "stdout"
        },
        {
          "output_type": "stream",
          "text": [
            "/usr/local/lib/python3.6/dist-packages/IPython/core/interactiveshell.py:2718: DtypeWarning: Columns (10,11,12,13,14,15,23) have mixed types. Specify dtype option on import or set low_memory=False.\n",
            "  interactivity=interactivity, compiler=compiler, result=result)\n"
          ],
          "name": "stderr"
        }
      ]
    },
    {
      "cell_type": "markdown",
      "metadata": {
        "id": "71mPc8ylWjxr",
        "colab_type": "text"
      },
      "source": [
        "## Verify import"
      ]
    },
    {
      "cell_type": "code",
      "metadata": {
        "id": "S6_xenU3Wjxs",
        "colab_type": "code",
        "outputId": "5a6fe777-9284-42a6-84f1-82127f2a06d0",
        "colab": {
          "base_uri": "https://localhost:8080/",
          "height": 242
        }
      },
      "source": [
        "df.head()"
      ],
      "execution_count": 0,
      "outputs": [
        {
          "output_type": "execute_result",
          "data": {
            "text/html": [
              "<div>\n",
              "<style scoped>\n",
              "    .dataframe tbody tr th:only-of-type {\n",
              "        vertical-align: middle;\n",
              "    }\n",
              "\n",
              "    .dataframe tbody tr th {\n",
              "        vertical-align: top;\n",
              "    }\n",
              "\n",
              "    .dataframe thead th {\n",
              "        text-align: right;\n",
              "    }\n",
              "</style>\n",
              "<table border=\"1\" class=\"dataframe\">\n",
              "  <thead>\n",
              "    <tr style=\"text-align: right;\">\n",
              "      <th></th>\n",
              "      <th>UniqueIDDataset</th>\n",
              "      <th>UniqueIDRow</th>\n",
              "      <th>SCLink</th>\n",
              "      <th>System</th>\n",
              "      <th>Temperature</th>\n",
              "      <th>TemperatureHumid</th>\n",
              "      <th>RelativeHumidity</th>\n",
              "      <th>WindDirection</th>\n",
              "      <th>WindVelocity</th>\n",
              "      <th>LotNumber</th>\n",
              "      <th>Acetochlor</th>\n",
              "      <th>Atrazine</th>\n",
              "      <th>Ciat</th>\n",
              "      <th>Ceat</th>\n",
              "      <th>Dimethenamid</th>\n",
              "      <th>Stage</th>\n",
              "      <th>Defoliation</th>\n",
              "      <th>Reproductive</th>\n",
              "      <th>Bolls</th>\n",
              "      <th>Height</th>\n",
              "      <th>Nodes</th>\n",
              "      <th>Weight</th>\n",
              "      <th>Yield</th>\n",
              "      <th>BatchNumber</th>\n",
              "      <th>Destination</th>\n",
              "      <th>Defective</th>\n",
              "      <th>MeanSignalStrength</th>\n",
              "      <th>StdSignalStrength</th>\n",
              "      <th>MeanLinkQuality</th>\n",
              "      <th>StdLinkQuality</th>\n",
              "      <th>MeanNoiseFloor</th>\n",
              "      <th>StdNoiseFloor</th>\n",
              "      <th>StdTemperature</th>\n",
              "      <th>StdRH</th>\n",
              "      <th>Machine</th>\n",
              "      <th>pCutTorque</th>\n",
              "      <th>pCutLagError</th>\n",
              "      <th>pCutActualPosition</th>\n",
              "      <th>pCutActualSpeed</th>\n",
              "      <th>pSvolFilmActualPosition</th>\n",
              "      <th>pSvolFilmActualSpeed</th>\n",
              "      <th>pSvolFilmLagError</th>\n",
              "    </tr>\n",
              "  </thead>\n",
              "  <tbody>\n",
              "    <tr>\n",
              "      <th>0</th>\n",
              "      <td>1</td>\n",
              "      <td>1</td>\n",
              "      <td>Farm</td>\n",
              "      <td>2</td>\n",
              "      <td>24.4</td>\n",
              "      <td>22.4</td>\n",
              "      <td>84.0</td>\n",
              "      <td>0.0</td>\n",
              "      <td>0.0</td>\n",
              "      <td>NaN</td>\n",
              "      <td>NaN</td>\n",
              "      <td>NaN</td>\n",
              "      <td>NaN</td>\n",
              "      <td>NaN</td>\n",
              "      <td>NaN</td>\n",
              "      <td>NaN</td>\n",
              "      <td>NaN</td>\n",
              "      <td>NaN</td>\n",
              "      <td>NaN</td>\n",
              "      <td>NaN</td>\n",
              "      <td>NaN</td>\n",
              "      <td>NaN</td>\n",
              "      <td>NaN</td>\n",
              "      <td>NaN</td>\n",
              "      <td>NaN</td>\n",
              "      <td>NaN</td>\n",
              "      <td>NaN</td>\n",
              "      <td>NaN</td>\n",
              "      <td>NaN</td>\n",
              "      <td>NaN</td>\n",
              "      <td>NaN</td>\n",
              "      <td>NaN</td>\n",
              "      <td>NaN</td>\n",
              "      <td>NaN</td>\n",
              "      <td>NaN</td>\n",
              "      <td>NaN</td>\n",
              "      <td>NaN</td>\n",
              "      <td>NaN</td>\n",
              "      <td>NaN</td>\n",
              "      <td>NaN</td>\n",
              "      <td>NaN</td>\n",
              "      <td>NaN</td>\n",
              "    </tr>\n",
              "    <tr>\n",
              "      <th>1</th>\n",
              "      <td>1</td>\n",
              "      <td>2</td>\n",
              "      <td>Farm</td>\n",
              "      <td>2</td>\n",
              "      <td>22.9</td>\n",
              "      <td>21.5</td>\n",
              "      <td>88.0</td>\n",
              "      <td>0.0</td>\n",
              "      <td>0.0</td>\n",
              "      <td>NaN</td>\n",
              "      <td>NaN</td>\n",
              "      <td>NaN</td>\n",
              "      <td>NaN</td>\n",
              "      <td>NaN</td>\n",
              "      <td>NaN</td>\n",
              "      <td>NaN</td>\n",
              "      <td>NaN</td>\n",
              "      <td>NaN</td>\n",
              "      <td>NaN</td>\n",
              "      <td>NaN</td>\n",
              "      <td>NaN</td>\n",
              "      <td>NaN</td>\n",
              "      <td>NaN</td>\n",
              "      <td>NaN</td>\n",
              "      <td>NaN</td>\n",
              "      <td>NaN</td>\n",
              "      <td>NaN</td>\n",
              "      <td>NaN</td>\n",
              "      <td>NaN</td>\n",
              "      <td>NaN</td>\n",
              "      <td>NaN</td>\n",
              "      <td>NaN</td>\n",
              "      <td>NaN</td>\n",
              "      <td>NaN</td>\n",
              "      <td>NaN</td>\n",
              "      <td>NaN</td>\n",
              "      <td>NaN</td>\n",
              "      <td>NaN</td>\n",
              "      <td>NaN</td>\n",
              "      <td>NaN</td>\n",
              "      <td>NaN</td>\n",
              "      <td>NaN</td>\n",
              "    </tr>\n",
              "    <tr>\n",
              "      <th>2</th>\n",
              "      <td>1</td>\n",
              "      <td>3</td>\n",
              "      <td>Farm</td>\n",
              "      <td>2</td>\n",
              "      <td>26.6</td>\n",
              "      <td>23.3</td>\n",
              "      <td>75.0</td>\n",
              "      <td>5.0</td>\n",
              "      <td>3.0</td>\n",
              "      <td>NaN</td>\n",
              "      <td>NaN</td>\n",
              "      <td>NaN</td>\n",
              "      <td>NaN</td>\n",
              "      <td>NaN</td>\n",
              "      <td>NaN</td>\n",
              "      <td>NaN</td>\n",
              "      <td>NaN</td>\n",
              "      <td>NaN</td>\n",
              "      <td>NaN</td>\n",
              "      <td>NaN</td>\n",
              "      <td>NaN</td>\n",
              "      <td>NaN</td>\n",
              "      <td>NaN</td>\n",
              "      <td>NaN</td>\n",
              "      <td>NaN</td>\n",
              "      <td>NaN</td>\n",
              "      <td>NaN</td>\n",
              "      <td>NaN</td>\n",
              "      <td>NaN</td>\n",
              "      <td>NaN</td>\n",
              "      <td>NaN</td>\n",
              "      <td>NaN</td>\n",
              "      <td>NaN</td>\n",
              "      <td>NaN</td>\n",
              "      <td>NaN</td>\n",
              "      <td>NaN</td>\n",
              "      <td>NaN</td>\n",
              "      <td>NaN</td>\n",
              "      <td>NaN</td>\n",
              "      <td>NaN</td>\n",
              "      <td>NaN</td>\n",
              "      <td>NaN</td>\n",
              "    </tr>\n",
              "    <tr>\n",
              "      <th>3</th>\n",
              "      <td>1</td>\n",
              "      <td>4</td>\n",
              "      <td>Farm</td>\n",
              "      <td>2</td>\n",
              "      <td>22.6</td>\n",
              "      <td>21.4</td>\n",
              "      <td>89.0</td>\n",
              "      <td>36.0</td>\n",
              "      <td>2.0</td>\n",
              "      <td>NaN</td>\n",
              "      <td>NaN</td>\n",
              "      <td>NaN</td>\n",
              "      <td>NaN</td>\n",
              "      <td>NaN</td>\n",
              "      <td>NaN</td>\n",
              "      <td>NaN</td>\n",
              "      <td>NaN</td>\n",
              "      <td>NaN</td>\n",
              "      <td>NaN</td>\n",
              "      <td>NaN</td>\n",
              "      <td>NaN</td>\n",
              "      <td>NaN</td>\n",
              "      <td>NaN</td>\n",
              "      <td>NaN</td>\n",
              "      <td>NaN</td>\n",
              "      <td>NaN</td>\n",
              "      <td>NaN</td>\n",
              "      <td>NaN</td>\n",
              "      <td>NaN</td>\n",
              "      <td>NaN</td>\n",
              "      <td>NaN</td>\n",
              "      <td>NaN</td>\n",
              "      <td>NaN</td>\n",
              "      <td>NaN</td>\n",
              "      <td>NaN</td>\n",
              "      <td>NaN</td>\n",
              "      <td>NaN</td>\n",
              "      <td>NaN</td>\n",
              "      <td>NaN</td>\n",
              "      <td>NaN</td>\n",
              "      <td>NaN</td>\n",
              "      <td>NaN</td>\n",
              "    </tr>\n",
              "    <tr>\n",
              "      <th>4</th>\n",
              "      <td>1</td>\n",
              "      <td>5</td>\n",
              "      <td>Farm</td>\n",
              "      <td>2</td>\n",
              "      <td>22.4</td>\n",
              "      <td>21.3</td>\n",
              "      <td>90.0</td>\n",
              "      <td>36.0</td>\n",
              "      <td>4.0</td>\n",
              "      <td>NaN</td>\n",
              "      <td>NaN</td>\n",
              "      <td>NaN</td>\n",
              "      <td>NaN</td>\n",
              "      <td>NaN</td>\n",
              "      <td>NaN</td>\n",
              "      <td>NaN</td>\n",
              "      <td>NaN</td>\n",
              "      <td>NaN</td>\n",
              "      <td>NaN</td>\n",
              "      <td>NaN</td>\n",
              "      <td>NaN</td>\n",
              "      <td>NaN</td>\n",
              "      <td>NaN</td>\n",
              "      <td>NaN</td>\n",
              "      <td>NaN</td>\n",
              "      <td>NaN</td>\n",
              "      <td>NaN</td>\n",
              "      <td>NaN</td>\n",
              "      <td>NaN</td>\n",
              "      <td>NaN</td>\n",
              "      <td>NaN</td>\n",
              "      <td>NaN</td>\n",
              "      <td>NaN</td>\n",
              "      <td>NaN</td>\n",
              "      <td>NaN</td>\n",
              "      <td>NaN</td>\n",
              "      <td>NaN</td>\n",
              "      <td>NaN</td>\n",
              "      <td>NaN</td>\n",
              "      <td>NaN</td>\n",
              "      <td>NaN</td>\n",
              "      <td>NaN</td>\n",
              "    </tr>\n",
              "  </tbody>\n",
              "</table>\n",
              "</div>"
            ],
            "text/plain": [
              "   UniqueIDDataset  UniqueIDRow  ... pSvolFilmActualSpeed  pSvolFilmLagError\n",
              "0                1            1  ...                  NaN                NaN\n",
              "1                1            2  ...                  NaN                NaN\n",
              "2                1            3  ...                  NaN                NaN\n",
              "3                1            4  ...                  NaN                NaN\n",
              "4                1            5  ...                  NaN                NaN\n",
              "\n",
              "[5 rows x 42 columns]"
            ]
          },
          "metadata": {
            "tags": []
          },
          "execution_count": 8
        },
        {
          "output_type": "stream",
          "text": [
            "time: 96.4 ms\n"
          ],
          "name": "stdout"
        }
      ]
    },
    {
      "cell_type": "code",
      "metadata": {
        "id": "GJMOcQdVWjxw",
        "colab_type": "code",
        "outputId": "241ecb65-1dbb-4652-8a74-81917bbeaef8",
        "colab": {
          "base_uri": "https://localhost:8080/",
          "height": 881
        }
      },
      "source": [
        "df.info()"
      ],
      "execution_count": 0,
      "outputs": [
        {
          "output_type": "stream",
          "text": [
            "<class 'pandas.core.frame.DataFrame'>\n",
            "RangeIndex: 36351 entries, 0 to 36350\n",
            "Data columns (total 42 columns):\n",
            "UniqueIDDataset            36351 non-null int64\n",
            "UniqueIDRow                36351 non-null int64\n",
            "SCLink                     36351 non-null object\n",
            "System                     36351 non-null int64\n",
            "Temperature                22489 non-null float64\n",
            "TemperatureHumid           19175 non-null float64\n",
            "RelativeHumidity           23149 non-null float64\n",
            "WindDirection              20520 non-null float64\n",
            "WindVelocity               20518 non-null float64\n",
            "LotNumber                  1537 non-null float64\n",
            "Acetochlor                 184 non-null object\n",
            "Atrazine                   184 non-null object\n",
            "Ciat                       184 non-null object\n",
            "Ceat                       184 non-null object\n",
            "Dimethenamid               184 non-null object\n",
            "Stage                      250 non-null object\n",
            "Defoliation                250 non-null float64\n",
            "Reproductive               250 non-null float64\n",
            "Bolls                      250 non-null float64\n",
            "Height                     250 non-null float64\n",
            "Nodes                      250 non-null float64\n",
            "Weight                     125 non-null float64\n",
            "Yield                      432 non-null float64\n",
            "BatchNumber                671 non-null object\n",
            "Destination                671 non-null float64\n",
            "Defective                  465 non-null float64\n",
            "MeanSignalStrength         1998 non-null float64\n",
            "StdSignalStrength          1999 non-null float64\n",
            "MeanLinkQuality            1998 non-null float64\n",
            "StdLinkQuality             1998 non-null float64\n",
            "MeanNoiseFloor             1998 non-null float64\n",
            "StdNoiseFloor              1997 non-null float64\n",
            "StdTemperature             1998 non-null float64\n",
            "StdRH                      1998 non-null float64\n",
            "Machine                    14287 non-null float64\n",
            "pCutTorque                 12288 non-null float64\n",
            "pCutLagError               12288 non-null float64\n",
            "pCutActualPosition         12288 non-null float64\n",
            "pCutActualSpeed            12288 non-null float64\n",
            "pSvolFilmActualPosition    12288 non-null float64\n",
            "pSvolFilmActualSpeed       12288 non-null float64\n",
            "pSvolFilmLagError          12288 non-null float64\n",
            "dtypes: float64(31), int64(3), object(8)\n",
            "memory usage: 11.6+ MB\n",
            "time: 29.9 ms\n"
          ],
          "name": "stdout"
        }
      ]
    },
    {
      "cell_type": "code",
      "metadata": {
        "scrolled": false,
        "id": "1dCAj3LhWjx1",
        "colab_type": "code",
        "outputId": "28656773-6a2a-41ea-b10d-9c768ce2495b",
        "colab": {
          "base_uri": "https://localhost:8080/",
          "height": 335
        }
      },
      "source": [
        "df.describe()"
      ],
      "execution_count": 0,
      "outputs": [
        {
          "output_type": "execute_result",
          "data": {
            "text/html": [
              "<div>\n",
              "<style scoped>\n",
              "    .dataframe tbody tr th:only-of-type {\n",
              "        vertical-align: middle;\n",
              "    }\n",
              "\n",
              "    .dataframe tbody tr th {\n",
              "        vertical-align: top;\n",
              "    }\n",
              "\n",
              "    .dataframe thead th {\n",
              "        text-align: right;\n",
              "    }\n",
              "</style>\n",
              "<table border=\"1\" class=\"dataframe\">\n",
              "  <thead>\n",
              "    <tr style=\"text-align: right;\">\n",
              "      <th></th>\n",
              "      <th>UniqueIDDataset</th>\n",
              "      <th>UniqueIDRow</th>\n",
              "      <th>System</th>\n",
              "      <th>Temperature</th>\n",
              "      <th>TemperatureHumid</th>\n",
              "      <th>RelativeHumidity</th>\n",
              "      <th>WindDirection</th>\n",
              "      <th>WindVelocity</th>\n",
              "      <th>LotNumber</th>\n",
              "      <th>Defoliation</th>\n",
              "      <th>Reproductive</th>\n",
              "      <th>Bolls</th>\n",
              "      <th>Height</th>\n",
              "      <th>Nodes</th>\n",
              "      <th>Weight</th>\n",
              "      <th>Yield</th>\n",
              "      <th>Destination</th>\n",
              "      <th>Defective</th>\n",
              "      <th>MeanSignalStrength</th>\n",
              "      <th>StdSignalStrength</th>\n",
              "      <th>MeanLinkQuality</th>\n",
              "      <th>StdLinkQuality</th>\n",
              "      <th>MeanNoiseFloor</th>\n",
              "      <th>StdNoiseFloor</th>\n",
              "      <th>StdTemperature</th>\n",
              "      <th>StdRH</th>\n",
              "      <th>Machine</th>\n",
              "      <th>pCutTorque</th>\n",
              "      <th>pCutLagError</th>\n",
              "      <th>pCutActualPosition</th>\n",
              "      <th>pCutActualSpeed</th>\n",
              "      <th>pSvolFilmActualPosition</th>\n",
              "      <th>pSvolFilmActualSpeed</th>\n",
              "      <th>pSvolFilmLagError</th>\n",
              "    </tr>\n",
              "  </thead>\n",
              "  <tbody>\n",
              "    <tr>\n",
              "      <th>count</th>\n",
              "      <td>36351.000000</td>\n",
              "      <td>36351.000000</td>\n",
              "      <td>36351.000000</td>\n",
              "      <td>22489.000000</td>\n",
              "      <td>19175.000000</td>\n",
              "      <td>23149.000000</td>\n",
              "      <td>20520.000000</td>\n",
              "      <td>20518.000000</td>\n",
              "      <td>1537.000000</td>\n",
              "      <td>250.000000</td>\n",
              "      <td>250.000000</td>\n",
              "      <td>250.000000</td>\n",
              "      <td>250.000000</td>\n",
              "      <td>250.000000</td>\n",
              "      <td>125.000000</td>\n",
              "      <td>432.00000</td>\n",
              "      <td>671.000000</td>\n",
              "      <td>465.000000</td>\n",
              "      <td>1998.000000</td>\n",
              "      <td>1999.000000</td>\n",
              "      <td>1998.000000</td>\n",
              "      <td>1998.000000</td>\n",
              "      <td>1998.000000</td>\n",
              "      <td>1997.000000</td>\n",
              "      <td>1998.000000</td>\n",
              "      <td>1998.000000</td>\n",
              "      <td>14287.000000</td>\n",
              "      <td>12288.000000</td>\n",
              "      <td>12288.000000</td>\n",
              "      <td>12288.000000</td>\n",
              "      <td>12288.000000</td>\n",
              "      <td>12288.000000</td>\n",
              "      <td>12288.000000</td>\n",
              "      <td>12288.000000</td>\n",
              "    </tr>\n",
              "    <tr>\n",
              "      <th>mean</th>\n",
              "      <td>3.431487</td>\n",
              "      <td>7938.134384</td>\n",
              "      <td>2.398393</td>\n",
              "      <td>24.040672</td>\n",
              "      <td>19.498154</td>\n",
              "      <td>62.482943</td>\n",
              "      <td>15.553655</td>\n",
              "      <td>1.993545</td>\n",
              "      <td>105.464541</td>\n",
              "      <td>50.000000</td>\n",
              "      <td>4.112000</td>\n",
              "      <td>3.912000</td>\n",
              "      <td>69.224000</td>\n",
              "      <td>14.908000</td>\n",
              "      <td>25.779840</td>\n",
              "      <td>496.11331</td>\n",
              "      <td>1.527571</td>\n",
              "      <td>14.532129</td>\n",
              "      <td>-86.147292</td>\n",
              "      <td>2.796471</td>\n",
              "      <td>96.946765</td>\n",
              "      <td>20.736383</td>\n",
              "      <td>-95.416907</td>\n",
              "      <td>36.649044</td>\n",
              "      <td>0.022839</td>\n",
              "      <td>0.055271</td>\n",
              "      <td>3.780150</td>\n",
              "      <td>-0.113236</td>\n",
              "      <td>0.000012</td>\n",
              "      <td>-835919.878337</td>\n",
              "      <td>886.997007</td>\n",
              "      <td>46516.192464</td>\n",
              "      <td>1373.244194</td>\n",
              "      <td>0.634156</td>\n",
              "    </tr>\n",
              "    <tr>\n",
              "      <th>std</th>\n",
              "      <td>2.840264</td>\n",
              "      <td>5779.083632</td>\n",
              "      <td>0.525929</td>\n",
              "      <td>4.256546</td>\n",
              "      <td>2.763787</td>\n",
              "      <td>21.374480</td>\n",
              "      <td>12.488792</td>\n",
              "      <td>1.650432</td>\n",
              "      <td>106.291708</td>\n",
              "      <td>35.426263</td>\n",
              "      <td>1.149234</td>\n",
              "      <td>1.292648</td>\n",
              "      <td>8.276947</td>\n",
              "      <td>1.761804</td>\n",
              "      <td>6.831864</td>\n",
              "      <td>415.67746</td>\n",
              "      <td>0.499612</td>\n",
              "      <td>6.041447</td>\n",
              "      <td>10.161517</td>\n",
              "      <td>16.187693</td>\n",
              "      <td>3.717591</td>\n",
              "      <td>17.168584</td>\n",
              "      <td>3.078773</td>\n",
              "      <td>86.948962</td>\n",
              "      <td>0.040996</td>\n",
              "      <td>0.262014</td>\n",
              "      <td>2.035875</td>\n",
              "      <td>0.408600</td>\n",
              "      <td>0.038929</td>\n",
              "      <td>29288.666806</td>\n",
              "      <td>1295.032421</td>\n",
              "      <td>32570.780305</td>\n",
              "      <td>631.174696</td>\n",
              "      <td>0.114129</td>\n",
              "    </tr>\n",
              "    <tr>\n",
              "      <th>min</th>\n",
              "      <td>1.000000</td>\n",
              "      <td>1.000000</td>\n",
              "      <td>1.000000</td>\n",
              "      <td>8.400000</td>\n",
              "      <td>1.700000</td>\n",
              "      <td>1.000000</td>\n",
              "      <td>0.000000</td>\n",
              "      <td>0.000000</td>\n",
              "      <td>1.000000</td>\n",
              "      <td>0.000000</td>\n",
              "      <td>1.000000</td>\n",
              "      <td>0.000000</td>\n",
              "      <td>43.000000</td>\n",
              "      <td>10.000000</td>\n",
              "      <td>4.735000</td>\n",
              "      <td>10.17000</td>\n",
              "      <td>1.000000</td>\n",
              "      <td>6.000000</td>\n",
              "      <td>-92.500000</td>\n",
              "      <td>0.000000</td>\n",
              "      <td>85.500000</td>\n",
              "      <td>0.585600</td>\n",
              "      <td>-109.290000</td>\n",
              "      <td>0.000000</td>\n",
              "      <td>0.004285</td>\n",
              "      <td>0.000000</td>\n",
              "      <td>1.000000</td>\n",
              "      <td>-2.843960</td>\n",
              "      <td>-0.599982</td>\n",
              "      <td>-884747.000000</td>\n",
              "      <td>-954.437256</td>\n",
              "      <td>11127.000000</td>\n",
              "      <td>-25.043488</td>\n",
              "      <td>-0.086025</td>\n",
              "    </tr>\n",
              "    <tr>\n",
              "      <th>25%</th>\n",
              "      <td>1.000000</td>\n",
              "      <td>2776.500000</td>\n",
              "      <td>2.000000</td>\n",
              "      <td>21.200000</td>\n",
              "      <td>17.700000</td>\n",
              "      <td>48.000000</td>\n",
              "      <td>5.000000</td>\n",
              "      <td>1.000000</td>\n",
              "      <td>30.000000</td>\n",
              "      <td>25.000000</td>\n",
              "      <td>3.000000</td>\n",
              "      <td>3.000000</td>\n",
              "      <td>63.000000</td>\n",
              "      <td>14.000000</td>\n",
              "      <td>22.560000</td>\n",
              "      <td>182.07500</td>\n",
              "      <td>1.000000</td>\n",
              "      <td>9.700000</td>\n",
              "      <td>-89.542000</td>\n",
              "      <td>0.451390</td>\n",
              "      <td>94.525250</td>\n",
              "      <td>8.459175</td>\n",
              "      <td>-97.333000</td>\n",
              "      <td>0.421910</td>\n",
              "      <td>0.011037</td>\n",
              "      <td>0.015378</td>\n",
              "      <td>2.000000</td>\n",
              "      <td>-0.344438</td>\n",
              "      <td>-0.009893</td>\n",
              "      <td>-852347.000000</td>\n",
              "      <td>-127.029419</td>\n",
              "      <td>19583.250000</td>\n",
              "      <td>736.276001</td>\n",
              "      <td>0.610809</td>\n",
              "    </tr>\n",
              "    <tr>\n",
              "      <th>50%</th>\n",
              "      <td>1.000000</td>\n",
              "      <td>7320.000000</td>\n",
              "      <td>2.000000</td>\n",
              "      <td>23.500000</td>\n",
              "      <td>20.100000</td>\n",
              "      <td>64.000000</td>\n",
              "      <td>14.000000</td>\n",
              "      <td>2.000000</td>\n",
              "      <td>67.000000</td>\n",
              "      <td>50.000000</td>\n",
              "      <td>4.000000</td>\n",
              "      <td>4.000000</td>\n",
              "      <td>70.000000</td>\n",
              "      <td>15.000000</td>\n",
              "      <td>26.994000</td>\n",
              "      <td>339.88500</td>\n",
              "      <td>2.000000</td>\n",
              "      <td>13.250000</td>\n",
              "      <td>-88.752500</td>\n",
              "      <td>1.007900</td>\n",
              "      <td>97.021500</td>\n",
              "      <td>14.251500</td>\n",
              "      <td>-96.000000</td>\n",
              "      <td>4.918000</td>\n",
              "      <td>0.014945</td>\n",
              "      <td>0.020292</td>\n",
              "      <td>4.000000</td>\n",
              "      <td>-0.183299</td>\n",
              "      <td>-0.000074</td>\n",
              "      <td>-838818.000000</td>\n",
              "      <td>497.817993</td>\n",
              "      <td>35097.000000</td>\n",
              "      <td>1392.412964</td>\n",
              "      <td>0.653197</td>\n",
              "    </tr>\n",
              "    <tr>\n",
              "      <th>75%</th>\n",
              "      <td>7.000000</td>\n",
              "      <td>11864.000000</td>\n",
              "      <td>3.000000</td>\n",
              "      <td>27.000000</td>\n",
              "      <td>21.500000</td>\n",
              "      <td>80.000000</td>\n",
              "      <td>27.000000</td>\n",
              "      <td>3.000000</td>\n",
              "      <td>149.000000</td>\n",
              "      <td>75.000000</td>\n",
              "      <td>5.000000</td>\n",
              "      <td>5.000000</td>\n",
              "      <td>74.875000</td>\n",
              "      <td>16.000000</td>\n",
              "      <td>30.010000</td>\n",
              "      <td>728.58500</td>\n",
              "      <td>2.000000</td>\n",
              "      <td>17.800000</td>\n",
              "      <td>-88.021000</td>\n",
              "      <td>1.483000</td>\n",
              "      <td>98.872000</td>\n",
              "      <td>30.007000</td>\n",
              "      <td>-94.150250</td>\n",
              "      <td>52.381000</td>\n",
              "      <td>0.021213</td>\n",
              "      <td>0.029886</td>\n",
              "      <td>5.000000</td>\n",
              "      <td>0.292760</td>\n",
              "      <td>0.010476</td>\n",
              "      <td>-816100.500000</td>\n",
              "      <td>1991.271973</td>\n",
              "      <td>67492.750000</td>\n",
              "      <td>2003.471802</td>\n",
              "      <td>0.692448</td>\n",
              "    </tr>\n",
              "    <tr>\n",
              "      <th>max</th>\n",
              "      <td>7.000000</td>\n",
              "      <td>20527.000000</td>\n",
              "      <td>3.000000</td>\n",
              "      <td>38.800000</td>\n",
              "      <td>30.000000</td>\n",
              "      <td>100.000000</td>\n",
              "      <td>36.000000</td>\n",
              "      <td>17.000000</td>\n",
              "      <td>432.000000</td>\n",
              "      <td>100.000000</td>\n",
              "      <td>8.000000</td>\n",
              "      <td>8.000000</td>\n",
              "      <td>92.000000</td>\n",
              "      <td>20.000000</td>\n",
              "      <td>38.320000</td>\n",
              "      <td>2037.63000</td>\n",
              "      <td>2.000000</td>\n",
              "      <td>57.500000</td>\n",
              "      <td>-17.212000</td>\n",
              "      <td>377.350000</td>\n",
              "      <td>107.150000</td>\n",
              "      <td>168.580000</td>\n",
              "      <td>-85.082000</td>\n",
              "      <td>1867.900000</td>\n",
              "      <td>0.584290</td>\n",
              "      <td>4.739800</td>\n",
              "      <td>10.000000</td>\n",
              "      <td>0.632072</td>\n",
              "      <td>0.367500</td>\n",
              "      <td>-783498.000000</td>\n",
              "      <td>3570.556641</td>\n",
              "      <td>113597.000000</td>\n",
              "      <td>2742.251953</td>\n",
              "      <td>0.962216</td>\n",
              "    </tr>\n",
              "  </tbody>\n",
              "</table>\n",
              "</div>"
            ],
            "text/plain": [
              "       UniqueIDDataset   UniqueIDRow  ...  pSvolFilmActualSpeed  pSvolFilmLagError\n",
              "count     36351.000000  36351.000000  ...          12288.000000       12288.000000\n",
              "mean          3.431487   7938.134384  ...           1373.244194           0.634156\n",
              "std           2.840264   5779.083632  ...            631.174696           0.114129\n",
              "min           1.000000      1.000000  ...            -25.043488          -0.086025\n",
              "25%           1.000000   2776.500000  ...            736.276001           0.610809\n",
              "50%           1.000000   7320.000000  ...           1392.412964           0.653197\n",
              "75%           7.000000  11864.000000  ...           2003.471802           0.692448\n",
              "max           7.000000  20527.000000  ...           2742.251953           0.962216\n",
              "\n",
              "[8 rows x 34 columns]"
            ]
          },
          "metadata": {
            "tags": []
          },
          "execution_count": 10
        },
        {
          "output_type": "stream",
          "text": [
            "time: 170 ms\n"
          ],
          "name": "stdout"
        }
      ]
    },
    {
      "cell_type": "markdown",
      "metadata": {
        "id": "lIuSUrSJWjx4",
        "colab_type": "text"
      },
      "source": [
        "# 2. Dataprep"
      ]
    },
    {
      "cell_type": "markdown",
      "metadata": {
        "id": "o2h1ED8tWjx5",
        "colab_type": "text"
      },
      "source": [
        "## Transform to numbers"
      ]
    },
    {
      "cell_type": "code",
      "metadata": {
        "id": "rJqnKfSAWjx6",
        "colab_type": "code",
        "outputId": "4d6c8274-9338-49c9-eab0-2b2a7a055120",
        "colab": {
          "base_uri": "https://localhost:8080/",
          "height": 35
        }
      },
      "source": [
        "def dropColumns(data, columns):\n",
        "    for col in columns:\n",
        "        data = data.drop(columns=col)  \n",
        "        \n",
        "    return data\n",
        "    \n",
        "def fillNans(data, strategy):\n",
        "    if strategy=='ZERO':\n",
        "        data = data.fillna(0)\n",
        "    elif strategy=='MIN':\n",
        "        data = data.fillna(-999)\n",
        "    elif strategy=='MAX':\n",
        "        data = data.fillna(999)\n",
        "    elif strategy=='INTER':\n",
        "        data = data.interpolate(method='linear', limit_direction='backward', axis=0)\n",
        "        data = data.interpolate(method='linear', limit_direction='forward', axis=0)\n",
        "\n",
        "    return data"
      ],
      "execution_count": 0,
      "outputs": [
        {
          "output_type": "stream",
          "text": [
            "time: 9.41 ms\n"
          ],
          "name": "stdout"
        }
      ]
    },
    {
      "cell_type": "markdown",
      "metadata": {
        "id": "dXIJz1rYWjx9",
        "colab_type": "text"
      },
      "source": [
        "## Fix acetochlor"
      ]
    },
    {
      "cell_type": "code",
      "metadata": {
        "id": "Q4e1XP4BWjx_",
        "colab_type": "code",
        "outputId": "33868ab3-c7da-47fd-efb7-a368efe46dce",
        "colab": {
          "base_uri": "https://localhost:8080/",
          "height": 35
        }
      },
      "source": [
        "df.Acetochlor.replace(to_replace=\"<.05\", value=0.05, inplace=True)"
      ],
      "execution_count": 0,
      "outputs": [
        {
          "output_type": "stream",
          "text": [
            "time: 14.6 ms\n"
          ],
          "name": "stdout"
        }
      ]
    },
    {
      "cell_type": "code",
      "metadata": {
        "id": "RGOHsI87WjyC",
        "colab_type": "code",
        "outputId": "b64dd35b-e3ba-4709-ca23-d22fd3613d43",
        "colab": {
          "base_uri": "https://localhost:8080/",
          "height": 35
        }
      },
      "source": [
        "df[\"AcetocNum\"] = pd.to_numeric(df['Acetochlor'])"
      ],
      "execution_count": 0,
      "outputs": [
        {
          "output_type": "stream",
          "text": [
            "time: 7.56 ms\n"
          ],
          "name": "stdout"
        }
      ]
    },
    {
      "cell_type": "markdown",
      "metadata": {
        "id": "b58XW_UdWjyF",
        "colab_type": "text"
      },
      "source": [
        "## Fix stage"
      ]
    },
    {
      "cell_type": "code",
      "metadata": {
        "id": "MFe7Vw1nWjyG",
        "colab_type": "code",
        "outputId": "abca7f1d-778e-491c-8956-8425da1fc16d",
        "colab": {
          "base_uri": "https://localhost:8080/",
          "height": 35
        }
      },
      "source": [
        "le = preprocessing.LabelEncoder()"
      ],
      "execution_count": 0,
      "outputs": [
        {
          "output_type": "stream",
          "text": [
            "time: 1.88 ms\n"
          ],
          "name": "stdout"
        }
      ]
    },
    {
      "cell_type": "code",
      "metadata": {
        "id": "i1XGtYpBWjyJ",
        "colab_type": "code",
        "outputId": "33f7b32c-a0e4-4c0f-c5db-b20f241d5838",
        "colab": {
          "base_uri": "https://localhost:8080/",
          "height": 35
        }
      },
      "source": [
        "df['Stage'].fillna(\"nan\",inplace=True)"
      ],
      "execution_count": 0,
      "outputs": [
        {
          "output_type": "stream",
          "text": [
            "time: 8.73 ms\n"
          ],
          "name": "stdout"
        }
      ]
    },
    {
      "cell_type": "code",
      "metadata": {
        "id": "voP957w0WjyM",
        "colab_type": "code",
        "outputId": "1fe3e832-545d-4556-fced-c12c08584587",
        "colab": {
          "base_uri": "https://localhost:8080/",
          "height": 53
        }
      },
      "source": [
        "df['Stage'].unique()"
      ],
      "execution_count": 0,
      "outputs": [
        {
          "output_type": "execute_result",
          "data": {
            "text/plain": [
              "array(['nan', 'vegetative', 'flowerbud', 'blossom', 'boll', 'bollopen'],\n",
              "      dtype=object)"
            ]
          },
          "metadata": {
            "tags": []
          },
          "execution_count": 16
        },
        {
          "output_type": "stream",
          "text": [
            "time: 10.7 ms\n"
          ],
          "name": "stdout"
        }
      ]
    },
    {
      "cell_type": "code",
      "metadata": {
        "id": "uDD75g_AWjyQ",
        "colab_type": "code",
        "outputId": "27a02a14-02e3-4fc2-92db-76841f92b72a",
        "colab": {
          "base_uri": "https://localhost:8080/",
          "height": 35
        }
      },
      "source": [
        "le.fit(df['Stage'])"
      ],
      "execution_count": 0,
      "outputs": [
        {
          "output_type": "execute_result",
          "data": {
            "text/plain": [
              "LabelEncoder()"
            ]
          },
          "metadata": {
            "tags": []
          },
          "execution_count": 17
        },
        {
          "output_type": "stream",
          "text": [
            "time: 9.43 ms\n"
          ],
          "name": "stdout"
        }
      ]
    },
    {
      "cell_type": "code",
      "metadata": {
        "id": "MmRGm9urWjyV",
        "colab_type": "code",
        "outputId": "6516ec0f-6ef1-41b5-ac7a-42705636e177",
        "colab": {
          "base_uri": "https://localhost:8080/",
          "height": 53
        }
      },
      "source": [
        "le.classes_"
      ],
      "execution_count": 0,
      "outputs": [
        {
          "output_type": "execute_result",
          "data": {
            "text/plain": [
              "array(['blossom', 'boll', 'bollopen', 'flowerbud', 'nan', 'vegetative'],\n",
              "      dtype=object)"
            ]
          },
          "metadata": {
            "tags": []
          },
          "execution_count": 18
        },
        {
          "output_type": "stream",
          "text": [
            "time: 4.16 ms\n"
          ],
          "name": "stdout"
        }
      ]
    },
    {
      "cell_type": "code",
      "metadata": {
        "id": "2rNXKUrIWjyY",
        "colab_type": "code",
        "outputId": "43338d21-b010-4572-f630-718accc33948",
        "colab": {
          "base_uri": "https://localhost:8080/",
          "height": 35
        }
      },
      "source": [
        "df['StageNum'] = le.transform(df['Stage'])"
      ],
      "execution_count": 0,
      "outputs": [
        {
          "output_type": "stream",
          "text": [
            "time: 14.2 ms\n"
          ],
          "name": "stdout"
        }
      ]
    },
    {
      "cell_type": "code",
      "metadata": {
        "id": "IRrCWL2HWjyc",
        "colab_type": "code",
        "outputId": "396a4da6-98bc-45ad-8e10-3c7b2135889a",
        "colab": {
          "base_uri": "https://localhost:8080/",
          "height": 35
        }
      },
      "source": [
        "df['StageNum'].unique()"
      ],
      "execution_count": 0,
      "outputs": [
        {
          "output_type": "execute_result",
          "data": {
            "text/plain": [
              "array([4, 5, 3, 0, 1, 2])"
            ]
          },
          "metadata": {
            "tags": []
          },
          "execution_count": 20
        },
        {
          "output_type": "stream",
          "text": [
            "time: 6.97 ms\n"
          ],
          "name": "stdout"
        }
      ]
    },
    {
      "cell_type": "markdown",
      "metadata": {
        "id": "AlKvKurVWjyf",
        "colab_type": "text"
      },
      "source": [
        "## Fix sclink number"
      ]
    },
    {
      "cell_type": "code",
      "metadata": {
        "id": "ul2QC0OIWjyg",
        "colab_type": "code",
        "outputId": "22c30769-26fb-4ced-b3c2-3875d4a39d13",
        "colab": {
          "base_uri": "https://localhost:8080/",
          "height": 35
        }
      },
      "source": [
        "le3 = preprocessing.LabelEncoder()"
      ],
      "execution_count": 0,
      "outputs": [
        {
          "output_type": "stream",
          "text": [
            "time: 1.16 ms\n"
          ],
          "name": "stdout"
        }
      ]
    },
    {
      "cell_type": "code",
      "metadata": {
        "id": "F-DpsIOpWjyj",
        "colab_type": "code",
        "outputId": "21db22d5-113e-4214-d9a6-c4982ee8f57f",
        "colab": {
          "base_uri": "https://localhost:8080/",
          "height": 35
        }
      },
      "source": [
        "df['SCLinkNum'] = le3.fit_transform(df['SCLink'])"
      ],
      "execution_count": 0,
      "outputs": [
        {
          "output_type": "stream",
          "text": [
            "time: 19.2 ms\n"
          ],
          "name": "stdout"
        }
      ]
    },
    {
      "cell_type": "code",
      "metadata": {
        "id": "Dbhsuk5uWjym",
        "colab_type": "code",
        "outputId": "a4d62ffb-def5-4dbd-d8a7-726af3338ea8",
        "colab": {
          "base_uri": "https://localhost:8080/",
          "height": 242
        }
      },
      "source": [
        "df.head()"
      ],
      "execution_count": 0,
      "outputs": [
        {
          "output_type": "execute_result",
          "data": {
            "text/html": [
              "<div>\n",
              "<style scoped>\n",
              "    .dataframe tbody tr th:only-of-type {\n",
              "        vertical-align: middle;\n",
              "    }\n",
              "\n",
              "    .dataframe tbody tr th {\n",
              "        vertical-align: top;\n",
              "    }\n",
              "\n",
              "    .dataframe thead th {\n",
              "        text-align: right;\n",
              "    }\n",
              "</style>\n",
              "<table border=\"1\" class=\"dataframe\">\n",
              "  <thead>\n",
              "    <tr style=\"text-align: right;\">\n",
              "      <th></th>\n",
              "      <th>UniqueIDDataset</th>\n",
              "      <th>UniqueIDRow</th>\n",
              "      <th>SCLink</th>\n",
              "      <th>System</th>\n",
              "      <th>Temperature</th>\n",
              "      <th>TemperatureHumid</th>\n",
              "      <th>RelativeHumidity</th>\n",
              "      <th>WindDirection</th>\n",
              "      <th>WindVelocity</th>\n",
              "      <th>LotNumber</th>\n",
              "      <th>Acetochlor</th>\n",
              "      <th>Atrazine</th>\n",
              "      <th>Ciat</th>\n",
              "      <th>Ceat</th>\n",
              "      <th>Dimethenamid</th>\n",
              "      <th>Stage</th>\n",
              "      <th>Defoliation</th>\n",
              "      <th>Reproductive</th>\n",
              "      <th>Bolls</th>\n",
              "      <th>Height</th>\n",
              "      <th>Nodes</th>\n",
              "      <th>Weight</th>\n",
              "      <th>Yield</th>\n",
              "      <th>BatchNumber</th>\n",
              "      <th>Destination</th>\n",
              "      <th>Defective</th>\n",
              "      <th>MeanSignalStrength</th>\n",
              "      <th>StdSignalStrength</th>\n",
              "      <th>MeanLinkQuality</th>\n",
              "      <th>StdLinkQuality</th>\n",
              "      <th>MeanNoiseFloor</th>\n",
              "      <th>StdNoiseFloor</th>\n",
              "      <th>StdTemperature</th>\n",
              "      <th>StdRH</th>\n",
              "      <th>Machine</th>\n",
              "      <th>pCutTorque</th>\n",
              "      <th>pCutLagError</th>\n",
              "      <th>pCutActualPosition</th>\n",
              "      <th>pCutActualSpeed</th>\n",
              "      <th>pSvolFilmActualPosition</th>\n",
              "      <th>pSvolFilmActualSpeed</th>\n",
              "      <th>pSvolFilmLagError</th>\n",
              "      <th>AcetocNum</th>\n",
              "      <th>StageNum</th>\n",
              "      <th>SCLinkNum</th>\n",
              "    </tr>\n",
              "  </thead>\n",
              "  <tbody>\n",
              "    <tr>\n",
              "      <th>0</th>\n",
              "      <td>1</td>\n",
              "      <td>1</td>\n",
              "      <td>Farm</td>\n",
              "      <td>2</td>\n",
              "      <td>24.4</td>\n",
              "      <td>22.4</td>\n",
              "      <td>84.0</td>\n",
              "      <td>0.0</td>\n",
              "      <td>0.0</td>\n",
              "      <td>NaN</td>\n",
              "      <td>NaN</td>\n",
              "      <td>NaN</td>\n",
              "      <td>NaN</td>\n",
              "      <td>NaN</td>\n",
              "      <td>NaN</td>\n",
              "      <td>nan</td>\n",
              "      <td>NaN</td>\n",
              "      <td>NaN</td>\n",
              "      <td>NaN</td>\n",
              "      <td>NaN</td>\n",
              "      <td>NaN</td>\n",
              "      <td>NaN</td>\n",
              "      <td>NaN</td>\n",
              "      <td>NaN</td>\n",
              "      <td>NaN</td>\n",
              "      <td>NaN</td>\n",
              "      <td>NaN</td>\n",
              "      <td>NaN</td>\n",
              "      <td>NaN</td>\n",
              "      <td>NaN</td>\n",
              "      <td>NaN</td>\n",
              "      <td>NaN</td>\n",
              "      <td>NaN</td>\n",
              "      <td>NaN</td>\n",
              "      <td>NaN</td>\n",
              "      <td>NaN</td>\n",
              "      <td>NaN</td>\n",
              "      <td>NaN</td>\n",
              "      <td>NaN</td>\n",
              "      <td>NaN</td>\n",
              "      <td>NaN</td>\n",
              "      <td>NaN</td>\n",
              "      <td>NaN</td>\n",
              "      <td>4</td>\n",
              "      <td>0</td>\n",
              "    </tr>\n",
              "    <tr>\n",
              "      <th>1</th>\n",
              "      <td>1</td>\n",
              "      <td>2</td>\n",
              "      <td>Farm</td>\n",
              "      <td>2</td>\n",
              "      <td>22.9</td>\n",
              "      <td>21.5</td>\n",
              "      <td>88.0</td>\n",
              "      <td>0.0</td>\n",
              "      <td>0.0</td>\n",
              "      <td>NaN</td>\n",
              "      <td>NaN</td>\n",
              "      <td>NaN</td>\n",
              "      <td>NaN</td>\n",
              "      <td>NaN</td>\n",
              "      <td>NaN</td>\n",
              "      <td>nan</td>\n",
              "      <td>NaN</td>\n",
              "      <td>NaN</td>\n",
              "      <td>NaN</td>\n",
              "      <td>NaN</td>\n",
              "      <td>NaN</td>\n",
              "      <td>NaN</td>\n",
              "      <td>NaN</td>\n",
              "      <td>NaN</td>\n",
              "      <td>NaN</td>\n",
              "      <td>NaN</td>\n",
              "      <td>NaN</td>\n",
              "      <td>NaN</td>\n",
              "      <td>NaN</td>\n",
              "      <td>NaN</td>\n",
              "      <td>NaN</td>\n",
              "      <td>NaN</td>\n",
              "      <td>NaN</td>\n",
              "      <td>NaN</td>\n",
              "      <td>NaN</td>\n",
              "      <td>NaN</td>\n",
              "      <td>NaN</td>\n",
              "      <td>NaN</td>\n",
              "      <td>NaN</td>\n",
              "      <td>NaN</td>\n",
              "      <td>NaN</td>\n",
              "      <td>NaN</td>\n",
              "      <td>NaN</td>\n",
              "      <td>4</td>\n",
              "      <td>0</td>\n",
              "    </tr>\n",
              "    <tr>\n",
              "      <th>2</th>\n",
              "      <td>1</td>\n",
              "      <td>3</td>\n",
              "      <td>Farm</td>\n",
              "      <td>2</td>\n",
              "      <td>26.6</td>\n",
              "      <td>23.3</td>\n",
              "      <td>75.0</td>\n",
              "      <td>5.0</td>\n",
              "      <td>3.0</td>\n",
              "      <td>NaN</td>\n",
              "      <td>NaN</td>\n",
              "      <td>NaN</td>\n",
              "      <td>NaN</td>\n",
              "      <td>NaN</td>\n",
              "      <td>NaN</td>\n",
              "      <td>nan</td>\n",
              "      <td>NaN</td>\n",
              "      <td>NaN</td>\n",
              "      <td>NaN</td>\n",
              "      <td>NaN</td>\n",
              "      <td>NaN</td>\n",
              "      <td>NaN</td>\n",
              "      <td>NaN</td>\n",
              "      <td>NaN</td>\n",
              "      <td>NaN</td>\n",
              "      <td>NaN</td>\n",
              "      <td>NaN</td>\n",
              "      <td>NaN</td>\n",
              "      <td>NaN</td>\n",
              "      <td>NaN</td>\n",
              "      <td>NaN</td>\n",
              "      <td>NaN</td>\n",
              "      <td>NaN</td>\n",
              "      <td>NaN</td>\n",
              "      <td>NaN</td>\n",
              "      <td>NaN</td>\n",
              "      <td>NaN</td>\n",
              "      <td>NaN</td>\n",
              "      <td>NaN</td>\n",
              "      <td>NaN</td>\n",
              "      <td>NaN</td>\n",
              "      <td>NaN</td>\n",
              "      <td>NaN</td>\n",
              "      <td>4</td>\n",
              "      <td>0</td>\n",
              "    </tr>\n",
              "    <tr>\n",
              "      <th>3</th>\n",
              "      <td>1</td>\n",
              "      <td>4</td>\n",
              "      <td>Farm</td>\n",
              "      <td>2</td>\n",
              "      <td>22.6</td>\n",
              "      <td>21.4</td>\n",
              "      <td>89.0</td>\n",
              "      <td>36.0</td>\n",
              "      <td>2.0</td>\n",
              "      <td>NaN</td>\n",
              "      <td>NaN</td>\n",
              "      <td>NaN</td>\n",
              "      <td>NaN</td>\n",
              "      <td>NaN</td>\n",
              "      <td>NaN</td>\n",
              "      <td>nan</td>\n",
              "      <td>NaN</td>\n",
              "      <td>NaN</td>\n",
              "      <td>NaN</td>\n",
              "      <td>NaN</td>\n",
              "      <td>NaN</td>\n",
              "      <td>NaN</td>\n",
              "      <td>NaN</td>\n",
              "      <td>NaN</td>\n",
              "      <td>NaN</td>\n",
              "      <td>NaN</td>\n",
              "      <td>NaN</td>\n",
              "      <td>NaN</td>\n",
              "      <td>NaN</td>\n",
              "      <td>NaN</td>\n",
              "      <td>NaN</td>\n",
              "      <td>NaN</td>\n",
              "      <td>NaN</td>\n",
              "      <td>NaN</td>\n",
              "      <td>NaN</td>\n",
              "      <td>NaN</td>\n",
              "      <td>NaN</td>\n",
              "      <td>NaN</td>\n",
              "      <td>NaN</td>\n",
              "      <td>NaN</td>\n",
              "      <td>NaN</td>\n",
              "      <td>NaN</td>\n",
              "      <td>NaN</td>\n",
              "      <td>4</td>\n",
              "      <td>0</td>\n",
              "    </tr>\n",
              "    <tr>\n",
              "      <th>4</th>\n",
              "      <td>1</td>\n",
              "      <td>5</td>\n",
              "      <td>Farm</td>\n",
              "      <td>2</td>\n",
              "      <td>22.4</td>\n",
              "      <td>21.3</td>\n",
              "      <td>90.0</td>\n",
              "      <td>36.0</td>\n",
              "      <td>4.0</td>\n",
              "      <td>NaN</td>\n",
              "      <td>NaN</td>\n",
              "      <td>NaN</td>\n",
              "      <td>NaN</td>\n",
              "      <td>NaN</td>\n",
              "      <td>NaN</td>\n",
              "      <td>nan</td>\n",
              "      <td>NaN</td>\n",
              "      <td>NaN</td>\n",
              "      <td>NaN</td>\n",
              "      <td>NaN</td>\n",
              "      <td>NaN</td>\n",
              "      <td>NaN</td>\n",
              "      <td>NaN</td>\n",
              "      <td>NaN</td>\n",
              "      <td>NaN</td>\n",
              "      <td>NaN</td>\n",
              "      <td>NaN</td>\n",
              "      <td>NaN</td>\n",
              "      <td>NaN</td>\n",
              "      <td>NaN</td>\n",
              "      <td>NaN</td>\n",
              "      <td>NaN</td>\n",
              "      <td>NaN</td>\n",
              "      <td>NaN</td>\n",
              "      <td>NaN</td>\n",
              "      <td>NaN</td>\n",
              "      <td>NaN</td>\n",
              "      <td>NaN</td>\n",
              "      <td>NaN</td>\n",
              "      <td>NaN</td>\n",
              "      <td>NaN</td>\n",
              "      <td>NaN</td>\n",
              "      <td>NaN</td>\n",
              "      <td>4</td>\n",
              "      <td>0</td>\n",
              "    </tr>\n",
              "  </tbody>\n",
              "</table>\n",
              "</div>"
            ],
            "text/plain": [
              "   UniqueIDDataset  UniqueIDRow SCLink  ...  AcetocNum  StageNum  SCLinkNum\n",
              "0                1            1   Farm  ...        NaN         4          0\n",
              "1                1            2   Farm  ...        NaN         4          0\n",
              "2                1            3   Farm  ...        NaN         4          0\n",
              "3                1            4   Farm  ...        NaN         4          0\n",
              "4                1            5   Farm  ...        NaN         4          0\n",
              "\n",
              "[5 rows x 45 columns]"
            ]
          },
          "metadata": {
            "tags": []
          },
          "execution_count": 23
        },
        {
          "output_type": "stream",
          "text": [
            "time: 145 ms\n"
          ],
          "name": "stdout"
        }
      ]
    },
    {
      "cell_type": "markdown",
      "metadata": {
        "id": "8ihqSZ9YWjyt",
        "colab_type": "text"
      },
      "source": [
        "## Fix batch number"
      ]
    },
    {
      "cell_type": "code",
      "metadata": {
        "id": "1lSaX0yVWjyy",
        "colab_type": "code",
        "outputId": "d0e620e0-db2b-45b2-f5c5-5f18e25dcd45",
        "colab": {
          "base_uri": "https://localhost:8080/",
          "height": 35
        }
      },
      "source": [
        "le2 = preprocessing.LabelEncoder()"
      ],
      "execution_count": 0,
      "outputs": [
        {
          "output_type": "stream",
          "text": [
            "time: 1.57 ms\n"
          ],
          "name": "stdout"
        }
      ]
    },
    {
      "cell_type": "code",
      "metadata": {
        "id": "tTRzcdYbWjy5",
        "colab_type": "code",
        "outputId": "2f505492-f1dd-4174-e311-6cdde74e2d31",
        "colab": {
          "base_uri": "https://localhost:8080/",
          "height": 35
        }
      },
      "source": [
        "df['BatchNumber'].fillna(\"nan\",inplace=True)"
      ],
      "execution_count": 0,
      "outputs": [
        {
          "output_type": "stream",
          "text": [
            "time: 7.8 ms\n"
          ],
          "name": "stdout"
        }
      ]
    },
    {
      "cell_type": "code",
      "metadata": {
        "id": "0R7BMab_Wjy7",
        "colab_type": "code",
        "outputId": "4d83d95f-8681-46b4-e53b-d3a45a908278",
        "colab": {
          "base_uri": "https://localhost:8080/",
          "height": 1000
        }
      },
      "source": [
        "df['BatchNumber'].unique()"
      ],
      "execution_count": 0,
      "outputs": [
        {
          "output_type": "execute_result",
          "data": {
            "text/plain": [
              "array(['nan', '8553FA02', '7162EG01', '4819CJ01', '8581FK05', '5066FL01',\n",
              "       '7858GP03', '1609GN01', '9566GC01', '7922GR01', '9534EO01',\n",
              "       '3625CF01', '1424FK01', '378FK01', '7375CB01', '7796EK03',\n",
              "       '8361EH01', '8010EJ03', '2081GA03', '3876EX01', '8728EL02',\n",
              "       '1074FL01', '2344FP01', '2480FH01', '4840FR01', '6330FT02',\n",
              "       '487GH01', '8438CG03', '804FK01', '9592EG01', '6960CT03',\n",
              "       '3063EV01', '4643FK02', '5238FK01', '6866GL01', '1929FR03',\n",
              "       '5920FF01', '2328FG03', '2203FS01', '1623FS01', '2441FP01',\n",
              "       '3063EU01', '4623EZ01', '6612FJ03', '1557GC01', '2256EN01',\n",
              "       '2371CE04', '8020EJ03', '3756EY01', '972FP02', '9621FL02',\n",
              "       '9750FN01', '6091EH01', '5869FB01', '5691FN01', '7323FA01',\n",
              "       '1423FK01', '9FE01', '2182CU03', '6312GC01', '3063GC01',\n",
              "       '9275GC01', '6573GL01', '2739FL01', '2773BH01', '1437FK01',\n",
              "       '1256FL01', '6392EJ01', '7066EU02', '6692CB01', '5366EQ01',\n",
              "       '8581FK03', '2666FG03', '8010EJ01', '6116FP01', '7356CL07',\n",
              "       '2455EJ01', '7772EZ01', '1987GF01', '3390FL01', '7922GR03',\n",
              "       '3899FR01', '4338FN03', '5011FE06', '15FC06', '6239FJ01',\n",
              "       '5065FK01', '220FT01', '8700FZ01', '4865FH01', '2342FP01',\n",
              "       '3511FG04', '7285FG01', '734GH01', '4647EE02', '7655GH05',\n",
              "       '3323FN01', '8853FG02', '1802FY01', '8456GS01', '8111GB01',\n",
              "       '2766FL07', '8582GC01', '4094GH01', '1086FK02', '2283EY01',\n",
              "       '9300ET02', '8069EZ01', '7819EL02', '4497FK02', '7095BE01',\n",
              "       '8622FK01', '2473FE01', '8082GT02', '3460FH01', '5416GC02',\n",
              "       '8554FA02', '1986FK01', '4755CP01', '6475FZ04', '9305ET02',\n",
              "       '6864CG02', '1934CK09', '11JG8350', '7100GE01', '4061FB01',\n",
              "       '8853FL02', '3986CK02', '5068FL01', '8082GTH04', '8560FA02',\n",
              "       '122CG01', '269EG02', '7633FU02', '4376AY01', '9821FJ04',\n",
              "       '6763FV01', '4070GZ01', '833GG01', '3510GY01', '5490GZ01',\n",
              "       '9912FH03', '2951GY01', '1450FG01', '730GH02', '4607FH01',\n",
              "       '5470GZ01', '2301FS01', '4566FK01', '5490FB01', '8592GZ01',\n",
              "       '4349EA01', '5690FR03', '2665FG01', '4234EZ02', '8084CB06',\n",
              "       '3014FC04', '2345EG01', '2984EN01', '9904FH03', '2665FG03',\n",
              "       '1131FJ01', '7911GR01', '409EB01', '9446EL03', '4329GZ01',\n",
              "       '6920FH01', '9728FL01', '209FC01', '3990EP01', '3812GX01',\n",
              "       '2325FP01', '4271GY02', '5824HA01', '1440ET02', '3494FK03',\n",
              "       '7563GY01', '8499FP01', '7800GY01', '9787HA03', '631EZ04',\n",
              "       '8998FH01', '70003EL01', '6102GV01', '6378GJ01', '6149FZ03',\n",
              "       '1073FL01', '8040FJ03', '8010FJ03', '3966FZ01', '2341FP01',\n",
              "       '142FK01', '8082GT01', '497GZ03', '3952GY03', '9372EK03',\n",
              "       '7518GB01', '1450GU01', '487GN01', '5486FJ01', '269EJ02',\n",
              "       '7364GV01', '2116FG02', '6805FJ01', '5922AY02', '3831FJ02',\n",
              "       '6411CV02', '4326GZ01', '2535FP01', '7798FJ01', '4048GP01',\n",
              "       '2666FG02', '7405EC03', '1379FT01', '2658AI01', '9903FH03',\n",
              "       '2013GP01', '5824HA', '6384FV04', '6093HA01', '8083AV02',\n",
              "       '217EJ04', '1277GA01', '6043FP01', '4822GP01', '8082GH04',\n",
              "       '4327GZ01', '4810GP01', '6619GZ03', '764AZ02', '3579CA01',\n",
              "       '8083AV01', '2666fg03', '1846FG01', '4873CR03', '7717FP01',\n",
              "       '2027HH07', '7019GR01', '378fk01', '5279EG01', '7694GH01',\n",
              "       '974GE01', '4308HA01', '3711EL01', '9621FL01', '8948HF01',\n",
              "       '764AZ01', '2305BC01', '7609FR03', '7030EF01', '974EG01',\n",
              "       '2666FG01', '1757GV02', '5922AV02', '4149CP01', '1522GN01',\n",
              "       '4071HC01', '4794HA01', '9012HJ04', '4326EC01', '2659GP01',\n",
              "       '7460EF01', '6425EG01', '1740HH01', '963HK01', '4136AZ02',\n",
              "       '5543CK01', '5824 HA01', '1009GS01', '2025HH07', '5116HF01',\n",
              "       '1073GS01', '2023HH07', '1735HH07', '1740HH07', '4165HG01'],\n",
              "      dtype=object)"
            ]
          },
          "metadata": {
            "tags": []
          },
          "execution_count": 26
        },
        {
          "output_type": "stream",
          "text": [
            "time: 10.8 ms\n"
          ],
          "name": "stdout"
        }
      ]
    },
    {
      "cell_type": "code",
      "metadata": {
        "id": "zQNlG9fPWjy-",
        "colab_type": "code",
        "outputId": "3c3f0765-8e9e-4216-fc02-e25d1d703e7b",
        "colab": {
          "base_uri": "https://localhost:8080/",
          "height": 35
        }
      },
      "source": [
        "le2.fit(df['BatchNumber'])"
      ],
      "execution_count": 0,
      "outputs": [
        {
          "output_type": "execute_result",
          "data": {
            "text/plain": [
              "LabelEncoder()"
            ]
          },
          "metadata": {
            "tags": []
          },
          "execution_count": 27
        },
        {
          "output_type": "stream",
          "text": [
            "time: 6.46 ms\n"
          ],
          "name": "stdout"
        }
      ]
    },
    {
      "cell_type": "code",
      "metadata": {
        "id": "iU7jUsOWWjzD",
        "colab_type": "code",
        "outputId": "74ec3efd-5929-40c0-e492-04c00e1a3653",
        "colab": {
          "base_uri": "https://localhost:8080/",
          "height": 1000
        }
      },
      "source": [
        "le2.classes_"
      ],
      "execution_count": 0,
      "outputs": [
        {
          "output_type": "execute_result",
          "data": {
            "text/plain": [
              "array(['1009GS01', '1073FL01', '1073GS01', '1074FL01', '1086FK02',\n",
              "       '1131FJ01', '11JG8350', '122CG01', '1256FL01', '1277GA01',\n",
              "       '1379FT01', '1423FK01', '1424FK01', '142FK01', '1437FK01',\n",
              "       '1440ET02', '1450FG01', '1450GU01', '1522GN01', '1557GC01',\n",
              "       '15FC06', '1609GN01', '1623FS01', '1735HH07', '1740HH01',\n",
              "       '1740HH07', '1757GV02', '1802FY01', '1846FG01', '1929FR03',\n",
              "       '1934CK09', '1986FK01', '1987GF01', '2013GP01', '2023HH07',\n",
              "       '2025HH07', '2027HH07', '2081GA03', '209FC01', '2116FG02',\n",
              "       '217EJ04', '2182CU03', '2203FS01', '220FT01', '2256EN01',\n",
              "       '2283EY01', '2301FS01', '2305BC01', '2325FP01', '2328FG03',\n",
              "       '2341FP01', '2342FP01', '2344FP01', '2345EG01', '2371CE04',\n",
              "       '2441FP01', '2455EJ01', '2473FE01', '2480FH01', '2535FP01',\n",
              "       '2658AI01', '2659GP01', '2665FG01', '2665FG03', '2666FG01',\n",
              "       '2666FG02', '2666FG03', '2666fg03', '269EG02', '269EJ02',\n",
              "       '2739FL01', '2766FL07', '2773BH01', '2951GY01', '2984EN01',\n",
              "       '3014FC04', '3063EU01', '3063EV01', '3063GC01', '3323FN01',\n",
              "       '3390FL01', '3460FH01', '3494FK03', '3510GY01', '3511FG04',\n",
              "       '3579CA01', '3625CF01', '3711EL01', '3756EY01', '378FK01',\n",
              "       '378fk01', '3812GX01', '3831FJ02', '3876EX01', '3899FR01',\n",
              "       '3952GY03', '3966FZ01', '3986CK02', '3990EP01', '4048GP01',\n",
              "       '4061FB01', '4070GZ01', '4071HC01', '4094GH01', '409EB01',\n",
              "       '4136AZ02', '4149CP01', '4165HG01', '4234EZ02', '4271GY02',\n",
              "       '4308HA01', '4326EC01', '4326GZ01', '4327GZ01', '4329GZ01',\n",
              "       '4338FN03', '4349EA01', '4376AY01', '4497FK02', '4566FK01',\n",
              "       '4607FH01', '4623EZ01', '4643FK02', '4647EE02', '4755CP01',\n",
              "       '4794HA01', '4810GP01', '4819CJ01', '4822GP01', '4840FR01',\n",
              "       '4865FH01', '4873CR03', '487GH01', '487GN01', '497GZ03',\n",
              "       '5011FE06', '5065FK01', '5066FL01', '5068FL01', '5116HF01',\n",
              "       '5238FK01', '5279EG01', '5366EQ01', '5416GC02', '5470GZ01',\n",
              "       '5486FJ01', '5490FB01', '5490GZ01', '5543CK01', '5690FR03',\n",
              "       '5691FN01', '5824 HA01', '5824HA', '5824HA01', '5869FB01',\n",
              "       '5920FF01', '5922AV02', '5922AY02', '6043FP01', '6091EH01',\n",
              "       '6093HA01', '6102GV01', '6116FP01', '6149FZ03', '6239FJ01',\n",
              "       '6312GC01', '631EZ04', '6330FT02', '6378GJ01', '6384FV04',\n",
              "       '6392EJ01', '6411CV02', '6425EG01', '6475FZ04', '6573GL01',\n",
              "       '6612FJ03', '6619GZ03', '6692CB01', '6763FV01', '6805FJ01',\n",
              "       '6864CG02', '6866GL01', '6920FH01', '6960CT03', '70003EL01',\n",
              "       '7019GR01', '7030EF01', '7066EU02', '7095BE01', '7100GE01',\n",
              "       '7162EG01', '7285FG01', '730GH02', '7323FA01', '734GH01',\n",
              "       '7356CL07', '7364GV01', '7375CB01', '7405EC03', '7460EF01',\n",
              "       '7518GB01', '7563GY01', '7609FR03', '7633FU02', '764AZ01',\n",
              "       '764AZ02', '7655GH05', '7694GH01', '7717FP01', '7772EZ01',\n",
              "       '7796EK03', '7798FJ01', '7800GY01', '7819EL02', '7858GP03',\n",
              "       '7911GR01', '7922GR01', '7922GR03', '8010EJ01', '8010EJ03',\n",
              "       '8010FJ03', '8020EJ03', '8040FJ03', '804FK01', '8069EZ01',\n",
              "       '8082GH04', '8082GT01', '8082GT02', '8082GTH04', '8083AV01',\n",
              "       '8083AV02', '8084CB06', '8111GB01', '833GG01', '8361EH01',\n",
              "       '8438CG03', '8456GS01', '8499FP01', '8553FA02', '8554FA02',\n",
              "       '8560FA02', '8581FK03', '8581FK05', '8582GC01', '8592GZ01',\n",
              "       '8622FK01', '8700FZ01', '8728EL02', '8853FG02', '8853FL02',\n",
              "       '8948HF01', '8998FH01', '9012HJ04', '9275GC01', '9300ET02',\n",
              "       '9305ET02', '9372EK03', '9446EL03', '9534EO01', '9566GC01',\n",
              "       '9592EG01', '9621FL01', '9621FL02', '963HK01', '9728FL01',\n",
              "       '972FP02', '974EG01', '974GE01', '9750FN01', '9787HA03',\n",
              "       '9821FJ04', '9903FH03', '9904FH03', '9912FH03', '9FE01', 'nan'],\n",
              "      dtype=object)"
            ]
          },
          "metadata": {
            "tags": []
          },
          "execution_count": 28
        },
        {
          "output_type": "stream",
          "text": [
            "time: 5.45 ms\n"
          ],
          "name": "stdout"
        }
      ]
    },
    {
      "cell_type": "code",
      "metadata": {
        "id": "FDz6r0QgWjzM",
        "colab_type": "code",
        "outputId": "b53ab5dc-d9ca-4ee6-a14c-3c3d65f1415d",
        "colab": {
          "base_uri": "https://localhost:8080/",
          "height": 35
        }
      },
      "source": [
        "df['BatchNum'] = le2.transform(df['BatchNumber'])"
      ],
      "execution_count": 0,
      "outputs": [
        {
          "output_type": "stream",
          "text": [
            "time: 16.4 ms\n"
          ],
          "name": "stdout"
        }
      ]
    },
    {
      "cell_type": "code",
      "metadata": {
        "id": "8s2fSs2gWjzO",
        "colab_type": "code",
        "outputId": "30410498-01d5-404e-baa3-8e546a6c3c1e",
        "colab": {
          "base_uri": "https://localhost:8080/",
          "height": 413
        }
      },
      "source": [
        "df['BatchNum'].unique()"
      ],
      "execution_count": 0,
      "outputs": [
        {
          "output_type": "execute_result",
          "data": {
            "text/plain": [
              "array([275, 238, 190, 127, 242, 137, 214,  21, 259, 216, 258,  86,  12,\n",
              "        89, 197, 210, 234, 219,  37,  93, 247,   3,  52,  58, 129, 167,\n",
              "       132, 235, 223, 260, 183,  77, 122, 140, 181,  29, 155,  49,  42,\n",
              "        22,  55,  76, 121, 175,  19,  44,  54, 221,  88, 265, 262, 268,\n",
              "       159, 154, 150, 193,  11, 274,  41, 165,  78, 253, 174,  70,  72,\n",
              "        14,   8, 170, 187, 177, 142, 241,  66, 218, 162, 195,  56, 209,\n",
              "        32,  80, 217,  94, 115, 135,  20, 164, 136,  43, 246, 130,  51,\n",
              "        84, 191, 194, 123, 206,  79, 248,  27, 236, 232,  71, 243, 103,\n",
              "         4,  45, 254, 224, 213, 118, 188, 245,  57, 227,  81, 143, 239,\n",
              "        31, 124, 173, 255, 180,  30,   6, 189, 100, 249,  97, 138, 228,\n",
              "       240,   7,  68, 203, 117, 270, 178, 101, 233,  83, 147, 273,  73,\n",
              "        16, 192, 120, 144,  46, 119, 146, 244, 116, 149,  62, 108, 231,\n",
              "        75,  53,  74, 272,  63,   5, 215, 104, 257, 114, 182, 264,  38,\n",
              "        98,  91,  48, 109, 153,  15,  82, 201, 237, 212, 269, 166, 251,\n",
              "       184, 161, 168, 163,   1, 222, 220,  96,  50,  13, 226, 134,  95,\n",
              "       256, 200,  17, 133, 145,  69, 196,  39, 179, 157,  92, 171, 112,\n",
              "        59, 211,  99,  65, 198,  10,  60, 271,  33, 152, 169, 160, 230,\n",
              "        40,   9, 158, 128, 225, 113, 126, 176, 205,  85, 229,  67,  28,\n",
              "       131, 208,  36, 185,  90, 141, 207, 267, 110,  87, 261, 250, 204,\n",
              "        47, 202, 186, 266,  64,  26, 156, 106,  18, 102, 125, 252, 111,\n",
              "        61, 199, 172,  24, 263, 105, 148, 151,   0,  35, 139,   2,  34,\n",
              "        23,  25, 107])"
            ]
          },
          "metadata": {
            "tags": []
          },
          "execution_count": 30
        },
        {
          "output_type": "stream",
          "text": [
            "time: 6.87 ms\n"
          ],
          "name": "stdout"
        }
      ]
    },
    {
      "cell_type": "code",
      "metadata": {
        "id": "ogmcxKEcWjzR",
        "colab_type": "code",
        "outputId": "88941d28-b2d3-4ee5-d7d5-5c9d9a309205",
        "colab": {
          "base_uri": "https://localhost:8080/",
          "height": 953
        }
      },
      "source": [
        "df.info()"
      ],
      "execution_count": 0,
      "outputs": [
        {
          "output_type": "stream",
          "text": [
            "<class 'pandas.core.frame.DataFrame'>\n",
            "RangeIndex: 36351 entries, 0 to 36350\n",
            "Data columns (total 46 columns):\n",
            "UniqueIDDataset            36351 non-null int64\n",
            "UniqueIDRow                36351 non-null int64\n",
            "SCLink                     36351 non-null object\n",
            "System                     36351 non-null int64\n",
            "Temperature                22489 non-null float64\n",
            "TemperatureHumid           19175 non-null float64\n",
            "RelativeHumidity           23149 non-null float64\n",
            "WindDirection              20520 non-null float64\n",
            "WindVelocity               20518 non-null float64\n",
            "LotNumber                  1537 non-null float64\n",
            "Acetochlor                 184 non-null object\n",
            "Atrazine                   184 non-null object\n",
            "Ciat                       184 non-null object\n",
            "Ceat                       184 non-null object\n",
            "Dimethenamid               184 non-null object\n",
            "Stage                      36351 non-null object\n",
            "Defoliation                250 non-null float64\n",
            "Reproductive               250 non-null float64\n",
            "Bolls                      250 non-null float64\n",
            "Height                     250 non-null float64\n",
            "Nodes                      250 non-null float64\n",
            "Weight                     125 non-null float64\n",
            "Yield                      432 non-null float64\n",
            "BatchNumber                36351 non-null object\n",
            "Destination                671 non-null float64\n",
            "Defective                  465 non-null float64\n",
            "MeanSignalStrength         1998 non-null float64\n",
            "StdSignalStrength          1999 non-null float64\n",
            "MeanLinkQuality            1998 non-null float64\n",
            "StdLinkQuality             1998 non-null float64\n",
            "MeanNoiseFloor             1998 non-null float64\n",
            "StdNoiseFloor              1997 non-null float64\n",
            "StdTemperature             1998 non-null float64\n",
            "StdRH                      1998 non-null float64\n",
            "Machine                    14287 non-null float64\n",
            "pCutTorque                 12288 non-null float64\n",
            "pCutLagError               12288 non-null float64\n",
            "pCutActualPosition         12288 non-null float64\n",
            "pCutActualSpeed            12288 non-null float64\n",
            "pSvolFilmActualPosition    12288 non-null float64\n",
            "pSvolFilmActualSpeed       12288 non-null float64\n",
            "pSvolFilmLagError          12288 non-null float64\n",
            "AcetocNum                  184 non-null float64\n",
            "StageNum                   36351 non-null int64\n",
            "SCLinkNum                  36351 non-null int64\n",
            "BatchNum                   36351 non-null int64\n",
            "dtypes: float64(32), int64(6), object(8)\n",
            "memory usage: 12.8+ MB\n",
            "time: 61.2 ms\n"
          ],
          "name": "stdout"
        }
      ]
    },
    {
      "cell_type": "markdown",
      "metadata": {
        "id": "dyYy0d7fWjzW",
        "colab_type": "text"
      },
      "source": [
        "## Drop text columns"
      ]
    },
    {
      "cell_type": "code",
      "metadata": {
        "id": "TeCeJ1J9WjzY",
        "colab_type": "code",
        "outputId": "8c5822b7-882c-4783-81dd-5f0bd2b356f2",
        "colab": {
          "base_uri": "https://localhost:8080/",
          "height": 35
        }
      },
      "source": [
        "columns = [\"SCLink\",\"UniqueIDDataset\",\"UniqueIDRow\",\"System\",\"Atrazine\",\"Ciat\",\"Ceat\",\"Dimethenamid\",\"Acetochlor\",\"Stage\",\"BatchNumber\",\"SCLinkNum\"]\n",
        "data = dropColumns(df, columns)"
      ],
      "execution_count": 0,
      "outputs": [
        {
          "output_type": "stream",
          "text": [
            "time: 101 ms\n"
          ],
          "name": "stdout"
        }
      ]
    },
    {
      "cell_type": "markdown",
      "metadata": {
        "id": "APWMO3FXWjzc",
        "colab_type": "text"
      },
      "source": [
        "## Remove nans"
      ]
    },
    {
      "cell_type": "code",
      "metadata": {
        "id": "XspEf7bgWjzd",
        "colab_type": "code",
        "outputId": "6a5ea3cb-aaa8-4d46-b277-baac9015c46f",
        "colab": {
          "base_uri": "https://localhost:8080/",
          "height": 35
        }
      },
      "source": [
        "data = fillNans(data, \"ZERO\")"
      ],
      "execution_count": 0,
      "outputs": [
        {
          "output_type": "stream",
          "text": [
            "time: 13.3 ms\n"
          ],
          "name": "stdout"
        }
      ]
    },
    {
      "cell_type": "code",
      "metadata": {
        "id": "B-yJYDfGWjzf",
        "colab_type": "code",
        "outputId": "f417fb6c-33c0-4ba3-9368-b4ee0d746257",
        "colab": {
          "base_uri": "https://localhost:8080/",
          "height": 242
        }
      },
      "source": [
        "data.head()"
      ],
      "execution_count": 0,
      "outputs": [
        {
          "output_type": "execute_result",
          "data": {
            "text/html": [
              "<div>\n",
              "<style scoped>\n",
              "    .dataframe tbody tr th:only-of-type {\n",
              "        vertical-align: middle;\n",
              "    }\n",
              "\n",
              "    .dataframe tbody tr th {\n",
              "        vertical-align: top;\n",
              "    }\n",
              "\n",
              "    .dataframe thead th {\n",
              "        text-align: right;\n",
              "    }\n",
              "</style>\n",
              "<table border=\"1\" class=\"dataframe\">\n",
              "  <thead>\n",
              "    <tr style=\"text-align: right;\">\n",
              "      <th></th>\n",
              "      <th>Temperature</th>\n",
              "      <th>TemperatureHumid</th>\n",
              "      <th>RelativeHumidity</th>\n",
              "      <th>WindDirection</th>\n",
              "      <th>WindVelocity</th>\n",
              "      <th>LotNumber</th>\n",
              "      <th>Defoliation</th>\n",
              "      <th>Reproductive</th>\n",
              "      <th>Bolls</th>\n",
              "      <th>Height</th>\n",
              "      <th>Nodes</th>\n",
              "      <th>Weight</th>\n",
              "      <th>Yield</th>\n",
              "      <th>Destination</th>\n",
              "      <th>Defective</th>\n",
              "      <th>MeanSignalStrength</th>\n",
              "      <th>StdSignalStrength</th>\n",
              "      <th>MeanLinkQuality</th>\n",
              "      <th>StdLinkQuality</th>\n",
              "      <th>MeanNoiseFloor</th>\n",
              "      <th>StdNoiseFloor</th>\n",
              "      <th>StdTemperature</th>\n",
              "      <th>StdRH</th>\n",
              "      <th>Machine</th>\n",
              "      <th>pCutTorque</th>\n",
              "      <th>pCutLagError</th>\n",
              "      <th>pCutActualPosition</th>\n",
              "      <th>pCutActualSpeed</th>\n",
              "      <th>pSvolFilmActualPosition</th>\n",
              "      <th>pSvolFilmActualSpeed</th>\n",
              "      <th>pSvolFilmLagError</th>\n",
              "      <th>AcetocNum</th>\n",
              "      <th>StageNum</th>\n",
              "      <th>BatchNum</th>\n",
              "    </tr>\n",
              "  </thead>\n",
              "  <tbody>\n",
              "    <tr>\n",
              "      <th>0</th>\n",
              "      <td>24.4</td>\n",
              "      <td>22.4</td>\n",
              "      <td>84.0</td>\n",
              "      <td>0.0</td>\n",
              "      <td>0.0</td>\n",
              "      <td>0.0</td>\n",
              "      <td>0.0</td>\n",
              "      <td>0.0</td>\n",
              "      <td>0.0</td>\n",
              "      <td>0.0</td>\n",
              "      <td>0.0</td>\n",
              "      <td>0.0</td>\n",
              "      <td>0.0</td>\n",
              "      <td>0.0</td>\n",
              "      <td>0.0</td>\n",
              "      <td>0.0</td>\n",
              "      <td>0.0</td>\n",
              "      <td>0.0</td>\n",
              "      <td>0.0</td>\n",
              "      <td>0.0</td>\n",
              "      <td>0.0</td>\n",
              "      <td>0.0</td>\n",
              "      <td>0.0</td>\n",
              "      <td>0.0</td>\n",
              "      <td>0.0</td>\n",
              "      <td>0.0</td>\n",
              "      <td>0.0</td>\n",
              "      <td>0.0</td>\n",
              "      <td>0.0</td>\n",
              "      <td>0.0</td>\n",
              "      <td>0.0</td>\n",
              "      <td>0.0</td>\n",
              "      <td>4</td>\n",
              "      <td>275</td>\n",
              "    </tr>\n",
              "    <tr>\n",
              "      <th>1</th>\n",
              "      <td>22.9</td>\n",
              "      <td>21.5</td>\n",
              "      <td>88.0</td>\n",
              "      <td>0.0</td>\n",
              "      <td>0.0</td>\n",
              "      <td>0.0</td>\n",
              "      <td>0.0</td>\n",
              "      <td>0.0</td>\n",
              "      <td>0.0</td>\n",
              "      <td>0.0</td>\n",
              "      <td>0.0</td>\n",
              "      <td>0.0</td>\n",
              "      <td>0.0</td>\n",
              "      <td>0.0</td>\n",
              "      <td>0.0</td>\n",
              "      <td>0.0</td>\n",
              "      <td>0.0</td>\n",
              "      <td>0.0</td>\n",
              "      <td>0.0</td>\n",
              "      <td>0.0</td>\n",
              "      <td>0.0</td>\n",
              "      <td>0.0</td>\n",
              "      <td>0.0</td>\n",
              "      <td>0.0</td>\n",
              "      <td>0.0</td>\n",
              "      <td>0.0</td>\n",
              "      <td>0.0</td>\n",
              "      <td>0.0</td>\n",
              "      <td>0.0</td>\n",
              "      <td>0.0</td>\n",
              "      <td>0.0</td>\n",
              "      <td>0.0</td>\n",
              "      <td>4</td>\n",
              "      <td>275</td>\n",
              "    </tr>\n",
              "    <tr>\n",
              "      <th>2</th>\n",
              "      <td>26.6</td>\n",
              "      <td>23.3</td>\n",
              "      <td>75.0</td>\n",
              "      <td>5.0</td>\n",
              "      <td>3.0</td>\n",
              "      <td>0.0</td>\n",
              "      <td>0.0</td>\n",
              "      <td>0.0</td>\n",
              "      <td>0.0</td>\n",
              "      <td>0.0</td>\n",
              "      <td>0.0</td>\n",
              "      <td>0.0</td>\n",
              "      <td>0.0</td>\n",
              "      <td>0.0</td>\n",
              "      <td>0.0</td>\n",
              "      <td>0.0</td>\n",
              "      <td>0.0</td>\n",
              "      <td>0.0</td>\n",
              "      <td>0.0</td>\n",
              "      <td>0.0</td>\n",
              "      <td>0.0</td>\n",
              "      <td>0.0</td>\n",
              "      <td>0.0</td>\n",
              "      <td>0.0</td>\n",
              "      <td>0.0</td>\n",
              "      <td>0.0</td>\n",
              "      <td>0.0</td>\n",
              "      <td>0.0</td>\n",
              "      <td>0.0</td>\n",
              "      <td>0.0</td>\n",
              "      <td>0.0</td>\n",
              "      <td>0.0</td>\n",
              "      <td>4</td>\n",
              "      <td>275</td>\n",
              "    </tr>\n",
              "    <tr>\n",
              "      <th>3</th>\n",
              "      <td>22.6</td>\n",
              "      <td>21.4</td>\n",
              "      <td>89.0</td>\n",
              "      <td>36.0</td>\n",
              "      <td>2.0</td>\n",
              "      <td>0.0</td>\n",
              "      <td>0.0</td>\n",
              "      <td>0.0</td>\n",
              "      <td>0.0</td>\n",
              "      <td>0.0</td>\n",
              "      <td>0.0</td>\n",
              "      <td>0.0</td>\n",
              "      <td>0.0</td>\n",
              "      <td>0.0</td>\n",
              "      <td>0.0</td>\n",
              "      <td>0.0</td>\n",
              "      <td>0.0</td>\n",
              "      <td>0.0</td>\n",
              "      <td>0.0</td>\n",
              "      <td>0.0</td>\n",
              "      <td>0.0</td>\n",
              "      <td>0.0</td>\n",
              "      <td>0.0</td>\n",
              "      <td>0.0</td>\n",
              "      <td>0.0</td>\n",
              "      <td>0.0</td>\n",
              "      <td>0.0</td>\n",
              "      <td>0.0</td>\n",
              "      <td>0.0</td>\n",
              "      <td>0.0</td>\n",
              "      <td>0.0</td>\n",
              "      <td>0.0</td>\n",
              "      <td>4</td>\n",
              "      <td>275</td>\n",
              "    </tr>\n",
              "    <tr>\n",
              "      <th>4</th>\n",
              "      <td>22.4</td>\n",
              "      <td>21.3</td>\n",
              "      <td>90.0</td>\n",
              "      <td>36.0</td>\n",
              "      <td>4.0</td>\n",
              "      <td>0.0</td>\n",
              "      <td>0.0</td>\n",
              "      <td>0.0</td>\n",
              "      <td>0.0</td>\n",
              "      <td>0.0</td>\n",
              "      <td>0.0</td>\n",
              "      <td>0.0</td>\n",
              "      <td>0.0</td>\n",
              "      <td>0.0</td>\n",
              "      <td>0.0</td>\n",
              "      <td>0.0</td>\n",
              "      <td>0.0</td>\n",
              "      <td>0.0</td>\n",
              "      <td>0.0</td>\n",
              "      <td>0.0</td>\n",
              "      <td>0.0</td>\n",
              "      <td>0.0</td>\n",
              "      <td>0.0</td>\n",
              "      <td>0.0</td>\n",
              "      <td>0.0</td>\n",
              "      <td>0.0</td>\n",
              "      <td>0.0</td>\n",
              "      <td>0.0</td>\n",
              "      <td>0.0</td>\n",
              "      <td>0.0</td>\n",
              "      <td>0.0</td>\n",
              "      <td>0.0</td>\n",
              "      <td>4</td>\n",
              "      <td>275</td>\n",
              "    </tr>\n",
              "  </tbody>\n",
              "</table>\n",
              "</div>"
            ],
            "text/plain": [
              "   Temperature  TemperatureHumid  ...  StageNum  BatchNum\n",
              "0         24.4              22.4  ...         4       275\n",
              "1         22.9              21.5  ...         4       275\n",
              "2         26.6              23.3  ...         4       275\n",
              "3         22.6              21.4  ...         4       275\n",
              "4         22.4              21.3  ...         4       275\n",
              "\n",
              "[5 rows x 34 columns]"
            ]
          },
          "metadata": {
            "tags": []
          },
          "execution_count": 34
        },
        {
          "output_type": "stream",
          "text": [
            "time: 72.4 ms\n"
          ],
          "name": "stdout"
        }
      ]
    },
    {
      "cell_type": "code",
      "metadata": {
        "scrolled": true,
        "id": "h3_1zgJYWjzh",
        "colab_type": "code",
        "outputId": "721b94ff-bf41-4f88-e3ca-f0467985545c",
        "colab": {
          "base_uri": "https://localhost:8080/",
          "height": 179
        }
      },
      "source": [
        "data.columns"
      ],
      "execution_count": 0,
      "outputs": [
        {
          "output_type": "execute_result",
          "data": {
            "text/plain": [
              "Index(['Temperature', 'TemperatureHumid', 'RelativeHumidity', 'WindDirection',\n",
              "       'WindVelocity', 'LotNumber', 'Defoliation', 'Reproductive', 'Bolls',\n",
              "       'Height', 'Nodes', 'Weight', 'Yield', 'Destination', 'Defective',\n",
              "       'MeanSignalStrength', 'StdSignalStrength', 'MeanLinkQuality',\n",
              "       'StdLinkQuality', 'MeanNoiseFloor', 'StdNoiseFloor', 'StdTemperature',\n",
              "       'StdRH', 'Machine', 'pCutTorque', 'pCutLagError', 'pCutActualPosition',\n",
              "       'pCutActualSpeed', 'pSvolFilmActualPosition', 'pSvolFilmActualSpeed',\n",
              "       'pSvolFilmLagError', 'AcetocNum', 'StageNum', 'BatchNum'],\n",
              "      dtype='object')"
            ]
          },
          "metadata": {
            "tags": []
          },
          "execution_count": 35
        },
        {
          "output_type": "stream",
          "text": [
            "time: 3.95 ms\n"
          ],
          "name": "stdout"
        }
      ]
    },
    {
      "cell_type": "markdown",
      "metadata": {
        "id": "UR6wu9V4Wjzk",
        "colab_type": "text"
      },
      "source": [
        "## Scale data"
      ]
    },
    {
      "cell_type": "code",
      "metadata": {
        "id": "H2jFl-eHWjzl",
        "colab_type": "code",
        "outputId": "e7b1dccf-cfed-47b3-839a-6eebd3a36ffd",
        "colab": {
          "base_uri": "https://localhost:8080/",
          "height": 35
        }
      },
      "source": [
        "scaler = StandardScaler()"
      ],
      "execution_count": 0,
      "outputs": [
        {
          "output_type": "stream",
          "text": [
            "time: 2.34 ms\n"
          ],
          "name": "stdout"
        }
      ]
    },
    {
      "cell_type": "code",
      "metadata": {
        "id": "qx3sPcwtWjzo",
        "colab_type": "code",
        "outputId": "fb55a51d-8c47-443a-a33f-b8c5a0c2ecb8",
        "colab": {
          "base_uri": "https://localhost:8080/",
          "height": 35
        }
      },
      "source": [
        "data = pd.DataFrame(scaler.fit_transform(data), columns= data.columns)"
      ],
      "execution_count": 0,
      "outputs": [
        {
          "output_type": "stream",
          "text": [
            "time: 66.9 ms\n"
          ],
          "name": "stdout"
        }
      ]
    },
    {
      "cell_type": "code",
      "metadata": {
        "scrolled": true,
        "id": "il1V1l9wWjzq",
        "colab_type": "code",
        "outputId": "a75ca7db-e813-4031-eb7e-f38eff23d031",
        "colab": {
          "base_uri": "https://localhost:8080/",
          "height": 242
        }
      },
      "source": [
        "data.head()"
      ],
      "execution_count": 0,
      "outputs": [
        {
          "output_type": "execute_result",
          "data": {
            "text/html": [
              "<div>\n",
              "<style scoped>\n",
              "    .dataframe tbody tr th:only-of-type {\n",
              "        vertical-align: middle;\n",
              "    }\n",
              "\n",
              "    .dataframe tbody tr th {\n",
              "        vertical-align: top;\n",
              "    }\n",
              "\n",
              "    .dataframe thead th {\n",
              "        text-align: right;\n",
              "    }\n",
              "</style>\n",
              "<table border=\"1\" class=\"dataframe\">\n",
              "  <thead>\n",
              "    <tr style=\"text-align: right;\">\n",
              "      <th></th>\n",
              "      <th>Temperature</th>\n",
              "      <th>TemperatureHumid</th>\n",
              "      <th>RelativeHumidity</th>\n",
              "      <th>WindDirection</th>\n",
              "      <th>WindVelocity</th>\n",
              "      <th>LotNumber</th>\n",
              "      <th>Defoliation</th>\n",
              "      <th>Reproductive</th>\n",
              "      <th>Bolls</th>\n",
              "      <th>Height</th>\n",
              "      <th>Nodes</th>\n",
              "      <th>Weight</th>\n",
              "      <th>Yield</th>\n",
              "      <th>Destination</th>\n",
              "      <th>Defective</th>\n",
              "      <th>MeanSignalStrength</th>\n",
              "      <th>StdSignalStrength</th>\n",
              "      <th>MeanLinkQuality</th>\n",
              "      <th>StdLinkQuality</th>\n",
              "      <th>MeanNoiseFloor</th>\n",
              "      <th>StdNoiseFloor</th>\n",
              "      <th>StdTemperature</th>\n",
              "      <th>StdRH</th>\n",
              "      <th>Machine</th>\n",
              "      <th>pCutTorque</th>\n",
              "      <th>pCutLagError</th>\n",
              "      <th>pCutActualPosition</th>\n",
              "      <th>pCutActualSpeed</th>\n",
              "      <th>pSvolFilmActualPosition</th>\n",
              "      <th>pSvolFilmActualSpeed</th>\n",
              "      <th>pSvolFilmLagError</th>\n",
              "      <th>AcetocNum</th>\n",
              "      <th>StageNum</th>\n",
              "      <th>BatchNum</th>\n",
              "    </tr>\n",
              "  </thead>\n",
              "  <tbody>\n",
              "    <tr>\n",
              "      <th>0</th>\n",
              "      <td>0.784279</td>\n",
              "      <td>1.218901</td>\n",
              "      <td>1.279492</td>\n",
              "      <td>-0.722900</td>\n",
              "      <td>-0.709612</td>\n",
              "      <td>-0.146399</td>\n",
              "      <td>-0.067868</td>\n",
              "      <td>-0.080137</td>\n",
              "      <td>-0.079004</td>\n",
              "      <td>-0.082626</td>\n",
              "      <td>-0.08264</td>\n",
              "      <td>-0.05679</td>\n",
              "      <td>-0.083894</td>\n",
              "      <td>-0.130232</td>\n",
              "      <td>-0.105027</td>\n",
              "      <td>0.239411</td>\n",
              "      <td>-0.039961</td>\n",
              "      <td>-0.240978</td>\n",
              "      <td>-0.18362</td>\n",
              "      <td>0.241033</td>\n",
              "      <td>-0.091436</td>\n",
              "      <td>-0.114869</td>\n",
              "      <td>-0.048458</td>\n",
              "      <td>-0.661933</td>\n",
              "      <td>0.157187</td>\n",
              "      <td>-0.000177</td>\n",
              "      <td>0.713943</td>\n",
              "      <td>-0.347866</td>\n",
              "      <td>-0.541648</td>\n",
              "      <td>-0.622194</td>\n",
              "      <td>-0.69774</td>\n",
              "      <td>-0.025228</td>\n",
              "      <td>0.060058</td>\n",
              "      <td>0.12105</td>\n",
              "    </tr>\n",
              "    <tr>\n",
              "      <th>1</th>\n",
              "      <td>0.660796</td>\n",
              "      <td>1.128350</td>\n",
              "      <td>1.395258</td>\n",
              "      <td>-0.722900</td>\n",
              "      <td>-0.709612</td>\n",
              "      <td>-0.146399</td>\n",
              "      <td>-0.067868</td>\n",
              "      <td>-0.080137</td>\n",
              "      <td>-0.079004</td>\n",
              "      <td>-0.082626</td>\n",
              "      <td>-0.08264</td>\n",
              "      <td>-0.05679</td>\n",
              "      <td>-0.083894</td>\n",
              "      <td>-0.130232</td>\n",
              "      <td>-0.105027</td>\n",
              "      <td>0.239411</td>\n",
              "      <td>-0.039961</td>\n",
              "      <td>-0.240978</td>\n",
              "      <td>-0.18362</td>\n",
              "      <td>0.241033</td>\n",
              "      <td>-0.091436</td>\n",
              "      <td>-0.114869</td>\n",
              "      <td>-0.048458</td>\n",
              "      <td>-0.661933</td>\n",
              "      <td>0.157187</td>\n",
              "      <td>-0.000177</td>\n",
              "      <td>0.713943</td>\n",
              "      <td>-0.347866</td>\n",
              "      <td>-0.541648</td>\n",
              "      <td>-0.622194</td>\n",
              "      <td>-0.69774</td>\n",
              "      <td>-0.025228</td>\n",
              "      <td>0.060058</td>\n",
              "      <td>0.12105</td>\n",
              "    </tr>\n",
              "    <tr>\n",
              "      <th>2</th>\n",
              "      <td>0.965388</td>\n",
              "      <td>1.309452</td>\n",
              "      <td>1.019019</td>\n",
              "      <td>-0.311225</td>\n",
              "      <td>1.182286</td>\n",
              "      <td>-0.146399</td>\n",
              "      <td>-0.067868</td>\n",
              "      <td>-0.080137</td>\n",
              "      <td>-0.079004</td>\n",
              "      <td>-0.082626</td>\n",
              "      <td>-0.08264</td>\n",
              "      <td>-0.05679</td>\n",
              "      <td>-0.083894</td>\n",
              "      <td>-0.130232</td>\n",
              "      <td>-0.105027</td>\n",
              "      <td>0.239411</td>\n",
              "      <td>-0.039961</td>\n",
              "      <td>-0.240978</td>\n",
              "      <td>-0.18362</td>\n",
              "      <td>0.241033</td>\n",
              "      <td>-0.091436</td>\n",
              "      <td>-0.114869</td>\n",
              "      <td>-0.048458</td>\n",
              "      <td>-0.661933</td>\n",
              "      <td>0.157187</td>\n",
              "      <td>-0.000177</td>\n",
              "      <td>0.713943</td>\n",
              "      <td>-0.347866</td>\n",
              "      <td>-0.541648</td>\n",
              "      <td>-0.622194</td>\n",
              "      <td>-0.69774</td>\n",
              "      <td>-0.025228</td>\n",
              "      <td>0.060058</td>\n",
              "      <td>0.12105</td>\n",
              "    </tr>\n",
              "    <tr>\n",
              "      <th>3</th>\n",
              "      <td>0.636099</td>\n",
              "      <td>1.118288</td>\n",
              "      <td>1.424200</td>\n",
              "      <td>2.241163</td>\n",
              "      <td>0.551653</td>\n",
              "      <td>-0.146399</td>\n",
              "      <td>-0.067868</td>\n",
              "      <td>-0.080137</td>\n",
              "      <td>-0.079004</td>\n",
              "      <td>-0.082626</td>\n",
              "      <td>-0.08264</td>\n",
              "      <td>-0.05679</td>\n",
              "      <td>-0.083894</td>\n",
              "      <td>-0.130232</td>\n",
              "      <td>-0.105027</td>\n",
              "      <td>0.239411</td>\n",
              "      <td>-0.039961</td>\n",
              "      <td>-0.240978</td>\n",
              "      <td>-0.18362</td>\n",
              "      <td>0.241033</td>\n",
              "      <td>-0.091436</td>\n",
              "      <td>-0.114869</td>\n",
              "      <td>-0.048458</td>\n",
              "      <td>-0.661933</td>\n",
              "      <td>0.157187</td>\n",
              "      <td>-0.000177</td>\n",
              "      <td>0.713943</td>\n",
              "      <td>-0.347866</td>\n",
              "      <td>-0.541648</td>\n",
              "      <td>-0.622194</td>\n",
              "      <td>-0.69774</td>\n",
              "      <td>-0.025228</td>\n",
              "      <td>0.060058</td>\n",
              "      <td>0.12105</td>\n",
              "    </tr>\n",
              "    <tr>\n",
              "      <th>4</th>\n",
              "      <td>0.619634</td>\n",
              "      <td>1.108227</td>\n",
              "      <td>1.453141</td>\n",
              "      <td>2.241163</td>\n",
              "      <td>1.812918</td>\n",
              "      <td>-0.146399</td>\n",
              "      <td>-0.067868</td>\n",
              "      <td>-0.080137</td>\n",
              "      <td>-0.079004</td>\n",
              "      <td>-0.082626</td>\n",
              "      <td>-0.08264</td>\n",
              "      <td>-0.05679</td>\n",
              "      <td>-0.083894</td>\n",
              "      <td>-0.130232</td>\n",
              "      <td>-0.105027</td>\n",
              "      <td>0.239411</td>\n",
              "      <td>-0.039961</td>\n",
              "      <td>-0.240978</td>\n",
              "      <td>-0.18362</td>\n",
              "      <td>0.241033</td>\n",
              "      <td>-0.091436</td>\n",
              "      <td>-0.114869</td>\n",
              "      <td>-0.048458</td>\n",
              "      <td>-0.661933</td>\n",
              "      <td>0.157187</td>\n",
              "      <td>-0.000177</td>\n",
              "      <td>0.713943</td>\n",
              "      <td>-0.347866</td>\n",
              "      <td>-0.541648</td>\n",
              "      <td>-0.622194</td>\n",
              "      <td>-0.69774</td>\n",
              "      <td>-0.025228</td>\n",
              "      <td>0.060058</td>\n",
              "      <td>0.12105</td>\n",
              "    </tr>\n",
              "  </tbody>\n",
              "</table>\n",
              "</div>"
            ],
            "text/plain": [
              "   Temperature  TemperatureHumid  ...  StageNum  BatchNum\n",
              "0     0.784279          1.218901  ...  0.060058   0.12105\n",
              "1     0.660796          1.128350  ...  0.060058   0.12105\n",
              "2     0.965388          1.309452  ...  0.060058   0.12105\n",
              "3     0.636099          1.118288  ...  0.060058   0.12105\n",
              "4     0.619634          1.108227  ...  0.060058   0.12105\n",
              "\n",
              "[5 rows x 34 columns]"
            ]
          },
          "metadata": {
            "tags": []
          },
          "execution_count": 38
        },
        {
          "output_type": "stream",
          "text": [
            "time: 72.3 ms\n"
          ],
          "name": "stdout"
        }
      ]
    },
    {
      "cell_type": "code",
      "metadata": {
        "id": "b8Cwh1suWjzs",
        "colab_type": "code",
        "outputId": "5f1a28f4-cb92-4553-c44f-79e380c496e5",
        "colab": {
          "base_uri": "https://localhost:8080/",
          "height": 179
        }
      },
      "source": [
        "data.columns"
      ],
      "execution_count": 0,
      "outputs": [
        {
          "output_type": "execute_result",
          "data": {
            "text/plain": [
              "Index(['Temperature', 'TemperatureHumid', 'RelativeHumidity', 'WindDirection',\n",
              "       'WindVelocity', 'LotNumber', 'Defoliation', 'Reproductive', 'Bolls',\n",
              "       'Height', 'Nodes', 'Weight', 'Yield', 'Destination', 'Defective',\n",
              "       'MeanSignalStrength', 'StdSignalStrength', 'MeanLinkQuality',\n",
              "       'StdLinkQuality', 'MeanNoiseFloor', 'StdNoiseFloor', 'StdTemperature',\n",
              "       'StdRH', 'Machine', 'pCutTorque', 'pCutLagError', 'pCutActualPosition',\n",
              "       'pCutActualSpeed', 'pSvolFilmActualPosition', 'pSvolFilmActualSpeed',\n",
              "       'pSvolFilmLagError', 'AcetocNum', 'StageNum', 'BatchNum'],\n",
              "      dtype='object')"
            ]
          },
          "metadata": {
            "tags": []
          },
          "execution_count": 39
        },
        {
          "output_type": "stream",
          "text": [
            "time: 3.9 ms\n"
          ],
          "name": "stdout"
        }
      ]
    },
    {
      "cell_type": "markdown",
      "metadata": {
        "id": "tbKTn9-cWjzv",
        "colab_type": "text"
      },
      "source": [
        "## Create full features scenarios (all features) - sc1"
      ]
    },
    {
      "cell_type": "markdown",
      "metadata": {
        "id": "h8Uw82GhWe0y",
        "colab_type": "text"
      },
      "source": [
        "This was the scenario implemented on this book chapter"
      ]
    },
    {
      "cell_type": "markdown",
      "metadata": {
        "id": "AA-xZBwCWjzv",
        "colab_type": "text"
      },
      "source": [
        "## sc1 inputs"
      ]
    },
    {
      "cell_type": "code",
      "metadata": {
        "id": "wVh6RaL5Wjzw",
        "colab_type": "code",
        "outputId": "56583b81-d6cf-431e-87e7-9613cb36299d",
        "colab": {
          "base_uri": "https://localhost:8080/",
          "height": 35
        }
      },
      "source": [
        "dfsc1 = data[['Temperature', 'TemperatureHumid', 'RelativeHumidity', 'WindDirection',\n",
        "       'WindVelocity', 'LotNumber', 'Defoliation', 'Reproductive', 'Bolls',\n",
        "       'Height', 'Nodes', 'Weight', 'Yield', 'Destination', 'Defective',\n",
        "       'MeanSignalStrength', 'StdSignalStrength', 'MeanLinkQuality',\n",
        "       'StdLinkQuality', 'MeanNoiseFloor', 'StdNoiseFloor', 'StdTemperature',\n",
        "       'StdRH', 'Machine', 'pCutTorque', 'pCutLagError', 'pCutActualPosition',\n",
        "       'pCutActualSpeed', 'pSvolFilmActualPosition', 'pSvolFilmActualSpeed',\n",
        "       'pSvolFilmLagError', 'AcetocNum', 'StageNum', 'BatchNum']].copy()"
      ],
      "execution_count": 0,
      "outputs": [
        {
          "output_type": "stream",
          "text": [
            "time: 23.9 ms\n"
          ],
          "name": "stdout"
        }
      ]
    },
    {
      "cell_type": "code",
      "metadata": {
        "scrolled": true,
        "id": "WylmBKYbWjzy",
        "colab_type": "code",
        "outputId": "4e2abddb-c831-4a19-aa9a-b799d08b1454",
        "colab": {
          "base_uri": "https://localhost:8080/",
          "height": 242
        }
      },
      "source": [
        "dfsc1.head()"
      ],
      "execution_count": 0,
      "outputs": [
        {
          "output_type": "execute_result",
          "data": {
            "text/html": [
              "<div>\n",
              "<style scoped>\n",
              "    .dataframe tbody tr th:only-of-type {\n",
              "        vertical-align: middle;\n",
              "    }\n",
              "\n",
              "    .dataframe tbody tr th {\n",
              "        vertical-align: top;\n",
              "    }\n",
              "\n",
              "    .dataframe thead th {\n",
              "        text-align: right;\n",
              "    }\n",
              "</style>\n",
              "<table border=\"1\" class=\"dataframe\">\n",
              "  <thead>\n",
              "    <tr style=\"text-align: right;\">\n",
              "      <th></th>\n",
              "      <th>Temperature</th>\n",
              "      <th>TemperatureHumid</th>\n",
              "      <th>RelativeHumidity</th>\n",
              "      <th>WindDirection</th>\n",
              "      <th>WindVelocity</th>\n",
              "      <th>LotNumber</th>\n",
              "      <th>Defoliation</th>\n",
              "      <th>Reproductive</th>\n",
              "      <th>Bolls</th>\n",
              "      <th>Height</th>\n",
              "      <th>Nodes</th>\n",
              "      <th>Weight</th>\n",
              "      <th>Yield</th>\n",
              "      <th>Destination</th>\n",
              "      <th>Defective</th>\n",
              "      <th>MeanSignalStrength</th>\n",
              "      <th>StdSignalStrength</th>\n",
              "      <th>MeanLinkQuality</th>\n",
              "      <th>StdLinkQuality</th>\n",
              "      <th>MeanNoiseFloor</th>\n",
              "      <th>StdNoiseFloor</th>\n",
              "      <th>StdTemperature</th>\n",
              "      <th>StdRH</th>\n",
              "      <th>Machine</th>\n",
              "      <th>pCutTorque</th>\n",
              "      <th>pCutLagError</th>\n",
              "      <th>pCutActualPosition</th>\n",
              "      <th>pCutActualSpeed</th>\n",
              "      <th>pSvolFilmActualPosition</th>\n",
              "      <th>pSvolFilmActualSpeed</th>\n",
              "      <th>pSvolFilmLagError</th>\n",
              "      <th>AcetocNum</th>\n",
              "      <th>StageNum</th>\n",
              "      <th>BatchNum</th>\n",
              "    </tr>\n",
              "  </thead>\n",
              "  <tbody>\n",
              "    <tr>\n",
              "      <th>0</th>\n",
              "      <td>0.784279</td>\n",
              "      <td>1.218901</td>\n",
              "      <td>1.279492</td>\n",
              "      <td>-0.722900</td>\n",
              "      <td>-0.709612</td>\n",
              "      <td>-0.146399</td>\n",
              "      <td>-0.067868</td>\n",
              "      <td>-0.080137</td>\n",
              "      <td>-0.079004</td>\n",
              "      <td>-0.082626</td>\n",
              "      <td>-0.08264</td>\n",
              "      <td>-0.05679</td>\n",
              "      <td>-0.083894</td>\n",
              "      <td>-0.130232</td>\n",
              "      <td>-0.105027</td>\n",
              "      <td>0.239411</td>\n",
              "      <td>-0.039961</td>\n",
              "      <td>-0.240978</td>\n",
              "      <td>-0.18362</td>\n",
              "      <td>0.241033</td>\n",
              "      <td>-0.091436</td>\n",
              "      <td>-0.114869</td>\n",
              "      <td>-0.048458</td>\n",
              "      <td>-0.661933</td>\n",
              "      <td>0.157187</td>\n",
              "      <td>-0.000177</td>\n",
              "      <td>0.713943</td>\n",
              "      <td>-0.347866</td>\n",
              "      <td>-0.541648</td>\n",
              "      <td>-0.622194</td>\n",
              "      <td>-0.69774</td>\n",
              "      <td>-0.025228</td>\n",
              "      <td>0.060058</td>\n",
              "      <td>0.12105</td>\n",
              "    </tr>\n",
              "    <tr>\n",
              "      <th>1</th>\n",
              "      <td>0.660796</td>\n",
              "      <td>1.128350</td>\n",
              "      <td>1.395258</td>\n",
              "      <td>-0.722900</td>\n",
              "      <td>-0.709612</td>\n",
              "      <td>-0.146399</td>\n",
              "      <td>-0.067868</td>\n",
              "      <td>-0.080137</td>\n",
              "      <td>-0.079004</td>\n",
              "      <td>-0.082626</td>\n",
              "      <td>-0.08264</td>\n",
              "      <td>-0.05679</td>\n",
              "      <td>-0.083894</td>\n",
              "      <td>-0.130232</td>\n",
              "      <td>-0.105027</td>\n",
              "      <td>0.239411</td>\n",
              "      <td>-0.039961</td>\n",
              "      <td>-0.240978</td>\n",
              "      <td>-0.18362</td>\n",
              "      <td>0.241033</td>\n",
              "      <td>-0.091436</td>\n",
              "      <td>-0.114869</td>\n",
              "      <td>-0.048458</td>\n",
              "      <td>-0.661933</td>\n",
              "      <td>0.157187</td>\n",
              "      <td>-0.000177</td>\n",
              "      <td>0.713943</td>\n",
              "      <td>-0.347866</td>\n",
              "      <td>-0.541648</td>\n",
              "      <td>-0.622194</td>\n",
              "      <td>-0.69774</td>\n",
              "      <td>-0.025228</td>\n",
              "      <td>0.060058</td>\n",
              "      <td>0.12105</td>\n",
              "    </tr>\n",
              "    <tr>\n",
              "      <th>2</th>\n",
              "      <td>0.965388</td>\n",
              "      <td>1.309452</td>\n",
              "      <td>1.019019</td>\n",
              "      <td>-0.311225</td>\n",
              "      <td>1.182286</td>\n",
              "      <td>-0.146399</td>\n",
              "      <td>-0.067868</td>\n",
              "      <td>-0.080137</td>\n",
              "      <td>-0.079004</td>\n",
              "      <td>-0.082626</td>\n",
              "      <td>-0.08264</td>\n",
              "      <td>-0.05679</td>\n",
              "      <td>-0.083894</td>\n",
              "      <td>-0.130232</td>\n",
              "      <td>-0.105027</td>\n",
              "      <td>0.239411</td>\n",
              "      <td>-0.039961</td>\n",
              "      <td>-0.240978</td>\n",
              "      <td>-0.18362</td>\n",
              "      <td>0.241033</td>\n",
              "      <td>-0.091436</td>\n",
              "      <td>-0.114869</td>\n",
              "      <td>-0.048458</td>\n",
              "      <td>-0.661933</td>\n",
              "      <td>0.157187</td>\n",
              "      <td>-0.000177</td>\n",
              "      <td>0.713943</td>\n",
              "      <td>-0.347866</td>\n",
              "      <td>-0.541648</td>\n",
              "      <td>-0.622194</td>\n",
              "      <td>-0.69774</td>\n",
              "      <td>-0.025228</td>\n",
              "      <td>0.060058</td>\n",
              "      <td>0.12105</td>\n",
              "    </tr>\n",
              "    <tr>\n",
              "      <th>3</th>\n",
              "      <td>0.636099</td>\n",
              "      <td>1.118288</td>\n",
              "      <td>1.424200</td>\n",
              "      <td>2.241163</td>\n",
              "      <td>0.551653</td>\n",
              "      <td>-0.146399</td>\n",
              "      <td>-0.067868</td>\n",
              "      <td>-0.080137</td>\n",
              "      <td>-0.079004</td>\n",
              "      <td>-0.082626</td>\n",
              "      <td>-0.08264</td>\n",
              "      <td>-0.05679</td>\n",
              "      <td>-0.083894</td>\n",
              "      <td>-0.130232</td>\n",
              "      <td>-0.105027</td>\n",
              "      <td>0.239411</td>\n",
              "      <td>-0.039961</td>\n",
              "      <td>-0.240978</td>\n",
              "      <td>-0.18362</td>\n",
              "      <td>0.241033</td>\n",
              "      <td>-0.091436</td>\n",
              "      <td>-0.114869</td>\n",
              "      <td>-0.048458</td>\n",
              "      <td>-0.661933</td>\n",
              "      <td>0.157187</td>\n",
              "      <td>-0.000177</td>\n",
              "      <td>0.713943</td>\n",
              "      <td>-0.347866</td>\n",
              "      <td>-0.541648</td>\n",
              "      <td>-0.622194</td>\n",
              "      <td>-0.69774</td>\n",
              "      <td>-0.025228</td>\n",
              "      <td>0.060058</td>\n",
              "      <td>0.12105</td>\n",
              "    </tr>\n",
              "    <tr>\n",
              "      <th>4</th>\n",
              "      <td>0.619634</td>\n",
              "      <td>1.108227</td>\n",
              "      <td>1.453141</td>\n",
              "      <td>2.241163</td>\n",
              "      <td>1.812918</td>\n",
              "      <td>-0.146399</td>\n",
              "      <td>-0.067868</td>\n",
              "      <td>-0.080137</td>\n",
              "      <td>-0.079004</td>\n",
              "      <td>-0.082626</td>\n",
              "      <td>-0.08264</td>\n",
              "      <td>-0.05679</td>\n",
              "      <td>-0.083894</td>\n",
              "      <td>-0.130232</td>\n",
              "      <td>-0.105027</td>\n",
              "      <td>0.239411</td>\n",
              "      <td>-0.039961</td>\n",
              "      <td>-0.240978</td>\n",
              "      <td>-0.18362</td>\n",
              "      <td>0.241033</td>\n",
              "      <td>-0.091436</td>\n",
              "      <td>-0.114869</td>\n",
              "      <td>-0.048458</td>\n",
              "      <td>-0.661933</td>\n",
              "      <td>0.157187</td>\n",
              "      <td>-0.000177</td>\n",
              "      <td>0.713943</td>\n",
              "      <td>-0.347866</td>\n",
              "      <td>-0.541648</td>\n",
              "      <td>-0.622194</td>\n",
              "      <td>-0.69774</td>\n",
              "      <td>-0.025228</td>\n",
              "      <td>0.060058</td>\n",
              "      <td>0.12105</td>\n",
              "    </tr>\n",
              "  </tbody>\n",
              "</table>\n",
              "</div>"
            ],
            "text/plain": [
              "   Temperature  TemperatureHumid  ...  StageNum  BatchNum\n",
              "0     0.784279          1.218901  ...  0.060058   0.12105\n",
              "1     0.660796          1.128350  ...  0.060058   0.12105\n",
              "2     0.965388          1.309452  ...  0.060058   0.12105\n",
              "3     0.636099          1.118288  ...  0.060058   0.12105\n",
              "4     0.619634          1.108227  ...  0.060058   0.12105\n",
              "\n",
              "[5 rows x 34 columns]"
            ]
          },
          "metadata": {
            "tags": []
          },
          "execution_count": 41
        },
        {
          "output_type": "stream",
          "text": [
            "time: 81.2 ms\n"
          ],
          "name": "stdout"
        }
      ]
    },
    {
      "cell_type": "code",
      "metadata": {
        "id": "9G6UvNprWjz6",
        "colab_type": "code",
        "outputId": "4b6b7ab7-056f-46c0-ff05-f895ab53fda9",
        "colab": {
          "base_uri": "https://localhost:8080/",
          "height": 737
        }
      },
      "source": [
        "dfsc1.info()"
      ],
      "execution_count": 0,
      "outputs": [
        {
          "output_type": "stream",
          "text": [
            "<class 'pandas.core.frame.DataFrame'>\n",
            "RangeIndex: 36351 entries, 0 to 36350\n",
            "Data columns (total 34 columns):\n",
            "Temperature                36351 non-null float64\n",
            "TemperatureHumid           36351 non-null float64\n",
            "RelativeHumidity           36351 non-null float64\n",
            "WindDirection              36351 non-null float64\n",
            "WindVelocity               36351 non-null float64\n",
            "LotNumber                  36351 non-null float64\n",
            "Defoliation                36351 non-null float64\n",
            "Reproductive               36351 non-null float64\n",
            "Bolls                      36351 non-null float64\n",
            "Height                     36351 non-null float64\n",
            "Nodes                      36351 non-null float64\n",
            "Weight                     36351 non-null float64\n",
            "Yield                      36351 non-null float64\n",
            "Destination                36351 non-null float64\n",
            "Defective                  36351 non-null float64\n",
            "MeanSignalStrength         36351 non-null float64\n",
            "StdSignalStrength          36351 non-null float64\n",
            "MeanLinkQuality            36351 non-null float64\n",
            "StdLinkQuality             36351 non-null float64\n",
            "MeanNoiseFloor             36351 non-null float64\n",
            "StdNoiseFloor              36351 non-null float64\n",
            "StdTemperature             36351 non-null float64\n",
            "StdRH                      36351 non-null float64\n",
            "Machine                    36351 non-null float64\n",
            "pCutTorque                 36351 non-null float64\n",
            "pCutLagError               36351 non-null float64\n",
            "pCutActualPosition         36351 non-null float64\n",
            "pCutActualSpeed            36351 non-null float64\n",
            "pSvolFilmActualPosition    36351 non-null float64\n",
            "pSvolFilmActualSpeed       36351 non-null float64\n",
            "pSvolFilmLagError          36351 non-null float64\n",
            "AcetocNum                  36351 non-null float64\n",
            "StageNum                   36351 non-null float64\n",
            "BatchNum                   36351 non-null float64\n",
            "dtypes: float64(34)\n",
            "memory usage: 9.4 MB\n",
            "time: 17.6 ms\n"
          ],
          "name": "stdout"
        }
      ]
    },
    {
      "cell_type": "markdown",
      "metadata": {
        "id": "ME_2ab2YWjz8",
        "colab_type": "text"
      },
      "source": [
        "## Create less features scenarios (less features) - sc2"
      ]
    },
    {
      "cell_type": "markdown",
      "metadata": {
        "id": "AB1qzJZlWpUE",
        "colab_type": "text"
      },
      "source": [
        "This scenario is related to future works, in which fewer features were selected"
      ]
    },
    {
      "cell_type": "markdown",
      "metadata": {
        "id": "e4AwKhNxW3bh",
        "colab_type": "text"
      },
      "source": [
        "These are: TemperatureHumid, WindDirection, WindVerlocity, Reproductive, Bolls, Height, Nodes, Weight, Defective, MeanSignalStrength, StdSignalStrength, MeanLinkQuality, StdLinkQuality, StdTemperature, stdRH, pCutActualPosition, pCutActualSpeed, pSvolFilmActualPosition, pSvolFilmActualSpeed and pSvolFilmeLagError"
      ]
    },
    {
      "cell_type": "markdown",
      "metadata": {
        "id": "3gFNohQSWjz9",
        "colab_type": "text"
      },
      "source": [
        "## sc2 inputs"
      ]
    },
    {
      "cell_type": "code",
      "metadata": {
        "id": "ujIfBLqfWj0B",
        "colab_type": "code",
        "outputId": "2e6eb378-12ea-4060-826a-0069ba6e294e",
        "colab": {
          "base_uri": "https://localhost:8080/",
          "height": 35
        }
      },
      "source": [
        "dfsc2 = data[['Temperature', 'RelativeHumidity','LotNumber', 'Defoliation',\n",
        "              'Yield', 'Destination','MeanNoiseFloor', 'StdNoiseFloor','Machine',\n",
        "              'pCutTorque', 'pCutLagError','AcetocNum', 'StageNum', 'BatchNum']].copy()"
      ],
      "execution_count": 0,
      "outputs": [
        {
          "output_type": "stream",
          "text": [
            "time: 11.4 ms\n"
          ],
          "name": "stdout"
        }
      ]
    },
    {
      "cell_type": "code",
      "metadata": {
        "id": "n2D3Oy0WWj0E",
        "colab_type": "code",
        "outputId": "76aa122c-53d1-4100-f7e8-2648bcf8e6df",
        "colab": {
          "base_uri": "https://localhost:8080/",
          "height": 242
        }
      },
      "source": [
        "dfsc2.head()"
      ],
      "execution_count": 0,
      "outputs": [
        {
          "output_type": "execute_result",
          "data": {
            "text/html": [
              "<div>\n",
              "<style scoped>\n",
              "    .dataframe tbody tr th:only-of-type {\n",
              "        vertical-align: middle;\n",
              "    }\n",
              "\n",
              "    .dataframe tbody tr th {\n",
              "        vertical-align: top;\n",
              "    }\n",
              "\n",
              "    .dataframe thead th {\n",
              "        text-align: right;\n",
              "    }\n",
              "</style>\n",
              "<table border=\"1\" class=\"dataframe\">\n",
              "  <thead>\n",
              "    <tr style=\"text-align: right;\">\n",
              "      <th></th>\n",
              "      <th>Temperature</th>\n",
              "      <th>RelativeHumidity</th>\n",
              "      <th>LotNumber</th>\n",
              "      <th>Defoliation</th>\n",
              "      <th>Yield</th>\n",
              "      <th>Destination</th>\n",
              "      <th>MeanNoiseFloor</th>\n",
              "      <th>StdNoiseFloor</th>\n",
              "      <th>Machine</th>\n",
              "      <th>pCutTorque</th>\n",
              "      <th>pCutLagError</th>\n",
              "      <th>AcetocNum</th>\n",
              "      <th>StageNum</th>\n",
              "      <th>BatchNum</th>\n",
              "    </tr>\n",
              "  </thead>\n",
              "  <tbody>\n",
              "    <tr>\n",
              "      <th>0</th>\n",
              "      <td>0.784279</td>\n",
              "      <td>1.279492</td>\n",
              "      <td>-0.146399</td>\n",
              "      <td>-0.067868</td>\n",
              "      <td>-0.083894</td>\n",
              "      <td>-0.130232</td>\n",
              "      <td>0.241033</td>\n",
              "      <td>-0.091436</td>\n",
              "      <td>-0.661933</td>\n",
              "      <td>0.157187</td>\n",
              "      <td>-0.000177</td>\n",
              "      <td>-0.025228</td>\n",
              "      <td>0.060058</td>\n",
              "      <td>0.12105</td>\n",
              "    </tr>\n",
              "    <tr>\n",
              "      <th>1</th>\n",
              "      <td>0.660796</td>\n",
              "      <td>1.395258</td>\n",
              "      <td>-0.146399</td>\n",
              "      <td>-0.067868</td>\n",
              "      <td>-0.083894</td>\n",
              "      <td>-0.130232</td>\n",
              "      <td>0.241033</td>\n",
              "      <td>-0.091436</td>\n",
              "      <td>-0.661933</td>\n",
              "      <td>0.157187</td>\n",
              "      <td>-0.000177</td>\n",
              "      <td>-0.025228</td>\n",
              "      <td>0.060058</td>\n",
              "      <td>0.12105</td>\n",
              "    </tr>\n",
              "    <tr>\n",
              "      <th>2</th>\n",
              "      <td>0.965388</td>\n",
              "      <td>1.019019</td>\n",
              "      <td>-0.146399</td>\n",
              "      <td>-0.067868</td>\n",
              "      <td>-0.083894</td>\n",
              "      <td>-0.130232</td>\n",
              "      <td>0.241033</td>\n",
              "      <td>-0.091436</td>\n",
              "      <td>-0.661933</td>\n",
              "      <td>0.157187</td>\n",
              "      <td>-0.000177</td>\n",
              "      <td>-0.025228</td>\n",
              "      <td>0.060058</td>\n",
              "      <td>0.12105</td>\n",
              "    </tr>\n",
              "    <tr>\n",
              "      <th>3</th>\n",
              "      <td>0.636099</td>\n",
              "      <td>1.424200</td>\n",
              "      <td>-0.146399</td>\n",
              "      <td>-0.067868</td>\n",
              "      <td>-0.083894</td>\n",
              "      <td>-0.130232</td>\n",
              "      <td>0.241033</td>\n",
              "      <td>-0.091436</td>\n",
              "      <td>-0.661933</td>\n",
              "      <td>0.157187</td>\n",
              "      <td>-0.000177</td>\n",
              "      <td>-0.025228</td>\n",
              "      <td>0.060058</td>\n",
              "      <td>0.12105</td>\n",
              "    </tr>\n",
              "    <tr>\n",
              "      <th>4</th>\n",
              "      <td>0.619634</td>\n",
              "      <td>1.453141</td>\n",
              "      <td>-0.146399</td>\n",
              "      <td>-0.067868</td>\n",
              "      <td>-0.083894</td>\n",
              "      <td>-0.130232</td>\n",
              "      <td>0.241033</td>\n",
              "      <td>-0.091436</td>\n",
              "      <td>-0.661933</td>\n",
              "      <td>0.157187</td>\n",
              "      <td>-0.000177</td>\n",
              "      <td>-0.025228</td>\n",
              "      <td>0.060058</td>\n",
              "      <td>0.12105</td>\n",
              "    </tr>\n",
              "  </tbody>\n",
              "</table>\n",
              "</div>"
            ],
            "text/plain": [
              "   Temperature  RelativeHumidity  LotNumber  ...  AcetocNum  StageNum  BatchNum\n",
              "0     0.784279          1.279492  -0.146399  ...  -0.025228  0.060058   0.12105\n",
              "1     0.660796          1.395258  -0.146399  ...  -0.025228  0.060058   0.12105\n",
              "2     0.965388          1.019019  -0.146399  ...  -0.025228  0.060058   0.12105\n",
              "3     0.636099          1.424200  -0.146399  ...  -0.025228  0.060058   0.12105\n",
              "4     0.619634          1.453141  -0.146399  ...  -0.025228  0.060058   0.12105\n",
              "\n",
              "[5 rows x 14 columns]"
            ]
          },
          "metadata": {
            "tags": []
          },
          "execution_count": 45
        },
        {
          "output_type": "stream",
          "text": [
            "time: 50.8 ms\n"
          ],
          "name": "stdout"
        }
      ]
    },
    {
      "cell_type": "markdown",
      "metadata": {
        "id": "IXz2R3gRWj0K",
        "colab_type": "text"
      },
      "source": [
        "## Targets"
      ]
    },
    {
      "cell_type": "markdown",
      "metadata": {
        "id": "U3FoZ6D7XCAe",
        "colab_type": "text"
      },
      "source": [
        "This is the target that was used in this book chapter"
      ]
    },
    {
      "cell_type": "code",
      "metadata": {
        "id": "MyAql-nOWj0N",
        "colab_type": "code",
        "outputId": "5f7d5855-d236-4069-c119-9b4a90ac8bd7",
        "colab": {
          "base_uri": "https://localhost:8080/",
          "height": 35
        }
      },
      "source": [
        "target_system = df[['System']].copy()"
      ],
      "execution_count": 0,
      "outputs": [
        {
          "output_type": "stream",
          "text": [
            "time: 9.93 ms\n"
          ],
          "name": "stdout"
        }
      ]
    },
    {
      "cell_type": "code",
      "metadata": {
        "scrolled": true,
        "id": "KCZOhJ35Wj0P",
        "colab_type": "code",
        "outputId": "8c8f97ec-4d09-4273-bef9-5a0a3baeb0fc",
        "colab": {
          "base_uri": "https://localhost:8080/",
          "height": 143
        }
      },
      "source": [
        "target_system.info()"
      ],
      "execution_count": 0,
      "outputs": [
        {
          "output_type": "stream",
          "text": [
            "<class 'pandas.core.frame.DataFrame'>\n",
            "RangeIndex: 36351 entries, 0 to 36350\n",
            "Data columns (total 1 columns):\n",
            "System    36351 non-null int64\n",
            "dtypes: int64(1)\n",
            "memory usage: 284.1 KB\n",
            "time: 11.6 ms\n"
          ],
          "name": "stdout"
        }
      ]
    },
    {
      "cell_type": "code",
      "metadata": {
        "id": "aBF2_Q1OWj0S",
        "colab_type": "code",
        "outputId": "cfe6ab85-1081-4c3f-9d6a-d38fbd106ff4",
        "colab": {
          "base_uri": "https://localhost:8080/",
          "height": 222
        }
      },
      "source": [
        "target_system.head()"
      ],
      "execution_count": 0,
      "outputs": [
        {
          "output_type": "execute_result",
          "data": {
            "text/html": [
              "<div>\n",
              "<style scoped>\n",
              "    .dataframe tbody tr th:only-of-type {\n",
              "        vertical-align: middle;\n",
              "    }\n",
              "\n",
              "    .dataframe tbody tr th {\n",
              "        vertical-align: top;\n",
              "    }\n",
              "\n",
              "    .dataframe thead th {\n",
              "        text-align: right;\n",
              "    }\n",
              "</style>\n",
              "<table border=\"1\" class=\"dataframe\">\n",
              "  <thead>\n",
              "    <tr style=\"text-align: right;\">\n",
              "      <th></th>\n",
              "      <th>System</th>\n",
              "    </tr>\n",
              "  </thead>\n",
              "  <tbody>\n",
              "    <tr>\n",
              "      <th>0</th>\n",
              "      <td>2</td>\n",
              "    </tr>\n",
              "    <tr>\n",
              "      <th>1</th>\n",
              "      <td>2</td>\n",
              "    </tr>\n",
              "    <tr>\n",
              "      <th>2</th>\n",
              "      <td>2</td>\n",
              "    </tr>\n",
              "    <tr>\n",
              "      <th>3</th>\n",
              "      <td>2</td>\n",
              "    </tr>\n",
              "    <tr>\n",
              "      <th>4</th>\n",
              "      <td>2</td>\n",
              "    </tr>\n",
              "  </tbody>\n",
              "</table>\n",
              "</div>"
            ],
            "text/plain": [
              "   System\n",
              "0       2\n",
              "1       2\n",
              "2       2\n",
              "3       2\n",
              "4       2"
            ]
          },
          "metadata": {
            "tags": []
          },
          "execution_count": 48
        },
        {
          "output_type": "stream",
          "text": [
            "time: 24 ms\n"
          ],
          "name": "stdout"
        }
      ]
    },
    {
      "cell_type": "markdown",
      "metadata": {
        "id": "_CP-piUYXI-U",
        "colab_type": "text"
      },
      "source": [
        "The following target is related to future works, in which the supply chain link could also be predicted"
      ]
    },
    {
      "cell_type": "code",
      "metadata": {
        "id": "BVwNdbHQWj0Z",
        "colab_type": "code",
        "outputId": "571faa1f-b969-44fd-c23f-50378056592f",
        "colab": {
          "base_uri": "https://localhost:8080/",
          "height": 35
        }
      },
      "source": [
        "target_sclink = df[['SCLinkNum']]"
      ],
      "execution_count": 0,
      "outputs": [
        {
          "output_type": "stream",
          "text": [
            "time: 4.28 ms\n"
          ],
          "name": "stdout"
        }
      ]
    },
    {
      "cell_type": "code",
      "metadata": {
        "id": "a9I79oSXWj0c",
        "colab_type": "code",
        "outputId": "43bcc1a8-e165-4ec3-8f1e-4c1b1d2ead51",
        "colab": {
          "base_uri": "https://localhost:8080/",
          "height": 143
        }
      },
      "source": [
        "target_sclink.info()"
      ],
      "execution_count": 0,
      "outputs": [
        {
          "output_type": "stream",
          "text": [
            "<class 'pandas.core.frame.DataFrame'>\n",
            "RangeIndex: 36351 entries, 0 to 36350\n",
            "Data columns (total 1 columns):\n",
            "SCLinkNum    36351 non-null int64\n",
            "dtypes: int64(1)\n",
            "memory usage: 284.1 KB\n",
            "time: 9.5 ms\n"
          ],
          "name": "stdout"
        }
      ]
    },
    {
      "cell_type": "code",
      "metadata": {
        "id": "swUG4-VaWj0e",
        "colab_type": "code",
        "outputId": "3da991bc-e46f-4972-8efc-a4e4417267a5",
        "colab": {
          "base_uri": "https://localhost:8080/",
          "height": 222
        }
      },
      "source": [
        "target_sclink.head()"
      ],
      "execution_count": 0,
      "outputs": [
        {
          "output_type": "execute_result",
          "data": {
            "text/html": [
              "<div>\n",
              "<style scoped>\n",
              "    .dataframe tbody tr th:only-of-type {\n",
              "        vertical-align: middle;\n",
              "    }\n",
              "\n",
              "    .dataframe tbody tr th {\n",
              "        vertical-align: top;\n",
              "    }\n",
              "\n",
              "    .dataframe thead th {\n",
              "        text-align: right;\n",
              "    }\n",
              "</style>\n",
              "<table border=\"1\" class=\"dataframe\">\n",
              "  <thead>\n",
              "    <tr style=\"text-align: right;\">\n",
              "      <th></th>\n",
              "      <th>SCLinkNum</th>\n",
              "    </tr>\n",
              "  </thead>\n",
              "  <tbody>\n",
              "    <tr>\n",
              "      <th>0</th>\n",
              "      <td>0</td>\n",
              "    </tr>\n",
              "    <tr>\n",
              "      <th>1</th>\n",
              "      <td>0</td>\n",
              "    </tr>\n",
              "    <tr>\n",
              "      <th>2</th>\n",
              "      <td>0</td>\n",
              "    </tr>\n",
              "    <tr>\n",
              "      <th>3</th>\n",
              "      <td>0</td>\n",
              "    </tr>\n",
              "    <tr>\n",
              "      <th>4</th>\n",
              "      <td>0</td>\n",
              "    </tr>\n",
              "  </tbody>\n",
              "</table>\n",
              "</div>"
            ],
            "text/plain": [
              "   SCLinkNum\n",
              "0          0\n",
              "1          0\n",
              "2          0\n",
              "3          0\n",
              "4          0"
            ]
          },
          "metadata": {
            "tags": []
          },
          "execution_count": 51
        },
        {
          "output_type": "stream",
          "text": [
            "time: 16.3 ms\n"
          ],
          "name": "stdout"
        }
      ]
    },
    {
      "cell_type": "markdown",
      "metadata": {
        "id": "NID5Jp3PWj0g",
        "colab_type": "text"
      },
      "source": [
        "# 3. Model building and implementation"
      ]
    },
    {
      "cell_type": "markdown",
      "metadata": {
        "id": "qzKf_egwWj0h",
        "colab_type": "text"
      },
      "source": [
        "## SC1 with target = system"
      ]
    },
    {
      "cell_type": "markdown",
      "metadata": {
        "id": "bizRREHTWj0h",
        "colab_type": "text"
      },
      "source": [
        "## Model building with 3 clusters (optimal answer)"
      ]
    },
    {
      "cell_type": "code",
      "metadata": {
        "scrolled": true,
        "id": "kcN3NeEqWj0i",
        "colab_type": "code",
        "outputId": "7fb76ac1-510b-4344-ee2c-e88183b46634",
        "colab": {
          "base_uri": "https://localhost:8080/",
          "height": 89
        }
      },
      "source": [
        "target_system.System.value_counts()"
      ],
      "execution_count": 0,
      "outputs": [
        {
          "output_type": "execute_result",
          "data": {
            "text/plain": [
              "2    20527\n",
              "3    15153\n",
              "1      671\n",
              "Name: System, dtype: int64"
            ]
          },
          "metadata": {
            "tags": []
          },
          "execution_count": 52
        },
        {
          "output_type": "stream",
          "text": [
            "time: 10.4 ms\n"
          ],
          "name": "stdout"
        }
      ]
    },
    {
      "cell_type": "code",
      "metadata": {
        "id": "Lehr4f7OWj0k",
        "colab_type": "code",
        "outputId": "80429533-66af-4d28-a934-7ef54b85f94a",
        "colab": {
          "base_uri": "https://localhost:8080/",
          "height": 71
        }
      },
      "source": [
        "%%time\n",
        "kmeansc1pp3 = KMeans(n_clusters=3, random_state=42).fit(dfsc1)"
      ],
      "execution_count": 0,
      "outputs": [
        {
          "output_type": "stream",
          "text": [
            "CPU times: user 593 ms, sys: 382 ms, total: 975 ms\n",
            "Wall time: 534 ms\n",
            "time: 537 ms\n"
          ],
          "name": "stdout"
        }
      ]
    },
    {
      "cell_type": "code",
      "metadata": {
        "scrolled": false,
        "id": "WdSW65UsWj0m",
        "colab_type": "code",
        "outputId": "dc7e9b79-0f2f-438c-90c9-b80de28e4e5a",
        "colab": {
          "base_uri": "https://localhost:8080/",
          "height": 35
        }
      },
      "source": [
        "kmeansc1pp3.labels_"
      ],
      "execution_count": 0,
      "outputs": [
        {
          "output_type": "execute_result",
          "data": {
            "text/plain": [
              "array([0, 0, 0, ..., 2, 2, 2], dtype=int32)"
            ]
          },
          "metadata": {
            "tags": []
          },
          "execution_count": 54
        },
        {
          "output_type": "stream",
          "text": [
            "time: 11.6 ms\n"
          ],
          "name": "stdout"
        }
      ]
    },
    {
      "cell_type": "code",
      "metadata": {
        "id": "2GtDLmg6Wj0o",
        "colab_type": "code",
        "outputId": "b04689e9-9863-4116-8e6f-39467f2d0d1f",
        "colab": {
          "base_uri": "https://localhost:8080/",
          "height": 35
        }
      },
      "source": [
        "sc1pp3labels = pd.Series(kmeansc1pp3.labels_)"
      ],
      "execution_count": 0,
      "outputs": [
        {
          "output_type": "stream",
          "text": [
            "time: 3.41 ms\n"
          ],
          "name": "stdout"
        }
      ]
    },
    {
      "cell_type": "code",
      "metadata": {
        "id": "mTTy4muyWj0q",
        "colab_type": "code",
        "outputId": "af1c2662-03b6-4673-fd24-25c3313ffab3",
        "colab": {
          "base_uri": "https://localhost:8080/",
          "height": 89
        }
      },
      "source": [
        "sc1pp3labels.value_counts()"
      ],
      "execution_count": 0,
      "outputs": [
        {
          "output_type": "execute_result",
          "data": {
            "text/plain": [
              "0    23813\n",
              "2    12288\n",
              "1      250\n",
              "dtype: int64"
            ]
          },
          "metadata": {
            "tags": []
          },
          "execution_count": 56
        },
        {
          "output_type": "stream",
          "text": [
            "time: 11.2 ms\n"
          ],
          "name": "stdout"
        }
      ]
    },
    {
      "cell_type": "code",
      "metadata": {
        "id": "OJ7wt2NlWj0v",
        "colab_type": "code",
        "outputId": "f247b5b7-64d1-4ba2-ef0c-2e2dc73be599",
        "colab": {
          "base_uri": "https://localhost:8080/",
          "height": 35
        }
      },
      "source": [
        "cmpp3 = confusion_matrix(target_system.System, sc1pp3labels)"
      ],
      "execution_count": 0,
      "outputs": [
        {
          "output_type": "stream",
          "text": [
            "time: 60.7 ms\n"
          ],
          "name": "stdout"
        }
      ]
    },
    {
      "cell_type": "code",
      "metadata": {
        "id": "ZB7cg78WWj0x",
        "colab_type": "code",
        "outputId": "96cb5593-abea-4d8c-fd4a-20a35bd5d1bc",
        "colab": {
          "base_uri": "https://localhost:8080/",
          "height": 89
        }
      },
      "source": [
        "cmpp3"
      ],
      "execution_count": 0,
      "outputs": [
        {
          "output_type": "execute_result",
          "data": {
            "text/plain": [
              "array([[    0,     0,     0,     0],\n",
              "       [  671,     0,     0,     0],\n",
              "       [20527,     0,     0,     0],\n",
              "       [ 2615,   250, 12288,     0]])"
            ]
          },
          "metadata": {
            "tags": []
          },
          "execution_count": 58
        },
        {
          "output_type": "stream",
          "text": [
            "time: 3.65 ms\n"
          ],
          "name": "stdout"
        }
      ]
    },
    {
      "cell_type": "markdown",
      "metadata": {
        "id": "1rATPm2PWj0z",
        "colab_type": "text"
      },
      "source": [
        "## Check correct labels"
      ]
    },
    {
      "cell_type": "code",
      "metadata": {
        "scrolled": true,
        "id": "ec1sXncsWj00",
        "colab_type": "code",
        "outputId": "29f453df-5161-4585-b4fa-7a4880b42b36",
        "colab": {
          "base_uri": "https://localhost:8080/",
          "height": 321
        }
      },
      "source": [
        "sns.heatmap(cmpp3,annot=True,cmap='coolwarm')\n",
        "plt.xlabel('Predicted')\n",
        "plt.ylabel('True')"
      ],
      "execution_count": 0,
      "outputs": [
        {
          "output_type": "execute_result",
          "data": {
            "text/plain": [
              "Text(30.5, 0.5, 'True')"
            ]
          },
          "metadata": {
            "tags": []
          },
          "execution_count": 59
        },
        {
          "output_type": "display_data",
          "data": {
            "image/png": "[encoded data removed]",
            "text/plain": [
              "<Figure size 432x288 with 2 Axes>"
            ]
          },
          "metadata": {
            "tags": []
          }
        },
        {
          "output_type": "stream",
          "text": [
            "time: 318 ms\n"
          ],
          "name": "stdout"
        }
      ]
    },
    {
      "cell_type": "markdown",
      "metadata": {
        "id": "kJBpYqwtWj06",
        "colab_type": "text"
      },
      "source": [
        "## Change to correct labels"
      ]
    },
    {
      "cell_type": "code",
      "metadata": {
        "id": "HHhDVs51Wj0-",
        "colab_type": "code",
        "outputId": "a9839773-990b-4b36-9c92-9c3e792a4923",
        "colab": {
          "base_uri": "https://localhost:8080/",
          "height": 35
        }
      },
      "source": [
        "labelspp3 = kmeansc1pp3.labels_\n",
        "labelspp3[labelspp3 == 0] = 4\n",
        "labelspp3[labelspp3 == 1] = 5\n",
        "labelspp3[labelspp3 == 2] = 6"
      ],
      "execution_count": 0,
      "outputs": [
        {
          "output_type": "stream",
          "text": [
            "time: 3.12 ms\n"
          ],
          "name": "stdout"
        }
      ]
    },
    {
      "cell_type": "code",
      "metadata": {
        "id": "FmbDVS_lWj1B",
        "colab_type": "code",
        "outputId": "74aad41b-5b3d-4ee9-ac66-08288573a3c8",
        "colab": {
          "base_uri": "https://localhost:8080/",
          "height": 35
        }
      },
      "source": [
        "labelspp3[labelspp3 == 4] = 2\n",
        "labelspp3[labelspp3 == 5] = 1\n",
        "labelspp3[labelspp3 == 6] = 3"
      ],
      "execution_count": 0,
      "outputs": [
        {
          "output_type": "stream",
          "text": [
            "time: 5.67 ms\n"
          ],
          "name": "stdout"
        }
      ]
    },
    {
      "cell_type": "markdown",
      "metadata": {
        "id": "4xvVpC8vWj1D",
        "colab_type": "text"
      },
      "source": [
        "## Check heatmap"
      ]
    },
    {
      "cell_type": "code",
      "metadata": {
        "id": "3xS2u-xvWj1E",
        "colab_type": "code",
        "outputId": "025fffac-a859-43e1-86ab-932ad5348fdc",
        "colab": {
          "base_uri": "https://localhost:8080/",
          "height": 35
        }
      },
      "source": [
        "cmpp3 = confusion_matrix(target_system, labelspp3)"
      ],
      "execution_count": 0,
      "outputs": [
        {
          "output_type": "stream",
          "text": [
            "time: 54.1 ms\n"
          ],
          "name": "stdout"
        }
      ]
    },
    {
      "cell_type": "code",
      "metadata": {
        "id": "qy0copygWj1G",
        "colab_type": "code",
        "outputId": "91e5e523-9d2d-4280-a586-320c49ac628b",
        "colab": {
          "base_uri": "https://localhost:8080/",
          "height": 321
        }
      },
      "source": [
        "sns.heatmap(cmpp3,annot=True,cmap='coolwarm')\n",
        "plt.xlabel('Predicted')\n",
        "plt.ylabel('True')"
      ],
      "execution_count": 0,
      "outputs": [
        {
          "output_type": "execute_result",
          "data": {
            "text/plain": [
              "Text(30.5, 0.5, 'True')"
            ]
          },
          "metadata": {
            "tags": []
          },
          "execution_count": 63
        },
        {
          "output_type": "display_data",
          "data": {
            "image/png": "[encoded data removed]",
            "text/plain": [
              "<Figure size 432x288 with 2 Axes>"
            ]
          },
          "metadata": {
            "tags": []
          }
        },
        {
          "output_type": "stream",
          "text": [
            "time: 270 ms\n"
          ],
          "name": "stdout"
        }
      ]
    },
    {
      "cell_type": "code",
      "metadata": {
        "id": "mrYpY84_Wj1J",
        "colab_type": "code",
        "outputId": "bf986117-5db4-4574-fdcc-ae044147d97a",
        "colab": {
          "base_uri": "https://localhost:8080/",
          "height": 35
        }
      },
      "source": [
        "reportpp3 = classification_report(target_system, labelspp3,output_dict = True)"
      ],
      "execution_count": 0,
      "outputs": [
        {
          "output_type": "stream",
          "text": [
            "time: 44.2 ms\n"
          ],
          "name": "stdout"
        }
      ]
    },
    {
      "cell_type": "code",
      "metadata": {
        "id": "5zlrNvJXWj1M",
        "colab_type": "code",
        "outputId": "94806af9-2afe-4ffd-b5f6-51b1edfcf9df",
        "colab": {
          "base_uri": "https://localhost:8080/",
          "height": 341
        }
      },
      "source": [
        "reportpp3"
      ],
      "execution_count": 0,
      "outputs": [
        {
          "output_type": "execute_result",
          "data": {
            "text/plain": [
              "{'1': {'f1-score': 0.0, 'precision': 0.0, 'recall': 0.0, 'support': 671},\n",
              " '2': {'f1-score': 0.9258908434821831,\n",
              "  'precision': 0.8620081468105657,\n",
              "  'recall': 1.0,\n",
              "  'support': 20527},\n",
              " '3': {'f1-score': 0.895594183885427,\n",
              "  'precision': 1.0,\n",
              "  'recall': 0.8109285290041576,\n",
              "  'support': 15153},\n",
              " 'accuracy': 0.9027261973535804,\n",
              " 'macro avg': {'f1-score': 0.6071616757892033,\n",
              "  'precision': 0.6206693822701886,\n",
              "  'recall': 0.6036428430013858,\n",
              "  'support': 36351},\n",
              " 'weighted avg': {'f1-score': 0.8961706696535073,\n",
              "  'precision': 0.9036186412913119,\n",
              "  'recall': 0.9027261973535804,\n",
              "  'support': 36351}}"
            ]
          },
          "metadata": {
            "tags": []
          },
          "execution_count": 65
        },
        {
          "output_type": "stream",
          "text": [
            "time: 4.27 ms\n"
          ],
          "name": "stdout"
        }
      ]
    },
    {
      "cell_type": "markdown",
      "metadata": {
        "id": "Ou0-dGcRWj1Q",
        "colab_type": "text"
      },
      "source": [
        "## Calculating the elbow method (optimal number of clusters)"
      ]
    },
    {
      "cell_type": "code",
      "metadata": {
        "id": "1uYQ-TzrahoY",
        "colab_type": "code",
        "outputId": "e1d492b7-d985-4fc2-f299-a7357f433d93",
        "colab": {
          "base_uri": "https://localhost:8080/",
          "height": 35
        }
      },
      "source": [
        "wcss =[]\n",
        "for i in range(1,30):\n",
        "  kmeanModel = KMeans(n_clusters = i, init = 'k-means++', random_state = 42)\n",
        "  kmeanModel.fit(dfsc1)\n",
        "  wcss.append(kmeanModel.inertia_)"
      ],
      "execution_count": 0,
      "outputs": [
        {
          "output_type": "stream",
          "text": [
            "time: 1min 33s\n"
          ],
          "name": "stdout"
        }
      ]
    },
    {
      "cell_type": "code",
      "metadata": {
        "id": "GEs2aTFwa7f2",
        "colab_type": "code",
        "outputId": "f76519bd-ec4b-4780-8396-c0e25486c6b2",
        "colab": {
          "base_uri": "https://localhost:8080/",
          "height": 591
        }
      },
      "source": [
        "plt.figure(figsize=(12,9))\n",
        "plt.plot(range(1,30),wcss,marker='o',linestyle='--')\n",
        "plt.xlabel('Number of Clusters')\n",
        "plt.ylabel('WCSS')\n",
        "plt.xticks(np.arange(0, 30, 1))\n",
        "plt.title('K-means Clustering Elbow Method')\n",
        "plt.show()"
      ],
      "execution_count": 0,
      "outputs": [
        {
          "output_type": "display_data",
          "data": {
            "image/png": "[encoded data removed]",
            "text/plain": [
              "<Figure size 864x648 with 1 Axes>"
            ]
          },
          "metadata": {
            "tags": []
          }
        },
        {
          "output_type": "stream",
          "text": [
            "time: 456 ms\n"
          ],
          "name": "stdout"
        }
      ]
    },
    {
      "cell_type": "markdown",
      "metadata": {
        "id": "2kcDcZcmWj1V",
        "colab_type": "text"
      },
      "source": [
        "## Results analysis"
      ]
    },
    {
      "cell_type": "code",
      "metadata": {
        "id": "4i4W1x6YWj1W",
        "colab_type": "code",
        "outputId": "b73eafb0-f58a-472f-8188-73eae79831a1",
        "colab": {
          "base_uri": "https://localhost:8080/",
          "height": 305
        }
      },
      "source": [
        "print(\"Confusion matrix\\n\",metrics.confusion_matrix(y_true=target_system.System,y_pred=labelspp3)) \n",
        "print(\"Classification report\\n\",metrics.classification_report(y_true=target_system.System,y_pred=labelspp3)) "
      ],
      "execution_count": 0,
      "outputs": [
        {
          "output_type": "stream",
          "text": [
            "Confusion matrix\n",
            " [[    0   671     0]\n",
            " [    0 20527     0]\n",
            " [  250  2615 12288]]\n",
            "Classification report\n",
            "               precision    recall  f1-score   support\n",
            "\n",
            "           1       0.00      0.00      0.00       671\n",
            "           2       0.86      1.00      0.93     20527\n",
            "           3       1.00      0.81      0.90     15153\n",
            "\n",
            "    accuracy                           0.90     36351\n",
            "   macro avg       0.62      0.60      0.61     36351\n",
            "weighted avg       0.90      0.90      0.90     36351\n",
            "\n",
            "time: 83.4 ms\n"
          ],
          "name": "stdout"
        }
      ]
    },
    {
      "cell_type": "code",
      "metadata": {
        "id": "F_hhRUaAWj1Z",
        "colab_type": "code",
        "outputId": "e46e4670-1851-47a5-d9c0-c28eabfceab8",
        "colab": {
          "base_uri": "https://localhost:8080/",
          "height": 323
        }
      },
      "source": [
        "print('\\033[1m'+\"Kmeans++:\"+'\\033[0m')\n",
        "print('\\033[1m'+\"System 1\"+'\\033[0m')\n",
        "print(\"Precision = {0:0.3f}\".format(reportpp3[\"1\"][\"precision\"]))\n",
        "print(\"Recall = {0:0.3f}\".format(reportpp3[\"1\"][\"recall\"]))\n",
        "print(\"F1-score = {0:0.3f}\".format(reportpp3[\"1\"][\"f1-score\"]))\n",
        "print(\"Support = {0:0.3f}\".format(reportpp3[\"1\"][\"support\"]))\n",
        "print('\\033[1m'+\"System 2\"+'\\033[0m')\n",
        "print(\"Precision = {0:0.3f}\".format(reportpp3[\"2\"][\"precision\"]))\n",
        "print(\"Recall = {0:0.3f}\".format(reportpp3[\"2\"][\"recall\"]))\n",
        "print(\"F1-score = {0:0.3f}\".format(reportpp3[\"2\"][\"f1-score\"]))\n",
        "print(\"Support = {0:0.3f}\".format(reportpp3[\"2\"][\"support\"]))\n",
        "print('\\033[1m'+\"System 3\"+'\\033[0m')\n",
        "print(\"Precision = {0:0.3f}\".format(reportpp3[\"3\"][\"precision\"]))\n",
        "print(\"Recall = {0:0.3f}\".format(reportpp3[\"3\"][\"recall\"]))\n",
        "print(\"F1-score = {0:0.3f}\".format(reportpp3[\"3\"][\"f1-score\"]))\n",
        "print(\"Support = {0:0.3f}\".format(reportpp3[\"3\"][\"support\"]))"
      ],
      "execution_count": 0,
      "outputs": [
        {
          "output_type": "stream",
          "text": [
            "\u001b[1mKmeans++:\u001b[0m\n",
            "\u001b[1mSystem 1\u001b[0m\n",
            "Precision = 0.000\n",
            "Recall = 0.000\n",
            "F1-score = 0.000\n",
            "Support = 671.000\n",
            "\u001b[1mSystem 2\u001b[0m\n",
            "Precision = 0.862\n",
            "Recall = 1.000\n",
            "F1-score = 0.926\n",
            "Support = 20527.000\n",
            "\u001b[1mSystem 3\u001b[0m\n",
            "Precision = 1.000\n",
            "Recall = 0.811\n",
            "F1-score = 0.896\n",
            "Support = 15153.000\n",
            "time: 14 ms\n"
          ],
          "name": "stdout"
        }
      ]
    },
    {
      "cell_type": "code",
      "metadata": {
        "id": "6HgzQoT2Wj1b",
        "colab_type": "code",
        "outputId": "c77e29b1-929d-4e9e-aa1f-686f8fd50f49",
        "colab": {
          "base_uri": "https://localhost:8080/",
          "height": 161
        }
      },
      "source": [
        "print('\\033[1m'+'Clustering metrics - supervised'+'\\033[0m')\n",
        "print('Adjusted Rand score: ', metrics.adjusted_rand_score(target_system.System, labelspp3))\n",
        "print('Mutual info score: ', metrics.adjusted_mutual_info_score(target_system.System, labelspp3))\n",
        "print('Homogeneity score: ', metrics.homogeneity_score(target_system.System, labelspp3))\n",
        "print('Completeness score: ', metrics.completeness_score(target_system.System, labelspp3))\n",
        "print('V-measure: ', metrics.v_measure_score(target_system.System, labelspp3))\n",
        "print('Fowlkes-Mallows score: ', metrics.fowlkes_mallows_score(target_system.System, labelspp3))"
      ],
      "execution_count": 0,
      "outputs": [
        {
          "output_type": "stream",
          "text": [
            "\u001b[1mClustering metrics - supervised\u001b[0m\n",
            "Adjusted Rand score:  0.6823361077431518\n",
            "Mutual info score:  0.6288415438002335\n",
            "Homogeneity score:  0.5945082951466247\n",
            "Completeness score:  0.6674481883802669\n",
            "V-measure:  0.6288703132831919\n",
            "Fowlkes-Mallows score:  0.8475658942266868\n",
            "time: 72 ms\n"
          ],
          "name": "stdout"
        }
      ]
    },
    {
      "cell_type": "code",
      "metadata": {
        "id": "qmOukazDWj1e",
        "colab_type": "code",
        "outputId": "f86db501-d57a-4fdc-c9a8-5be83ae080b6",
        "colab": {
          "base_uri": "https://localhost:8080/",
          "height": 163
        }
      },
      "source": [
        "print('\\033[1m'+'Clustering metrics - unsupervised'+'\\033[0m')\n",
        "print('Silhouette: ',metrics.silhouette_score(dfsc1, labelspp3, metric='euclidean'))\n",
        "print('Davies-Bouldin Index: ',metrics.davies_bouldin_score(dfsc1, labelspp3))\n",
        "print('Calinski-Harabasz Index: ',metrics.calinski_harabaz_score(dfsc1, labelspp3))"
      ],
      "execution_count": 0,
      "outputs": [
        {
          "output_type": "stream",
          "text": [
            "\u001b[1mClustering metrics - unsupervised\u001b[0m\n",
            "Silhouette:  0.4288065096810151\n",
            "Davies-Bouldin Index:  0.9334207124790502\n",
            "Calinski-Harabasz Index:  10289.228441627212\n",
            "time: 18.6 s\n"
          ],
          "name": "stdout"
        },
        {
          "output_type": "stream",
          "text": [
            "/usr/local/lib/python3.6/dist-packages/sklearn/utils/deprecation.py:87: FutureWarning: Function calinski_harabaz_score is deprecated; Function 'calinski_harabaz_score' has been renamed to 'calinski_harabasz_score' and will be removed in version 0.23.\n",
            "  warnings.warn(msg, category=FutureWarning)\n"
          ],
          "name": "stderr"
        }
      ]
    },
    {
      "cell_type": "markdown",
      "metadata": {
        "id": "oxH5PMPIWj1h",
        "colab_type": "text"
      },
      "source": [
        "## Hyperparameter analysis: n_init"
      ]
    },
    {
      "cell_type": "markdown",
      "metadata": {
        "id": "IVIP8s4vWj1h",
        "colab_type": "text"
      },
      "source": [
        "### 3 scenarios: 100, 300 and 500"
      ]
    },
    {
      "cell_type": "markdown",
      "metadata": {
        "id": "Lfyuwl-gWj1i",
        "colab_type": "text"
      },
      "source": [
        "### 01 - n_init = 100"
      ]
    },
    {
      "cell_type": "code",
      "metadata": {
        "id": "IolqyukWWj1i",
        "colab_type": "code",
        "outputId": "6eba1124-503d-4071-fa8f-4527f4d811cb",
        "colab": {
          "base_uri": "https://localhost:8080/",
          "height": 35
        }
      },
      "source": [
        "kmeansc1pp3hyp1_01 = KMeans(n_clusters=3, random_state=42, n_init=100).fit(dfsc1)"
      ],
      "execution_count": 0,
      "outputs": [
        {
          "output_type": "stream",
          "text": [
            "time: 5.91 s\n"
          ],
          "name": "stdout"
        }
      ]
    },
    {
      "cell_type": "code",
      "metadata": {
        "id": "m9apDzgRWj1l",
        "colab_type": "code",
        "outputId": "dabd36c2-8948-4b0c-c26a-23cdd215fd94",
        "colab": {
          "base_uri": "https://localhost:8080/",
          "height": 35
        }
      },
      "source": [
        "kmeansc1pp3hyp1_01.labels_"
      ],
      "execution_count": 0,
      "outputs": [
        {
          "output_type": "execute_result",
          "data": {
            "text/plain": [
              "array([0, 0, 0, ..., 2, 2, 2], dtype=int32)"
            ]
          },
          "metadata": {
            "tags": []
          },
          "execution_count": 73
        },
        {
          "output_type": "stream",
          "text": [
            "time: 4.42 ms\n"
          ],
          "name": "stdout"
        }
      ]
    },
    {
      "cell_type": "code",
      "metadata": {
        "id": "9UQne1RWWj1p",
        "colab_type": "code",
        "outputId": "870228bd-47d0-4757-daba-e9bc03fa62d1",
        "colab": {
          "base_uri": "https://localhost:8080/",
          "height": 35
        }
      },
      "source": [
        "sc1pp3labelshyp1_01 = pd.Series(kmeansc1pp3hyp1_01.labels_)"
      ],
      "execution_count": 0,
      "outputs": [
        {
          "output_type": "stream",
          "text": [
            "time: 4.31 ms\n"
          ],
          "name": "stdout"
        }
      ]
    },
    {
      "cell_type": "code",
      "metadata": {
        "id": "PdzsSoVRWj1r",
        "colab_type": "code",
        "outputId": "7426f0ba-15cf-45eb-de15-46aa89b7697e",
        "colab": {
          "base_uri": "https://localhost:8080/",
          "height": 89
        }
      },
      "source": [
        "sc1pp3labelshyp1_01.value_counts()"
      ],
      "execution_count": 0,
      "outputs": [
        {
          "output_type": "execute_result",
          "data": {
            "text/plain": [
              "0    23813\n",
              "2    12288\n",
              "1      250\n",
              "dtype: int64"
            ]
          },
          "metadata": {
            "tags": []
          },
          "execution_count": 75
        },
        {
          "output_type": "stream",
          "text": [
            "time: 13.6 ms\n"
          ],
          "name": "stdout"
        }
      ]
    },
    {
      "cell_type": "code",
      "metadata": {
        "id": "tTVXVNBTWj1t",
        "colab_type": "code",
        "outputId": "0992f828-8e36-45b9-9807-9bf498f873c9",
        "colab": {
          "base_uri": "https://localhost:8080/",
          "height": 35
        }
      },
      "source": [
        "cmpp3hyp1_01 = confusion_matrix(target_system.System, sc1pp3labelshyp1_01)"
      ],
      "execution_count": 0,
      "outputs": [
        {
          "output_type": "stream",
          "text": [
            "time: 44.1 ms\n"
          ],
          "name": "stdout"
        }
      ]
    },
    {
      "cell_type": "code",
      "metadata": {
        "id": "humYoRPgWj1v",
        "colab_type": "code",
        "outputId": "94473fc4-91e8-4737-e31d-dffee3a83694",
        "colab": {
          "base_uri": "https://localhost:8080/",
          "height": 89
        }
      },
      "source": [
        "cmpp3hyp1_01"
      ],
      "execution_count": 0,
      "outputs": [
        {
          "output_type": "execute_result",
          "data": {
            "text/plain": [
              "array([[    0,     0,     0,     0],\n",
              "       [  671,     0,     0,     0],\n",
              "       [20527,     0,     0,     0],\n",
              "       [ 2615,   250, 12288,     0]])"
            ]
          },
          "metadata": {
            "tags": []
          },
          "execution_count": 77
        },
        {
          "output_type": "stream",
          "text": [
            "time: 2.94 ms\n"
          ],
          "name": "stdout"
        }
      ]
    },
    {
      "cell_type": "markdown",
      "metadata": {
        "id": "n74OG3DAWj1y",
        "colab_type": "text"
      },
      "source": [
        "## Check correct labels"
      ]
    },
    {
      "cell_type": "code",
      "metadata": {
        "id": "bN6pLZN1Wj1z",
        "colab_type": "code",
        "outputId": "99603f9b-e6fe-4744-fa31-f67a4390ba76",
        "colab": {
          "base_uri": "https://localhost:8080/",
          "height": 321
        }
      },
      "source": [
        "sns.heatmap(cmpp3hyp1_01,annot=True,cmap='coolwarm')\n",
        "plt.xlabel('Predicted')\n",
        "plt.ylabel('True')"
      ],
      "execution_count": 0,
      "outputs": [
        {
          "output_type": "execute_result",
          "data": {
            "text/plain": [
              "Text(30.5, 0.5, 'True')"
            ]
          },
          "metadata": {
            "tags": []
          },
          "execution_count": 78
        },
        {
          "output_type": "display_data",
          "data": {
            "image/png": "[encoded data removed]",
            "text/plain": [
              "<Figure size 432x288 with 2 Axes>"
            ]
          },
          "metadata": {
            "tags": []
          }
        },
        {
          "output_type": "stream",
          "text": [
            "time: 276 ms\n"
          ],
          "name": "stdout"
        }
      ]
    },
    {
      "cell_type": "markdown",
      "metadata": {
        "id": "BOB8GH7GWj14",
        "colab_type": "text"
      },
      "source": [
        "## Change to correct labels"
      ]
    },
    {
      "cell_type": "code",
      "metadata": {
        "id": "7fyPQsG7Wj15",
        "colab_type": "code",
        "outputId": "619e2beb-c8ae-4a4e-9102-d1d5d3ad692c",
        "colab": {
          "base_uri": "https://localhost:8080/",
          "height": 35
        }
      },
      "source": [
        "sc1pp3labelshyp1_01\n",
        "sc1pp3labelshyp1_01[sc1pp3labelshyp1_01 == 0] = 4\n",
        "sc1pp3labelshyp1_01[sc1pp3labelshyp1_01 == 1] = 5\n",
        "sc1pp3labelshyp1_01[sc1pp3labelshyp1_01 == 2] = 6"
      ],
      "execution_count": 0,
      "outputs": [
        {
          "output_type": "stream",
          "text": [
            "time: 11.7 ms\n"
          ],
          "name": "stdout"
        }
      ]
    },
    {
      "cell_type": "code",
      "metadata": {
        "id": "04fQ2CsvWj1_",
        "colab_type": "code",
        "outputId": "a40a23bc-057e-4aa4-e8cf-7c8073a5ba77",
        "colab": {
          "base_uri": "https://localhost:8080/",
          "height": 35
        }
      },
      "source": [
        "sc1pp3labelshyp1_01[sc1pp3labelshyp1_01 == 4] = 2\n",
        "sc1pp3labelshyp1_01[sc1pp3labelshyp1_01 == 5] = 1\n",
        "sc1pp3labelshyp1_01[sc1pp3labelshyp1_01 == 6] = 3"
      ],
      "execution_count": 0,
      "outputs": [
        {
          "output_type": "stream",
          "text": [
            "time: 11.1 ms\n"
          ],
          "name": "stdout"
        }
      ]
    },
    {
      "cell_type": "markdown",
      "metadata": {
        "id": "5J1rsaL3Wj2B",
        "colab_type": "text"
      },
      "source": [
        "## Check heatmap"
      ]
    },
    {
      "cell_type": "code",
      "metadata": {
        "id": "TeC4ndxYWj2C",
        "colab_type": "code",
        "outputId": "1bdfc854-178c-4cb1-e2e3-40d51d5544a3",
        "colab": {
          "base_uri": "https://localhost:8080/",
          "height": 35
        }
      },
      "source": [
        "cmpp3hyp1_01 = confusion_matrix(target_system.System, sc1pp3labelshyp1_01)"
      ],
      "execution_count": 0,
      "outputs": [
        {
          "output_type": "stream",
          "text": [
            "time: 45.8 ms\n"
          ],
          "name": "stdout"
        }
      ]
    },
    {
      "cell_type": "code",
      "metadata": {
        "id": "ZeUCQI7jWj2E",
        "colab_type": "code",
        "outputId": "198fb889-aab4-42bf-c39b-14f0d88656c0",
        "colab": {
          "base_uri": "https://localhost:8080/",
          "height": 71
        }
      },
      "source": [
        "cmpp3hyp1_01"
      ],
      "execution_count": 0,
      "outputs": [
        {
          "output_type": "execute_result",
          "data": {
            "text/plain": [
              "array([[    0,   671,     0],\n",
              "       [    0, 20527,     0],\n",
              "       [  250,  2615, 12288]])"
            ]
          },
          "metadata": {
            "tags": []
          },
          "execution_count": 82
        },
        {
          "output_type": "stream",
          "text": [
            "time: 2.69 ms\n"
          ],
          "name": "stdout"
        }
      ]
    },
    {
      "cell_type": "code",
      "metadata": {
        "id": "wvWv7fgJWj2F",
        "colab_type": "code",
        "outputId": "1c014098-e29e-42b6-9c6a-fc90c33f340e",
        "colab": {
          "base_uri": "https://localhost:8080/",
          "height": 321
        }
      },
      "source": [
        "sns.heatmap(cmpp3hyp1_01,annot=True,cmap='coolwarm')\n",
        "plt.xlabel('Predicted')\n",
        "plt.ylabel('True')"
      ],
      "execution_count": 0,
      "outputs": [
        {
          "output_type": "execute_result",
          "data": {
            "text/plain": [
              "Text(30.5, 0.5, 'True')"
            ]
          },
          "metadata": {
            "tags": []
          },
          "execution_count": 83
        },
        {
          "output_type": "display_data",
          "data": {
            "image/png": "[encoded data removed]",
            "text/plain": [
              "<Figure size 432x288 with 2 Axes>"
            ]
          },
          "metadata": {
            "tags": []
          }
        },
        {
          "output_type": "stream",
          "text": [
            "time: 248 ms\n"
          ],
          "name": "stdout"
        }
      ]
    },
    {
      "cell_type": "code",
      "metadata": {
        "id": "ih2vJdxRWj2K",
        "colab_type": "code",
        "outputId": "ba155711-c890-4972-cf1b-2425948b576d",
        "colab": {
          "base_uri": "https://localhost:8080/",
          "height": 35
        }
      },
      "source": [
        "reportpp3hyp1_01 = classification_report(target_system, sc1pp3labelshyp1_01,output_dict = True)"
      ],
      "execution_count": 0,
      "outputs": [
        {
          "output_type": "stream",
          "text": [
            "time: 45.3 ms\n"
          ],
          "name": "stdout"
        }
      ]
    },
    {
      "cell_type": "code",
      "metadata": {
        "id": "kFIaLMQoWj2M",
        "colab_type": "code",
        "outputId": "7f35d47b-78c9-4034-8608-4d2967ef6886",
        "colab": {
          "base_uri": "https://localhost:8080/",
          "height": 341
        }
      },
      "source": [
        "reportpp3hyp1_01"
      ],
      "execution_count": 0,
      "outputs": [
        {
          "output_type": "execute_result",
          "data": {
            "text/plain": [
              "{'1': {'f1-score': 0.0, 'precision': 0.0, 'recall': 0.0, 'support': 671},\n",
              " '2': {'f1-score': 0.9258908434821831,\n",
              "  'precision': 0.8620081468105657,\n",
              "  'recall': 1.0,\n",
              "  'support': 20527},\n",
              " '3': {'f1-score': 0.895594183885427,\n",
              "  'precision': 1.0,\n",
              "  'recall': 0.8109285290041576,\n",
              "  'support': 15153},\n",
              " 'accuracy': 0.9027261973535804,\n",
              " 'macro avg': {'f1-score': 0.6071616757892033,\n",
              "  'precision': 0.6206693822701886,\n",
              "  'recall': 0.6036428430013858,\n",
              "  'support': 36351},\n",
              " 'weighted avg': {'f1-score': 0.8961706696535073,\n",
              "  'precision': 0.9036186412913119,\n",
              "  'recall': 0.9027261973535804,\n",
              "  'support': 36351}}"
            ]
          },
          "metadata": {
            "tags": []
          },
          "execution_count": 85
        },
        {
          "output_type": "stream",
          "text": [
            "time: 3.23 ms\n"
          ],
          "name": "stdout"
        }
      ]
    },
    {
      "cell_type": "code",
      "metadata": {
        "id": "vUeYdPnTWj2O",
        "colab_type": "code",
        "outputId": "c3af228c-6b14-43e3-b0c3-ba410a54efd8",
        "colab": {
          "base_uri": "https://localhost:8080/",
          "height": 305
        }
      },
      "source": [
        "print(\"Confusion matrix\\n\",metrics.confusion_matrix(y_true=target_system.System,y_pred=sc1pp3labelshyp1_01)) \n",
        "print(\"Classification report\\n\",metrics.classification_report(y_true=target_system.System,y_pred=sc1pp3labelshyp1_01))"
      ],
      "execution_count": 0,
      "outputs": [
        {
          "output_type": "stream",
          "text": [
            "Confusion matrix\n",
            " [[    0   671     0]\n",
            " [    0 20527     0]\n",
            " [  250  2615 12288]]\n",
            "Classification report\n",
            "               precision    recall  f1-score   support\n",
            "\n",
            "           1       0.00      0.00      0.00       671\n",
            "           2       0.86      1.00      0.93     20527\n",
            "           3       1.00      0.81      0.90     15153\n",
            "\n",
            "    accuracy                           0.90     36351\n",
            "   macro avg       0.62      0.60      0.61     36351\n",
            "weighted avg       0.90      0.90      0.90     36351\n",
            "\n",
            "time: 78.1 ms\n"
          ],
          "name": "stdout"
        }
      ]
    },
    {
      "cell_type": "code",
      "metadata": {
        "id": "-SshvHQKWj2S",
        "colab_type": "code",
        "outputId": "1935411c-2914-4176-ade9-beb3492bfd1f",
        "colab": {
          "base_uri": "https://localhost:8080/",
          "height": 323
        }
      },
      "source": [
        "print('\\033[1m'+\"Kmeans++:\"+'\\033[0m')\n",
        "print('\\033[1m'+\"System 1\"+'\\033[0m')\n",
        "print(\"Precision = {0:0.3f}\".format(reportpp3hyp1_01[\"1\"][\"precision\"]))\n",
        "print(\"Recall = {0:0.3f}\".format(reportpp3hyp1_01[\"1\"][\"recall\"]))\n",
        "print(\"F1-score = {0:0.3f}\".format(reportpp3hyp1_01[\"1\"][\"f1-score\"]))\n",
        "print(\"Support = {0:0.3f}\".format(reportpp3hyp1_01[\"1\"][\"support\"]))\n",
        "print('\\033[1m'+\"System 2\"+'\\033[0m')\n",
        "print(\"Precision = {0:0.3f}\".format(reportpp3hyp1_01[\"2\"][\"precision\"]))\n",
        "print(\"Recall = {0:0.3f}\".format(reportpp3hyp1_01[\"2\"][\"recall\"]))\n",
        "print(\"F1-score = {0:0.3f}\".format(reportpp3hyp1_01[\"2\"][\"f1-score\"]))\n",
        "print(\"Support = {0:0.3f}\".format(reportpp3hyp1_01[\"2\"][\"support\"]))\n",
        "print('\\033[1m'+\"System 3\"+'\\033[0m')\n",
        "print(\"Precision = {0:0.3f}\".format(reportpp3hyp1_01[\"3\"][\"precision\"]))\n",
        "print(\"Recall = {0:0.3f}\".format(reportpp3hyp1_01[\"3\"][\"recall\"]))\n",
        "print(\"F1-score = {0:0.3f}\".format(reportpp3hyp1_01[\"3\"][\"f1-score\"]))\n",
        "print(\"Support = {0:0.3f}\".format(reportpp3hyp1_01[\"3\"][\"support\"]))"
      ],
      "execution_count": 0,
      "outputs": [
        {
          "output_type": "stream",
          "text": [
            "\u001b[1mKmeans++:\u001b[0m\n",
            "\u001b[1mSystem 1\u001b[0m\n",
            "Precision = 0.000\n",
            "Recall = 0.000\n",
            "F1-score = 0.000\n",
            "Support = 671.000\n",
            "\u001b[1mSystem 2\u001b[0m\n",
            "Precision = 0.862\n",
            "Recall = 1.000\n",
            "F1-score = 0.926\n",
            "Support = 20527.000\n",
            "\u001b[1mSystem 3\u001b[0m\n",
            "Precision = 1.000\n",
            "Recall = 0.811\n",
            "F1-score = 0.896\n",
            "Support = 15153.000\n",
            "time: 16.6 ms\n"
          ],
          "name": "stdout"
        }
      ]
    },
    {
      "cell_type": "code",
      "metadata": {
        "id": "GmKt9DeaWj2U",
        "colab_type": "code",
        "outputId": "ed3afb33-6eff-4b6d-ae7e-dab1aa3153ce",
        "colab": {
          "base_uri": "https://localhost:8080/",
          "height": 161
        }
      },
      "source": [
        "print('\\033[1m'+'Clustering metrics - supervised'+'\\033[0m')\n",
        "print('Adjusted Rand score: ', metrics.adjusted_rand_score(target_system.System, sc1pp3labelshyp1_01))\n",
        "print('Mutual info score: ', metrics.adjusted_mutual_info_score(target_system.System, sc1pp3labelshyp1_01))\n",
        "print('Homogeneity score: ', metrics.homogeneity_score(target_system.System, sc1pp3labelshyp1_01))\n",
        "print('Completeness score: ', metrics.completeness_score(target_system.System, sc1pp3labelshyp1_01))\n",
        "print('V-measure: ', metrics.v_measure_score(target_system.System, sc1pp3labelshyp1_01))\n",
        "print('Fowlkes-Mallows score: ', metrics.fowlkes_mallows_score(target_system.System, sc1pp3labelshyp1_01))"
      ],
      "execution_count": 0,
      "outputs": [
        {
          "output_type": "stream",
          "text": [
            "\u001b[1mClustering metrics - supervised\u001b[0m\n",
            "Adjusted Rand score:  0.6823361077431518\n",
            "Mutual info score:  0.6288415438002335\n",
            "Homogeneity score:  0.5945082951466247\n",
            "Completeness score:  0.6674481883802669\n",
            "V-measure:  0.6288703132831919\n",
            "Fowlkes-Mallows score:  0.8475658942266868\n",
            "time: 66.7 ms\n"
          ],
          "name": "stdout"
        }
      ]
    },
    {
      "cell_type": "code",
      "metadata": {
        "id": "vUHLT_ojWj2X",
        "colab_type": "code",
        "outputId": "ff2fd973-52e7-486c-df4c-a6221423a9e1",
        "colab": {
          "base_uri": "https://localhost:8080/",
          "height": 163
        }
      },
      "source": [
        "print('\\033[1m'+'Clustering metrics - unsupervised'+'\\033[0m')\n",
        "print('Silhouette: ',metrics.silhouette_score(dfsc1, sc1pp3labelshyp1_01, metric='euclidean'))\n",
        "print('Davies-Bouldin Index: ',metrics.davies_bouldin_score(dfsc1, sc1pp3labelshyp1_01))\n",
        "print('Calinski-Harabasz Index: ',metrics.calinski_harabaz_score(dfsc1, sc1pp3labelshyp1_01))"
      ],
      "execution_count": 0,
      "outputs": [
        {
          "output_type": "stream",
          "text": [
            "\u001b[1mClustering metrics - unsupervised\u001b[0m\n",
            "Silhouette:  0.4288065096810151\n",
            "Davies-Bouldin Index:  0.9334207124790502\n",
            "Calinski-Harabasz Index:  10289.228441627212\n",
            "time: 18.3 s\n"
          ],
          "name": "stdout"
        },
        {
          "output_type": "stream",
          "text": [
            "/usr/local/lib/python3.6/dist-packages/sklearn/utils/deprecation.py:87: FutureWarning: Function calinski_harabaz_score is deprecated; Function 'calinski_harabaz_score' has been renamed to 'calinski_harabasz_score' and will be removed in version 0.23.\n",
            "  warnings.warn(msg, category=FutureWarning)\n"
          ],
          "name": "stderr"
        }
      ]
    },
    {
      "cell_type": "markdown",
      "metadata": {
        "id": "FNIGm5NVWj2b",
        "colab_type": "text"
      },
      "source": [
        "### 02 - n_init = 300"
      ]
    },
    {
      "cell_type": "code",
      "metadata": {
        "id": "BfNZUAWDWj2c",
        "colab_type": "code",
        "outputId": "482cc665-8a31-4fe4-d723-36d9e9e85baa",
        "colab": {
          "base_uri": "https://localhost:8080/",
          "height": 35
        }
      },
      "source": [
        "kmeansc1pp3hyp1_02 = KMeans(n_clusters=3, random_state=42, n_init=300).fit(dfsc1)"
      ],
      "execution_count": 0,
      "outputs": [
        {
          "output_type": "stream",
          "text": [
            "time: 16.9 s\n"
          ],
          "name": "stdout"
        }
      ]
    },
    {
      "cell_type": "code",
      "metadata": {
        "id": "yR2_-AZHWj2e",
        "colab_type": "code",
        "outputId": "14652fd1-6932-4381-9604-ae1693b93a06",
        "colab": {
          "base_uri": "https://localhost:8080/",
          "height": 35
        }
      },
      "source": [
        "kmeansc1pp3hyp1_02.labels_"
      ],
      "execution_count": 0,
      "outputs": [
        {
          "output_type": "execute_result",
          "data": {
            "text/plain": [
              "array([0, 0, 0, ..., 2, 2, 2], dtype=int32)"
            ]
          },
          "metadata": {
            "tags": []
          },
          "execution_count": 91
        },
        {
          "output_type": "stream",
          "text": [
            "time: 5.51 ms\n"
          ],
          "name": "stdout"
        }
      ]
    },
    {
      "cell_type": "code",
      "metadata": {
        "id": "279bPgQFWj2h",
        "colab_type": "code",
        "outputId": "fe827b22-283a-4ec6-94bc-ce01f0fb9a62",
        "colab": {
          "base_uri": "https://localhost:8080/",
          "height": 35
        }
      },
      "source": [
        "sc1pp3labelshyp1_02 = pd.Series(kmeansc1pp3hyp1_02.labels_)"
      ],
      "execution_count": 0,
      "outputs": [
        {
          "output_type": "stream",
          "text": [
            "time: 1.42 ms\n"
          ],
          "name": "stdout"
        }
      ]
    },
    {
      "cell_type": "code",
      "metadata": {
        "id": "MNggTpT_Wj2l",
        "colab_type": "code",
        "outputId": "61f02e6a-f89a-4419-904b-7245cda729c6",
        "colab": {
          "base_uri": "https://localhost:8080/",
          "height": 89
        }
      },
      "source": [
        "sc1pp3labelshyp1_02.value_counts()"
      ],
      "execution_count": 0,
      "outputs": [
        {
          "output_type": "execute_result",
          "data": {
            "text/plain": [
              "0    23813\n",
              "2    12288\n",
              "1      250\n",
              "dtype: int64"
            ]
          },
          "metadata": {
            "tags": []
          },
          "execution_count": 93
        },
        {
          "output_type": "stream",
          "text": [
            "time: 9.63 ms\n"
          ],
          "name": "stdout"
        }
      ]
    },
    {
      "cell_type": "code",
      "metadata": {
        "id": "HuwiZG8WWj2n",
        "colab_type": "code",
        "outputId": "4bf7837f-2e79-49dd-be3f-1b2bd9eb270f",
        "colab": {
          "base_uri": "https://localhost:8080/",
          "height": 35
        }
      },
      "source": [
        "cmpp3hyp1_02 = confusion_matrix(target_system.System, sc1pp3labelshyp1_02)"
      ],
      "execution_count": 0,
      "outputs": [
        {
          "output_type": "stream",
          "text": [
            "time: 38.5 ms\n"
          ],
          "name": "stdout"
        }
      ]
    },
    {
      "cell_type": "code",
      "metadata": {
        "id": "LkgwifsQWj2o",
        "colab_type": "code",
        "outputId": "1b1bdfc5-dc9c-4506-93a8-c0eff89b8aed",
        "colab": {
          "base_uri": "https://localhost:8080/",
          "height": 89
        }
      },
      "source": [
        "cmpp3hyp1_02"
      ],
      "execution_count": 0,
      "outputs": [
        {
          "output_type": "execute_result",
          "data": {
            "text/plain": [
              "array([[    0,     0,     0,     0],\n",
              "       [  671,     0,     0,     0],\n",
              "       [20527,     0,     0,     0],\n",
              "       [ 2615,   250, 12288,     0]])"
            ]
          },
          "metadata": {
            "tags": []
          },
          "execution_count": 95
        },
        {
          "output_type": "stream",
          "text": [
            "time: 6.26 ms\n"
          ],
          "name": "stdout"
        }
      ]
    },
    {
      "cell_type": "markdown",
      "metadata": {
        "id": "jPnsle5UWj2p",
        "colab_type": "text"
      },
      "source": [
        "## Check correct labels"
      ]
    },
    {
      "cell_type": "code",
      "metadata": {
        "id": "0TrftLOJWj2q",
        "colab_type": "code",
        "outputId": "23294e57-fa71-449a-bc57-6b6fc05716cf",
        "colab": {
          "base_uri": "https://localhost:8080/",
          "height": 321
        }
      },
      "source": [
        "sns.heatmap(cmpp3hyp1_02,annot=True,cmap='coolwarm')\n",
        "plt.xlabel('Predicted')\n",
        "plt.ylabel('True')"
      ],
      "execution_count": 0,
      "outputs": [
        {
          "output_type": "execute_result",
          "data": {
            "text/plain": [
              "Text(30.5, 0.5, 'True')"
            ]
          },
          "metadata": {
            "tags": []
          },
          "execution_count": 96
        },
        {
          "output_type": "display_data",
          "data": {
            "image/png": "[encoded data removed]",
            "text/plain": [
              "<Figure size 432x288 with 2 Axes>"
            ]
          },
          "metadata": {
            "tags": []
          }
        },
        {
          "output_type": "stream",
          "text": [
            "time: 272 ms\n"
          ],
          "name": "stdout"
        }
      ]
    },
    {
      "cell_type": "markdown",
      "metadata": {
        "id": "excSc2aBWj2r",
        "colab_type": "text"
      },
      "source": [
        "## Change to correct labels"
      ]
    },
    {
      "cell_type": "code",
      "metadata": {
        "id": "kJw1IffUWj2r",
        "colab_type": "code",
        "outputId": "a9364605-277e-4915-d243-7147d317a4d8",
        "colab": {
          "base_uri": "https://localhost:8080/",
          "height": 35
        }
      },
      "source": [
        "sc1pp3labelshyp1_02\n",
        "sc1pp3labelshyp1_02[sc1pp3labelshyp1_02 == 0] = 4\n",
        "sc1pp3labelshyp1_02[sc1pp3labelshyp1_02 == 1] = 5\n",
        "sc1pp3labelshyp1_02[sc1pp3labelshyp1_02 == 2] = 6"
      ],
      "execution_count": 0,
      "outputs": [
        {
          "output_type": "stream",
          "text": [
            "time: 14.4 ms\n"
          ],
          "name": "stdout"
        }
      ]
    },
    {
      "cell_type": "code",
      "metadata": {
        "id": "tGNBXYMlWj2s",
        "colab_type": "code",
        "outputId": "af30ec86-3e22-43c1-c78a-e9a656fe6a6d",
        "colab": {
          "base_uri": "https://localhost:8080/",
          "height": 35
        }
      },
      "source": [
        "sc1pp3labelshyp1_02[sc1pp3labelshyp1_02 == 4] = 2\n",
        "sc1pp3labelshyp1_02[sc1pp3labelshyp1_02 == 5] = 1\n",
        "sc1pp3labelshyp1_02[sc1pp3labelshyp1_02 == 6] = 3"
      ],
      "execution_count": 0,
      "outputs": [
        {
          "output_type": "stream",
          "text": [
            "time: 12.6 ms\n"
          ],
          "name": "stdout"
        }
      ]
    },
    {
      "cell_type": "markdown",
      "metadata": {
        "id": "bFmuN7p8Wj2t",
        "colab_type": "text"
      },
      "source": [
        "## Check heatmap"
      ]
    },
    {
      "cell_type": "code",
      "metadata": {
        "id": "aEIXUuiFWj2u",
        "colab_type": "code",
        "outputId": "e7c0273e-f816-4add-fd3b-c636a56c6fb7",
        "colab": {
          "base_uri": "https://localhost:8080/",
          "height": 35
        }
      },
      "source": [
        "cmpp3hyp1_02 = confusion_matrix(target_system.System, sc1pp3labelshyp1_02)"
      ],
      "execution_count": 0,
      "outputs": [
        {
          "output_type": "stream",
          "text": [
            "time: 36.6 ms\n"
          ],
          "name": "stdout"
        }
      ]
    },
    {
      "cell_type": "code",
      "metadata": {
        "id": "2t2pn9pJWj2v",
        "colab_type": "code",
        "outputId": "e1371dcd-833b-4fd0-81f5-39c7be81b793",
        "colab": {
          "base_uri": "https://localhost:8080/",
          "height": 71
        }
      },
      "source": [
        "cmpp3hyp1_02"
      ],
      "execution_count": 0,
      "outputs": [
        {
          "output_type": "execute_result",
          "data": {
            "text/plain": [
              "array([[    0,   671,     0],\n",
              "       [    0, 20527,     0],\n",
              "       [  250,  2615, 12288]])"
            ]
          },
          "metadata": {
            "tags": []
          },
          "execution_count": 100
        },
        {
          "output_type": "stream",
          "text": [
            "time: 3.56 ms\n"
          ],
          "name": "stdout"
        }
      ]
    },
    {
      "cell_type": "code",
      "metadata": {
        "id": "xG-NFxPNWj2x",
        "colab_type": "code",
        "outputId": "14c0564d-864b-450a-8fd4-deb7c6449bc6",
        "colab": {
          "base_uri": "https://localhost:8080/",
          "height": 321
        }
      },
      "source": [
        "sns.heatmap(cmpp3hyp1_02,annot=True,cmap='coolwarm')\n",
        "plt.xlabel('Predicted')\n",
        "plt.ylabel('True')"
      ],
      "execution_count": 0,
      "outputs": [
        {
          "output_type": "execute_result",
          "data": {
            "text/plain": [
              "Text(30.5, 0.5, 'True')"
            ]
          },
          "metadata": {
            "tags": []
          },
          "execution_count": 101
        },
        {
          "output_type": "display_data",
          "data": {
            "image/png": "[encoded data removed]",
            "text/plain": [
              "<Figure size 432x288 with 2 Axes>"
            ]
          },
          "metadata": {
            "tags": []
          }
        },
        {
          "output_type": "stream",
          "text": [
            "time: 259 ms\n"
          ],
          "name": "stdout"
        }
      ]
    },
    {
      "cell_type": "code",
      "metadata": {
        "id": "Lrvx03V3Wj2z",
        "colab_type": "code",
        "outputId": "b18024bc-0973-4ec9-b413-63a50708e821",
        "colab": {
          "base_uri": "https://localhost:8080/",
          "height": 35
        }
      },
      "source": [
        "reportpp3hyp1_02 = classification_report(target_system, sc1pp3labelshyp1_02,output_dict = True)"
      ],
      "execution_count": 0,
      "outputs": [
        {
          "output_type": "stream",
          "text": [
            "time: 46.1 ms\n"
          ],
          "name": "stdout"
        }
      ]
    },
    {
      "cell_type": "code",
      "metadata": {
        "id": "uW_UueY3Wj20",
        "colab_type": "code",
        "outputId": "ce17b9da-8e03-4116-f7ff-06336c75796b",
        "colab": {
          "base_uri": "https://localhost:8080/",
          "height": 341
        }
      },
      "source": [
        "reportpp3hyp1_02"
      ],
      "execution_count": 0,
      "outputs": [
        {
          "output_type": "execute_result",
          "data": {
            "text/plain": [
              "{'1': {'f1-score': 0.0, 'precision': 0.0, 'recall': 0.0, 'support': 671},\n",
              " '2': {'f1-score': 0.9258908434821831,\n",
              "  'precision': 0.8620081468105657,\n",
              "  'recall': 1.0,\n",
              "  'support': 20527},\n",
              " '3': {'f1-score': 0.895594183885427,\n",
              "  'precision': 1.0,\n",
              "  'recall': 0.8109285290041576,\n",
              "  'support': 15153},\n",
              " 'accuracy': 0.9027261973535804,\n",
              " 'macro avg': {'f1-score': 0.6071616757892033,\n",
              "  'precision': 0.6206693822701886,\n",
              "  'recall': 0.6036428430013858,\n",
              "  'support': 36351},\n",
              " 'weighted avg': {'f1-score': 0.8961706696535073,\n",
              "  'precision': 0.9036186412913119,\n",
              "  'recall': 0.9027261973535804,\n",
              "  'support': 36351}}"
            ]
          },
          "metadata": {
            "tags": []
          },
          "execution_count": 103
        },
        {
          "output_type": "stream",
          "text": [
            "time: 4.73 ms\n"
          ],
          "name": "stdout"
        }
      ]
    },
    {
      "cell_type": "code",
      "metadata": {
        "id": "sLyExM7WWj21",
        "colab_type": "code",
        "outputId": "ca20f2f6-9217-4c40-9912-59ff7e399335",
        "colab": {
          "base_uri": "https://localhost:8080/",
          "height": 305
        }
      },
      "source": [
        "print(\"Confusion matrix\\n\",metrics.confusion_matrix(y_true=target_system.System,y_pred=sc1pp3labelshyp1_02)) \n",
        "print(\"Classification report\\n\",metrics.classification_report(y_true=target_system.System,y_pred=sc1pp3labelshyp1_02))"
      ],
      "execution_count": 0,
      "outputs": [
        {
          "output_type": "stream",
          "text": [
            "Confusion matrix\n",
            " [[    0   671     0]\n",
            " [    0 20527     0]\n",
            " [  250  2615 12288]]\n",
            "Classification report\n",
            "               precision    recall  f1-score   support\n",
            "\n",
            "           1       0.00      0.00      0.00       671\n",
            "           2       0.86      1.00      0.93     20527\n",
            "           3       1.00      0.81      0.90     15153\n",
            "\n",
            "    accuracy                           0.90     36351\n",
            "   macro avg       0.62      0.60      0.61     36351\n",
            "weighted avg       0.90      0.90      0.90     36351\n",
            "\n",
            "time: 80.5 ms\n"
          ],
          "name": "stdout"
        }
      ]
    },
    {
      "cell_type": "code",
      "metadata": {
        "id": "-O6Yy4LyWj22",
        "colab_type": "code",
        "outputId": "8b710788-a2ea-43b4-d9a4-fbfbb7ec4401",
        "colab": {
          "base_uri": "https://localhost:8080/",
          "height": 323
        }
      },
      "source": [
        "print('\\033[1m'+\"Kmeans++:\"+'\\033[0m')\n",
        "print('\\033[1m'+\"System 1\"+'\\033[0m')\n",
        "print(\"Precision = {0:0.3f}\".format(reportpp3hyp1_02[\"1\"][\"precision\"]))\n",
        "print(\"Recall = {0:0.3f}\".format(reportpp3hyp1_02[\"1\"][\"recall\"]))\n",
        "print(\"F1-score = {0:0.3f}\".format(reportpp3hyp1_02[\"1\"][\"f1-score\"]))\n",
        "print(\"Support = {0:0.3f}\".format(reportpp3hyp1_02[\"1\"][\"support\"]))\n",
        "print('\\033[1m'+\"System 2\"+'\\033[0m')\n",
        "print(\"Precision = {0:0.3f}\".format(reportpp3hyp1_02[\"2\"][\"precision\"]))\n",
        "print(\"Recall = {0:0.3f}\".format(reportpp3hyp1_02[\"2\"][\"recall\"]))\n",
        "print(\"F1-score = {0:0.3f}\".format(reportpp3hyp1_02[\"2\"][\"f1-score\"]))\n",
        "print(\"Support = {0:0.3f}\".format(reportpp3hyp1_02[\"2\"][\"support\"]))\n",
        "print('\\033[1m'+\"System 3\"+'\\033[0m')\n",
        "print(\"Precision = {0:0.3f}\".format(reportpp3hyp1_02[\"3\"][\"precision\"]))\n",
        "print(\"Recall = {0:0.3f}\".format(reportpp3hyp1_02[\"3\"][\"recall\"]))\n",
        "print(\"F1-score = {0:0.3f}\".format(reportpp3hyp1_02[\"3\"][\"f1-score\"]))\n",
        "print(\"Support = {0:0.3f}\".format(reportpp3hyp1_02[\"3\"][\"support\"]))"
      ],
      "execution_count": 0,
      "outputs": [
        {
          "output_type": "stream",
          "text": [
            "\u001b[1mKmeans++:\u001b[0m\n",
            "\u001b[1mSystem 1\u001b[0m\n",
            "Precision = 0.000\n",
            "Recall = 0.000\n",
            "F1-score = 0.000\n",
            "Support = 671.000\n",
            "\u001b[1mSystem 2\u001b[0m\n",
            "Precision = 0.862\n",
            "Recall = 1.000\n",
            "F1-score = 0.926\n",
            "Support = 20527.000\n",
            "\u001b[1mSystem 3\u001b[0m\n",
            "Precision = 1.000\n",
            "Recall = 0.811\n",
            "F1-score = 0.896\n",
            "Support = 15153.000\n",
            "time: 16.1 ms\n"
          ],
          "name": "stdout"
        }
      ]
    },
    {
      "cell_type": "code",
      "metadata": {
        "id": "TIL8Kg4LWj23",
        "colab_type": "code",
        "outputId": "76593609-ebbd-4929-ac5f-fd7a362f7b1a",
        "colab": {
          "base_uri": "https://localhost:8080/",
          "height": 161
        }
      },
      "source": [
        "print('\\033[1m'+'Clustering metrics - supervised'+'\\033[0m')\n",
        "print('Adjusted Rand score: ', metrics.adjusted_rand_score(target_system.System, sc1pp3labelshyp1_02))\n",
        "print('Mutual info score: ', metrics.adjusted_mutual_info_score(target_system.System, sc1pp3labelshyp1_02))\n",
        "print('Homogeneity score: ', metrics.homogeneity_score(target_system.System, sc1pp3labelshyp1_02))\n",
        "print('Completeness score: ', metrics.completeness_score(target_system.System, sc1pp3labelshyp1_02))\n",
        "print('V-measure: ', metrics.v_measure_score(target_system.System, sc1pp3labelshyp1_02))\n",
        "print('Fowlkes-Mallows score: ', metrics.fowlkes_mallows_score(target_system.System, sc1pp3labelshyp1_02))"
      ],
      "execution_count": 0,
      "outputs": [
        {
          "output_type": "stream",
          "text": [
            "\u001b[1mClustering metrics - supervised\u001b[0m\n",
            "Adjusted Rand score:  0.6823361077431518\n",
            "Mutual info score:  0.6288415438002335\n",
            "Homogeneity score:  0.5945082951466247\n",
            "Completeness score:  0.6674481883802669\n",
            "V-measure:  0.6288703132831919\n",
            "Fowlkes-Mallows score:  0.8475658942266868\n",
            "time: 65.8 ms\n"
          ],
          "name": "stdout"
        }
      ]
    },
    {
      "cell_type": "code",
      "metadata": {
        "id": "5Xg-bPcaWj24",
        "colab_type": "code",
        "outputId": "7a0a3032-13df-46e2-c9b1-26133784458a",
        "colab": {
          "base_uri": "https://localhost:8080/",
          "height": 163
        }
      },
      "source": [
        "print('\\033[1m'+'Clustering metrics - unsupervised'+'\\033[0m')\n",
        "print('Silhouette: ',metrics.silhouette_score(dfsc1, sc1pp3labelshyp1_02, metric='euclidean'))\n",
        "print('Davies-Bouldin Index: ',metrics.davies_bouldin_score(dfsc1, sc1pp3labelshyp1_02))\n",
        "print('Calinski-Harabasz Index: ',metrics.calinski_harabaz_score(dfsc1, sc1pp3labelshyp1_02))"
      ],
      "execution_count": 0,
      "outputs": [
        {
          "output_type": "stream",
          "text": [
            "\u001b[1mClustering metrics - unsupervised\u001b[0m\n",
            "Silhouette:  0.4288065096810151\n",
            "Davies-Bouldin Index:  0.9334207124790502\n",
            "Calinski-Harabasz Index:  10289.228441627212\n",
            "time: 18.4 s\n"
          ],
          "name": "stdout"
        },
        {
          "output_type": "stream",
          "text": [
            "/usr/local/lib/python3.6/dist-packages/sklearn/utils/deprecation.py:87: FutureWarning: Function calinski_harabaz_score is deprecated; Function 'calinski_harabaz_score' has been renamed to 'calinski_harabasz_score' and will be removed in version 0.23.\n",
            "  warnings.warn(msg, category=FutureWarning)\n"
          ],
          "name": "stderr"
        }
      ]
    },
    {
      "cell_type": "markdown",
      "metadata": {
        "id": "WKZm1ffuWj27",
        "colab_type": "text"
      },
      "source": [
        "### 03 - n_init = 500"
      ]
    },
    {
      "cell_type": "code",
      "metadata": {
        "id": "mQFc9-CUWj27",
        "colab_type": "code",
        "outputId": "31752a1c-7e7e-4eeb-f7a0-950556fecd14",
        "colab": {
          "base_uri": "https://localhost:8080/",
          "height": 35
        }
      },
      "source": [
        "kmeansc1pp3hyp1_03 = KMeans(n_clusters=3, random_state=42, n_init=500).fit(dfsc1)"
      ],
      "execution_count": 0,
      "outputs": [
        {
          "output_type": "stream",
          "text": [
            "time: 28.2 s\n"
          ],
          "name": "stdout"
        }
      ]
    },
    {
      "cell_type": "code",
      "metadata": {
        "id": "kpY0erBuWj2_",
        "colab_type": "code",
        "outputId": "476b666a-4bf4-4772-b949-675a4da3fefe",
        "colab": {
          "base_uri": "https://localhost:8080/",
          "height": 35
        }
      },
      "source": [
        "kmeansc1pp3hyp1_03.labels_"
      ],
      "execution_count": 0,
      "outputs": [
        {
          "output_type": "execute_result",
          "data": {
            "text/plain": [
              "array([0, 0, 0, ..., 2, 2, 2], dtype=int32)"
            ]
          },
          "metadata": {
            "tags": []
          },
          "execution_count": 109
        },
        {
          "output_type": "stream",
          "text": [
            "time: 5.67 ms\n"
          ],
          "name": "stdout"
        }
      ]
    },
    {
      "cell_type": "code",
      "metadata": {
        "id": "AwXXFKcMWj3B",
        "colab_type": "code",
        "outputId": "004ecd02-a967-4bee-ca7a-1e50cb515dcd",
        "colab": {
          "base_uri": "https://localhost:8080/",
          "height": 35
        }
      },
      "source": [
        "sc1pp3labelshyp1_03 = pd.Series(kmeansc1pp3hyp1_03.labels_)"
      ],
      "execution_count": 0,
      "outputs": [
        {
          "output_type": "stream",
          "text": [
            "time: 1.42 ms\n"
          ],
          "name": "stdout"
        }
      ]
    },
    {
      "cell_type": "code",
      "metadata": {
        "id": "dyBax0hBWj3F",
        "colab_type": "code",
        "outputId": "f74e459b-0236-43ce-da27-15eb07a57087",
        "colab": {
          "base_uri": "https://localhost:8080/",
          "height": 89
        }
      },
      "source": [
        "sc1pp3labelshyp1_03.value_counts()"
      ],
      "execution_count": 0,
      "outputs": [
        {
          "output_type": "execute_result",
          "data": {
            "text/plain": [
              "0    23813\n",
              "2    12288\n",
              "1      250\n",
              "dtype: int64"
            ]
          },
          "metadata": {
            "tags": []
          },
          "execution_count": 111
        },
        {
          "output_type": "stream",
          "text": [
            "time: 13 ms\n"
          ],
          "name": "stdout"
        }
      ]
    },
    {
      "cell_type": "code",
      "metadata": {
        "id": "HsUfuGR0Wj3J",
        "colab_type": "code",
        "outputId": "38039014-dee5-4c90-8ef9-52777652e18f",
        "colab": {
          "base_uri": "https://localhost:8080/",
          "height": 35
        }
      },
      "source": [
        "cmpp3hyp1_03 = confusion_matrix(target_system.System, sc1pp3labelshyp1_03)"
      ],
      "execution_count": 0,
      "outputs": [
        {
          "output_type": "stream",
          "text": [
            "time: 44.6 ms\n"
          ],
          "name": "stdout"
        }
      ]
    },
    {
      "cell_type": "code",
      "metadata": {
        "id": "W-Ri1mFXWj3N",
        "colab_type": "code",
        "outputId": "3b76541e-6fef-4f95-caca-75cf3712a0f3",
        "colab": {
          "base_uri": "https://localhost:8080/",
          "height": 89
        }
      },
      "source": [
        "cmpp3hyp1_03"
      ],
      "execution_count": 0,
      "outputs": [
        {
          "output_type": "execute_result",
          "data": {
            "text/plain": [
              "array([[    0,     0,     0,     0],\n",
              "       [  671,     0,     0,     0],\n",
              "       [20527,     0,     0,     0],\n",
              "       [ 2615,   250, 12288,     0]])"
            ]
          },
          "metadata": {
            "tags": []
          },
          "execution_count": 113
        },
        {
          "output_type": "stream",
          "text": [
            "time: 4.72 ms\n"
          ],
          "name": "stdout"
        }
      ]
    },
    {
      "cell_type": "markdown",
      "metadata": {
        "id": "YPf4F39wWj3O",
        "colab_type": "text"
      },
      "source": [
        "## Check correct labels"
      ]
    },
    {
      "cell_type": "code",
      "metadata": {
        "id": "IGZj1cFaWj3O",
        "colab_type": "code",
        "outputId": "19f13af9-3e43-4c93-be3f-b265adbc9384",
        "colab": {
          "base_uri": "https://localhost:8080/",
          "height": 321
        }
      },
      "source": [
        "sns.heatmap(cmpp3hyp1_03,annot=True,cmap='coolwarm')\n",
        "plt.xlabel('Predicted')\n",
        "plt.ylabel('True')"
      ],
      "execution_count": 0,
      "outputs": [
        {
          "output_type": "execute_result",
          "data": {
            "text/plain": [
              "Text(30.5, 0.5, 'True')"
            ]
          },
          "metadata": {
            "tags": []
          },
          "execution_count": 114
        },
        {
          "output_type": "display_data",
          "data": {
            "image/png": "[encoded data removed]",
            "text/plain": [
              "<Figure size 432x288 with 2 Axes>"
            ]
          },
          "metadata": {
            "tags": []
          }
        },
        {
          "output_type": "stream",
          "text": [
            "time: 273 ms\n"
          ],
          "name": "stdout"
        }
      ]
    },
    {
      "cell_type": "markdown",
      "metadata": {
        "id": "9r1Ozv13Wj3P",
        "colab_type": "text"
      },
      "source": [
        "## Change to correct labels"
      ]
    },
    {
      "cell_type": "code",
      "metadata": {
        "id": "sLBMpnjCWj3R",
        "colab_type": "code",
        "outputId": "25f97fa6-3973-415c-ec04-39550d1289ab",
        "colab": {
          "base_uri": "https://localhost:8080/",
          "height": 35
        }
      },
      "source": [
        "sc1pp3labelshyp1_03\n",
        "sc1pp3labelshyp1_03[sc1pp3labelshyp1_03 == 0] = 4\n",
        "sc1pp3labelshyp1_03[sc1pp3labelshyp1_03 == 1] = 5\n",
        "sc1pp3labelshyp1_03[sc1pp3labelshyp1_03 == 2] = 6"
      ],
      "execution_count": 0,
      "outputs": [
        {
          "output_type": "stream",
          "text": [
            "time: 11.2 ms\n"
          ],
          "name": "stdout"
        }
      ]
    },
    {
      "cell_type": "code",
      "metadata": {
        "id": "7a_hoetUWj3S",
        "colab_type": "code",
        "outputId": "f9d186b5-f429-4947-cd37-8769a58ac3ad",
        "colab": {
          "base_uri": "https://localhost:8080/",
          "height": 35
        }
      },
      "source": [
        "sc1pp3labelshyp1_03[sc1pp3labelshyp1_03 == 4] = 2\n",
        "sc1pp3labelshyp1_03[sc1pp3labelshyp1_03 == 5] = 1\n",
        "sc1pp3labelshyp1_03[sc1pp3labelshyp1_03 == 6] = 3"
      ],
      "execution_count": 0,
      "outputs": [
        {
          "output_type": "stream",
          "text": [
            "time: 13.2 ms\n"
          ],
          "name": "stdout"
        }
      ]
    },
    {
      "cell_type": "markdown",
      "metadata": {
        "id": "eYyu42eIWj3U",
        "colab_type": "text"
      },
      "source": [
        "## Check heatmap"
      ]
    },
    {
      "cell_type": "code",
      "metadata": {
        "id": "W_voCRnrWj3U",
        "colab_type": "code",
        "outputId": "358b292a-c3b3-43d9-9c07-7bc627470e50",
        "colab": {
          "base_uri": "https://localhost:8080/",
          "height": 35
        }
      },
      "source": [
        "cmpp3hyp1_03 = confusion_matrix(target_system.System, sc1pp3labelshyp1_03)"
      ],
      "execution_count": 0,
      "outputs": [
        {
          "output_type": "stream",
          "text": [
            "time: 41.3 ms\n"
          ],
          "name": "stdout"
        }
      ]
    },
    {
      "cell_type": "code",
      "metadata": {
        "id": "1oc5zs_7Wj3V",
        "colab_type": "code",
        "outputId": "37136d06-75f1-43c8-b710-6e37b207159a",
        "colab": {
          "base_uri": "https://localhost:8080/",
          "height": 71
        }
      },
      "source": [
        "cmpp3hyp1_03"
      ],
      "execution_count": 0,
      "outputs": [
        {
          "output_type": "execute_result",
          "data": {
            "text/plain": [
              "array([[    0,   671,     0],\n",
              "       [    0, 20527,     0],\n",
              "       [  250,  2615, 12288]])"
            ]
          },
          "metadata": {
            "tags": []
          },
          "execution_count": 118
        },
        {
          "output_type": "stream",
          "text": [
            "time: 3.33 ms\n"
          ],
          "name": "stdout"
        }
      ]
    },
    {
      "cell_type": "code",
      "metadata": {
        "scrolled": true,
        "id": "DkljOX51Wj3W",
        "colab_type": "code",
        "outputId": "26ab0897-7de9-4ae4-fcde-c950da210e3c",
        "colab": {
          "base_uri": "https://localhost:8080/",
          "height": 321
        }
      },
      "source": [
        "sns.heatmap(cmpp3hyp1_03,annot=True,cmap='coolwarm')\n",
        "plt.xlabel('Predicted')\n",
        "plt.ylabel('True')"
      ],
      "execution_count": 0,
      "outputs": [
        {
          "output_type": "execute_result",
          "data": {
            "text/plain": [
              "Text(30.5, 0.5, 'True')"
            ]
          },
          "metadata": {
            "tags": []
          },
          "execution_count": 119
        },
        {
          "output_type": "display_data",
          "data": {
            "image/png": "[encoded data removed]",
            "text/plain": [
              "<Figure size 432x288 with 2 Axes>"
            ]
          },
          "metadata": {
            "tags": []
          }
        },
        {
          "output_type": "stream",
          "text": [
            "time: 250 ms\n"
          ],
          "name": "stdout"
        }
      ]
    },
    {
      "cell_type": "code",
      "metadata": {
        "id": "oghc5qr8Wj3X",
        "colab_type": "code",
        "outputId": "0f8a20c5-a306-4e9a-a60a-c2ee690fcc85",
        "colab": {
          "base_uri": "https://localhost:8080/",
          "height": 35
        }
      },
      "source": [
        "reportpp3hyp1_03 = classification_report(target_system, sc1pp3labelshyp1_03,output_dict = True)"
      ],
      "execution_count": 0,
      "outputs": [
        {
          "output_type": "stream",
          "text": [
            "time: 40.6 ms\n"
          ],
          "name": "stdout"
        }
      ]
    },
    {
      "cell_type": "code",
      "metadata": {
        "id": "2xNVkg_AWj3Y",
        "colab_type": "code",
        "outputId": "ecc6a122-c5fa-4f0b-ad2e-9ca8ed12d4f8",
        "colab": {
          "base_uri": "https://localhost:8080/",
          "height": 341
        }
      },
      "source": [
        "reportpp3hyp1_03"
      ],
      "execution_count": 0,
      "outputs": [
        {
          "output_type": "execute_result",
          "data": {
            "text/plain": [
              "{'1': {'f1-score': 0.0, 'precision': 0.0, 'recall': 0.0, 'support': 671},\n",
              " '2': {'f1-score': 0.9258908434821831,\n",
              "  'precision': 0.8620081468105657,\n",
              "  'recall': 1.0,\n",
              "  'support': 20527},\n",
              " '3': {'f1-score': 0.895594183885427,\n",
              "  'precision': 1.0,\n",
              "  'recall': 0.8109285290041576,\n",
              "  'support': 15153},\n",
              " 'accuracy': 0.9027261973535804,\n",
              " 'macro avg': {'f1-score': 0.6071616757892033,\n",
              "  'precision': 0.6206693822701886,\n",
              "  'recall': 0.6036428430013858,\n",
              "  'support': 36351},\n",
              " 'weighted avg': {'f1-score': 0.8961706696535073,\n",
              "  'precision': 0.9036186412913119,\n",
              "  'recall': 0.9027261973535804,\n",
              "  'support': 36351}}"
            ]
          },
          "metadata": {
            "tags": []
          },
          "execution_count": 121
        },
        {
          "output_type": "stream",
          "text": [
            "time: 3.38 ms\n"
          ],
          "name": "stdout"
        }
      ]
    },
    {
      "cell_type": "code",
      "metadata": {
        "id": "7pBMLGa1Wj3Z",
        "colab_type": "code",
        "outputId": "b0889168-7f51-447b-f31c-1ed99e1a0dda",
        "colab": {
          "base_uri": "https://localhost:8080/",
          "height": 305
        }
      },
      "source": [
        "print(\"Confusion matrix\\n\",metrics.confusion_matrix(y_true=target_system.System,y_pred=sc1pp3labelshyp1_03)) \n",
        "print(\"Classification report\\n\",metrics.classification_report(y_true=target_system.System,y_pred=sc1pp3labelshyp1_03)) "
      ],
      "execution_count": 0,
      "outputs": [
        {
          "output_type": "stream",
          "text": [
            "Confusion matrix\n",
            " [[    0   671     0]\n",
            " [    0 20527     0]\n",
            " [  250  2615 12288]]\n",
            "Classification report\n",
            "               precision    recall  f1-score   support\n",
            "\n",
            "           1       0.00      0.00      0.00       671\n",
            "           2       0.86      1.00      0.93     20527\n",
            "           3       1.00      0.81      0.90     15153\n",
            "\n",
            "    accuracy                           0.90     36351\n",
            "   macro avg       0.62      0.60      0.61     36351\n",
            "weighted avg       0.90      0.90      0.90     36351\n",
            "\n",
            "time: 85.8 ms\n"
          ],
          "name": "stdout"
        }
      ]
    },
    {
      "cell_type": "code",
      "metadata": {
        "id": "zasiz4VzWj3a",
        "colab_type": "code",
        "outputId": "12c58db6-34b0-4a68-b9bd-c2cac0bee395",
        "colab": {
          "base_uri": "https://localhost:8080/",
          "height": 323
        }
      },
      "source": [
        "print('\\033[1m'+\"Kmeans++:\"+'\\033[0m')\n",
        "print('\\033[1m'+\"System 1\"+'\\033[0m')\n",
        "print(\"Precision = {0:0.3f}\".format(reportpp3hyp1_03[\"1\"][\"precision\"]))\n",
        "print(\"Recall = {0:0.3f}\".format(reportpp3hyp1_03[\"1\"][\"recall\"]))\n",
        "print(\"F1-score = {0:0.3f}\".format(reportpp3hyp1_03[\"1\"][\"f1-score\"]))\n",
        "print(\"Support = {0:0.3f}\".format(reportpp3hyp1_03[\"1\"][\"support\"]))\n",
        "print('\\033[1m'+\"System 2\"+'\\033[0m')\n",
        "print(\"Precision = {0:0.3f}\".format(reportpp3hyp1_03[\"2\"][\"precision\"]))\n",
        "print(\"Recall = {0:0.3f}\".format(reportpp3hyp1_03[\"2\"][\"recall\"]))\n",
        "print(\"F1-score = {0:0.3f}\".format(reportpp3hyp1_03[\"2\"][\"f1-score\"]))\n",
        "print(\"Support = {0:0.3f}\".format(reportpp3hyp1_03[\"2\"][\"support\"]))\n",
        "print('\\033[1m'+\"System 3\"+'\\033[0m')\n",
        "print(\"Precision = {0:0.3f}\".format(reportpp3hyp1_03[\"3\"][\"precision\"]))\n",
        "print(\"Recall = {0:0.3f}\".format(reportpp3hyp1_03[\"3\"][\"recall\"]))\n",
        "print(\"F1-score = {0:0.3f}\".format(reportpp3hyp1_03[\"3\"][\"f1-score\"]))\n",
        "print(\"Support = {0:0.3f}\".format(reportpp3hyp1_03[\"3\"][\"support\"]))"
      ],
      "execution_count": 0,
      "outputs": [
        {
          "output_type": "stream",
          "text": [
            "\u001b[1mKmeans++:\u001b[0m\n",
            "\u001b[1mSystem 1\u001b[0m\n",
            "Precision = 0.000\n",
            "Recall = 0.000\n",
            "F1-score = 0.000\n",
            "Support = 671.000\n",
            "\u001b[1mSystem 2\u001b[0m\n",
            "Precision = 0.862\n",
            "Recall = 1.000\n",
            "F1-score = 0.926\n",
            "Support = 20527.000\n",
            "\u001b[1mSystem 3\u001b[0m\n",
            "Precision = 1.000\n",
            "Recall = 0.811\n",
            "F1-score = 0.896\n",
            "Support = 15153.000\n",
            "time: 13.1 ms\n"
          ],
          "name": "stdout"
        }
      ]
    },
    {
      "cell_type": "code",
      "metadata": {
        "id": "yCQMhZpuWj3b",
        "colab_type": "code",
        "outputId": "74539c2d-136e-4fd7-9e3c-55a367c72414",
        "colab": {
          "base_uri": "https://localhost:8080/",
          "height": 161
        }
      },
      "source": [
        "print('\\033[1m'+'Clustering metrics - supervised'+'\\033[0m')\n",
        "print('Adjusted Rand score: ', metrics.adjusted_rand_score(target_system.System, sc1pp3labelshyp1_03))\n",
        "print('Mutual info score: ', metrics.adjusted_mutual_info_score(target_system.System, sc1pp3labelshyp1_03))\n",
        "print('Homogeneity score: ', metrics.homogeneity_score(target_system.System, sc1pp3labelshyp1_03))\n",
        "print('Completeness score: ', metrics.completeness_score(target_system.System, sc1pp3labelshyp1_03))\n",
        "print('V-measure: ', metrics.v_measure_score(target_system.System, sc1pp3labelshyp1_03))\n",
        "print('Fowlkes-Mallows score: ', metrics.fowlkes_mallows_score(target_system.System, sc1pp3labelshyp1_03))"
      ],
      "execution_count": 0,
      "outputs": [
        {
          "output_type": "stream",
          "text": [
            "\u001b[1mClustering metrics - supervised\u001b[0m\n",
            "Adjusted Rand score:  0.6823361077431518\n",
            "Mutual info score:  0.6288415438002335\n",
            "Homogeneity score:  0.5945082951466247\n",
            "Completeness score:  0.6674481883802669\n",
            "V-measure:  0.6288703132831919\n",
            "Fowlkes-Mallows score:  0.8475658942266868\n",
            "time: 70.4 ms\n"
          ],
          "name": "stdout"
        }
      ]
    },
    {
      "cell_type": "code",
      "metadata": {
        "id": "Aarn_hp3Wj3d",
        "colab_type": "code",
        "outputId": "a24ce894-4d15-4b96-9de1-856f651a3c6c",
        "colab": {
          "base_uri": "https://localhost:8080/",
          "height": 163
        }
      },
      "source": [
        "print('\\033[1m'+'Clustering metrics - unsupervised'+'\\033[0m')\n",
        "print('Silhouette: ',metrics.silhouette_score(dfsc1, sc1pp3labelshyp1_03, metric='euclidean'))\n",
        "print('Davies-Bouldin Index: ',metrics.davies_bouldin_score(dfsc1, sc1pp3labelshyp1_03))\n",
        "print('Calinski-Harabasz Index: ',metrics.calinski_harabaz_score(dfsc1, sc1pp3labelshyp1_03))"
      ],
      "execution_count": 0,
      "outputs": [
        {
          "output_type": "stream",
          "text": [
            "\u001b[1mClustering metrics - unsupervised\u001b[0m\n",
            "Silhouette:  0.4288065096810151\n",
            "Davies-Bouldin Index:  0.9334207124790502\n",
            "Calinski-Harabasz Index:  10289.228441627212\n",
            "time: 18.4 s\n"
          ],
          "name": "stdout"
        },
        {
          "output_type": "stream",
          "text": [
            "/usr/local/lib/python3.6/dist-packages/sklearn/utils/deprecation.py:87: FutureWarning: Function calinski_harabaz_score is deprecated; Function 'calinski_harabaz_score' has been renamed to 'calinski_harabasz_score' and will be removed in version 0.23.\n",
            "  warnings.warn(msg, category=FutureWarning)\n"
          ],
          "name": "stderr"
        }
      ]
    },
    {
      "cell_type": "markdown",
      "metadata": {
        "id": "RsNDu3n4Wj3e",
        "colab_type": "text"
      },
      "source": [
        "## Hyperparameter analysis: max_iter"
      ]
    },
    {
      "cell_type": "markdown",
      "metadata": {
        "id": "Il_B6-Q_Wj3f",
        "colab_type": "text"
      },
      "source": [
        "### 3 scenarios: 100, 300 and 500"
      ]
    },
    {
      "cell_type": "markdown",
      "metadata": {
        "id": "_AZlw7lCWj3f",
        "colab_type": "text"
      },
      "source": [
        "### 01 - max_iter = 100"
      ]
    },
    {
      "cell_type": "code",
      "metadata": {
        "id": "h4E5l54WWj3f",
        "colab_type": "code",
        "outputId": "2671bb2d-cce3-4484-aa4e-e06a3d0cae15",
        "colab": {
          "base_uri": "https://localhost:8080/",
          "height": 35
        }
      },
      "source": [
        "kmeansc1pp3hyp2_01 = KMeans(n_clusters=3, random_state=42, max_iter=100).fit(dfsc1)"
      ],
      "execution_count": 0,
      "outputs": [
        {
          "output_type": "stream",
          "text": [
            "time: 513 ms\n"
          ],
          "name": "stdout"
        }
      ]
    },
    {
      "cell_type": "code",
      "metadata": {
        "id": "iJhFt3zzWj3h",
        "colab_type": "code",
        "outputId": "cda542b1-8c77-426b-ddc5-ca76b7fa00a5",
        "colab": {
          "base_uri": "https://localhost:8080/",
          "height": 35
        }
      },
      "source": [
        "kmeansc1pp3hyp2_01.labels_"
      ],
      "execution_count": 0,
      "outputs": [
        {
          "output_type": "execute_result",
          "data": {
            "text/plain": [
              "array([0, 0, 0, ..., 2, 2, 2], dtype=int32)"
            ]
          },
          "metadata": {
            "tags": []
          },
          "execution_count": 127
        },
        {
          "output_type": "stream",
          "text": [
            "time: 4.38 ms\n"
          ],
          "name": "stdout"
        }
      ]
    },
    {
      "cell_type": "code",
      "metadata": {
        "id": "CDtBXSrkWj3n",
        "colab_type": "code",
        "outputId": "6bb1c0c4-52d3-40de-b999-dc68a3ea4aef",
        "colab": {
          "base_uri": "https://localhost:8080/",
          "height": 35
        }
      },
      "source": [
        "sc1pp3labelshyp2_01 = pd.Series(kmeansc1pp3hyp2_01.labels_)"
      ],
      "execution_count": 0,
      "outputs": [
        {
          "output_type": "stream",
          "text": [
            "time: 3.07 ms\n"
          ],
          "name": "stdout"
        }
      ]
    },
    {
      "cell_type": "code",
      "metadata": {
        "id": "XBDS1sWSWj3o",
        "colab_type": "code",
        "outputId": "bfdc7b6d-9189-44d1-be8b-a3670d23f66c",
        "colab": {
          "base_uri": "https://localhost:8080/",
          "height": 89
        }
      },
      "source": [
        "sc1pp3labelshyp2_01.value_counts()"
      ],
      "execution_count": 0,
      "outputs": [
        {
          "output_type": "execute_result",
          "data": {
            "text/plain": [
              "0    23813\n",
              "2    12288\n",
              "1      250\n",
              "dtype: int64"
            ]
          },
          "metadata": {
            "tags": []
          },
          "execution_count": 129
        },
        {
          "output_type": "stream",
          "text": [
            "time: 16.8 ms\n"
          ],
          "name": "stdout"
        }
      ]
    },
    {
      "cell_type": "code",
      "metadata": {
        "id": "KDbr7x9nWj3q",
        "colab_type": "code",
        "outputId": "4229d8a9-e595-4927-d717-5164c4258dc6",
        "colab": {
          "base_uri": "https://localhost:8080/",
          "height": 35
        }
      },
      "source": [
        "cmpp3hyp2_01 = confusion_matrix(target_system.System, sc1pp3labelshyp2_01)"
      ],
      "execution_count": 0,
      "outputs": [
        {
          "output_type": "stream",
          "text": [
            "time: 53.1 ms\n"
          ],
          "name": "stdout"
        }
      ]
    },
    {
      "cell_type": "code",
      "metadata": {
        "id": "Ton5-angWj3r",
        "colab_type": "code",
        "outputId": "83191242-ed4d-4667-dd1f-064648b1ad30",
        "colab": {
          "base_uri": "https://localhost:8080/",
          "height": 89
        }
      },
      "source": [
        "cmpp3hyp2_01"
      ],
      "execution_count": 0,
      "outputs": [
        {
          "output_type": "execute_result",
          "data": {
            "text/plain": [
              "array([[    0,     0,     0,     0],\n",
              "       [  671,     0,     0,     0],\n",
              "       [20527,     0,     0,     0],\n",
              "       [ 2615,   250, 12288,     0]])"
            ]
          },
          "metadata": {
            "tags": []
          },
          "execution_count": 131
        },
        {
          "output_type": "stream",
          "text": [
            "time: 4.15 ms\n"
          ],
          "name": "stdout"
        }
      ]
    },
    {
      "cell_type": "markdown",
      "metadata": {
        "id": "tirmTnIDWj3s",
        "colab_type": "text"
      },
      "source": [
        "## Check correct labels"
      ]
    },
    {
      "cell_type": "code",
      "metadata": {
        "id": "EvGzCM3dWj3u",
        "colab_type": "code",
        "outputId": "64dc68a7-f35f-4e63-bb00-2305b52e36ba",
        "colab": {
          "base_uri": "https://localhost:8080/",
          "height": 321
        }
      },
      "source": [
        "sns.heatmap(cmpp3hyp2_01,annot=True,cmap='coolwarm')\n",
        "plt.xlabel('Predicted')\n",
        "plt.ylabel('True')"
      ],
      "execution_count": 0,
      "outputs": [
        {
          "output_type": "execute_result",
          "data": {
            "text/plain": [
              "Text(30.5, 0.5, 'True')"
            ]
          },
          "metadata": {
            "tags": []
          },
          "execution_count": 132
        },
        {
          "output_type": "display_data",
          "data": {
            "image/png": "[encoded data removed]",
            "text/plain": [
              "<Figure size 432x288 with 2 Axes>"
            ]
          },
          "metadata": {
            "tags": []
          }
        },
        {
          "output_type": "stream",
          "text": [
            "time: 357 ms\n"
          ],
          "name": "stdout"
        }
      ]
    },
    {
      "cell_type": "markdown",
      "metadata": {
        "id": "BmDuf6cLWj3v",
        "colab_type": "text"
      },
      "source": [
        "## Change to correct labels"
      ]
    },
    {
      "cell_type": "code",
      "metadata": {
        "id": "rwORxuW2Wj3v",
        "colab_type": "code",
        "outputId": "05f4cffd-cd99-42de-937e-32b494b4b2be",
        "colab": {
          "base_uri": "https://localhost:8080/",
          "height": 35
        }
      },
      "source": [
        "sc1pp3labelshyp2_01\n",
        "sc1pp3labelshyp2_01[sc1pp3labelshyp2_01 == 0] = 4\n",
        "sc1pp3labelshyp2_01[sc1pp3labelshyp2_01 == 1] = 5\n",
        "sc1pp3labelshyp2_01[sc1pp3labelshyp2_01 == 2] = 6"
      ],
      "execution_count": 0,
      "outputs": [
        {
          "output_type": "stream",
          "text": [
            "time: 14.6 ms\n"
          ],
          "name": "stdout"
        }
      ]
    },
    {
      "cell_type": "code",
      "metadata": {
        "id": "FBnyixPkWj3x",
        "colab_type": "code",
        "outputId": "76fb6b52-5bf3-47f3-d58c-8a982e3a3a10",
        "colab": {
          "base_uri": "https://localhost:8080/",
          "height": 35
        }
      },
      "source": [
        "sc1pp3labelshyp2_01[sc1pp3labelshyp2_01 == 4] = 2\n",
        "sc1pp3labelshyp2_01[sc1pp3labelshyp2_01 == 5] = 1\n",
        "sc1pp3labelshyp2_01[sc1pp3labelshyp2_01 == 6] = 3"
      ],
      "execution_count": 0,
      "outputs": [
        {
          "output_type": "stream",
          "text": [
            "time: 15.1 ms\n"
          ],
          "name": "stdout"
        }
      ]
    },
    {
      "cell_type": "markdown",
      "metadata": {
        "id": "zn3R5dhoWj3y",
        "colab_type": "text"
      },
      "source": [
        "## Check heatmap"
      ]
    },
    {
      "cell_type": "code",
      "metadata": {
        "id": "1vDiC6JIWj3z",
        "colab_type": "code",
        "outputId": "7a1c2ef8-0679-49c7-fafa-75c9dae0c8f4",
        "colab": {
          "base_uri": "https://localhost:8080/",
          "height": 35
        }
      },
      "source": [
        "cmpp3hyp2_01 = confusion_matrix(target_system.System, sc1pp3labelshyp2_01)"
      ],
      "execution_count": 0,
      "outputs": [
        {
          "output_type": "stream",
          "text": [
            "time: 36.8 ms\n"
          ],
          "name": "stdout"
        }
      ]
    },
    {
      "cell_type": "code",
      "metadata": {
        "id": "_O6k5ow2Wj31",
        "colab_type": "code",
        "outputId": "4c8fdabd-b0b0-47c9-8c12-0b69b06c5472",
        "colab": {
          "base_uri": "https://localhost:8080/",
          "height": 71
        }
      },
      "source": [
        "cmpp3hyp2_01"
      ],
      "execution_count": 0,
      "outputs": [
        {
          "output_type": "execute_result",
          "data": {
            "text/plain": [
              "array([[    0,   671,     0],\n",
              "       [    0, 20527,     0],\n",
              "       [  250,  2615, 12288]])"
            ]
          },
          "metadata": {
            "tags": []
          },
          "execution_count": 136
        },
        {
          "output_type": "stream",
          "text": [
            "time: 3.61 ms\n"
          ],
          "name": "stdout"
        }
      ]
    },
    {
      "cell_type": "code",
      "metadata": {
        "id": "e0Nzp8wLWj32",
        "colab_type": "code",
        "outputId": "ea408c0a-d130-4a3c-e7a1-d49f959ed41a",
        "colab": {
          "base_uri": "https://localhost:8080/",
          "height": 321
        }
      },
      "source": [
        "sns.heatmap(cmpp3hyp2_01,annot=True,cmap='coolwarm')\n",
        "plt.xlabel('Predicted')\n",
        "plt.ylabel('True')"
      ],
      "execution_count": 0,
      "outputs": [
        {
          "output_type": "execute_result",
          "data": {
            "text/plain": [
              "Text(30.5, 0.5, 'True')"
            ]
          },
          "metadata": {
            "tags": []
          },
          "execution_count": 137
        },
        {
          "output_type": "display_data",
          "data": {
            "image/png": "[encoded data removed]",
            "text/plain": [
              "<Figure size 432x288 with 2 Axes>"
            ]
          },
          "metadata": {
            "tags": []
          }
        },
        {
          "output_type": "stream",
          "text": [
            "time: 253 ms\n"
          ],
          "name": "stdout"
        }
      ]
    },
    {
      "cell_type": "code",
      "metadata": {
        "id": "QGfE4SwjWj35",
        "colab_type": "code",
        "outputId": "14315157-0fcd-4ec3-efc0-c9b41478777d",
        "colab": {
          "base_uri": "https://localhost:8080/",
          "height": 35
        }
      },
      "source": [
        "reportpp3hyp2_01 = classification_report(target_system, sc1pp3labelshyp2_01,output_dict = True)"
      ],
      "execution_count": 0,
      "outputs": [
        {
          "output_type": "stream",
          "text": [
            "time: 41.9 ms\n"
          ],
          "name": "stdout"
        }
      ]
    },
    {
      "cell_type": "code",
      "metadata": {
        "id": "ASe4F5q9Wj36",
        "colab_type": "code",
        "outputId": "9f7e2a33-cc40-4c93-935d-697ba6d52863",
        "colab": {
          "base_uri": "https://localhost:8080/",
          "height": 341
        }
      },
      "source": [
        "reportpp3hyp2_01"
      ],
      "execution_count": 0,
      "outputs": [
        {
          "output_type": "execute_result",
          "data": {
            "text/plain": [
              "{'1': {'f1-score': 0.0, 'precision': 0.0, 'recall': 0.0, 'support': 671},\n",
              " '2': {'f1-score': 0.9258908434821831,\n",
              "  'precision': 0.8620081468105657,\n",
              "  'recall': 1.0,\n",
              "  'support': 20527},\n",
              " '3': {'f1-score': 0.895594183885427,\n",
              "  'precision': 1.0,\n",
              "  'recall': 0.8109285290041576,\n",
              "  'support': 15153},\n",
              " 'accuracy': 0.9027261973535804,\n",
              " 'macro avg': {'f1-score': 0.6071616757892033,\n",
              "  'precision': 0.6206693822701886,\n",
              "  'recall': 0.6036428430013858,\n",
              "  'support': 36351},\n",
              " 'weighted avg': {'f1-score': 0.8961706696535073,\n",
              "  'precision': 0.9036186412913119,\n",
              "  'recall': 0.9027261973535804,\n",
              "  'support': 36351}}"
            ]
          },
          "metadata": {
            "tags": []
          },
          "execution_count": 139
        },
        {
          "output_type": "stream",
          "text": [
            "time: 3.8 ms\n"
          ],
          "name": "stdout"
        }
      ]
    },
    {
      "cell_type": "code",
      "metadata": {
        "id": "R58_c66RWj37",
        "colab_type": "code",
        "outputId": "3aa4e998-08b7-4c15-a6b2-8c973feeee43",
        "colab": {
          "base_uri": "https://localhost:8080/",
          "height": 305
        }
      },
      "source": [
        "print(\"Confusion matrix\\n\",metrics.confusion_matrix(y_true=target_system.System,y_pred=sc1pp3labelshyp2_01)) \n",
        "print(\"Classification report\\n\",metrics.classification_report(y_true=target_system.System,y_pred=sc1pp3labelshyp2_01))"
      ],
      "execution_count": 0,
      "outputs": [
        {
          "output_type": "stream",
          "text": [
            "Confusion matrix\n",
            " [[    0   671     0]\n",
            " [    0 20527     0]\n",
            " [  250  2615 12288]]\n",
            "Classification report\n",
            "               precision    recall  f1-score   support\n",
            "\n",
            "           1       0.00      0.00      0.00       671\n",
            "           2       0.86      1.00      0.93     20527\n",
            "           3       1.00      0.81      0.90     15153\n",
            "\n",
            "    accuracy                           0.90     36351\n",
            "   macro avg       0.62      0.60      0.61     36351\n",
            "weighted avg       0.90      0.90      0.90     36351\n",
            "\n",
            "time: 78 ms\n"
          ],
          "name": "stdout"
        }
      ]
    },
    {
      "cell_type": "code",
      "metadata": {
        "id": "_bF-mSACWj4B",
        "colab_type": "code",
        "outputId": "3d04e308-1db8-493e-afde-5f4822b11fef",
        "colab": {
          "base_uri": "https://localhost:8080/",
          "height": 323
        }
      },
      "source": [
        "print('\\033[1m'+\"Kmeans++:\"+'\\033[0m')\n",
        "print('\\033[1m'+\"System 1\"+'\\033[0m')\n",
        "print(\"Precision = {0:0.3f}\".format(reportpp3hyp2_01[\"1\"][\"precision\"]))\n",
        "print(\"Recall = {0:0.3f}\".format(reportpp3hyp2_01[\"1\"][\"recall\"]))\n",
        "print(\"F1-score = {0:0.3f}\".format(reportpp3hyp2_01[\"1\"][\"f1-score\"]))\n",
        "print(\"Support = {0:0.3f}\".format(reportpp3hyp2_01[\"1\"][\"support\"]))\n",
        "print('\\033[1m'+\"System 2\"+'\\033[0m')\n",
        "print(\"Precision = {0:0.3f}\".format(reportpp3hyp2_01[\"2\"][\"precision\"]))\n",
        "print(\"Recall = {0:0.3f}\".format(reportpp3hyp2_01[\"2\"][\"recall\"]))\n",
        "print(\"F1-score = {0:0.3f}\".format(reportpp3hyp2_01[\"2\"][\"f1-score\"]))\n",
        "print(\"Support = {0:0.3f}\".format(reportpp3hyp2_01[\"2\"][\"support\"]))\n",
        "print('\\033[1m'+\"System 3\"+'\\033[0m')\n",
        "print(\"Precision = {0:0.3f}\".format(reportpp3hyp2_01[\"3\"][\"precision\"]))\n",
        "print(\"Recall = {0:0.3f}\".format(reportpp3hyp2_01[\"3\"][\"recall\"]))\n",
        "print(\"F1-score = {0:0.3f}\".format(reportpp3hyp2_01[\"3\"][\"f1-score\"]))\n",
        "print(\"Support = {0:0.3f}\".format(reportpp3hyp2_01[\"3\"][\"support\"]))"
      ],
      "execution_count": 0,
      "outputs": [
        {
          "output_type": "stream",
          "text": [
            "\u001b[1mKmeans++:\u001b[0m\n",
            "\u001b[1mSystem 1\u001b[0m\n",
            "Precision = 0.000\n",
            "Recall = 0.000\n",
            "F1-score = 0.000\n",
            "Support = 671.000\n",
            "\u001b[1mSystem 2\u001b[0m\n",
            "Precision = 0.862\n",
            "Recall = 1.000\n",
            "F1-score = 0.926\n",
            "Support = 20527.000\n",
            "\u001b[1mSystem 3\u001b[0m\n",
            "Precision = 1.000\n",
            "Recall = 0.811\n",
            "F1-score = 0.896\n",
            "Support = 15153.000\n",
            "time: 16.1 ms\n"
          ],
          "name": "stdout"
        }
      ]
    },
    {
      "cell_type": "code",
      "metadata": {
        "id": "ZopM9HmCWj4D",
        "colab_type": "code",
        "outputId": "1c8469ba-e430-4e19-a34e-7a780771be0a",
        "colab": {
          "base_uri": "https://localhost:8080/",
          "height": 161
        }
      },
      "source": [
        "print('\\033[1m'+'Clustering metrics - supervised'+'\\033[0m')\n",
        "print('Adjusted Rand score: ', metrics.adjusted_rand_score(target_system.System, sc1pp3labelshyp2_01))\n",
        "print('Mutual info score: ', metrics.adjusted_mutual_info_score(target_system.System, sc1pp3labelshyp2_01))\n",
        "print('Homogeneity score: ', metrics.homogeneity_score(target_system.System, sc1pp3labelshyp2_01))\n",
        "print('Completeness score: ', metrics.completeness_score(target_system.System, sc1pp3labelshyp2_01))\n",
        "print('V-measure: ', metrics.v_measure_score(target_system.System, sc1pp3labelshyp2_01))\n",
        "print('Fowlkes-Mallows score: ', metrics.fowlkes_mallows_score(target_system.System, sc1pp3labelshyp2_01))"
      ],
      "execution_count": 0,
      "outputs": [
        {
          "output_type": "stream",
          "text": [
            "\u001b[1mClustering metrics - supervised\u001b[0m\n",
            "Adjusted Rand score:  0.6823361077431518\n",
            "Mutual info score:  0.6288415438002335\n",
            "Homogeneity score:  0.5945082951466247\n",
            "Completeness score:  0.6674481883802669\n",
            "V-measure:  0.6288703132831919\n",
            "Fowlkes-Mallows score:  0.8475658942266868\n",
            "time: 71.7 ms\n"
          ],
          "name": "stdout"
        }
      ]
    },
    {
      "cell_type": "code",
      "metadata": {
        "id": "YUlZfJHcWj4F",
        "colab_type": "code",
        "outputId": "57e59a3c-95db-4264-844c-446da3ffc903",
        "colab": {
          "base_uri": "https://localhost:8080/",
          "height": 163
        }
      },
      "source": [
        "print('\\033[1m'+'Clustering metrics - unsupervised'+'\\033[0m')\n",
        "print('Silhouette: ',metrics.silhouette_score(dfsc1, sc1pp3labelshyp2_01, metric='euclidean'))\n",
        "print('Davies-Bouldin Index: ',metrics.davies_bouldin_score(dfsc1, sc1pp3labelshyp2_01))\n",
        "print('Calinski-Harabasz Index: ',metrics.calinski_harabaz_score(dfsc1, sc1pp3labelshyp2_01))"
      ],
      "execution_count": 0,
      "outputs": [
        {
          "output_type": "stream",
          "text": [
            "\u001b[1mClustering metrics - unsupervised\u001b[0m\n",
            "Silhouette:  0.4288065096810151\n",
            "Davies-Bouldin Index:  0.9334207124790502\n",
            "Calinski-Harabasz Index:  10289.228441627212\n",
            "time: 18.4 s\n"
          ],
          "name": "stdout"
        },
        {
          "output_type": "stream",
          "text": [
            "/usr/local/lib/python3.6/dist-packages/sklearn/utils/deprecation.py:87: FutureWarning: Function calinski_harabaz_score is deprecated; Function 'calinski_harabaz_score' has been renamed to 'calinski_harabasz_score' and will be removed in version 0.23.\n",
            "  warnings.warn(msg, category=FutureWarning)\n"
          ],
          "name": "stderr"
        }
      ]
    },
    {
      "cell_type": "markdown",
      "metadata": {
        "id": "WeefBVGiWj4J",
        "colab_type": "text"
      },
      "source": [
        "### 02 - max_iter = 500"
      ]
    },
    {
      "cell_type": "code",
      "metadata": {
        "id": "o8wR2m2uWj4J",
        "colab_type": "code",
        "outputId": "5911d043-70be-4cb9-de49-03afb061ddfc",
        "colab": {
          "base_uri": "https://localhost:8080/",
          "height": 35
        }
      },
      "source": [
        "kmeansc1pp3hyp2_02 = KMeans(n_clusters=3, random_state=42, max_iter=500).fit(dfsc1)"
      ],
      "execution_count": 0,
      "outputs": [
        {
          "output_type": "stream",
          "text": [
            "time: 538 ms\n"
          ],
          "name": "stdout"
        }
      ]
    },
    {
      "cell_type": "code",
      "metadata": {
        "id": "jdCDoVdbWj4L",
        "colab_type": "code",
        "outputId": "5f1bcf30-bb66-4ab1-e332-e7b931d6ea35",
        "colab": {
          "base_uri": "https://localhost:8080/",
          "height": 35
        }
      },
      "source": [
        "kmeansc1pp3hyp2_02.labels_"
      ],
      "execution_count": 0,
      "outputs": [
        {
          "output_type": "execute_result",
          "data": {
            "text/plain": [
              "array([0, 0, 0, ..., 2, 2, 2], dtype=int32)"
            ]
          },
          "metadata": {
            "tags": []
          },
          "execution_count": 145
        },
        {
          "output_type": "stream",
          "text": [
            "time: 11.1 ms\n"
          ],
          "name": "stdout"
        }
      ]
    },
    {
      "cell_type": "code",
      "metadata": {
        "id": "vVSlSvMGWj4O",
        "colab_type": "code",
        "outputId": "f18d64f3-0024-4c99-c98d-023f427b5c94",
        "colab": {
          "base_uri": "https://localhost:8080/",
          "height": 35
        }
      },
      "source": [
        "sc1pp3labelshyp2_02 = pd.Series(kmeansc1pp3hyp2_02.labels_)"
      ],
      "execution_count": 0,
      "outputs": [
        {
          "output_type": "stream",
          "text": [
            "time: 1.98 ms\n"
          ],
          "name": "stdout"
        }
      ]
    },
    {
      "cell_type": "code",
      "metadata": {
        "id": "6F5EfnmtWj4Q",
        "colab_type": "code",
        "outputId": "171dd7b9-d467-4afc-8d06-815caf6890bd",
        "colab": {
          "base_uri": "https://localhost:8080/",
          "height": 89
        }
      },
      "source": [
        "sc1pp3labelshyp2_02.value_counts()"
      ],
      "execution_count": 0,
      "outputs": [
        {
          "output_type": "execute_result",
          "data": {
            "text/plain": [
              "0    23813\n",
              "2    12288\n",
              "1      250\n",
              "dtype: int64"
            ]
          },
          "metadata": {
            "tags": []
          },
          "execution_count": 147
        },
        {
          "output_type": "stream",
          "text": [
            "time: 10.4 ms\n"
          ],
          "name": "stdout"
        }
      ]
    },
    {
      "cell_type": "code",
      "metadata": {
        "id": "DvLv02VPWj4U",
        "colab_type": "code",
        "outputId": "fda0e34c-63e8-4073-bbc4-9393d718f9ef",
        "colab": {
          "base_uri": "https://localhost:8080/",
          "height": 35
        }
      },
      "source": [
        "cmpp3hyp2_02 = confusion_matrix(target_system.System, sc1pp3labelshyp2_02)"
      ],
      "execution_count": 0,
      "outputs": [
        {
          "output_type": "stream",
          "text": [
            "time: 50.4 ms\n"
          ],
          "name": "stdout"
        }
      ]
    },
    {
      "cell_type": "code",
      "metadata": {
        "id": "ECmkGNMFWj4V",
        "colab_type": "code",
        "outputId": "2d6fd2d5-69c7-485c-ad6f-ff4231d7b27e",
        "colab": {
          "base_uri": "https://localhost:8080/",
          "height": 89
        }
      },
      "source": [
        "cmpp3hyp2_02"
      ],
      "execution_count": 0,
      "outputs": [
        {
          "output_type": "execute_result",
          "data": {
            "text/plain": [
              "array([[    0,     0,     0,     0],\n",
              "       [  671,     0,     0,     0],\n",
              "       [20527,     0,     0,     0],\n",
              "       [ 2615,   250, 12288,     0]])"
            ]
          },
          "metadata": {
            "tags": []
          },
          "execution_count": 149
        },
        {
          "output_type": "stream",
          "text": [
            "time: 3.8 ms\n"
          ],
          "name": "stdout"
        }
      ]
    },
    {
      "cell_type": "markdown",
      "metadata": {
        "id": "R17bTBPPWj4W",
        "colab_type": "text"
      },
      "source": [
        "## Check correct labels"
      ]
    },
    {
      "cell_type": "code",
      "metadata": {
        "id": "A94TkD-wWj4X",
        "colab_type": "code",
        "outputId": "10430d7c-9c00-494c-c1e7-d6800df6edea",
        "colab": {
          "base_uri": "https://localhost:8080/",
          "height": 321
        }
      },
      "source": [
        "sns.heatmap(cmpp3hyp2_02,annot=True,cmap='coolwarm')\n",
        "plt.xlabel('Predicted')\n",
        "plt.ylabel('True')"
      ],
      "execution_count": 0,
      "outputs": [
        {
          "output_type": "execute_result",
          "data": {
            "text/plain": [
              "Text(30.5, 0.5, 'True')"
            ]
          },
          "metadata": {
            "tags": []
          },
          "execution_count": 150
        },
        {
          "output_type": "display_data",
          "data": {
            "image/png": "[encoded data removed]",
            "text/plain": [
              "<Figure size 432x288 with 2 Axes>"
            ]
          },
          "metadata": {
            "tags": []
          }
        },
        {
          "output_type": "stream",
          "text": [
            "time: 263 ms\n"
          ],
          "name": "stdout"
        }
      ]
    },
    {
      "cell_type": "markdown",
      "metadata": {
        "id": "Z8TmktLDWj4Y",
        "colab_type": "text"
      },
      "source": [
        "## Change to correct labels"
      ]
    },
    {
      "cell_type": "code",
      "metadata": {
        "id": "re_lj9RqWj4Y",
        "colab_type": "code",
        "outputId": "bdf42ca5-3903-4a16-cc5e-4db27caf6420",
        "colab": {
          "base_uri": "https://localhost:8080/",
          "height": 35
        }
      },
      "source": [
        "sc1pp3labelshyp2_02\n",
        "sc1pp3labelshyp2_02[sc1pp3labelshyp2_02 == 0] = 4\n",
        "sc1pp3labelshyp2_02[sc1pp3labelshyp2_02 == 1] = 5\n",
        "sc1pp3labelshyp2_02[sc1pp3labelshyp2_02 == 2] = 6"
      ],
      "execution_count": 0,
      "outputs": [
        {
          "output_type": "stream",
          "text": [
            "time: 17.3 ms\n"
          ],
          "name": "stdout"
        }
      ]
    },
    {
      "cell_type": "code",
      "metadata": {
        "id": "696dpoZ6Wj4Z",
        "colab_type": "code",
        "outputId": "8943697d-7017-404c-ab27-688a630b6426",
        "colab": {
          "base_uri": "https://localhost:8080/",
          "height": 35
        }
      },
      "source": [
        "sc1pp3labelshyp2_02[sc1pp3labelshyp2_02 == 4] = 2\n",
        "sc1pp3labelshyp2_02[sc1pp3labelshyp2_02 == 5] = 1\n",
        "sc1pp3labelshyp2_02[sc1pp3labelshyp2_02 == 6] = 3"
      ],
      "execution_count": 0,
      "outputs": [
        {
          "output_type": "stream",
          "text": [
            "time: 12.7 ms\n"
          ],
          "name": "stdout"
        }
      ]
    },
    {
      "cell_type": "markdown",
      "metadata": {
        "id": "Tn9lmeGFWj4e",
        "colab_type": "text"
      },
      "source": [
        "## Check heatmap"
      ]
    },
    {
      "cell_type": "code",
      "metadata": {
        "id": "iWQVI2Q8Wj4e",
        "colab_type": "code",
        "outputId": "55275731-5504-4a2a-ff48-1aa0df508f53",
        "colab": {
          "base_uri": "https://localhost:8080/",
          "height": 35
        }
      },
      "source": [
        "cmpp3hyp2_02 = confusion_matrix(target_system.System, sc1pp3labelshyp2_02)"
      ],
      "execution_count": 0,
      "outputs": [
        {
          "output_type": "stream",
          "text": [
            "time: 35 ms\n"
          ],
          "name": "stdout"
        }
      ]
    },
    {
      "cell_type": "code",
      "metadata": {
        "id": "MmIWod5xWj4g",
        "colab_type": "code",
        "outputId": "833de3c9-09fd-4dc0-e3c3-00c526bf9ab8",
        "colab": {
          "base_uri": "https://localhost:8080/",
          "height": 71
        }
      },
      "source": [
        "cmpp3hyp2_02"
      ],
      "execution_count": 0,
      "outputs": [
        {
          "output_type": "execute_result",
          "data": {
            "text/plain": [
              "array([[    0,   671,     0],\n",
              "       [    0, 20527,     0],\n",
              "       [  250,  2615, 12288]])"
            ]
          },
          "metadata": {
            "tags": []
          },
          "execution_count": 154
        },
        {
          "output_type": "stream",
          "text": [
            "time: 4.7 ms\n"
          ],
          "name": "stdout"
        }
      ]
    },
    {
      "cell_type": "code",
      "metadata": {
        "id": "r5SKzISwWj4n",
        "colab_type": "code",
        "outputId": "d42602a2-e474-46f6-e44c-ae5b4b853e3e",
        "colab": {
          "base_uri": "https://localhost:8080/",
          "height": 321
        }
      },
      "source": [
        "sns.heatmap(cmpp3hyp2_02,annot=True,cmap='coolwarm')\n",
        "plt.xlabel('Predicted')\n",
        "plt.ylabel('True')"
      ],
      "execution_count": 0,
      "outputs": [
        {
          "output_type": "execute_result",
          "data": {
            "text/plain": [
              "Text(30.5, 0.5, 'True')"
            ]
          },
          "metadata": {
            "tags": []
          },
          "execution_count": 155
        },
        {
          "output_type": "display_data",
          "data": {
            "image/png": "[encoded data removed]",
            "text/plain": [
              "<Figure size 432x288 with 2 Axes>"
            ]
          },
          "metadata": {
            "tags": []
          }
        },
        {
          "output_type": "stream",
          "text": [
            "time: 250 ms\n"
          ],
          "name": "stdout"
        }
      ]
    },
    {
      "cell_type": "code",
      "metadata": {
        "id": "xEGCokfcWj4p",
        "colab_type": "code",
        "outputId": "47d09175-af0e-4288-cb00-6c6b846a737f",
        "colab": {
          "base_uri": "https://localhost:8080/",
          "height": 35
        }
      },
      "source": [
        "reportpp3hyp2_02 = classification_report(target_system, sc1pp3labelshyp2_02,output_dict = True)"
      ],
      "execution_count": 0,
      "outputs": [
        {
          "output_type": "stream",
          "text": [
            "time: 43.2 ms\n"
          ],
          "name": "stdout"
        }
      ]
    },
    {
      "cell_type": "code",
      "metadata": {
        "id": "gzRUzHUsWj4q",
        "colab_type": "code",
        "outputId": "47361fd2-e9a7-48a6-e05b-94629e2d9e73",
        "colab": {
          "base_uri": "https://localhost:8080/",
          "height": 341
        }
      },
      "source": [
        "reportpp3hyp2_02"
      ],
      "execution_count": 0,
      "outputs": [
        {
          "output_type": "execute_result",
          "data": {
            "text/plain": [
              "{'1': {'f1-score': 0.0, 'precision': 0.0, 'recall': 0.0, 'support': 671},\n",
              " '2': {'f1-score': 0.9258908434821831,\n",
              "  'precision': 0.8620081468105657,\n",
              "  'recall': 1.0,\n",
              "  'support': 20527},\n",
              " '3': {'f1-score': 0.895594183885427,\n",
              "  'precision': 1.0,\n",
              "  'recall': 0.8109285290041576,\n",
              "  'support': 15153},\n",
              " 'accuracy': 0.9027261973535804,\n",
              " 'macro avg': {'f1-score': 0.6071616757892033,\n",
              "  'precision': 0.6206693822701886,\n",
              "  'recall': 0.6036428430013858,\n",
              "  'support': 36351},\n",
              " 'weighted avg': {'f1-score': 0.8961706696535073,\n",
              "  'precision': 0.9036186412913119,\n",
              "  'recall': 0.9027261973535804,\n",
              "  'support': 36351}}"
            ]
          },
          "metadata": {
            "tags": []
          },
          "execution_count": 157
        },
        {
          "output_type": "stream",
          "text": [
            "time: 4.76 ms\n"
          ],
          "name": "stdout"
        }
      ]
    },
    {
      "cell_type": "code",
      "metadata": {
        "id": "3N9KDgDxWj4r",
        "colab_type": "code",
        "outputId": "87408a25-54aa-40a6-f6b3-2af7699e14bc",
        "colab": {
          "base_uri": "https://localhost:8080/",
          "height": 305
        }
      },
      "source": [
        "print(\"Confusion matrix\\n\",metrics.confusion_matrix(y_true=target_system.System,y_pred=sc1pp3labelshyp2_02)) \n",
        "print(\"Classification report\\n\",metrics.classification_report(y_true=target_system.System,y_pred=sc1pp3labelshyp2_02)) "
      ],
      "execution_count": 0,
      "outputs": [
        {
          "output_type": "stream",
          "text": [
            "Confusion matrix\n",
            " [[    0   671     0]\n",
            " [    0 20527     0]\n",
            " [  250  2615 12288]]\n",
            "Classification report\n",
            "               precision    recall  f1-score   support\n",
            "\n",
            "           1       0.00      0.00      0.00       671\n",
            "           2       0.86      1.00      0.93     20527\n",
            "           3       1.00      0.81      0.90     15153\n",
            "\n",
            "    accuracy                           0.90     36351\n",
            "   macro avg       0.62      0.60      0.61     36351\n",
            "weighted avg       0.90      0.90      0.90     36351\n",
            "\n",
            "time: 86.9 ms\n"
          ],
          "name": "stdout"
        }
      ]
    },
    {
      "cell_type": "code",
      "metadata": {
        "id": "YphtTaP8Wj4s",
        "colab_type": "code",
        "outputId": "b98acd65-6978-4654-b777-fdd7affe7eb9",
        "colab": {
          "base_uri": "https://localhost:8080/",
          "height": 323
        }
      },
      "source": [
        "print('\\033[1m'+\"Kmeans++:\"+'\\033[0m')\n",
        "print('\\033[1m'+\"System 1\"+'\\033[0m')\n",
        "print(\"Precision = {0:0.3f}\".format(reportpp3hyp2_02[\"1\"][\"precision\"]))\n",
        "print(\"Recall = {0:0.3f}\".format(reportpp3hyp2_02[\"1\"][\"recall\"]))\n",
        "print(\"F1-score = {0:0.3f}\".format(reportpp3hyp2_02[\"1\"][\"f1-score\"]))\n",
        "print(\"Support = {0:0.3f}\".format(reportpp3hyp2_02[\"1\"][\"support\"]))\n",
        "print('\\033[1m'+\"System 2\"+'\\033[0m')\n",
        "print(\"Precision = {0:0.3f}\".format(reportpp3hyp2_02[\"2\"][\"precision\"]))\n",
        "print(\"Recall = {0:0.3f}\".format(reportpp3hyp2_02[\"2\"][\"recall\"]))\n",
        "print(\"F1-score = {0:0.3f}\".format(reportpp3hyp2_02[\"2\"][\"f1-score\"]))\n",
        "print(\"Support = {0:0.3f}\".format(reportpp3hyp2_02[\"2\"][\"support\"]))\n",
        "print('\\033[1m'+\"System 3\"+'\\033[0m')\n",
        "print(\"Precision = {0:0.3f}\".format(reportpp3hyp2_02[\"3\"][\"precision\"]))\n",
        "print(\"Recall = {0:0.3f}\".format(reportpp3hyp2_02[\"3\"][\"recall\"]))\n",
        "print(\"F1-score = {0:0.3f}\".format(reportpp3hyp2_02[\"3\"][\"f1-score\"]))\n",
        "print(\"Support = {0:0.3f}\".format(reportpp3hyp2_02[\"3\"][\"support\"]))"
      ],
      "execution_count": 0,
      "outputs": [
        {
          "output_type": "stream",
          "text": [
            "\u001b[1mKmeans++:\u001b[0m\n",
            "\u001b[1mSystem 1\u001b[0m\n",
            "Precision = 0.000\n",
            "Recall = 0.000\n",
            "F1-score = 0.000\n",
            "Support = 671.000\n",
            "\u001b[1mSystem 2\u001b[0m\n",
            "Precision = 0.862\n",
            "Recall = 1.000\n",
            "F1-score = 0.926\n",
            "Support = 20527.000\n",
            "\u001b[1mSystem 3\u001b[0m\n",
            "Precision = 1.000\n",
            "Recall = 0.811\n",
            "F1-score = 0.896\n",
            "Support = 15153.000\n",
            "time: 17.2 ms\n"
          ],
          "name": "stdout"
        }
      ]
    },
    {
      "cell_type": "code",
      "metadata": {
        "id": "rkngiEFOWj4u",
        "colab_type": "code",
        "outputId": "8cfe914d-ebac-4eeb-daff-601f81768cd7",
        "colab": {
          "base_uri": "https://localhost:8080/",
          "height": 161
        }
      },
      "source": [
        "print('\\033[1m'+'Clustering metrics - supervised'+'\\033[0m')\n",
        "print('Adjusted Rand score: ', metrics.adjusted_rand_score(target_system.System, sc1pp3labelshyp2_02))\n",
        "print('Mutual info score: ', metrics.adjusted_mutual_info_score(target_system.System, sc1pp3labelshyp2_02))\n",
        "print('Homogeneity score: ', metrics.homogeneity_score(target_system.System, sc1pp3labelshyp2_02))\n",
        "print('Completeness score: ', metrics.completeness_score(target_system.System, sc1pp3labelshyp2_02))\n",
        "print('V-measure: ', metrics.v_measure_score(target_system.System, sc1pp3labelshyp2_02))\n",
        "print('Fowlkes-Mallows score: ', metrics.fowlkes_mallows_score(target_system.System, sc1pp3labelshyp2_02))"
      ],
      "execution_count": 0,
      "outputs": [
        {
          "output_type": "stream",
          "text": [
            "\u001b[1mClustering metrics - supervised\u001b[0m\n",
            "Adjusted Rand score:  0.6823361077431518\n",
            "Mutual info score:  0.6288415438002335\n",
            "Homogeneity score:  0.5945082951466247\n",
            "Completeness score:  0.6674481883802669\n",
            "V-measure:  0.6288703132831919\n",
            "Fowlkes-Mallows score:  0.8475658942266868\n",
            "time: 74.4 ms\n"
          ],
          "name": "stdout"
        }
      ]
    },
    {
      "cell_type": "code",
      "metadata": {
        "id": "P5bpWs7-Wj4w",
        "colab_type": "code",
        "outputId": "ce3c0ad3-bdec-4da3-e8bb-2b65b75c09fa",
        "colab": {
          "base_uri": "https://localhost:8080/",
          "height": 163
        }
      },
      "source": [
        "print('\\033[1m'+'Clustering metrics - unsupervised'+'\\033[0m')\n",
        "print('Silhouette: ',metrics.silhouette_score(dfsc1, sc1pp3labelshyp2_02, metric='euclidean'))\n",
        "print('Davies-Bouldin Index: ',metrics.davies_bouldin_score(dfsc1, sc1pp3labelshyp2_02))\n",
        "print('Calinski-Harabasz Index: ',metrics.calinski_harabaz_score(dfsc1, sc1pp3labelshyp2_02))"
      ],
      "execution_count": 0,
      "outputs": [
        {
          "output_type": "stream",
          "text": [
            "\u001b[1mClustering metrics - unsupervised\u001b[0m\n",
            "Silhouette:  0.4288065096810151\n",
            "Davies-Bouldin Index:  0.9334207124790502\n",
            "Calinski-Harabasz Index:  10289.228441627212\n",
            "time: 18.4 s\n"
          ],
          "name": "stdout"
        },
        {
          "output_type": "stream",
          "text": [
            "/usr/local/lib/python3.6/dist-packages/sklearn/utils/deprecation.py:87: FutureWarning: Function calinski_harabaz_score is deprecated; Function 'calinski_harabaz_score' has been renamed to 'calinski_harabasz_score' and will be removed in version 0.23.\n",
            "  warnings.warn(msg, category=FutureWarning)\n"
          ],
          "name": "stderr"
        }
      ]
    },
    {
      "cell_type": "markdown",
      "metadata": {
        "id": "D3_WBjt0Wj4y",
        "colab_type": "text"
      },
      "source": [
        "### 03 - max_iter = 1000"
      ]
    },
    {
      "cell_type": "code",
      "metadata": {
        "id": "HFs10qPeWj4y",
        "colab_type": "code",
        "outputId": "12acd47b-4079-4855-bfcf-1bae72f31fc5",
        "colab": {
          "base_uri": "https://localhost:8080/",
          "height": 35
        }
      },
      "source": [
        "kmeansc1pp3hyp2_03 = KMeans(n_clusters=3, random_state=42, max_iter=1000).fit(dfsc1)"
      ],
      "execution_count": 0,
      "outputs": [
        {
          "output_type": "stream",
          "text": [
            "time: 532 ms\n"
          ],
          "name": "stdout"
        }
      ]
    },
    {
      "cell_type": "code",
      "metadata": {
        "id": "Zb5lxdUzWj4z",
        "colab_type": "code",
        "outputId": "943b9d21-fb75-422d-e04f-163afe44cb1f",
        "colab": {
          "base_uri": "https://localhost:8080/",
          "height": 35
        }
      },
      "source": [
        "kmeansc1pp3hyp2_03.labels_"
      ],
      "execution_count": 0,
      "outputs": [
        {
          "output_type": "execute_result",
          "data": {
            "text/plain": [
              "array([0, 0, 0, ..., 2, 2, 2], dtype=int32)"
            ]
          },
          "metadata": {
            "tags": []
          },
          "execution_count": 163
        },
        {
          "output_type": "stream",
          "text": [
            "time: 11.8 ms\n"
          ],
          "name": "stdout"
        }
      ]
    },
    {
      "cell_type": "code",
      "metadata": {
        "id": "lgZuj1LYWj4z",
        "colab_type": "code",
        "outputId": "44d310a3-2bc4-45be-8230-72fee2465586",
        "colab": {
          "base_uri": "https://localhost:8080/",
          "height": 35
        }
      },
      "source": [
        "sc1pp3labelshyp2_03 = pd.Series(kmeansc1pp3hyp2_03.labels_)"
      ],
      "execution_count": 0,
      "outputs": [
        {
          "output_type": "stream",
          "text": [
            "time: 4.03 ms\n"
          ],
          "name": "stdout"
        }
      ]
    },
    {
      "cell_type": "code",
      "metadata": {
        "id": "rWNOIbkoWj46",
        "colab_type": "code",
        "outputId": "3bb41fa9-7cdf-4890-c4a1-92f681a85c50",
        "colab": {
          "base_uri": "https://localhost:8080/",
          "height": 89
        }
      },
      "source": [
        "sc1pp3labelshyp2_03.value_counts()"
      ],
      "execution_count": 0,
      "outputs": [
        {
          "output_type": "execute_result",
          "data": {
            "text/plain": [
              "0    23813\n",
              "2    12288\n",
              "1      250\n",
              "dtype: int64"
            ]
          },
          "metadata": {
            "tags": []
          },
          "execution_count": 165
        },
        {
          "output_type": "stream",
          "text": [
            "time: 18.8 ms\n"
          ],
          "name": "stdout"
        }
      ]
    },
    {
      "cell_type": "code",
      "metadata": {
        "id": "WNnFNEGBWj47",
        "colab_type": "code",
        "outputId": "1c86dc77-7c11-4f87-d5b6-94dc94de8c3f",
        "colab": {
          "base_uri": "https://localhost:8080/",
          "height": 35
        }
      },
      "source": [
        "cmpp3hyp2_03 = confusion_matrix(target_system.System, sc1pp3labelshyp2_03)"
      ],
      "execution_count": 0,
      "outputs": [
        {
          "output_type": "stream",
          "text": [
            "time: 40.1 ms\n"
          ],
          "name": "stdout"
        }
      ]
    },
    {
      "cell_type": "code",
      "metadata": {
        "id": "n3YDphnZWj48",
        "colab_type": "code",
        "outputId": "2fff1cef-6803-4a49-fa54-c11595bd71d5",
        "colab": {
          "base_uri": "https://localhost:8080/",
          "height": 89
        }
      },
      "source": [
        "cmpp3hyp2_03"
      ],
      "execution_count": 0,
      "outputs": [
        {
          "output_type": "execute_result",
          "data": {
            "text/plain": [
              "array([[    0,     0,     0,     0],\n",
              "       [  671,     0,     0,     0],\n",
              "       [20527,     0,     0,     0],\n",
              "       [ 2615,   250, 12288,     0]])"
            ]
          },
          "metadata": {
            "tags": []
          },
          "execution_count": 167
        },
        {
          "output_type": "stream",
          "text": [
            "time: 4.81 ms\n"
          ],
          "name": "stdout"
        }
      ]
    },
    {
      "cell_type": "markdown",
      "metadata": {
        "id": "IccAJBfnWj4_",
        "colab_type": "text"
      },
      "source": [
        "## Check correct labels"
      ]
    },
    {
      "cell_type": "code",
      "metadata": {
        "id": "R0BWXZiMWj5A",
        "colab_type": "code",
        "outputId": "9871d8a9-0e2c-48e6-db4a-ad33ca8e355d",
        "colab": {
          "base_uri": "https://localhost:8080/",
          "height": 321
        }
      },
      "source": [
        "sns.heatmap(cmpp3hyp2_03,annot=True,cmap='coolwarm')\n",
        "plt.xlabel('Predicted')\n",
        "plt.ylabel('True')"
      ],
      "execution_count": 0,
      "outputs": [
        {
          "output_type": "execute_result",
          "data": {
            "text/plain": [
              "Text(30.5, 0.5, 'True')"
            ]
          },
          "metadata": {
            "tags": []
          },
          "execution_count": 168
        },
        {
          "output_type": "display_data",
          "data": {
            "image/png": "[encoded data removed]",
            "text/plain": [
              "<Figure size 432x288 with 2 Axes>"
            ]
          },
          "metadata": {
            "tags": []
          }
        },
        {
          "output_type": "stream",
          "text": [
            "time: 278 ms\n"
          ],
          "name": "stdout"
        }
      ]
    },
    {
      "cell_type": "markdown",
      "metadata": {
        "id": "r2HVprDuWj5D",
        "colab_type": "text"
      },
      "source": [
        "## Change to correct labels"
      ]
    },
    {
      "cell_type": "code",
      "metadata": {
        "id": "3LBJMHrOWj5D",
        "colab_type": "code",
        "outputId": "2b50e9b5-ba42-4906-b837-447a46610832",
        "colab": {
          "base_uri": "https://localhost:8080/",
          "height": 35
        }
      },
      "source": [
        "sc1pp3labelshyp2_03\n",
        "sc1pp3labelshyp2_03[sc1pp3labelshyp2_03 == 0] = 4\n",
        "sc1pp3labelshyp2_03[sc1pp3labelshyp2_03 == 1] = 5\n",
        "sc1pp3labelshyp2_03[sc1pp3labelshyp2_03 == 2] = 6"
      ],
      "execution_count": 0,
      "outputs": [
        {
          "output_type": "stream",
          "text": [
            "time: 12.4 ms\n"
          ],
          "name": "stdout"
        }
      ]
    },
    {
      "cell_type": "code",
      "metadata": {
        "id": "STDM2NxTWj5F",
        "colab_type": "code",
        "outputId": "32020908-c86c-40af-8588-60c56e9c395e",
        "colab": {
          "base_uri": "https://localhost:8080/",
          "height": 35
        }
      },
      "source": [
        "sc1pp3labelshyp2_03[sc1pp3labelshyp2_03 == 4] = 2\n",
        "sc1pp3labelshyp2_03[sc1pp3labelshyp2_03 == 5] = 1\n",
        "sc1pp3labelshyp2_03[sc1pp3labelshyp2_03 == 6] = 3"
      ],
      "execution_count": 0,
      "outputs": [
        {
          "output_type": "stream",
          "text": [
            "time: 12.1 ms\n"
          ],
          "name": "stdout"
        }
      ]
    },
    {
      "cell_type": "markdown",
      "metadata": {
        "id": "lkbUItLcWj5K",
        "colab_type": "text"
      },
      "source": [
        "## Check heatmap"
      ]
    },
    {
      "cell_type": "code",
      "metadata": {
        "id": "7-kF6qU4Wj5K",
        "colab_type": "code",
        "outputId": "5113fc1d-b3ac-45e0-dcab-cd0733826176",
        "colab": {
          "base_uri": "https://localhost:8080/",
          "height": 35
        }
      },
      "source": [
        "cmpp3hyp2_03 = confusion_matrix(target_system.System, sc1pp3labelshyp2_03)"
      ],
      "execution_count": 0,
      "outputs": [
        {
          "output_type": "stream",
          "text": [
            "time: 40.6 ms\n"
          ],
          "name": "stdout"
        }
      ]
    },
    {
      "cell_type": "code",
      "metadata": {
        "id": "54rgTiIvWj5N",
        "colab_type": "code",
        "outputId": "ae94ddf3-ee5f-4d07-d83c-01521d4ba2bf",
        "colab": {
          "base_uri": "https://localhost:8080/",
          "height": 71
        }
      },
      "source": [
        "cmpp3hyp2_03"
      ],
      "execution_count": 0,
      "outputs": [
        {
          "output_type": "execute_result",
          "data": {
            "text/plain": [
              "array([[    0,   671,     0],\n",
              "       [    0, 20527,     0],\n",
              "       [  250,  2615, 12288]])"
            ]
          },
          "metadata": {
            "tags": []
          },
          "execution_count": 172
        },
        {
          "output_type": "stream",
          "text": [
            "time: 3.57 ms\n"
          ],
          "name": "stdout"
        }
      ]
    },
    {
      "cell_type": "code",
      "metadata": {
        "id": "wCUQPgfOWj5Q",
        "colab_type": "code",
        "outputId": "060e06fb-448f-436e-d580-25dde2405e21",
        "colab": {
          "base_uri": "https://localhost:8080/",
          "height": 321
        }
      },
      "source": [
        "sns.heatmap(cmpp3hyp2_03,annot=True,cmap='coolwarm')\n",
        "plt.xlabel('Predicted')\n",
        "plt.ylabel('True')"
      ],
      "execution_count": 0,
      "outputs": [
        {
          "output_type": "execute_result",
          "data": {
            "text/plain": [
              "Text(30.5, 0.5, 'True')"
            ]
          },
          "metadata": {
            "tags": []
          },
          "execution_count": 173
        },
        {
          "output_type": "display_data",
          "data": {
            "image/png": "[encoded data removed]",
            "text/plain": [
              "<Figure size 432x288 with 2 Axes>"
            ]
          },
          "metadata": {
            "tags": []
          }
        },
        {
          "output_type": "stream",
          "text": [
            "time: 264 ms\n"
          ],
          "name": "stdout"
        }
      ]
    },
    {
      "cell_type": "code",
      "metadata": {
        "id": "c5uaoIGKWj5S",
        "colab_type": "code",
        "outputId": "d1e59e20-7085-4e82-c2c9-27f6533ba306",
        "colab": {
          "base_uri": "https://localhost:8080/",
          "height": 35
        }
      },
      "source": [
        "reportpp3hyp2_03 = classification_report(target_system, sc1pp3labelshyp2_03,output_dict = True)"
      ],
      "execution_count": 0,
      "outputs": [
        {
          "output_type": "stream",
          "text": [
            "time: 57.5 ms\n"
          ],
          "name": "stdout"
        }
      ]
    },
    {
      "cell_type": "code",
      "metadata": {
        "id": "qAG862V6Wj5T",
        "colab_type": "code",
        "outputId": "282c4542-0778-469f-bc4c-349268fcfc1f",
        "colab": {
          "base_uri": "https://localhost:8080/",
          "height": 341
        }
      },
      "source": [
        "reportpp3hyp2_03"
      ],
      "execution_count": 0,
      "outputs": [
        {
          "output_type": "execute_result",
          "data": {
            "text/plain": [
              "{'1': {'f1-score': 0.0, 'precision': 0.0, 'recall': 0.0, 'support': 671},\n",
              " '2': {'f1-score': 0.9258908434821831,\n",
              "  'precision': 0.8620081468105657,\n",
              "  'recall': 1.0,\n",
              "  'support': 20527},\n",
              " '3': {'f1-score': 0.895594183885427,\n",
              "  'precision': 1.0,\n",
              "  'recall': 0.8109285290041576,\n",
              "  'support': 15153},\n",
              " 'accuracy': 0.9027261973535804,\n",
              " 'macro avg': {'f1-score': 0.6071616757892033,\n",
              "  'precision': 0.6206693822701886,\n",
              "  'recall': 0.6036428430013858,\n",
              "  'support': 36351},\n",
              " 'weighted avg': {'f1-score': 0.8961706696535073,\n",
              "  'precision': 0.9036186412913119,\n",
              "  'recall': 0.9027261973535804,\n",
              "  'support': 36351}}"
            ]
          },
          "metadata": {
            "tags": []
          },
          "execution_count": 175
        },
        {
          "output_type": "stream",
          "text": [
            "time: 8.51 ms\n"
          ],
          "name": "stdout"
        }
      ]
    },
    {
      "cell_type": "code",
      "metadata": {
        "id": "dlCM1L8zWj5U",
        "colab_type": "code",
        "outputId": "b7472e6f-e4fe-493f-d43a-768c12c8dedb",
        "colab": {
          "base_uri": "https://localhost:8080/",
          "height": 305
        }
      },
      "source": [
        "print(\"Confusion matrix\\n\",metrics.confusion_matrix(y_true=target_system.System,y_pred=sc1pp3labelshyp2_03)) \n",
        "print(\"Classification report\\n\",metrics.classification_report(y_true=target_system.System,y_pred=sc1pp3labelshyp2_03))"
      ],
      "execution_count": 0,
      "outputs": [
        {
          "output_type": "stream",
          "text": [
            "Confusion matrix\n",
            " [[    0   671     0]\n",
            " [    0 20527     0]\n",
            " [  250  2615 12288]]\n",
            "Classification report\n",
            "               precision    recall  f1-score   support\n",
            "\n",
            "           1       0.00      0.00      0.00       671\n",
            "           2       0.86      1.00      0.93     20527\n",
            "           3       1.00      0.81      0.90     15153\n",
            "\n",
            "    accuracy                           0.90     36351\n",
            "   macro avg       0.62      0.60      0.61     36351\n",
            "weighted avg       0.90      0.90      0.90     36351\n",
            "\n",
            "time: 76.8 ms\n"
          ],
          "name": "stdout"
        }
      ]
    },
    {
      "cell_type": "code",
      "metadata": {
        "id": "xhkth9scWj5V",
        "colab_type": "code",
        "outputId": "38322d56-34c9-418b-9c69-aba764516da5",
        "colab": {
          "base_uri": "https://localhost:8080/",
          "height": 323
        }
      },
      "source": [
        "print('\\033[1m'+\"Kmeans++:\"+'\\033[0m')\n",
        "print('\\033[1m'+\"System 1\"+'\\033[0m')\n",
        "print(\"Precision = {0:0.3f}\".format(reportpp3hyp2_03[\"1\"][\"precision\"]))\n",
        "print(\"Recall = {0:0.3f}\".format(reportpp3hyp2_03[\"1\"][\"recall\"]))\n",
        "print(\"F1-score = {0:0.3f}\".format(reportpp3hyp2_03[\"1\"][\"f1-score\"]))\n",
        "print(\"Support = {0:0.3f}\".format(reportpp3hyp2_03[\"1\"][\"support\"]))\n",
        "print('\\033[1m'+\"System 2\"+'\\033[0m')\n",
        "print(\"Precision = {0:0.3f}\".format(reportpp3hyp2_03[\"2\"][\"precision\"]))\n",
        "print(\"Recall = {0:0.3f}\".format(reportpp3hyp2_03[\"2\"][\"recall\"]))\n",
        "print(\"F1-score = {0:0.3f}\".format(reportpp3hyp2_03[\"2\"][\"f1-score\"]))\n",
        "print(\"Support = {0:0.3f}\".format(reportpp3hyp2_03[\"2\"][\"support\"]))\n",
        "print('\\033[1m'+\"System 3\"+'\\033[0m')\n",
        "print(\"Precision = {0:0.3f}\".format(reportpp3hyp2_03[\"3\"][\"precision\"]))\n",
        "print(\"Recall = {0:0.3f}\".format(reportpp3hyp2_03[\"3\"][\"recall\"]))\n",
        "print(\"F1-score = {0:0.3f}\".format(reportpp3hyp2_03[\"3\"][\"f1-score\"]))\n",
        "print(\"Support = {0:0.3f}\".format(reportpp3hyp2_03[\"3\"][\"support\"]))"
      ],
      "execution_count": 0,
      "outputs": [
        {
          "output_type": "stream",
          "text": [
            "\u001b[1mKmeans++:\u001b[0m\n",
            "\u001b[1mSystem 1\u001b[0m\n",
            "Precision = 0.000\n",
            "Recall = 0.000\n",
            "F1-score = 0.000\n",
            "Support = 671.000\n",
            "\u001b[1mSystem 2\u001b[0m\n",
            "Precision = 0.862\n",
            "Recall = 1.000\n",
            "F1-score = 0.926\n",
            "Support = 20527.000\n",
            "\u001b[1mSystem 3\u001b[0m\n",
            "Precision = 1.000\n",
            "Recall = 0.811\n",
            "F1-score = 0.896\n",
            "Support = 15153.000\n",
            "time: 16.7 ms\n"
          ],
          "name": "stdout"
        }
      ]
    },
    {
      "cell_type": "code",
      "metadata": {
        "id": "vRGAOKtQWj5W",
        "colab_type": "code",
        "outputId": "38147ecb-6ed0-4fd7-a5db-f25749c2ccc4",
        "colab": {
          "base_uri": "https://localhost:8080/",
          "height": 161
        }
      },
      "source": [
        "print('\\033[1m'+'Clustering metrics - supervised'+'\\033[0m')\n",
        "print('Adjusted Rand score: ', metrics.adjusted_rand_score(target_system.System, sc1pp3labelshyp2_03))\n",
        "print('Mutual info score: ', metrics.adjusted_mutual_info_score(target_system.System, sc1pp3labelshyp2_03))\n",
        "print('Homogeneity score: ', metrics.homogeneity_score(target_system.System, sc1pp3labelshyp2_03))\n",
        "print('Completeness score: ', metrics.completeness_score(target_system.System, sc1pp3labelshyp2_03))\n",
        "print('V-measure: ', metrics.v_measure_score(target_system.System, sc1pp3labelshyp2_03))\n",
        "print('Fowlkes-Mallows score: ', metrics.fowlkes_mallows_score(target_system.System, sc1pp3labelshyp2_03))"
      ],
      "execution_count": 0,
      "outputs": [
        {
          "output_type": "stream",
          "text": [
            "\u001b[1mClustering metrics - supervised\u001b[0m\n",
            "Adjusted Rand score:  0.6823361077431518\n",
            "Mutual info score:  0.6288415438002335\n",
            "Homogeneity score:  0.5945082951466247\n",
            "Completeness score:  0.6674481883802669\n",
            "V-measure:  0.6288703132831919\n",
            "Fowlkes-Mallows score:  0.8475658942266868\n",
            "time: 65.4 ms\n"
          ],
          "name": "stdout"
        }
      ]
    },
    {
      "cell_type": "code",
      "metadata": {
        "id": "XQBlkCH7Wj5X",
        "colab_type": "code",
        "outputId": "83409a39-1398-45f0-b376-4b946dd45895",
        "colab": {
          "base_uri": "https://localhost:8080/",
          "height": 163
        }
      },
      "source": [
        "print('\\033[1m'+'Clustering metrics - unsupervised'+'\\033[0m')\n",
        "print('Silhouette: ',metrics.silhouette_score(dfsc1, sc1pp3labelshyp2_03, metric='euclidean'))\n",
        "print('Davies-Bouldin Index: ',metrics.davies_bouldin_score(dfsc1, sc1pp3labelshyp2_03))\n",
        "print('Calinski-Harabasz Index: ',metrics.calinski_harabaz_score(dfsc1, sc1pp3labelshyp2_03))"
      ],
      "execution_count": 0,
      "outputs": [
        {
          "output_type": "stream",
          "text": [
            "\u001b[1mClustering metrics - unsupervised\u001b[0m\n",
            "Silhouette:  0.4288065096810151\n",
            "Davies-Bouldin Index:  0.9334207124790502\n",
            "Calinski-Harabasz Index:  10289.228441627212\n",
            "time: 18.4 s\n"
          ],
          "name": "stdout"
        },
        {
          "output_type": "stream",
          "text": [
            "/usr/local/lib/python3.6/dist-packages/sklearn/utils/deprecation.py:87: FutureWarning: Function calinski_harabaz_score is deprecated; Function 'calinski_harabaz_score' has been renamed to 'calinski_harabasz_score' and will be removed in version 0.23.\n",
            "  warnings.warn(msg, category=FutureWarning)\n"
          ],
          "name": "stderr"
        }
      ]
    },
    {
      "cell_type": "markdown",
      "metadata": {
        "id": "skug6kAzWj5Y",
        "colab_type": "text"
      },
      "source": [
        "## Hyperparameter analysis: tol"
      ]
    },
    {
      "cell_type": "markdown",
      "metadata": {
        "id": "hXCkQzICWj5Y",
        "colab_type": "text"
      },
      "source": [
        "### 3 scenarios: 0.001, 0.01, 0.1"
      ]
    },
    {
      "cell_type": "markdown",
      "metadata": {
        "id": "yuYcm6b-Wj5b",
        "colab_type": "text"
      },
      "source": [
        "### 01 - tol = 0.001"
      ]
    },
    {
      "cell_type": "code",
      "metadata": {
        "id": "m9vxBieaWj5b",
        "colab_type": "code",
        "outputId": "716e4f97-f1e3-41fd-fdcd-9da4ab20b0d4",
        "colab": {
          "base_uri": "https://localhost:8080/",
          "height": 35
        }
      },
      "source": [
        "kmeansc1pp3hyp3_01 = KMeans(n_clusters=3, random_state=42, tol=0.001).fit(dfsc1)"
      ],
      "execution_count": 0,
      "outputs": [
        {
          "output_type": "stream",
          "text": [
            "time: 504 ms\n"
          ],
          "name": "stdout"
        }
      ]
    },
    {
      "cell_type": "code",
      "metadata": {
        "id": "Ov_h20aGWj5c",
        "colab_type": "code",
        "outputId": "eccf4bc4-860c-47ec-d2c8-4a858470eb73",
        "colab": {
          "base_uri": "https://localhost:8080/",
          "height": 35
        }
      },
      "source": [
        "kmeansc1pp3hyp3_01.labels_"
      ],
      "execution_count": 0,
      "outputs": [
        {
          "output_type": "execute_result",
          "data": {
            "text/plain": [
              "array([0, 0, 0, ..., 2, 2, 2], dtype=int32)"
            ]
          },
          "metadata": {
            "tags": []
          },
          "execution_count": 181
        },
        {
          "output_type": "stream",
          "text": [
            "time: 5.08 ms\n"
          ],
          "name": "stdout"
        }
      ]
    },
    {
      "cell_type": "code",
      "metadata": {
        "id": "UsYBJ37MWj5d",
        "colab_type": "code",
        "outputId": "9f058de1-8469-4afd-f49e-674c444a0eba",
        "colab": {
          "base_uri": "https://localhost:8080/",
          "height": 35
        }
      },
      "source": [
        "sc1pp3labelshyp3_01 = pd.Series(kmeansc1pp3hyp3_01.labels_)"
      ],
      "execution_count": 0,
      "outputs": [
        {
          "output_type": "stream",
          "text": [
            "time: 1.4 ms\n"
          ],
          "name": "stdout"
        }
      ]
    },
    {
      "cell_type": "code",
      "metadata": {
        "id": "Q9OOmIGiWj5e",
        "colab_type": "code",
        "outputId": "8d054f4c-50c6-445c-85aa-b6ff31307232",
        "colab": {
          "base_uri": "https://localhost:8080/",
          "height": 89
        }
      },
      "source": [
        "sc1pp3labelshyp3_01.value_counts()"
      ],
      "execution_count": 0,
      "outputs": [
        {
          "output_type": "execute_result",
          "data": {
            "text/plain": [
              "0    23813\n",
              "2    12288\n",
              "1      250\n",
              "dtype: int64"
            ]
          },
          "metadata": {
            "tags": []
          },
          "execution_count": 183
        },
        {
          "output_type": "stream",
          "text": [
            "time: 6.6 ms\n"
          ],
          "name": "stdout"
        }
      ]
    },
    {
      "cell_type": "code",
      "metadata": {
        "id": "0BTFx7XRWj5f",
        "colab_type": "code",
        "outputId": "1a395dcf-15fa-4033-cb8d-78da9d23564f",
        "colab": {
          "base_uri": "https://localhost:8080/",
          "height": 35
        }
      },
      "source": [
        "cmpp3hyp3_01 = confusion_matrix(target_system.System, sc1pp3labelshyp3_01)"
      ],
      "execution_count": 0,
      "outputs": [
        {
          "output_type": "stream",
          "text": [
            "time: 45.3 ms\n"
          ],
          "name": "stdout"
        }
      ]
    },
    {
      "cell_type": "code",
      "metadata": {
        "id": "GRGWrhYcWj5g",
        "colab_type": "code",
        "outputId": "91a69cb1-8be1-493a-ec80-c15c48237ea2",
        "colab": {
          "base_uri": "https://localhost:8080/",
          "height": 89
        }
      },
      "source": [
        "cmpp3hyp3_01"
      ],
      "execution_count": 0,
      "outputs": [
        {
          "output_type": "execute_result",
          "data": {
            "text/plain": [
              "array([[    0,     0,     0,     0],\n",
              "       [  671,     0,     0,     0],\n",
              "       [20527,     0,     0,     0],\n",
              "       [ 2615,   250, 12288,     0]])"
            ]
          },
          "metadata": {
            "tags": []
          },
          "execution_count": 185
        },
        {
          "output_type": "stream",
          "text": [
            "time: 3 ms\n"
          ],
          "name": "stdout"
        }
      ]
    },
    {
      "cell_type": "markdown",
      "metadata": {
        "id": "SkKan2YyWj5h",
        "colab_type": "text"
      },
      "source": [
        "## Check correct labels"
      ]
    },
    {
      "cell_type": "code",
      "metadata": {
        "id": "-I3_O2nZWj5h",
        "colab_type": "code",
        "outputId": "ad84e8da-1611-482d-efe2-bf9361cbc421",
        "colab": {
          "base_uri": "https://localhost:8080/",
          "height": 321
        }
      },
      "source": [
        "sns.heatmap(cmpp3hyp3_01,annot=True,cmap='coolwarm')\n",
        "plt.xlabel('Predicted')\n",
        "plt.ylabel('True')"
      ],
      "execution_count": 0,
      "outputs": [
        {
          "output_type": "execute_result",
          "data": {
            "text/plain": [
              "Text(30.5, 0.5, 'True')"
            ]
          },
          "metadata": {
            "tags": []
          },
          "execution_count": 186
        },
        {
          "output_type": "display_data",
          "data": {
            "image/png": "[encoded data removed]",
            "text/plain": [
              "<Figure size 432x288 with 2 Axes>"
            ]
          },
          "metadata": {
            "tags": []
          }
        },
        {
          "output_type": "stream",
          "text": [
            "time: 288 ms\n"
          ],
          "name": "stdout"
        }
      ]
    },
    {
      "cell_type": "markdown",
      "metadata": {
        "id": "36k66W6-Wj5m",
        "colab_type": "text"
      },
      "source": [
        "## Change to correct labels"
      ]
    },
    {
      "cell_type": "code",
      "metadata": {
        "id": "IPYk4Hq9Wj5n",
        "colab_type": "code",
        "outputId": "236137c9-d460-41ce-d856-78cdb0513b35",
        "colab": {
          "base_uri": "https://localhost:8080/",
          "height": 35
        }
      },
      "source": [
        "sc1pp3labelshyp3_01\n",
        "sc1pp3labelshyp3_01[sc1pp3labelshyp3_01 == 0] = 4\n",
        "sc1pp3labelshyp3_01[sc1pp3labelshyp3_01 == 1] = 5\n",
        "sc1pp3labelshyp3_01[sc1pp3labelshyp3_01 == 2] = 6"
      ],
      "execution_count": 0,
      "outputs": [
        {
          "output_type": "stream",
          "text": [
            "time: 14.9 ms\n"
          ],
          "name": "stdout"
        }
      ]
    },
    {
      "cell_type": "code",
      "metadata": {
        "id": "GLv27MrhWj5o",
        "colab_type": "code",
        "outputId": "6eefb92d-aaeb-4892-84e2-aa69b70e0b5c",
        "colab": {
          "base_uri": "https://localhost:8080/",
          "height": 35
        }
      },
      "source": [
        "sc1pp3labelshyp3_01[sc1pp3labelshyp3_01 == 4] = 2\n",
        "sc1pp3labelshyp3_01[sc1pp3labelshyp3_01 == 5] = 1\n",
        "sc1pp3labelshyp3_01[sc1pp3labelshyp3_01 == 6] = 3"
      ],
      "execution_count": 0,
      "outputs": [
        {
          "output_type": "stream",
          "text": [
            "time: 15.3 ms\n"
          ],
          "name": "stdout"
        }
      ]
    },
    {
      "cell_type": "markdown",
      "metadata": {
        "id": "KhgKEWKYWj5q",
        "colab_type": "text"
      },
      "source": [
        "## Check heatmap"
      ]
    },
    {
      "cell_type": "code",
      "metadata": {
        "id": "dMTXm_LIWj5q",
        "colab_type": "code",
        "outputId": "cbe39bfd-af41-4ee9-dddf-7c6b7441b150",
        "colab": {
          "base_uri": "https://localhost:8080/",
          "height": 35
        }
      },
      "source": [
        "cmpp3hyp3_01 = confusion_matrix(target_system.System, sc1pp3labelshyp3_01)"
      ],
      "execution_count": 0,
      "outputs": [
        {
          "output_type": "stream",
          "text": [
            "time: 38.7 ms\n"
          ],
          "name": "stdout"
        }
      ]
    },
    {
      "cell_type": "code",
      "metadata": {
        "id": "xa04oG_HWj5s",
        "colab_type": "code",
        "outputId": "59e26bf4-733e-444b-9fe9-ab3776f5704d",
        "colab": {
          "base_uri": "https://localhost:8080/",
          "height": 71
        }
      },
      "source": [
        "cmpp3hyp3_01"
      ],
      "execution_count": 0,
      "outputs": [
        {
          "output_type": "execute_result",
          "data": {
            "text/plain": [
              "array([[    0,   671,     0],\n",
              "       [    0, 20527,     0],\n",
              "       [  250,  2615, 12288]])"
            ]
          },
          "metadata": {
            "tags": []
          },
          "execution_count": 190
        },
        {
          "output_type": "stream",
          "text": [
            "time: 3.68 ms\n"
          ],
          "name": "stdout"
        }
      ]
    },
    {
      "cell_type": "code",
      "metadata": {
        "id": "QVEeqbNRWj5t",
        "colab_type": "code",
        "outputId": "6231c5f3-a21c-4a44-9670-27b391ab4c80",
        "colab": {
          "base_uri": "https://localhost:8080/",
          "height": 321
        }
      },
      "source": [
        "sns.heatmap(cmpp3hyp3_01,annot=True,cmap='coolwarm')\n",
        "plt.xlabel('Predicted')\n",
        "plt.ylabel('True')"
      ],
      "execution_count": 0,
      "outputs": [
        {
          "output_type": "execute_result",
          "data": {
            "text/plain": [
              "Text(30.5, 0.5, 'True')"
            ]
          },
          "metadata": {
            "tags": []
          },
          "execution_count": 191
        },
        {
          "output_type": "display_data",
          "data": {
            "image/png": "[encoded data removed]",
            "text/plain": [
              "<Figure size 432x288 with 2 Axes>"
            ]
          },
          "metadata": {
            "tags": []
          }
        },
        {
          "output_type": "stream",
          "text": [
            "time: 262 ms\n"
          ],
          "name": "stdout"
        }
      ]
    },
    {
      "cell_type": "code",
      "metadata": {
        "id": "r3lAB-UbWj5u",
        "colab_type": "code",
        "outputId": "f4f0f994-8927-44b2-a0e0-cfde05c3b946",
        "colab": {
          "base_uri": "https://localhost:8080/",
          "height": 35
        }
      },
      "source": [
        "reportpp3hyp3_01 = classification_report(target_system, sc1pp3labelshyp3_01,output_dict = True)"
      ],
      "execution_count": 0,
      "outputs": [
        {
          "output_type": "stream",
          "text": [
            "time: 44.7 ms\n"
          ],
          "name": "stdout"
        }
      ]
    },
    {
      "cell_type": "code",
      "metadata": {
        "id": "CLEGj_6hWj5v",
        "colab_type": "code",
        "outputId": "876990a7-06f9-478d-fbf9-2abe1b1c1746",
        "colab": {
          "base_uri": "https://localhost:8080/",
          "height": 341
        }
      },
      "source": [
        "reportpp3hyp3_01"
      ],
      "execution_count": 0,
      "outputs": [
        {
          "output_type": "execute_result",
          "data": {
            "text/plain": [
              "{'1': {'f1-score': 0.0, 'precision': 0.0, 'recall': 0.0, 'support': 671},\n",
              " '2': {'f1-score': 0.9258908434821831,\n",
              "  'precision': 0.8620081468105657,\n",
              "  'recall': 1.0,\n",
              "  'support': 20527},\n",
              " '3': {'f1-score': 0.895594183885427,\n",
              "  'precision': 1.0,\n",
              "  'recall': 0.8109285290041576,\n",
              "  'support': 15153},\n",
              " 'accuracy': 0.9027261973535804,\n",
              " 'macro avg': {'f1-score': 0.6071616757892033,\n",
              "  'precision': 0.6206693822701886,\n",
              "  'recall': 0.6036428430013858,\n",
              "  'support': 36351},\n",
              " 'weighted avg': {'f1-score': 0.8961706696535073,\n",
              "  'precision': 0.9036186412913119,\n",
              "  'recall': 0.9027261973535804,\n",
              "  'support': 36351}}"
            ]
          },
          "metadata": {
            "tags": []
          },
          "execution_count": 193
        },
        {
          "output_type": "stream",
          "text": [
            "time: 4.91 ms\n"
          ],
          "name": "stdout"
        }
      ]
    },
    {
      "cell_type": "code",
      "metadata": {
        "id": "Qbl1o_WyWj5x",
        "colab_type": "code",
        "outputId": "854b9bae-f5d2-4a1f-f5b5-94904983862b",
        "colab": {
          "base_uri": "https://localhost:8080/",
          "height": 305
        }
      },
      "source": [
        "print(\"Confusion matrix\\n\",metrics.confusion_matrix(y_true=target_system.System,y_pred=sc1pp3labelshyp3_01)) \n",
        "print(\"Classification report\\n\",metrics.classification_report(y_true=target_system.System,y_pred=sc1pp3labelshyp3_01))"
      ],
      "execution_count": 0,
      "outputs": [
        {
          "output_type": "stream",
          "text": [
            "Confusion matrix\n",
            " [[    0   671     0]\n",
            " [    0 20527     0]\n",
            " [  250  2615 12288]]\n",
            "Classification report\n",
            "               precision    recall  f1-score   support\n",
            "\n",
            "           1       0.00      0.00      0.00       671\n",
            "           2       0.86      1.00      0.93     20527\n",
            "           3       1.00      0.81      0.90     15153\n",
            "\n",
            "    accuracy                           0.90     36351\n",
            "   macro avg       0.62      0.60      0.61     36351\n",
            "weighted avg       0.90      0.90      0.90     36351\n",
            "\n",
            "time: 84.6 ms\n"
          ],
          "name": "stdout"
        }
      ]
    },
    {
      "cell_type": "code",
      "metadata": {
        "id": "1IBi_ukrWj5y",
        "colab_type": "code",
        "outputId": "04c8105c-be39-4879-f0ff-36a54d202b30",
        "colab": {
          "base_uri": "https://localhost:8080/",
          "height": 323
        }
      },
      "source": [
        "print('\\033[1m'+\"Kmeans++:\"+'\\033[0m')\n",
        "print('\\033[1m'+\"System 1\"+'\\033[0m')\n",
        "print(\"Precision = {0:0.3f}\".format(reportpp3hyp3_01[\"1\"][\"precision\"]))\n",
        "print(\"Recall = {0:0.3f}\".format(reportpp3hyp3_01[\"1\"][\"recall\"]))\n",
        "print(\"F1-score = {0:0.3f}\".format(reportpp3hyp3_01[\"1\"][\"f1-score\"]))\n",
        "print(\"Support = {0:0.3f}\".format(reportpp3hyp3_01[\"1\"][\"support\"]))\n",
        "print('\\033[1m'+\"System 2\"+'\\033[0m')\n",
        "print(\"Precision = {0:0.3f}\".format(reportpp3hyp3_01[\"2\"][\"precision\"]))\n",
        "print(\"Recall = {0:0.3f}\".format(reportpp3hyp3_01[\"2\"][\"recall\"]))\n",
        "print(\"F1-score = {0:0.3f}\".format(reportpp3hyp3_01[\"2\"][\"f1-score\"]))\n",
        "print(\"Support = {0:0.3f}\".format(reportpp3hyp3_01[\"2\"][\"support\"]))\n",
        "print('\\033[1m'+\"System 3\"+'\\033[0m')\n",
        "print(\"Precision = {0:0.3f}\".format(reportpp3hyp3_01[\"3\"][\"precision\"]))\n",
        "print(\"Recall = {0:0.3f}\".format(reportpp3hyp3_01[\"3\"][\"recall\"]))\n",
        "print(\"F1-score = {0:0.3f}\".format(reportpp3hyp3_01[\"3\"][\"f1-score\"]))\n",
        "print(\"Support = {0:0.3f}\".format(reportpp3hyp3_01[\"3\"][\"support\"]))"
      ],
      "execution_count": 0,
      "outputs": [
        {
          "output_type": "stream",
          "text": [
            "\u001b[1mKmeans++:\u001b[0m\n",
            "\u001b[1mSystem 1\u001b[0m\n",
            "Precision = 0.000\n",
            "Recall = 0.000\n",
            "F1-score = 0.000\n",
            "Support = 671.000\n",
            "\u001b[1mSystem 2\u001b[0m\n",
            "Precision = 0.862\n",
            "Recall = 1.000\n",
            "F1-score = 0.926\n",
            "Support = 20527.000\n",
            "\u001b[1mSystem 3\u001b[0m\n",
            "Precision = 1.000\n",
            "Recall = 0.811\n",
            "F1-score = 0.896\n",
            "Support = 15153.000\n",
            "time: 14.6 ms\n"
          ],
          "name": "stdout"
        }
      ]
    },
    {
      "cell_type": "code",
      "metadata": {
        "id": "LwONGM-FWj5y",
        "colab_type": "code",
        "outputId": "4ce7dbe7-4030-4d8f-c0eb-e81671c85bf4",
        "colab": {
          "base_uri": "https://localhost:8080/",
          "height": 161
        }
      },
      "source": [
        "print('\\033[1m'+'Clustering metrics - supervised'+'\\033[0m')\n",
        "print('Adjusted Rand score: ', metrics.adjusted_rand_score(target_system.System, sc1pp3labelshyp3_01))\n",
        "print('Mutual info score: ', metrics.adjusted_mutual_info_score(target_system.System, sc1pp3labelshyp3_01))\n",
        "print('Homogeneity score: ', metrics.homogeneity_score(target_system.System, sc1pp3labelshyp3_01))\n",
        "print('Completeness score: ', metrics.completeness_score(target_system.System, sc1pp3labelshyp3_01))\n",
        "print('V-measure: ', metrics.v_measure_score(target_system.System, sc1pp3labelshyp3_01))\n",
        "print('Fowlkes-Mallows score: ', metrics.fowlkes_mallows_score(target_system.System, sc1pp3labelshyp3_01))"
      ],
      "execution_count": 0,
      "outputs": [
        {
          "output_type": "stream",
          "text": [
            "\u001b[1mClustering metrics - supervised\u001b[0m\n",
            "Adjusted Rand score:  0.6823361077431518\n",
            "Mutual info score:  0.6288415438002335\n",
            "Homogeneity score:  0.5945082951466247\n",
            "Completeness score:  0.6674481883802669\n",
            "V-measure:  0.6288703132831919\n",
            "Fowlkes-Mallows score:  0.8475658942266868\n",
            "time: 80.1 ms\n"
          ],
          "name": "stdout"
        }
      ]
    },
    {
      "cell_type": "code",
      "metadata": {
        "id": "Hl6qlDg6Wj5z",
        "colab_type": "code",
        "outputId": "a052c9dd-85df-4fcd-b211-e8bfc09959b5",
        "colab": {
          "base_uri": "https://localhost:8080/",
          "height": 163
        }
      },
      "source": [
        "print('\\033[1m'+'Clustering metrics - unsupervised'+'\\033[0m')\n",
        "print('Silhouette: ',metrics.silhouette_score(dfsc1, sc1pp3labelshyp3_01, metric='euclidean'))\n",
        "print('Davies-Bouldin Index: ',metrics.davies_bouldin_score(dfsc1, sc1pp3labelshyp3_01))\n",
        "print('Calinski-Harabasz Index: ',metrics.calinski_harabaz_score(dfsc1, sc1pp3labelshyp3_01))"
      ],
      "execution_count": 0,
      "outputs": [
        {
          "output_type": "stream",
          "text": [
            "\u001b[1mClustering metrics - unsupervised\u001b[0m\n",
            "Silhouette:  0.4288065096810151\n",
            "Davies-Bouldin Index:  0.9334207124790502\n",
            "Calinski-Harabasz Index:  10289.228441627212\n",
            "time: 18.5 s\n"
          ],
          "name": "stdout"
        },
        {
          "output_type": "stream",
          "text": [
            "/usr/local/lib/python3.6/dist-packages/sklearn/utils/deprecation.py:87: FutureWarning: Function calinski_harabaz_score is deprecated; Function 'calinski_harabaz_score' has been renamed to 'calinski_harabasz_score' and will be removed in version 0.23.\n",
            "  warnings.warn(msg, category=FutureWarning)\n"
          ],
          "name": "stderr"
        }
      ]
    },
    {
      "cell_type": "markdown",
      "metadata": {
        "id": "tLz0C6mdWj50",
        "colab_type": "text"
      },
      "source": [
        "### 02 - tol = 0.01"
      ]
    },
    {
      "cell_type": "code",
      "metadata": {
        "id": "JsIgXetLWj50",
        "colab_type": "code",
        "outputId": "b96f54e3-7179-466a-c074-49ac5b9c6168",
        "colab": {
          "base_uri": "https://localhost:8080/",
          "height": 35
        }
      },
      "source": [
        "kmeansc1pp3hyp3_02 = KMeans(n_clusters=3, random_state=42, tol=0.01).fit(dfsc1)"
      ],
      "execution_count": 0,
      "outputs": [
        {
          "output_type": "stream",
          "text": [
            "time: 476 ms\n"
          ],
          "name": "stdout"
        }
      ]
    },
    {
      "cell_type": "code",
      "metadata": {
        "id": "Sfe108uAWj50",
        "colab_type": "code",
        "outputId": "c5d981d6-f5b8-4695-e57f-72cb4b96571b",
        "colab": {
          "base_uri": "https://localhost:8080/",
          "height": 35
        }
      },
      "source": [
        "kmeansc1pp3hyp3_02.labels_"
      ],
      "execution_count": 0,
      "outputs": [
        {
          "output_type": "execute_result",
          "data": {
            "text/plain": [
              "array([0, 0, 0, ..., 2, 2, 2], dtype=int32)"
            ]
          },
          "metadata": {
            "tags": []
          },
          "execution_count": 199
        },
        {
          "output_type": "stream",
          "text": [
            "time: 3.65 ms\n"
          ],
          "name": "stdout"
        }
      ]
    },
    {
      "cell_type": "code",
      "metadata": {
        "id": "8tdZE-09Wj51",
        "colab_type": "code",
        "outputId": "3b176228-8baf-4c1b-a110-a0941c4c7cff",
        "colab": {
          "base_uri": "https://localhost:8080/",
          "height": 35
        }
      },
      "source": [
        "sc1pp3labelshyp3_02 = pd.Series(kmeansc1pp3hyp3_02.labels_)"
      ],
      "execution_count": 0,
      "outputs": [
        {
          "output_type": "stream",
          "text": [
            "time: 2.45 ms\n"
          ],
          "name": "stdout"
        }
      ]
    },
    {
      "cell_type": "code",
      "metadata": {
        "id": "jBEL5_z2Wj52",
        "colab_type": "code",
        "outputId": "66544b76-def5-4eaa-b37d-bdf2baefa392",
        "colab": {
          "base_uri": "https://localhost:8080/",
          "height": 89
        }
      },
      "source": [
        "sc1pp3labelshyp3_02.value_counts()"
      ],
      "execution_count": 0,
      "outputs": [
        {
          "output_type": "execute_result",
          "data": {
            "text/plain": [
              "0    23813\n",
              "2    12288\n",
              "1      250\n",
              "dtype: int64"
            ]
          },
          "metadata": {
            "tags": []
          },
          "execution_count": 201
        },
        {
          "output_type": "stream",
          "text": [
            "time: 15.7 ms\n"
          ],
          "name": "stdout"
        }
      ]
    },
    {
      "cell_type": "code",
      "metadata": {
        "id": "ygS4vZw6Wj53",
        "colab_type": "code",
        "outputId": "dbc58b9c-7135-41ea-f52c-7fab525c2f44",
        "colab": {
          "base_uri": "https://localhost:8080/",
          "height": 35
        }
      },
      "source": [
        "cmpp3hyp3_02 = confusion_matrix(target_system.System, sc1pp3labelshyp3_02)"
      ],
      "execution_count": 0,
      "outputs": [
        {
          "output_type": "stream",
          "text": [
            "time: 48.6 ms\n"
          ],
          "name": "stdout"
        }
      ]
    },
    {
      "cell_type": "code",
      "metadata": {
        "id": "ceZX-HT-Wj54",
        "colab_type": "code",
        "outputId": "e5650d99-4f70-4195-ff51-902ff36b9087",
        "colab": {
          "base_uri": "https://localhost:8080/",
          "height": 89
        }
      },
      "source": [
        "cmpp3hyp3_02"
      ],
      "execution_count": 0,
      "outputs": [
        {
          "output_type": "execute_result",
          "data": {
            "text/plain": [
              "array([[    0,     0,     0,     0],\n",
              "       [  671,     0,     0,     0],\n",
              "       [20527,     0,     0,     0],\n",
              "       [ 2615,   250, 12288,     0]])"
            ]
          },
          "metadata": {
            "tags": []
          },
          "execution_count": 203
        },
        {
          "output_type": "stream",
          "text": [
            "time: 3.43 ms\n"
          ],
          "name": "stdout"
        }
      ]
    },
    {
      "cell_type": "markdown",
      "metadata": {
        "id": "x0-cYmhTWj56",
        "colab_type": "text"
      },
      "source": [
        "## Check correct labels"
      ]
    },
    {
      "cell_type": "code",
      "metadata": {
        "id": "czdwXz_BWj56",
        "colab_type": "code",
        "outputId": "05503f52-178a-4784-ffbc-fda8e5a0ce3a",
        "colab": {
          "base_uri": "https://localhost:8080/",
          "height": 321
        }
      },
      "source": [
        "sns.heatmap(cmpp3hyp3_02,annot=True,cmap='coolwarm')\n",
        "plt.xlabel('Predicted')\n",
        "plt.ylabel('True')"
      ],
      "execution_count": 0,
      "outputs": [
        {
          "output_type": "execute_result",
          "data": {
            "text/plain": [
              "Text(30.5, 0.5, 'True')"
            ]
          },
          "metadata": {
            "tags": []
          },
          "execution_count": 204
        },
        {
          "output_type": "display_data",
          "data": {
            "image/png": "[encoded data removed]",
            "text/plain": [
              "<Figure size 432x288 with 2 Axes>"
            ]
          },
          "metadata": {
            "tags": []
          }
        },
        {
          "output_type": "stream",
          "text": [
            "time: 293 ms\n"
          ],
          "name": "stdout"
        }
      ]
    },
    {
      "cell_type": "markdown",
      "metadata": {
        "id": "EQKpDNMzWj57",
        "colab_type": "text"
      },
      "source": [
        "## Change to correct labels"
      ]
    },
    {
      "cell_type": "code",
      "metadata": {
        "id": "kl1voQNeWj57",
        "colab_type": "code",
        "outputId": "66a4e611-8da7-4bcd-c646-2c485fc3e825",
        "colab": {
          "base_uri": "https://localhost:8080/",
          "height": 35
        }
      },
      "source": [
        "sc1pp3labelshyp3_02\n",
        "sc1pp3labelshyp3_02[sc1pp3labelshyp3_02 == 0] = 4\n",
        "sc1pp3labelshyp3_02[sc1pp3labelshyp3_02 == 1] = 5\n",
        "sc1pp3labelshyp3_02[sc1pp3labelshyp3_02 == 2] = 6"
      ],
      "execution_count": 0,
      "outputs": [
        {
          "output_type": "stream",
          "text": [
            "time: 13.9 ms\n"
          ],
          "name": "stdout"
        }
      ]
    },
    {
      "cell_type": "code",
      "metadata": {
        "id": "Lf7H53LlWj58",
        "colab_type": "code",
        "outputId": "ac8d3a84-bda2-4021-b3ff-b7094d73f48a",
        "colab": {
          "base_uri": "https://localhost:8080/",
          "height": 35
        }
      },
      "source": [
        "sc1pp3labelshyp3_02[sc1pp3labelshyp3_02 == 4] = 2\n",
        "sc1pp3labelshyp3_02[sc1pp3labelshyp3_02 == 5] = 1\n",
        "sc1pp3labelshyp3_02[sc1pp3labelshyp3_02 == 6] = 3"
      ],
      "execution_count": 0,
      "outputs": [
        {
          "output_type": "stream",
          "text": [
            "time: 14.4 ms\n"
          ],
          "name": "stdout"
        }
      ]
    },
    {
      "cell_type": "markdown",
      "metadata": {
        "id": "zEQKvMmKWj59",
        "colab_type": "text"
      },
      "source": [
        "## Check heatmap"
      ]
    },
    {
      "cell_type": "code",
      "metadata": {
        "id": "GN5QGMSHWj59",
        "colab_type": "code",
        "outputId": "60574004-2a22-4b52-83cd-9fc01ad03855",
        "colab": {
          "base_uri": "https://localhost:8080/",
          "height": 35
        }
      },
      "source": [
        "cmpp3hyp3_02 = confusion_matrix(target_system.System, sc1pp3labelshyp3_02)"
      ],
      "execution_count": 0,
      "outputs": [
        {
          "output_type": "stream",
          "text": [
            "time: 40.1 ms\n"
          ],
          "name": "stdout"
        }
      ]
    },
    {
      "cell_type": "code",
      "metadata": {
        "id": "SbVOP4ndWj5-",
        "colab_type": "code",
        "outputId": "8559705c-ce27-4413-bdf3-93d283189920",
        "colab": {
          "base_uri": "https://localhost:8080/",
          "height": 71
        }
      },
      "source": [
        "cmpp3hyp3_02"
      ],
      "execution_count": 0,
      "outputs": [
        {
          "output_type": "execute_result",
          "data": {
            "text/plain": [
              "array([[    0,   671,     0],\n",
              "       [    0, 20527,     0],\n",
              "       [  250,  2615, 12288]])"
            ]
          },
          "metadata": {
            "tags": []
          },
          "execution_count": 208
        },
        {
          "output_type": "stream",
          "text": [
            "time: 3.46 ms\n"
          ],
          "name": "stdout"
        }
      ]
    },
    {
      "cell_type": "code",
      "metadata": {
        "id": "5jwLtXx7Wj5_",
        "colab_type": "code",
        "outputId": "02a18bf7-8712-4353-a512-723cc189c1f6",
        "colab": {
          "base_uri": "https://localhost:8080/",
          "height": 321
        }
      },
      "source": [
        "sns.heatmap(cmpp3hyp3_02,annot=True,cmap='coolwarm')\n",
        "plt.xlabel('Predicted')\n",
        "plt.ylabel('True')"
      ],
      "execution_count": 0,
      "outputs": [
        {
          "output_type": "execute_result",
          "data": {
            "text/plain": [
              "Text(30.5, 0.5, 'True')"
            ]
          },
          "metadata": {
            "tags": []
          },
          "execution_count": 209
        },
        {
          "output_type": "display_data",
          "data": {
            "image/png": "[encoded data removed]",
            "text/plain": [
              "<Figure size 432x288 with 2 Axes>"
            ]
          },
          "metadata": {
            "tags": []
          }
        },
        {
          "output_type": "stream",
          "text": [
            "time: 255 ms\n"
          ],
          "name": "stdout"
        }
      ]
    },
    {
      "cell_type": "code",
      "metadata": {
        "id": "_VyPvrJLWj5_",
        "colab_type": "code",
        "outputId": "9ef50e2a-d7e7-4f6a-c684-75b9811acbc7",
        "colab": {
          "base_uri": "https://localhost:8080/",
          "height": 35
        }
      },
      "source": [
        "reportpp3hyp3_02 = classification_report(target_system, sc1pp3labelshyp3_02,output_dict = True)"
      ],
      "execution_count": 0,
      "outputs": [
        {
          "output_type": "stream",
          "text": [
            "time: 47 ms\n"
          ],
          "name": "stdout"
        }
      ]
    },
    {
      "cell_type": "code",
      "metadata": {
        "id": "FYlNCJsAWj6A",
        "colab_type": "code",
        "outputId": "6fc3aa8e-e0ab-4923-e57d-3b5a2c9aa1e1",
        "colab": {
          "base_uri": "https://localhost:8080/",
          "height": 341
        }
      },
      "source": [
        "reportpp3hyp3_02"
      ],
      "execution_count": 0,
      "outputs": [
        {
          "output_type": "execute_result",
          "data": {
            "text/plain": [
              "{'1': {'f1-score': 0.0, 'precision': 0.0, 'recall': 0.0, 'support': 671},\n",
              " '2': {'f1-score': 0.9258908434821831,\n",
              "  'precision': 0.8620081468105657,\n",
              "  'recall': 1.0,\n",
              "  'support': 20527},\n",
              " '3': {'f1-score': 0.895594183885427,\n",
              "  'precision': 1.0,\n",
              "  'recall': 0.8109285290041576,\n",
              "  'support': 15153},\n",
              " 'accuracy': 0.9027261973535804,\n",
              " 'macro avg': {'f1-score': 0.6071616757892033,\n",
              "  'precision': 0.6206693822701886,\n",
              "  'recall': 0.6036428430013858,\n",
              "  'support': 36351},\n",
              " 'weighted avg': {'f1-score': 0.8961706696535073,\n",
              "  'precision': 0.9036186412913119,\n",
              "  'recall': 0.9027261973535804,\n",
              "  'support': 36351}}"
            ]
          },
          "metadata": {
            "tags": []
          },
          "execution_count": 211
        },
        {
          "output_type": "stream",
          "text": [
            "time: 4.25 ms\n"
          ],
          "name": "stdout"
        }
      ]
    },
    {
      "cell_type": "code",
      "metadata": {
        "id": "wEk3VZiBWj6B",
        "colab_type": "code",
        "outputId": "f7def2dd-c3cd-4570-d7fd-dc7371fd0248",
        "colab": {
          "base_uri": "https://localhost:8080/",
          "height": 305
        }
      },
      "source": [
        "print(\"Confusion matrix\\n\",metrics.confusion_matrix(y_true=target_system.System,y_pred=sc1pp3labelshyp3_02)) \n",
        "print(\"Classification report\\n\",metrics.classification_report(y_true=target_system.System,y_pred=sc1pp3labelshyp3_02))"
      ],
      "execution_count": 0,
      "outputs": [
        {
          "output_type": "stream",
          "text": [
            "Confusion matrix\n",
            " [[    0   671     0]\n",
            " [    0 20527     0]\n",
            " [  250  2615 12288]]\n",
            "Classification report\n",
            "               precision    recall  f1-score   support\n",
            "\n",
            "           1       0.00      0.00      0.00       671\n",
            "           2       0.86      1.00      0.93     20527\n",
            "           3       1.00      0.81      0.90     15153\n",
            "\n",
            "    accuracy                           0.90     36351\n",
            "   macro avg       0.62      0.60      0.61     36351\n",
            "weighted avg       0.90      0.90      0.90     36351\n",
            "\n",
            "time: 77.6 ms\n"
          ],
          "name": "stdout"
        }
      ]
    },
    {
      "cell_type": "code",
      "metadata": {
        "id": "U1ndqt-wWj6D",
        "colab_type": "code",
        "outputId": "0ff6fe23-1ac7-415b-e3bf-d1783014d513",
        "colab": {
          "base_uri": "https://localhost:8080/",
          "height": 323
        }
      },
      "source": [
        "print('\\033[1m'+\"Kmeans++:\"+'\\033[0m')\n",
        "print('\\033[1m'+\"System 1\"+'\\033[0m')\n",
        "print(\"Precision = {0:0.3f}\".format(reportpp3hyp3_02[\"1\"][\"precision\"]))\n",
        "print(\"Recall = {0:0.3f}\".format(reportpp3hyp3_02[\"1\"][\"recall\"]))\n",
        "print(\"F1-score = {0:0.3f}\".format(reportpp3hyp3_02[\"1\"][\"f1-score\"]))\n",
        "print(\"Support = {0:0.3f}\".format(reportpp3hyp3_02[\"1\"][\"support\"]))\n",
        "print('\\033[1m'+\"System 2\"+'\\033[0m')\n",
        "print(\"Precision = {0:0.3f}\".format(reportpp3hyp3_02[\"2\"][\"precision\"]))\n",
        "print(\"Recall = {0:0.3f}\".format(reportpp3hyp3_02[\"2\"][\"recall\"]))\n",
        "print(\"F1-score = {0:0.3f}\".format(reportpp3hyp3_02[\"2\"][\"f1-score\"]))\n",
        "print(\"Support = {0:0.3f}\".format(reportpp3hyp3_02[\"2\"][\"support\"]))\n",
        "print('\\033[1m'+\"System 3\"+'\\033[0m')\n",
        "print(\"Precision = {0:0.3f}\".format(reportpp3hyp3_02[\"3\"][\"precision\"]))\n",
        "print(\"Recall = {0:0.3f}\".format(reportpp3hyp3_02[\"3\"][\"recall\"]))\n",
        "print(\"F1-score = {0:0.3f}\".format(reportpp3hyp3_02[\"3\"][\"f1-score\"]))\n",
        "print(\"Support = {0:0.3f}\".format(reportpp3hyp3_02[\"3\"][\"support\"]))"
      ],
      "execution_count": 0,
      "outputs": [
        {
          "output_type": "stream",
          "text": [
            "\u001b[1mKmeans++:\u001b[0m\n",
            "\u001b[1mSystem 1\u001b[0m\n",
            "Precision = 0.000\n",
            "Recall = 0.000\n",
            "F1-score = 0.000\n",
            "Support = 671.000\n",
            "\u001b[1mSystem 2\u001b[0m\n",
            "Precision = 0.862\n",
            "Recall = 1.000\n",
            "F1-score = 0.926\n",
            "Support = 20527.000\n",
            "\u001b[1mSystem 3\u001b[0m\n",
            "Precision = 1.000\n",
            "Recall = 0.811\n",
            "F1-score = 0.896\n",
            "Support = 15153.000\n",
            "time: 15.3 ms\n"
          ],
          "name": "stdout"
        }
      ]
    },
    {
      "cell_type": "code",
      "metadata": {
        "id": "QNtLVdAqWj6E",
        "colab_type": "code",
        "outputId": "4a7cc113-6739-4910-b680-998e9b04ec5a",
        "colab": {
          "base_uri": "https://localhost:8080/",
          "height": 161
        }
      },
      "source": [
        "print('\\033[1m'+'Clustering metrics - supervised'+'\\033[0m')\n",
        "print('Adjusted Rand score: ', metrics.adjusted_rand_score(target_system.System, sc1pp3labelshyp3_02))\n",
        "print('Mutual info score: ', metrics.adjusted_mutual_info_score(target_system.System, sc1pp3labelshyp3_02))\n",
        "print('Homogeneity score: ', metrics.homogeneity_score(target_system.System, sc1pp3labelshyp3_02))\n",
        "print('Completeness score: ', metrics.completeness_score(target_system.System, sc1pp3labelshyp3_02))\n",
        "print('V-measure: ', metrics.v_measure_score(target_system.System, sc1pp3labelshyp3_02))\n",
        "print('Fowlkes-Mallows score: ', metrics.fowlkes_mallows_score(target_system.System, sc1pp3labelshyp3_02))"
      ],
      "execution_count": 0,
      "outputs": [
        {
          "output_type": "stream",
          "text": [
            "\u001b[1mClustering metrics - supervised\u001b[0m\n",
            "Adjusted Rand score:  0.6823361077431518\n",
            "Mutual info score:  0.6288415438002335\n",
            "Homogeneity score:  0.5945082951466247\n",
            "Completeness score:  0.6674481883802669\n",
            "V-measure:  0.6288703132831919\n",
            "Fowlkes-Mallows score:  0.8475658942266868\n",
            "time: 63.8 ms\n"
          ],
          "name": "stdout"
        }
      ]
    },
    {
      "cell_type": "code",
      "metadata": {
        "id": "mBMkB8vEWj6F",
        "colab_type": "code",
        "outputId": "80476ce6-d860-4432-a267-590ef1f3bc02",
        "colab": {
          "base_uri": "https://localhost:8080/",
          "height": 163
        }
      },
      "source": [
        "print('\\033[1m'+'Clustering metrics - unsupervised'+'\\033[0m')\n",
        "print('Silhouette: ',metrics.silhouette_score(dfsc1, sc1pp3labelshyp3_02, metric='euclidean'))\n",
        "print('Davies-Bouldin Index: ',metrics.davies_bouldin_score(dfsc1, sc1pp3labelshyp3_02))\n",
        "print('Calinski-Harabasz Index: ',metrics.calinski_harabaz_score(dfsc1, sc1pp3labelshyp3_02))"
      ],
      "execution_count": 0,
      "outputs": [
        {
          "output_type": "stream",
          "text": [
            "\u001b[1mClustering metrics - unsupervised\u001b[0m\n",
            "Silhouette:  0.4288065096810151\n",
            "Davies-Bouldin Index:  0.9334207124790502\n",
            "Calinski-Harabasz Index:  10289.228441627212\n",
            "time: 18.3 s\n"
          ],
          "name": "stdout"
        },
        {
          "output_type": "stream",
          "text": [
            "/usr/local/lib/python3.6/dist-packages/sklearn/utils/deprecation.py:87: FutureWarning: Function calinski_harabaz_score is deprecated; Function 'calinski_harabaz_score' has been renamed to 'calinski_harabasz_score' and will be removed in version 0.23.\n",
            "  warnings.warn(msg, category=FutureWarning)\n"
          ],
          "name": "stderr"
        }
      ]
    },
    {
      "cell_type": "markdown",
      "metadata": {
        "id": "gEfc6M0IWj6G",
        "colab_type": "text"
      },
      "source": [
        "### 03 - tol = 0.1"
      ]
    },
    {
      "cell_type": "code",
      "metadata": {
        "id": "SXomSAkJWj6G",
        "colab_type": "code",
        "outputId": "b8069099-a0dd-4892-ce89-653be260ccf8",
        "colab": {
          "base_uri": "https://localhost:8080/",
          "height": 35
        }
      },
      "source": [
        "kmeansc1pp3hyp3_03 = KMeans(n_clusters=3, random_state=42, tol=0.1).fit(dfsc1)"
      ],
      "execution_count": 0,
      "outputs": [
        {
          "output_type": "stream",
          "text": [
            "time: 478 ms\n"
          ],
          "name": "stdout"
        }
      ]
    },
    {
      "cell_type": "code",
      "metadata": {
        "id": "cxmb_c39Wj6I",
        "colab_type": "code",
        "outputId": "e113a84e-4f57-4eb8-eeb8-f3411e02da1a",
        "colab": {
          "base_uri": "https://localhost:8080/",
          "height": 35
        }
      },
      "source": [
        "kmeansc1pp3hyp3_03.labels_"
      ],
      "execution_count": 0,
      "outputs": [
        {
          "output_type": "execute_result",
          "data": {
            "text/plain": [
              "array([0, 0, 0, ..., 2, 2, 2], dtype=int32)"
            ]
          },
          "metadata": {
            "tags": []
          },
          "execution_count": 217
        },
        {
          "output_type": "stream",
          "text": [
            "time: 3.58 ms\n"
          ],
          "name": "stdout"
        }
      ]
    },
    {
      "cell_type": "code",
      "metadata": {
        "id": "p0VbZIcGWj6I",
        "colab_type": "code",
        "outputId": "d485d2b6-534a-45cb-c6ed-08ad3c903847",
        "colab": {
          "base_uri": "https://localhost:8080/",
          "height": 35
        }
      },
      "source": [
        "sc1pp3labelshyp3_03 = pd.Series(kmeansc1pp3hyp3_03.labels_)"
      ],
      "execution_count": 0,
      "outputs": [
        {
          "output_type": "stream",
          "text": [
            "time: 2.84 ms\n"
          ],
          "name": "stdout"
        }
      ]
    },
    {
      "cell_type": "code",
      "metadata": {
        "id": "Pw0sPrxUWj6J",
        "colab_type": "code",
        "outputId": "4c821f4c-e3f9-4fd8-b71a-e064391b6595",
        "colab": {
          "base_uri": "https://localhost:8080/",
          "height": 89
        }
      },
      "source": [
        "sc1pp3labelshyp3_03.value_counts()"
      ],
      "execution_count": 0,
      "outputs": [
        {
          "output_type": "execute_result",
          "data": {
            "text/plain": [
              "0    23813\n",
              "2    12288\n",
              "1      250\n",
              "dtype: int64"
            ]
          },
          "metadata": {
            "tags": []
          },
          "execution_count": 219
        },
        {
          "output_type": "stream",
          "text": [
            "time: 12.7 ms\n"
          ],
          "name": "stdout"
        }
      ]
    },
    {
      "cell_type": "code",
      "metadata": {
        "id": "SEkzfyLeWj6K",
        "colab_type": "code",
        "outputId": "142f6d3b-5328-4aeb-f943-175ba9bf2517",
        "colab": {
          "base_uri": "https://localhost:8080/",
          "height": 35
        }
      },
      "source": [
        "cmpp3hyp3_03 = confusion_matrix(target_system.System, sc1pp3labelshyp3_03)"
      ],
      "execution_count": 0,
      "outputs": [
        {
          "output_type": "stream",
          "text": [
            "time: 60.6 ms\n"
          ],
          "name": "stdout"
        }
      ]
    },
    {
      "cell_type": "code",
      "metadata": {
        "id": "spfIVcH4Wj6K",
        "colab_type": "code",
        "outputId": "78395899-4269-4ff4-8c05-4a48dd2930e8",
        "colab": {
          "base_uri": "https://localhost:8080/",
          "height": 89
        }
      },
      "source": [
        "cmpp3hyp3_03"
      ],
      "execution_count": 0,
      "outputs": [
        {
          "output_type": "execute_result",
          "data": {
            "text/plain": [
              "array([[    0,     0,     0,     0],\n",
              "       [  671,     0,     0,     0],\n",
              "       [20527,     0,     0,     0],\n",
              "       [ 2615,   250, 12288,     0]])"
            ]
          },
          "metadata": {
            "tags": []
          },
          "execution_count": 221
        },
        {
          "output_type": "stream",
          "text": [
            "time: 5.64 ms\n"
          ],
          "name": "stdout"
        }
      ]
    },
    {
      "cell_type": "markdown",
      "metadata": {
        "id": "imvwo6qgWj6L",
        "colab_type": "text"
      },
      "source": [
        "## Check correct labels"
      ]
    },
    {
      "cell_type": "code",
      "metadata": {
        "id": "VetxMqxiWj6L",
        "colab_type": "code",
        "outputId": "74df3be9-1b55-4634-9a3d-edb1868e7dcf",
        "colab": {
          "base_uri": "https://localhost:8080/",
          "height": 321
        }
      },
      "source": [
        "sns.heatmap(cmpp3hyp3_03,annot=True,cmap='coolwarm')\n",
        "plt.xlabel('Predicted')\n",
        "plt.ylabel('True')"
      ],
      "execution_count": 0,
      "outputs": [
        {
          "output_type": "execute_result",
          "data": {
            "text/plain": [
              "Text(30.5, 0.5, 'True')"
            ]
          },
          "metadata": {
            "tags": []
          },
          "execution_count": 222
        },
        {
          "output_type": "display_data",
          "data": {
            "image/png": "[encoded data removed]",
            "text/plain": [
              "<Figure size 432x288 with 2 Axes>"
            ]
          },
          "metadata": {
            "tags": []
          }
        },
        {
          "output_type": "stream",
          "text": [
            "time: 261 ms\n"
          ],
          "name": "stdout"
        }
      ]
    },
    {
      "cell_type": "markdown",
      "metadata": {
        "id": "gSNQXAMOWj6M",
        "colab_type": "text"
      },
      "source": [
        "## Change to correct labels"
      ]
    },
    {
      "cell_type": "code",
      "metadata": {
        "id": "vJhgBf5CWj6M",
        "colab_type": "code",
        "outputId": "0305ffd1-8cb8-43fd-fe6c-1bfd7cb53d8b",
        "colab": {
          "base_uri": "https://localhost:8080/",
          "height": 35
        }
      },
      "source": [
        "sc1pp3labelshyp3_03\n",
        "sc1pp3labelshyp3_03[sc1pp3labelshyp3_03 == 0] = 4\n",
        "sc1pp3labelshyp3_03[sc1pp3labelshyp3_03 == 1] = 5\n",
        "sc1pp3labelshyp3_03[sc1pp3labelshyp3_03 == 2] = 6"
      ],
      "execution_count": 0,
      "outputs": [
        {
          "output_type": "stream",
          "text": [
            "time: 11.7 ms\n"
          ],
          "name": "stdout"
        }
      ]
    },
    {
      "cell_type": "code",
      "metadata": {
        "id": "xedvb2PfWj6N",
        "colab_type": "code",
        "outputId": "2e1a3b08-9d89-4df8-bddc-bc7f04166942",
        "colab": {
          "base_uri": "https://localhost:8080/",
          "height": 35
        }
      },
      "source": [
        "sc1pp3labelshyp3_03[sc1pp3labelshyp3_03 == 4] = 2\n",
        "sc1pp3labelshyp3_03[sc1pp3labelshyp3_03 == 5] = 1\n",
        "sc1pp3labelshyp3_03[sc1pp3labelshyp3_03 == 6] = 3"
      ],
      "execution_count": 0,
      "outputs": [
        {
          "output_type": "stream",
          "text": [
            "time: 11.1 ms\n"
          ],
          "name": "stdout"
        }
      ]
    },
    {
      "cell_type": "markdown",
      "metadata": {
        "id": "oCA79ofIWj6O",
        "colab_type": "text"
      },
      "source": [
        "## Check heatmap"
      ]
    },
    {
      "cell_type": "code",
      "metadata": {
        "id": "jS_HPt4tWj6O",
        "colab_type": "code",
        "outputId": "ecf7562f-eb66-4836-bccb-93cb62d3c01e",
        "colab": {
          "base_uri": "https://localhost:8080/",
          "height": 35
        }
      },
      "source": [
        "cmpp3hyp3_03 = confusion_matrix(target_system.System, sc1pp3labelshyp3_03)"
      ],
      "execution_count": 0,
      "outputs": [
        {
          "output_type": "stream",
          "text": [
            "time: 39.4 ms\n"
          ],
          "name": "stdout"
        }
      ]
    },
    {
      "cell_type": "code",
      "metadata": {
        "id": "tammqR2tWj6O",
        "colab_type": "code",
        "outputId": "52ae2ec3-ea90-4f85-e879-a1bdfed0ced6",
        "colab": {
          "base_uri": "https://localhost:8080/",
          "height": 71
        }
      },
      "source": [
        "cmpp3hyp3_03"
      ],
      "execution_count": 0,
      "outputs": [
        {
          "output_type": "execute_result",
          "data": {
            "text/plain": [
              "array([[    0,   671,     0],\n",
              "       [    0, 20527,     0],\n",
              "       [  250,  2615, 12288]])"
            ]
          },
          "metadata": {
            "tags": []
          },
          "execution_count": 226
        },
        {
          "output_type": "stream",
          "text": [
            "time: 2.88 ms\n"
          ],
          "name": "stdout"
        }
      ]
    },
    {
      "cell_type": "code",
      "metadata": {
        "id": "23o5uf7GWj6P",
        "colab_type": "code",
        "outputId": "388f4f83-da8b-41e7-cf90-80c69af87a96",
        "colab": {
          "base_uri": "https://localhost:8080/",
          "height": 321
        }
      },
      "source": [
        "sns.heatmap(cmpp3hyp3_03,annot=True,cmap='coolwarm')\n",
        "plt.xlabel('Predicted')\n",
        "plt.ylabel('True')"
      ],
      "execution_count": 0,
      "outputs": [
        {
          "output_type": "execute_result",
          "data": {
            "text/plain": [
              "Text(30.5, 0.5, 'True')"
            ]
          },
          "metadata": {
            "tags": []
          },
          "execution_count": 227
        },
        {
          "output_type": "display_data",
          "data": {
            "image/png": "[encoded data removed]",
            "text/plain": [
              "<Figure size 432x288 with 2 Axes>"
            ]
          },
          "metadata": {
            "tags": []
          }
        },
        {
          "output_type": "stream",
          "text": [
            "time: 356 ms\n"
          ],
          "name": "stdout"
        }
      ]
    },
    {
      "cell_type": "code",
      "metadata": {
        "id": "PXxxs3tIWj6Q",
        "colab_type": "code",
        "outputId": "ca185574-6b2c-45b1-fcdb-2a506c42dc19",
        "colab": {
          "base_uri": "https://localhost:8080/",
          "height": 35
        }
      },
      "source": [
        "reportpp3hyp3_03 = classification_report(target_system, sc1pp3labelshyp3_03,output_dict = True)"
      ],
      "execution_count": 0,
      "outputs": [
        {
          "output_type": "stream",
          "text": [
            "time: 47.4 ms\n"
          ],
          "name": "stdout"
        }
      ]
    },
    {
      "cell_type": "code",
      "metadata": {
        "id": "0oLB51QCWj6R",
        "colab_type": "code",
        "outputId": "6ee5319b-ef8e-47aa-b3af-5701a881c614",
        "colab": {
          "base_uri": "https://localhost:8080/",
          "height": 341
        }
      },
      "source": [
        "reportpp3hyp3_03"
      ],
      "execution_count": 0,
      "outputs": [
        {
          "output_type": "execute_result",
          "data": {
            "text/plain": [
              "{'1': {'f1-score': 0.0, 'precision': 0.0, 'recall': 0.0, 'support': 671},\n",
              " '2': {'f1-score': 0.9258908434821831,\n",
              "  'precision': 0.8620081468105657,\n",
              "  'recall': 1.0,\n",
              "  'support': 20527},\n",
              " '3': {'f1-score': 0.895594183885427,\n",
              "  'precision': 1.0,\n",
              "  'recall': 0.8109285290041576,\n",
              "  'support': 15153},\n",
              " 'accuracy': 0.9027261973535804,\n",
              " 'macro avg': {'f1-score': 0.6071616757892033,\n",
              "  'precision': 0.6206693822701886,\n",
              "  'recall': 0.6036428430013858,\n",
              "  'support': 36351},\n",
              " 'weighted avg': {'f1-score': 0.8961706696535073,\n",
              "  'precision': 0.9036186412913119,\n",
              "  'recall': 0.9027261973535804,\n",
              "  'support': 36351}}"
            ]
          },
          "metadata": {
            "tags": []
          },
          "execution_count": 229
        },
        {
          "output_type": "stream",
          "text": [
            "time: 3.49 ms\n"
          ],
          "name": "stdout"
        }
      ]
    },
    {
      "cell_type": "code",
      "metadata": {
        "id": "O90JoOnLWj6S",
        "colab_type": "code",
        "outputId": "59c01c71-63fa-4e2d-b062-e76f3f4b90ea",
        "colab": {
          "base_uri": "https://localhost:8080/",
          "height": 305
        }
      },
      "source": [
        "print(\"Confusion matrix\\n\",metrics.confusion_matrix(y_true=target_system.System,y_pred=sc1pp3labelshyp3_03)) \n",
        "print(\"Classification report\\n\",metrics.classification_report(y_true=target_system.System,y_pred=sc1pp3labelshyp3_03))"
      ],
      "execution_count": 0,
      "outputs": [
        {
          "output_type": "stream",
          "text": [
            "Confusion matrix\n",
            " [[    0   671     0]\n",
            " [    0 20527     0]\n",
            " [  250  2615 12288]]\n",
            "Classification report\n",
            "               precision    recall  f1-score   support\n",
            "\n",
            "           1       0.00      0.00      0.00       671\n",
            "           2       0.86      1.00      0.93     20527\n",
            "           3       1.00      0.81      0.90     15153\n",
            "\n",
            "    accuracy                           0.90     36351\n",
            "   macro avg       0.62      0.60      0.61     36351\n",
            "weighted avg       0.90      0.90      0.90     36351\n",
            "\n",
            "time: 80.1 ms\n"
          ],
          "name": "stdout"
        }
      ]
    },
    {
      "cell_type": "code",
      "metadata": {
        "id": "iRm7f77QWj6U",
        "colab_type": "code",
        "outputId": "83349612-4b58-46f9-a101-eb7c0a343463",
        "colab": {
          "base_uri": "https://localhost:8080/",
          "height": 323
        }
      },
      "source": [
        "print('\\033[1m'+\"Kmeans++:\"+'\\033[0m')\n",
        "print('\\033[1m'+\"System 1\"+'\\033[0m')\n",
        "print(\"Precision = {0:0.3f}\".format(reportpp3hyp3_03[\"1\"][\"precision\"]))\n",
        "print(\"Recall = {0:0.3f}\".format(reportpp3hyp3_03[\"1\"][\"recall\"]))\n",
        "print(\"F1-score = {0:0.3f}\".format(reportpp3hyp3_03[\"1\"][\"f1-score\"]))\n",
        "print(\"Support = {0:0.3f}\".format(reportpp3hyp3_03[\"1\"][\"support\"]))\n",
        "print('\\033[1m'+\"System 2\"+'\\033[0m')\n",
        "print(\"Precision = {0:0.3f}\".format(reportpp3hyp3_03[\"2\"][\"precision\"]))\n",
        "print(\"Recall = {0:0.3f}\".format(reportpp3hyp3_03[\"2\"][\"recall\"]))\n",
        "print(\"F1-score = {0:0.3f}\".format(reportpp3hyp3_03[\"2\"][\"f1-score\"]))\n",
        "print(\"Support = {0:0.3f}\".format(reportpp3hyp3_03[\"2\"][\"support\"]))\n",
        "print('\\033[1m'+\"System 3\"+'\\033[0m')\n",
        "print(\"Precision = {0:0.3f}\".format(reportpp3hyp3_03[\"3\"][\"precision\"]))\n",
        "print(\"Recall = {0:0.3f}\".format(reportpp3hyp3_03[\"3\"][\"recall\"]))\n",
        "print(\"F1-score = {0:0.3f}\".format(reportpp3hyp3_03[\"3\"][\"f1-score\"]))\n",
        "print(\"Support = {0:0.3f}\".format(reportpp3hyp3_03[\"3\"][\"support\"]))"
      ],
      "execution_count": 0,
      "outputs": [
        {
          "output_type": "stream",
          "text": [
            "\u001b[1mKmeans++:\u001b[0m\n",
            "\u001b[1mSystem 1\u001b[0m\n",
            "Precision = 0.000\n",
            "Recall = 0.000\n",
            "F1-score = 0.000\n",
            "Support = 671.000\n",
            "\u001b[1mSystem 2\u001b[0m\n",
            "Precision = 0.862\n",
            "Recall = 1.000\n",
            "F1-score = 0.926\n",
            "Support = 20527.000\n",
            "\u001b[1mSystem 3\u001b[0m\n",
            "Precision = 1.000\n",
            "Recall = 0.811\n",
            "F1-score = 0.896\n",
            "Support = 15153.000\n",
            "time: 15.4 ms\n"
          ],
          "name": "stdout"
        }
      ]
    },
    {
      "cell_type": "code",
      "metadata": {
        "id": "eeiHsfTwWj6W",
        "colab_type": "code",
        "outputId": "ad12da8d-bd09-40f6-adcb-e775e29494d0",
        "colab": {
          "base_uri": "https://localhost:8080/",
          "height": 161
        }
      },
      "source": [
        "print('\\033[1m'+'Clustering metrics - supervised'+'\\033[0m')\n",
        "print('Adjusted Rand score: ', metrics.adjusted_rand_score(target_system.System, sc1pp3labelshyp3_03))\n",
        "print('Mutual info score: ', metrics.adjusted_mutual_info_score(target_system.System, sc1pp3labelshyp3_03))\n",
        "print('Homogeneity score: ', metrics.homogeneity_score(target_system.System, sc1pp3labelshyp3_03))\n",
        "print('Completeness score: ', metrics.completeness_score(target_system.System, sc1pp3labelshyp3_03))\n",
        "print('V-measure: ', metrics.v_measure_score(target_system.System, sc1pp3labelshyp3_03))\n",
        "print('Fowlkes-Mallows score: ', metrics.fowlkes_mallows_score(target_system.System, sc1pp3labelshyp3_03))"
      ],
      "execution_count": 0,
      "outputs": [
        {
          "output_type": "stream",
          "text": [
            "\u001b[1mClustering metrics - supervised\u001b[0m\n",
            "Adjusted Rand score:  0.6823361077431518\n",
            "Mutual info score:  0.6288415438002335\n",
            "Homogeneity score:  0.5945082951466247\n",
            "Completeness score:  0.6674481883802669\n",
            "V-measure:  0.6288703132831919\n",
            "Fowlkes-Mallows score:  0.8475658942266868\n",
            "time: 64.9 ms\n"
          ],
          "name": "stdout"
        }
      ]
    },
    {
      "cell_type": "code",
      "metadata": {
        "id": "PCH0LR6SWj6X",
        "colab_type": "code",
        "outputId": "274890fe-8b8a-4e04-b933-78c72d999660",
        "colab": {
          "base_uri": "https://localhost:8080/",
          "height": 163
        }
      },
      "source": [
        "print('\\033[1m'+'Clustering metrics - unsupervised'+'\\033[0m')\n",
        "print('Silhouette: ',metrics.silhouette_score(dfsc1, sc1pp3labelshyp3_03, metric='euclidean'))\n",
        "print('Davies-Bouldin Index: ',metrics.davies_bouldin_score(dfsc1, sc1pp3labelshyp3_03))\n",
        "print('Calinski-Harabasz Index: ',metrics.calinski_harabaz_score(dfsc1, sc1pp3labelshyp3_03))"
      ],
      "execution_count": 0,
      "outputs": [
        {
          "output_type": "stream",
          "text": [
            "\u001b[1mClustering metrics - unsupervised\u001b[0m\n",
            "Silhouette:  0.4288065096810151\n",
            "Davies-Bouldin Index:  0.9334207124790502\n",
            "Calinski-Harabasz Index:  10289.228441627212\n",
            "time: 18.4 s\n"
          ],
          "name": "stdout"
        },
        {
          "output_type": "stream",
          "text": [
            "/usr/local/lib/python3.6/dist-packages/sklearn/utils/deprecation.py:87: FutureWarning: Function calinski_harabaz_score is deprecated; Function 'calinski_harabaz_score' has been renamed to 'calinski_harabasz_score' and will be removed in version 0.23.\n",
            "  warnings.warn(msg, category=FutureWarning)\n"
          ],
          "name": "stderr"
        }
      ]
    },
    {
      "cell_type": "markdown",
      "metadata": {
        "id": "bKlozeDTWj6Y",
        "colab_type": "text"
      },
      "source": [
        "# 4 Visualize data with PCA"
      ]
    },
    {
      "cell_type": "markdown",
      "metadata": {
        "id": "m0dDHteOX13X",
        "colab_type": "text"
      },
      "source": [
        "Source: https://scikit-learn.org/stable/auto_examples/cluster/plot_kmeans_digits.html"
      ]
    },
    {
      "cell_type": "code",
      "metadata": {
        "id": "oKd58gKeWj6Y",
        "colab_type": "code",
        "outputId": "977ff03f-41bf-4f21-c8e5-fd7ff2a89cd3",
        "colab": {
          "base_uri": "https://localhost:8080/",
          "height": 71
        }
      },
      "source": [
        "reduced_data = PCA(n_components=2).fit_transform(dfsc1)\n",
        "kmeans = KMeans(init='k-means++', n_clusters=3, n_init=100)\n",
        "kmeans.fit(reduced_data)"
      ],
      "execution_count": 0,
      "outputs": [
        {
          "output_type": "execute_result",
          "data": {
            "text/plain": [
              "KMeans(algorithm='auto', copy_x=True, init='k-means++', max_iter=300,\n",
              "       n_clusters=3, n_init=100, n_jobs=None, precompute_distances='auto',\n",
              "       random_state=None, tol=0.0001, verbose=0)"
            ]
          },
          "metadata": {
            "tags": []
          },
          "execution_count": 234
        },
        {
          "output_type": "stream",
          "text": [
            "time: 1.72 s\n"
          ],
          "name": "stdout"
        }
      ]
    },
    {
      "cell_type": "code",
      "metadata": {
        "id": "YfVBkVpyXTBL",
        "colab_type": "code",
        "outputId": "2ed79d10-e34f-4c67-86d9-9256c54ff38c",
        "colab": {
          "base_uri": "https://localhost:8080/",
          "height": 554
        }
      },
      "source": [
        "h = .02 \n",
        "\n",
        "x_min, x_max = reduced_data[:, 0].min() - 1, reduced_data[:, 0].max() + 1\n",
        "y_min, y_max = reduced_data[:, 1].min() - 1, reduced_data[:, 1].max() + 1\n",
        "xx, yy = np.meshgrid(np.arange(x_min, x_max, h), np.arange(y_min, y_max, h))\n",
        "\n",
        "Z = kmeans.predict(np.c_[xx.ravel(), yy.ravel()])\n",
        "\n",
        "Z = Z.reshape(xx.shape)\n",
        "plt.figure(figsize = (12,9))\n",
        "plt.clf()\n",
        "plt.imshow(Z, interpolation='nearest',\n",
        "           extent=(xx.min(), xx.max(), yy.min(), yy.max()),\n",
        "           cmap=plt.cm.Paired,\n",
        "           aspect='auto', origin='lower')\n",
        "\n",
        "plt.plot(reduced_data[:, 0], reduced_data[:, 1], 'k.', markersize=2)\n",
        "\n",
        "centroids = kmeans.cluster_centers_\n",
        "plt.scatter(centroids[:, 0], centroids[:, 1],\n",
        "            marker='x', s=169, linewidths=3,\n",
        "            color='w', zorder=10)\n",
        "\n",
        "plt.title('K-means Clustering')\n",
        "plt.xlim(x_min, x_max)\n",
        "plt.ylim(y_min, y_max)\n",
        "plt.xticks(())\n",
        "plt.yticks(())\n",
        "plt.show()"
      ],
      "execution_count": 0,
      "outputs": [
        {
          "output_type": "display_data",
          "data": {
            "image/png": "[encoded data removed]",
            "text/plain": [
              "<Figure size 864x648 with 1 Axes>"
            ]
          },
          "metadata": {
            "tags": []
          }
        },
        {
          "output_type": "stream",
          "text": [
            "time: 488 ms\n"
          ],
          "name": "stdout"
        }
      ]
    }
  ]
}