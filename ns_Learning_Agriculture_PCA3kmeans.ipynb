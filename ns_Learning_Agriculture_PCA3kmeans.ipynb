{
  "nbformat": 4,
  "nbformat_minor": 0,
  "metadata": {
    "kernelspec": {
      "name": "python3",
      "display_name": "Python 3"
    },
    "language_info": {
      "codemirror_mode": {
        "name": "ipython",
        "version": 3
      },
      "file_extension": ".py",
      "mimetype": "text/x-python",
      "name": "python",
      "nbconvert_exporter": "python",
      "pygments_lexer": "ipython3",
      "version": "3.7.3"
    },
    "colab": {
      "name": "pca 3 k-means-cap-livro - scenario 1.ipynb",
      "provenance": [],
      "collapsed_sections": [
        "qzKf_egwWj0h",
        "IVIP8s4vWj1h",
        "Il_B6-Q_Wj3f",
        "hXCkQzICWj5Y"
      ]
    },
    "accelerator": "GPU"
  },
  "cells": [
    {
      "cell_type": "markdown",
      "metadata": {
        "id": "vXXUFQuuWjxe",
        "colab_type": "text"
      },
      "source": [
        "# Book chapter - PCA-3+K-Means++ - Full features\n",
        "\n",
        "---\n",
        "\n"
      ]
    },
    {
      "cell_type": "markdown",
      "metadata": {
        "id": "NxjoJLk-ZeSz",
        "colab_type": "text"
      },
      "source": [
        "Dataset source: described on the paper\n",
        "\n",
        "Source of the PCA implementation (number 4): https://scikit-learn.org/stable/auto_examples/cluster/plot_kmeans_digits.html\n",
        "\n"
      ]
    },
    {
      "cell_type": "markdown",
      "metadata": {
        "id": "aGXejg7YWjxg",
        "colab_type": "text"
      },
      "source": [
        "# 1. Import"
      ]
    },
    {
      "cell_type": "code",
      "metadata": {
        "id": "fZLT_MXiWjxi",
        "colab_type": "code",
        "colab": {}
      },
      "source": [
        "import pandas as pd\n",
        "import matplotlib.pyplot as plt\n",
        "from scipy.spatial.distance import cdist\n",
        "from sklearn.cluster import KMeans\n",
        "from sklearn.preprocessing import StandardScaler\n",
        "from time import time\n",
        "import numpy as np\n",
        "import matplotlib.pyplot as plt\n",
        "from sklearn import metrics\n",
        "from sklearn import preprocessing\n",
        "from sklearn.cluster import KMeans\n",
        "from sklearn.datasets import load_digits\n",
        "from sklearn.decomposition import PCA\n",
        "from sklearn.preprocessing import scale\n",
        "from sklearn.metrics import *\n",
        "import seaborn as sns\n",
        "sns.set()"
      ],
      "execution_count": 0,
      "outputs": []
    },
    {
      "cell_type": "code",
      "metadata": {
        "id": "jYf01wP6Wo_T",
        "colab_type": "code",
        "outputId": "b58b5a51-4b1f-4421-ceb5-6f0e37e6027c",
        "colab": {
          "base_uri": "https://localhost:8080/",
          "height": 199
        }
      },
      "source": [
        "!pip install ipython-autotime\n",
        "\n",
        "%load_ext autotime"
      ],
      "execution_count": 0,
      "outputs": [
        {
          "output_type": "stream",
          "text": [
            "Collecting ipython-autotime\n",
            "  Downloading https://files.pythonhosted.org/packages/e6/f9/0626bbdb322e3a078d968e87e3b01341e7890544de891d0cb613641220e6/ipython-autotime-0.1.tar.bz2\n",
            "Building wheels for collected packages: ipython-autotime\n",
            "  Building wheel for ipython-autotime (setup.py) ... \u001b[?25l\u001b[?25hdone\n",
            "  Created wheel for ipython-autotime: filename=ipython_autotime-0.1-cp36-none-any.whl size=1832 sha256=aca003ce8081322c833d0820bdd9309237227711578b423c176a16617bad6182\n",
            "  Stored in directory: /root/.cache/pip/wheels/d2/df/81/2db1e54bc91002cec40334629bc39cfa86dff540b304ebcd6e\n",
            "Successfully built ipython-autotime\n",
            "Installing collected packages: ipython-autotime\n",
            "Successfully installed ipython-autotime-0.1\n"
          ],
          "name": "stdout"
        }
      ]
    },
    {
      "cell_type": "code",
      "metadata": {
        "id": "3AZ63WMbWp_g",
        "colab_type": "code",
        "outputId": "6e9b777a-c140-4556-abca-1e31c9ccbd56",
        "colab": {
          "resources": {
            "http://localhost:8080/nbextensions/google.colab/files.js": {
              "data": "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",
              "ok": true,
              "headers": [
                [
                  "content-type",
                  "application/javascript"
                ]
              ],
              "status": 200,
              "status_text": ""
            }
          },
          "base_uri": "https://localhost:8080/",
          "height": 93
        }
      },
      "source": [
        "from google.colab import files\n",
        "uploaded = files.upload()"
      ],
      "execution_count": 0,
      "outputs": [
        {
          "output_type": "display_data",
          "data": {
            "text/html": [
              "\n",
              "     <input type=\"file\" id=\"files-99c01633-c773-44b0-9074-c9f02c2d96b3\" name=\"files[]\" multiple disabled />\n",
              "     <output id=\"result-99c01633-c773-44b0-9074-c9f02c2d96b3\">\n",
              "      Upload widget is only available when the cell has been executed in the\n",
              "      current browser session. Please rerun this cell to enable.\n",
              "      </output>\n",
              "      <script src=\"/nbextensions/google.colab/files.js\"></script> "
            ],
            "text/plain": [
              "<IPython.core.display.HTML object>"
            ]
          },
          "metadata": {
            "tags": []
          }
        },
        {
          "output_type": "stream",
          "text": [
            "Saving dataset_joined.csv to dataset_joined.csv\n",
            "time: 1min 31s\n"
          ],
          "name": "stdout"
        }
      ]
    },
    {
      "cell_type": "markdown",
      "metadata": {
        "id": "QDNRvU1dWjxl",
        "colab_type": "text"
      },
      "source": [
        "## Read CSV"
      ]
    },
    {
      "cell_type": "code",
      "metadata": {
        "id": "QrUcGUDeWjxn",
        "colab_type": "code",
        "outputId": "4a7d4253-7762-4add-cffd-b6989eea112d",
        "colab": {
          "base_uri": "https://localhost:8080/",
          "height": 91
        }
      },
      "source": [
        "df = pd.read_csv('dataset_joined.csv', sep=',', encoding = \"ISO-8859-1\")"
      ],
      "execution_count": 0,
      "outputs": [
        {
          "output_type": "stream",
          "text": [
            "time: 118 ms\n"
          ],
          "name": "stdout"
        },
        {
          "output_type": "stream",
          "text": [
            "/usr/local/lib/python3.6/dist-packages/IPython/core/interactiveshell.py:2718: DtypeWarning: Columns (10,11,12,13,14,15,23) have mixed types. Specify dtype option on import or set low_memory=False.\n",
            "  interactivity=interactivity, compiler=compiler, result=result)\n"
          ],
          "name": "stderr"
        }
      ]
    },
    {
      "cell_type": "markdown",
      "metadata": {
        "id": "71mPc8ylWjxr",
        "colab_type": "text"
      },
      "source": [
        "## Verify import"
      ]
    },
    {
      "cell_type": "code",
      "metadata": {
        "id": "S6_xenU3Wjxs",
        "colab_type": "code",
        "outputId": "53199d04-cfff-42dc-9c4b-b8272ae73d98",
        "colab": {
          "base_uri": "https://localhost:8080/",
          "height": 242
        }
      },
      "source": [
        "df.head()"
      ],
      "execution_count": 0,
      "outputs": [
        {
          "output_type": "execute_result",
          "data": {
            "text/html": [
              "<div>\n",
              "<style scoped>\n",
              "    .dataframe tbody tr th:only-of-type {\n",
              "        vertical-align: middle;\n",
              "    }\n",
              "\n",
              "    .dataframe tbody tr th {\n",
              "        vertical-align: top;\n",
              "    }\n",
              "\n",
              "    .dataframe thead th {\n",
              "        text-align: right;\n",
              "    }\n",
              "</style>\n",
              "<table border=\"1\" class=\"dataframe\">\n",
              "  <thead>\n",
              "    <tr style=\"text-align: right;\">\n",
              "      <th></th>\n",
              "      <th>UniqueIDDataset</th>\n",
              "      <th>UniqueIDRow</th>\n",
              "      <th>SCLink</th>\n",
              "      <th>System</th>\n",
              "      <th>Temperature</th>\n",
              "      <th>TemperatureHumid</th>\n",
              "      <th>RelativeHumidity</th>\n",
              "      <th>WindDirection</th>\n",
              "      <th>WindVelocity</th>\n",
              "      <th>LotNumber</th>\n",
              "      <th>Acetochlor</th>\n",
              "      <th>Atrazine</th>\n",
              "      <th>Ciat</th>\n",
              "      <th>Ceat</th>\n",
              "      <th>Dimethenamid</th>\n",
              "      <th>Stage</th>\n",
              "      <th>Defoliation</th>\n",
              "      <th>Reproductive</th>\n",
              "      <th>Bolls</th>\n",
              "      <th>Height</th>\n",
              "      <th>Nodes</th>\n",
              "      <th>Weight</th>\n",
              "      <th>Yield</th>\n",
              "      <th>BatchNumber</th>\n",
              "      <th>Destination</th>\n",
              "      <th>Defective</th>\n",
              "      <th>MeanSignalStrength</th>\n",
              "      <th>StdSignalStrength</th>\n",
              "      <th>MeanLinkQuality</th>\n",
              "      <th>StdLinkQuality</th>\n",
              "      <th>MeanNoiseFloor</th>\n",
              "      <th>StdNoiseFloor</th>\n",
              "      <th>StdTemperature</th>\n",
              "      <th>StdRH</th>\n",
              "      <th>Machine</th>\n",
              "      <th>pCutTorque</th>\n",
              "      <th>pCutLagError</th>\n",
              "      <th>pCutActualPosition</th>\n",
              "      <th>pCutActualSpeed</th>\n",
              "      <th>pSvolFilmActualPosition</th>\n",
              "      <th>pSvolFilmActualSpeed</th>\n",
              "      <th>pSvolFilmLagError</th>\n",
              "    </tr>\n",
              "  </thead>\n",
              "  <tbody>\n",
              "    <tr>\n",
              "      <th>0</th>\n",
              "      <td>1</td>\n",
              "      <td>1</td>\n",
              "      <td>Farm</td>\n",
              "      <td>2</td>\n",
              "      <td>24.4</td>\n",
              "      <td>22.4</td>\n",
              "      <td>84.0</td>\n",
              "      <td>0.0</td>\n",
              "      <td>0.0</td>\n",
              "      <td>NaN</td>\n",
              "      <td>NaN</td>\n",
              "      <td>NaN</td>\n",
              "      <td>NaN</td>\n",
              "      <td>NaN</td>\n",
              "      <td>NaN</td>\n",
              "      <td>NaN</td>\n",
              "      <td>NaN</td>\n",
              "      <td>NaN</td>\n",
              "      <td>NaN</td>\n",
              "      <td>NaN</td>\n",
              "      <td>NaN</td>\n",
              "      <td>NaN</td>\n",
              "      <td>NaN</td>\n",
              "      <td>NaN</td>\n",
              "      <td>NaN</td>\n",
              "      <td>NaN</td>\n",
              "      <td>NaN</td>\n",
              "      <td>NaN</td>\n",
              "      <td>NaN</td>\n",
              "      <td>NaN</td>\n",
              "      <td>NaN</td>\n",
              "      <td>NaN</td>\n",
              "      <td>NaN</td>\n",
              "      <td>NaN</td>\n",
              "      <td>NaN</td>\n",
              "      <td>NaN</td>\n",
              "      <td>NaN</td>\n",
              "      <td>NaN</td>\n",
              "      <td>NaN</td>\n",
              "      <td>NaN</td>\n",
              "      <td>NaN</td>\n",
              "      <td>NaN</td>\n",
              "    </tr>\n",
              "    <tr>\n",
              "      <th>1</th>\n",
              "      <td>1</td>\n",
              "      <td>2</td>\n",
              "      <td>Farm</td>\n",
              "      <td>2</td>\n",
              "      <td>22.9</td>\n",
              "      <td>21.5</td>\n",
              "      <td>88.0</td>\n",
              "      <td>0.0</td>\n",
              "      <td>0.0</td>\n",
              "      <td>NaN</td>\n",
              "      <td>NaN</td>\n",
              "      <td>NaN</td>\n",
              "      <td>NaN</td>\n",
              "      <td>NaN</td>\n",
              "      <td>NaN</td>\n",
              "      <td>NaN</td>\n",
              "      <td>NaN</td>\n",
              "      <td>NaN</td>\n",
              "      <td>NaN</td>\n",
              "      <td>NaN</td>\n",
              "      <td>NaN</td>\n",
              "      <td>NaN</td>\n",
              "      <td>NaN</td>\n",
              "      <td>NaN</td>\n",
              "      <td>NaN</td>\n",
              "      <td>NaN</td>\n",
              "      <td>NaN</td>\n",
              "      <td>NaN</td>\n",
              "      <td>NaN</td>\n",
              "      <td>NaN</td>\n",
              "      <td>NaN</td>\n",
              "      <td>NaN</td>\n",
              "      <td>NaN</td>\n",
              "      <td>NaN</td>\n",
              "      <td>NaN</td>\n",
              "      <td>NaN</td>\n",
              "      <td>NaN</td>\n",
              "      <td>NaN</td>\n",
              "      <td>NaN</td>\n",
              "      <td>NaN</td>\n",
              "      <td>NaN</td>\n",
              "      <td>NaN</td>\n",
              "    </tr>\n",
              "    <tr>\n",
              "      <th>2</th>\n",
              "      <td>1</td>\n",
              "      <td>3</td>\n",
              "      <td>Farm</td>\n",
              "      <td>2</td>\n",
              "      <td>26.6</td>\n",
              "      <td>23.3</td>\n",
              "      <td>75.0</td>\n",
              "      <td>5.0</td>\n",
              "      <td>3.0</td>\n",
              "      <td>NaN</td>\n",
              "      <td>NaN</td>\n",
              "      <td>NaN</td>\n",
              "      <td>NaN</td>\n",
              "      <td>NaN</td>\n",
              "      <td>NaN</td>\n",
              "      <td>NaN</td>\n",
              "      <td>NaN</td>\n",
              "      <td>NaN</td>\n",
              "      <td>NaN</td>\n",
              "      <td>NaN</td>\n",
              "      <td>NaN</td>\n",
              "      <td>NaN</td>\n",
              "      <td>NaN</td>\n",
              "      <td>NaN</td>\n",
              "      <td>NaN</td>\n",
              "      <td>NaN</td>\n",
              "      <td>NaN</td>\n",
              "      <td>NaN</td>\n",
              "      <td>NaN</td>\n",
              "      <td>NaN</td>\n",
              "      <td>NaN</td>\n",
              "      <td>NaN</td>\n",
              "      <td>NaN</td>\n",
              "      <td>NaN</td>\n",
              "      <td>NaN</td>\n",
              "      <td>NaN</td>\n",
              "      <td>NaN</td>\n",
              "      <td>NaN</td>\n",
              "      <td>NaN</td>\n",
              "      <td>NaN</td>\n",
              "      <td>NaN</td>\n",
              "      <td>NaN</td>\n",
              "    </tr>\n",
              "    <tr>\n",
              "      <th>3</th>\n",
              "      <td>1</td>\n",
              "      <td>4</td>\n",
              "      <td>Farm</td>\n",
              "      <td>2</td>\n",
              "      <td>22.6</td>\n",
              "      <td>21.4</td>\n",
              "      <td>89.0</td>\n",
              "      <td>36.0</td>\n",
              "      <td>2.0</td>\n",
              "      <td>NaN</td>\n",
              "      <td>NaN</td>\n",
              "      <td>NaN</td>\n",
              "      <td>NaN</td>\n",
              "      <td>NaN</td>\n",
              "      <td>NaN</td>\n",
              "      <td>NaN</td>\n",
              "      <td>NaN</td>\n",
              "      <td>NaN</td>\n",
              "      <td>NaN</td>\n",
              "      <td>NaN</td>\n",
              "      <td>NaN</td>\n",
              "      <td>NaN</td>\n",
              "      <td>NaN</td>\n",
              "      <td>NaN</td>\n",
              "      <td>NaN</td>\n",
              "      <td>NaN</td>\n",
              "      <td>NaN</td>\n",
              "      <td>NaN</td>\n",
              "      <td>NaN</td>\n",
              "      <td>NaN</td>\n",
              "      <td>NaN</td>\n",
              "      <td>NaN</td>\n",
              "      <td>NaN</td>\n",
              "      <td>NaN</td>\n",
              "      <td>NaN</td>\n",
              "      <td>NaN</td>\n",
              "      <td>NaN</td>\n",
              "      <td>NaN</td>\n",
              "      <td>NaN</td>\n",
              "      <td>NaN</td>\n",
              "      <td>NaN</td>\n",
              "      <td>NaN</td>\n",
              "    </tr>\n",
              "    <tr>\n",
              "      <th>4</th>\n",
              "      <td>1</td>\n",
              "      <td>5</td>\n",
              "      <td>Farm</td>\n",
              "      <td>2</td>\n",
              "      <td>22.4</td>\n",
              "      <td>21.3</td>\n",
              "      <td>90.0</td>\n",
              "      <td>36.0</td>\n",
              "      <td>4.0</td>\n",
              "      <td>NaN</td>\n",
              "      <td>NaN</td>\n",
              "      <td>NaN</td>\n",
              "      <td>NaN</td>\n",
              "      <td>NaN</td>\n",
              "      <td>NaN</td>\n",
              "      <td>NaN</td>\n",
              "      <td>NaN</td>\n",
              "      <td>NaN</td>\n",
              "      <td>NaN</td>\n",
              "      <td>NaN</td>\n",
              "      <td>NaN</td>\n",
              "      <td>NaN</td>\n",
              "      <td>NaN</td>\n",
              "      <td>NaN</td>\n",
              "      <td>NaN</td>\n",
              "      <td>NaN</td>\n",
              "      <td>NaN</td>\n",
              "      <td>NaN</td>\n",
              "      <td>NaN</td>\n",
              "      <td>NaN</td>\n",
              "      <td>NaN</td>\n",
              "      <td>NaN</td>\n",
              "      <td>NaN</td>\n",
              "      <td>NaN</td>\n",
              "      <td>NaN</td>\n",
              "      <td>NaN</td>\n",
              "      <td>NaN</td>\n",
              "      <td>NaN</td>\n",
              "      <td>NaN</td>\n",
              "      <td>NaN</td>\n",
              "      <td>NaN</td>\n",
              "      <td>NaN</td>\n",
              "    </tr>\n",
              "  </tbody>\n",
              "</table>\n",
              "</div>"
            ],
            "text/plain": [
              "   UniqueIDDataset  UniqueIDRow  ... pSvolFilmActualSpeed  pSvolFilmLagError\n",
              "0                1            1  ...                  NaN                NaN\n",
              "1                1            2  ...                  NaN                NaN\n",
              "2                1            3  ...                  NaN                NaN\n",
              "3                1            4  ...                  NaN                NaN\n",
              "4                1            5  ...                  NaN                NaN\n",
              "\n",
              "[5 rows x 42 columns]"
            ]
          },
          "metadata": {
            "tags": []
          },
          "execution_count": 6
        },
        {
          "output_type": "stream",
          "text": [
            "time: 96.7 ms\n"
          ],
          "name": "stdout"
        }
      ]
    },
    {
      "cell_type": "code",
      "metadata": {
        "id": "GJMOcQdVWjxw",
        "colab_type": "code",
        "outputId": "7026e770-a2b5-447c-d0e2-00d5bb056fe9",
        "colab": {
          "base_uri": "https://localhost:8080/",
          "height": 881
        }
      },
      "source": [
        "df.info()"
      ],
      "execution_count": 0,
      "outputs": [
        {
          "output_type": "stream",
          "text": [
            "<class 'pandas.core.frame.DataFrame'>\n",
            "RangeIndex: 36351 entries, 0 to 36350\n",
            "Data columns (total 42 columns):\n",
            "UniqueIDDataset            36351 non-null int64\n",
            "UniqueIDRow                36351 non-null int64\n",
            "SCLink                     36351 non-null object\n",
            "System                     36351 non-null int64\n",
            "Temperature                22489 non-null float64\n",
            "TemperatureHumid           19175 non-null float64\n",
            "RelativeHumidity           23149 non-null float64\n",
            "WindDirection              20520 non-null float64\n",
            "WindVelocity               20518 non-null float64\n",
            "LotNumber                  1537 non-null float64\n",
            "Acetochlor                 184 non-null object\n",
            "Atrazine                   184 non-null object\n",
            "Ciat                       184 non-null object\n",
            "Ceat                       184 non-null object\n",
            "Dimethenamid               184 non-null object\n",
            "Stage                      250 non-null object\n",
            "Defoliation                250 non-null float64\n",
            "Reproductive               250 non-null float64\n",
            "Bolls                      250 non-null float64\n",
            "Height                     250 non-null float64\n",
            "Nodes                      250 non-null float64\n",
            "Weight                     125 non-null float64\n",
            "Yield                      432 non-null float64\n",
            "BatchNumber                671 non-null object\n",
            "Destination                671 non-null float64\n",
            "Defective                  465 non-null float64\n",
            "MeanSignalStrength         1998 non-null float64\n",
            "StdSignalStrength          1999 non-null float64\n",
            "MeanLinkQuality            1998 non-null float64\n",
            "StdLinkQuality             1998 non-null float64\n",
            "MeanNoiseFloor             1998 non-null float64\n",
            "StdNoiseFloor              1997 non-null float64\n",
            "StdTemperature             1998 non-null float64\n",
            "StdRH                      1998 non-null float64\n",
            "Machine                    14287 non-null float64\n",
            "pCutTorque                 12288 non-null float64\n",
            "pCutLagError               12288 non-null float64\n",
            "pCutActualPosition         12288 non-null float64\n",
            "pCutActualSpeed            12288 non-null float64\n",
            "pSvolFilmActualPosition    12288 non-null float64\n",
            "pSvolFilmActualSpeed       12288 non-null float64\n",
            "pSvolFilmLagError          12288 non-null float64\n",
            "dtypes: float64(31), int64(3), object(8)\n",
            "memory usage: 11.6+ MB\n",
            "time: 28.6 ms\n"
          ],
          "name": "stdout"
        }
      ]
    },
    {
      "cell_type": "code",
      "metadata": {
        "scrolled": false,
        "id": "1dCAj3LhWjx1",
        "colab_type": "code",
        "outputId": "425b2c58-8557-4e3d-f2a4-bba05895287c",
        "colab": {
          "base_uri": "https://localhost:8080/",
          "height": 335
        }
      },
      "source": [
        "df.describe()"
      ],
      "execution_count": 0,
      "outputs": [
        {
          "output_type": "execute_result",
          "data": {
            "text/html": [
              "<div>\n",
              "<style scoped>\n",
              "    .dataframe tbody tr th:only-of-type {\n",
              "        vertical-align: middle;\n",
              "    }\n",
              "\n",
              "    .dataframe tbody tr th {\n",
              "        vertical-align: top;\n",
              "    }\n",
              "\n",
              "    .dataframe thead th {\n",
              "        text-align: right;\n",
              "    }\n",
              "</style>\n",
              "<table border=\"1\" class=\"dataframe\">\n",
              "  <thead>\n",
              "    <tr style=\"text-align: right;\">\n",
              "      <th></th>\n",
              "      <th>UniqueIDDataset</th>\n",
              "      <th>UniqueIDRow</th>\n",
              "      <th>System</th>\n",
              "      <th>Temperature</th>\n",
              "      <th>TemperatureHumid</th>\n",
              "      <th>RelativeHumidity</th>\n",
              "      <th>WindDirection</th>\n",
              "      <th>WindVelocity</th>\n",
              "      <th>LotNumber</th>\n",
              "      <th>Defoliation</th>\n",
              "      <th>Reproductive</th>\n",
              "      <th>Bolls</th>\n",
              "      <th>Height</th>\n",
              "      <th>Nodes</th>\n",
              "      <th>Weight</th>\n",
              "      <th>Yield</th>\n",
              "      <th>Destination</th>\n",
              "      <th>Defective</th>\n",
              "      <th>MeanSignalStrength</th>\n",
              "      <th>StdSignalStrength</th>\n",
              "      <th>MeanLinkQuality</th>\n",
              "      <th>StdLinkQuality</th>\n",
              "      <th>MeanNoiseFloor</th>\n",
              "      <th>StdNoiseFloor</th>\n",
              "      <th>StdTemperature</th>\n",
              "      <th>StdRH</th>\n",
              "      <th>Machine</th>\n",
              "      <th>pCutTorque</th>\n",
              "      <th>pCutLagError</th>\n",
              "      <th>pCutActualPosition</th>\n",
              "      <th>pCutActualSpeed</th>\n",
              "      <th>pSvolFilmActualPosition</th>\n",
              "      <th>pSvolFilmActualSpeed</th>\n",
              "      <th>pSvolFilmLagError</th>\n",
              "    </tr>\n",
              "  </thead>\n",
              "  <tbody>\n",
              "    <tr>\n",
              "      <th>count</th>\n",
              "      <td>36351.000000</td>\n",
              "      <td>36351.000000</td>\n",
              "      <td>36351.000000</td>\n",
              "      <td>22489.000000</td>\n",
              "      <td>19175.000000</td>\n",
              "      <td>23149.000000</td>\n",
              "      <td>20520.000000</td>\n",
              "      <td>20518.000000</td>\n",
              "      <td>1537.000000</td>\n",
              "      <td>250.000000</td>\n",
              "      <td>250.000000</td>\n",
              "      <td>250.000000</td>\n",
              "      <td>250.000000</td>\n",
              "      <td>250.000000</td>\n",
              "      <td>125.000000</td>\n",
              "      <td>432.00000</td>\n",
              "      <td>671.000000</td>\n",
              "      <td>465.000000</td>\n",
              "      <td>1998.000000</td>\n",
              "      <td>1999.000000</td>\n",
              "      <td>1998.000000</td>\n",
              "      <td>1998.000000</td>\n",
              "      <td>1998.000000</td>\n",
              "      <td>1997.000000</td>\n",
              "      <td>1998.000000</td>\n",
              "      <td>1998.000000</td>\n",
              "      <td>14287.000000</td>\n",
              "      <td>12288.000000</td>\n",
              "      <td>12288.000000</td>\n",
              "      <td>12288.000000</td>\n",
              "      <td>12288.000000</td>\n",
              "      <td>12288.000000</td>\n",
              "      <td>12288.000000</td>\n",
              "      <td>12288.000000</td>\n",
              "    </tr>\n",
              "    <tr>\n",
              "      <th>mean</th>\n",
              "      <td>3.431487</td>\n",
              "      <td>7938.134384</td>\n",
              "      <td>2.398393</td>\n",
              "      <td>24.040672</td>\n",
              "      <td>19.498154</td>\n",
              "      <td>62.482943</td>\n",
              "      <td>15.553655</td>\n",
              "      <td>1.993545</td>\n",
              "      <td>105.464541</td>\n",
              "      <td>50.000000</td>\n",
              "      <td>4.112000</td>\n",
              "      <td>3.912000</td>\n",
              "      <td>69.224000</td>\n",
              "      <td>14.908000</td>\n",
              "      <td>25.779840</td>\n",
              "      <td>496.11331</td>\n",
              "      <td>1.527571</td>\n",
              "      <td>14.532129</td>\n",
              "      <td>-86.147292</td>\n",
              "      <td>2.796471</td>\n",
              "      <td>96.946765</td>\n",
              "      <td>20.736383</td>\n",
              "      <td>-95.416907</td>\n",
              "      <td>36.649044</td>\n",
              "      <td>0.022839</td>\n",
              "      <td>0.055271</td>\n",
              "      <td>3.780150</td>\n",
              "      <td>-0.113236</td>\n",
              "      <td>0.000012</td>\n",
              "      <td>-835919.878337</td>\n",
              "      <td>886.997007</td>\n",
              "      <td>46516.192464</td>\n",
              "      <td>1373.244194</td>\n",
              "      <td>0.634156</td>\n",
              "    </tr>\n",
              "    <tr>\n",
              "      <th>std</th>\n",
              "      <td>2.840264</td>\n",
              "      <td>5779.083632</td>\n",
              "      <td>0.525929</td>\n",
              "      <td>4.256546</td>\n",
              "      <td>2.763787</td>\n",
              "      <td>21.374480</td>\n",
              "      <td>12.488792</td>\n",
              "      <td>1.650432</td>\n",
              "      <td>106.291708</td>\n",
              "      <td>35.426263</td>\n",
              "      <td>1.149234</td>\n",
              "      <td>1.292648</td>\n",
              "      <td>8.276947</td>\n",
              "      <td>1.761804</td>\n",
              "      <td>6.831864</td>\n",
              "      <td>415.67746</td>\n",
              "      <td>0.499612</td>\n",
              "      <td>6.041447</td>\n",
              "      <td>10.161517</td>\n",
              "      <td>16.187693</td>\n",
              "      <td>3.717591</td>\n",
              "      <td>17.168584</td>\n",
              "      <td>3.078773</td>\n",
              "      <td>86.948962</td>\n",
              "      <td>0.040996</td>\n",
              "      <td>0.262014</td>\n",
              "      <td>2.035875</td>\n",
              "      <td>0.408600</td>\n",
              "      <td>0.038929</td>\n",
              "      <td>29288.666806</td>\n",
              "      <td>1295.032421</td>\n",
              "      <td>32570.780305</td>\n",
              "      <td>631.174696</td>\n",
              "      <td>0.114129</td>\n",
              "    </tr>\n",
              "    <tr>\n",
              "      <th>min</th>\n",
              "      <td>1.000000</td>\n",
              "      <td>1.000000</td>\n",
              "      <td>1.000000</td>\n",
              "      <td>8.400000</td>\n",
              "      <td>1.700000</td>\n",
              "      <td>1.000000</td>\n",
              "      <td>0.000000</td>\n",
              "      <td>0.000000</td>\n",
              "      <td>1.000000</td>\n",
              "      <td>0.000000</td>\n",
              "      <td>1.000000</td>\n",
              "      <td>0.000000</td>\n",
              "      <td>43.000000</td>\n",
              "      <td>10.000000</td>\n",
              "      <td>4.735000</td>\n",
              "      <td>10.17000</td>\n",
              "      <td>1.000000</td>\n",
              "      <td>6.000000</td>\n",
              "      <td>-92.500000</td>\n",
              "      <td>0.000000</td>\n",
              "      <td>85.500000</td>\n",
              "      <td>0.585600</td>\n",
              "      <td>-109.290000</td>\n",
              "      <td>0.000000</td>\n",
              "      <td>0.004285</td>\n",
              "      <td>0.000000</td>\n",
              "      <td>1.000000</td>\n",
              "      <td>-2.843960</td>\n",
              "      <td>-0.599982</td>\n",
              "      <td>-884747.000000</td>\n",
              "      <td>-954.437256</td>\n",
              "      <td>11127.000000</td>\n",
              "      <td>-25.043488</td>\n",
              "      <td>-0.086025</td>\n",
              "    </tr>\n",
              "    <tr>\n",
              "      <th>25%</th>\n",
              "      <td>1.000000</td>\n",
              "      <td>2776.500000</td>\n",
              "      <td>2.000000</td>\n",
              "      <td>21.200000</td>\n",
              "      <td>17.700000</td>\n",
              "      <td>48.000000</td>\n",
              "      <td>5.000000</td>\n",
              "      <td>1.000000</td>\n",
              "      <td>30.000000</td>\n",
              "      <td>25.000000</td>\n",
              "      <td>3.000000</td>\n",
              "      <td>3.000000</td>\n",
              "      <td>63.000000</td>\n",
              "      <td>14.000000</td>\n",
              "      <td>22.560000</td>\n",
              "      <td>182.07500</td>\n",
              "      <td>1.000000</td>\n",
              "      <td>9.700000</td>\n",
              "      <td>-89.542000</td>\n",
              "      <td>0.451390</td>\n",
              "      <td>94.525250</td>\n",
              "      <td>8.459175</td>\n",
              "      <td>-97.333000</td>\n",
              "      <td>0.421910</td>\n",
              "      <td>0.011037</td>\n",
              "      <td>0.015378</td>\n",
              "      <td>2.000000</td>\n",
              "      <td>-0.344438</td>\n",
              "      <td>-0.009893</td>\n",
              "      <td>-852347.000000</td>\n",
              "      <td>-127.029419</td>\n",
              "      <td>19583.250000</td>\n",
              "      <td>736.276001</td>\n",
              "      <td>0.610809</td>\n",
              "    </tr>\n",
              "    <tr>\n",
              "      <th>50%</th>\n",
              "      <td>1.000000</td>\n",
              "      <td>7320.000000</td>\n",
              "      <td>2.000000</td>\n",
              "      <td>23.500000</td>\n",
              "      <td>20.100000</td>\n",
              "      <td>64.000000</td>\n",
              "      <td>14.000000</td>\n",
              "      <td>2.000000</td>\n",
              "      <td>67.000000</td>\n",
              "      <td>50.000000</td>\n",
              "      <td>4.000000</td>\n",
              "      <td>4.000000</td>\n",
              "      <td>70.000000</td>\n",
              "      <td>15.000000</td>\n",
              "      <td>26.994000</td>\n",
              "      <td>339.88500</td>\n",
              "      <td>2.000000</td>\n",
              "      <td>13.250000</td>\n",
              "      <td>-88.752500</td>\n",
              "      <td>1.007900</td>\n",
              "      <td>97.021500</td>\n",
              "      <td>14.251500</td>\n",
              "      <td>-96.000000</td>\n",
              "      <td>4.918000</td>\n",
              "      <td>0.014945</td>\n",
              "      <td>0.020292</td>\n",
              "      <td>4.000000</td>\n",
              "      <td>-0.183299</td>\n",
              "      <td>-0.000074</td>\n",
              "      <td>-838818.000000</td>\n",
              "      <td>497.817993</td>\n",
              "      <td>35097.000000</td>\n",
              "      <td>1392.412964</td>\n",
              "      <td>0.653197</td>\n",
              "    </tr>\n",
              "    <tr>\n",
              "      <th>75%</th>\n",
              "      <td>7.000000</td>\n",
              "      <td>11864.000000</td>\n",
              "      <td>3.000000</td>\n",
              "      <td>27.000000</td>\n",
              "      <td>21.500000</td>\n",
              "      <td>80.000000</td>\n",
              "      <td>27.000000</td>\n",
              "      <td>3.000000</td>\n",
              "      <td>149.000000</td>\n",
              "      <td>75.000000</td>\n",
              "      <td>5.000000</td>\n",
              "      <td>5.000000</td>\n",
              "      <td>74.875000</td>\n",
              "      <td>16.000000</td>\n",
              "      <td>30.010000</td>\n",
              "      <td>728.58500</td>\n",
              "      <td>2.000000</td>\n",
              "      <td>17.800000</td>\n",
              "      <td>-88.021000</td>\n",
              "      <td>1.483000</td>\n",
              "      <td>98.872000</td>\n",
              "      <td>30.007000</td>\n",
              "      <td>-94.150250</td>\n",
              "      <td>52.381000</td>\n",
              "      <td>0.021213</td>\n",
              "      <td>0.029886</td>\n",
              "      <td>5.000000</td>\n",
              "      <td>0.292760</td>\n",
              "      <td>0.010476</td>\n",
              "      <td>-816100.500000</td>\n",
              "      <td>1991.271973</td>\n",
              "      <td>67492.750000</td>\n",
              "      <td>2003.471802</td>\n",
              "      <td>0.692448</td>\n",
              "    </tr>\n",
              "    <tr>\n",
              "      <th>max</th>\n",
              "      <td>7.000000</td>\n",
              "      <td>20527.000000</td>\n",
              "      <td>3.000000</td>\n",
              "      <td>38.800000</td>\n",
              "      <td>30.000000</td>\n",
              "      <td>100.000000</td>\n",
              "      <td>36.000000</td>\n",
              "      <td>17.000000</td>\n",
              "      <td>432.000000</td>\n",
              "      <td>100.000000</td>\n",
              "      <td>8.000000</td>\n",
              "      <td>8.000000</td>\n",
              "      <td>92.000000</td>\n",
              "      <td>20.000000</td>\n",
              "      <td>38.320000</td>\n",
              "      <td>2037.63000</td>\n",
              "      <td>2.000000</td>\n",
              "      <td>57.500000</td>\n",
              "      <td>-17.212000</td>\n",
              "      <td>377.350000</td>\n",
              "      <td>107.150000</td>\n",
              "      <td>168.580000</td>\n",
              "      <td>-85.082000</td>\n",
              "      <td>1867.900000</td>\n",
              "      <td>0.584290</td>\n",
              "      <td>4.739800</td>\n",
              "      <td>10.000000</td>\n",
              "      <td>0.632072</td>\n",
              "      <td>0.367500</td>\n",
              "      <td>-783498.000000</td>\n",
              "      <td>3570.556641</td>\n",
              "      <td>113597.000000</td>\n",
              "      <td>2742.251953</td>\n",
              "      <td>0.962216</td>\n",
              "    </tr>\n",
              "  </tbody>\n",
              "</table>\n",
              "</div>"
            ],
            "text/plain": [
              "       UniqueIDDataset   UniqueIDRow  ...  pSvolFilmActualSpeed  pSvolFilmLagError\n",
              "count     36351.000000  36351.000000  ...          12288.000000       12288.000000\n",
              "mean          3.431487   7938.134384  ...           1373.244194           0.634156\n",
              "std           2.840264   5779.083632  ...            631.174696           0.114129\n",
              "min           1.000000      1.000000  ...            -25.043488          -0.086025\n",
              "25%           1.000000   2776.500000  ...            736.276001           0.610809\n",
              "50%           1.000000   7320.000000  ...           1392.412964           0.653197\n",
              "75%           7.000000  11864.000000  ...           2003.471802           0.692448\n",
              "max           7.000000  20527.000000  ...           2742.251953           0.962216\n",
              "\n",
              "[8 rows x 34 columns]"
            ]
          },
          "metadata": {
            "tags": []
          },
          "execution_count": 8
        },
        {
          "output_type": "stream",
          "text": [
            "time: 190 ms\n"
          ],
          "name": "stdout"
        }
      ]
    },
    {
      "cell_type": "markdown",
      "metadata": {
        "id": "lIuSUrSJWjx4",
        "colab_type": "text"
      },
      "source": [
        "# 2. Dataprep"
      ]
    },
    {
      "cell_type": "markdown",
      "metadata": {
        "id": "o2h1ED8tWjx5",
        "colab_type": "text"
      },
      "source": [
        "## Transform to numbers"
      ]
    },
    {
      "cell_type": "code",
      "metadata": {
        "id": "rJqnKfSAWjx6",
        "colab_type": "code",
        "outputId": "c4cb9522-32b2-4be1-fe9c-6f194c92aaef",
        "colab": {
          "base_uri": "https://localhost:8080/",
          "height": 35
        }
      },
      "source": [
        "def dropColumns(data, columns):\n",
        "    for col in columns:\n",
        "        data = data.drop(columns=col)  \n",
        "        \n",
        "    return data\n",
        "    \n",
        "def fillNans(data, strategy):\n",
        "    if strategy=='ZERO':\n",
        "        data = data.fillna(0)\n",
        "    elif strategy=='MIN':\n",
        "        data = data.fillna(-999)\n",
        "    elif strategy=='MAX':\n",
        "        data = data.fillna(999)\n",
        "    elif strategy=='INTER':\n",
        "        data = data.interpolate(method='linear', limit_direction='backward', axis=0)\n",
        "        data = data.interpolate(method='linear', limit_direction='forward', axis=0)\n",
        "\n",
        "    return data"
      ],
      "execution_count": 0,
      "outputs": [
        {
          "output_type": "stream",
          "text": [
            "time: 14.8 ms\n"
          ],
          "name": "stdout"
        }
      ]
    },
    {
      "cell_type": "markdown",
      "metadata": {
        "id": "dXIJz1rYWjx9",
        "colab_type": "text"
      },
      "source": [
        "## Fix acetochlor"
      ]
    },
    {
      "cell_type": "code",
      "metadata": {
        "id": "Q4e1XP4BWjx_",
        "colab_type": "code",
        "outputId": "7926e30a-2e59-422c-c75f-c844eff7c7e2",
        "colab": {
          "base_uri": "https://localhost:8080/",
          "height": 35
        }
      },
      "source": [
        "df.Acetochlor.replace(to_replace=\"<.05\", value=0.05, inplace=True)"
      ],
      "execution_count": 0,
      "outputs": [
        {
          "output_type": "stream",
          "text": [
            "time: 12.9 ms\n"
          ],
          "name": "stdout"
        }
      ]
    },
    {
      "cell_type": "code",
      "metadata": {
        "id": "RGOHsI87WjyC",
        "colab_type": "code",
        "outputId": "39e0aeaa-f864-4d43-b211-c72d95e67e1d",
        "colab": {
          "base_uri": "https://localhost:8080/",
          "height": 35
        }
      },
      "source": [
        "df[\"AcetocNum\"] = pd.to_numeric(df['Acetochlor'])"
      ],
      "execution_count": 0,
      "outputs": [
        {
          "output_type": "stream",
          "text": [
            "time: 10.5 ms\n"
          ],
          "name": "stdout"
        }
      ]
    },
    {
      "cell_type": "markdown",
      "metadata": {
        "id": "b58XW_UdWjyF",
        "colab_type": "text"
      },
      "source": [
        "## Fix stage"
      ]
    },
    {
      "cell_type": "code",
      "metadata": {
        "id": "MFe7Vw1nWjyG",
        "colab_type": "code",
        "outputId": "14e10a7e-aae2-4477-fdf7-5b4da71a40a9",
        "colab": {
          "base_uri": "https://localhost:8080/",
          "height": 35
        }
      },
      "source": [
        "le = preprocessing.LabelEncoder()"
      ],
      "execution_count": 0,
      "outputs": [
        {
          "output_type": "stream",
          "text": [
            "time: 659 µs\n"
          ],
          "name": "stdout"
        }
      ]
    },
    {
      "cell_type": "code",
      "metadata": {
        "id": "i1XGtYpBWjyJ",
        "colab_type": "code",
        "outputId": "63b26ed5-5c99-4c3c-95bc-b72f47d3c410",
        "colab": {
          "base_uri": "https://localhost:8080/",
          "height": 35
        }
      },
      "source": [
        "df['Stage'].fillna(\"nan\",inplace=True)"
      ],
      "execution_count": 0,
      "outputs": [
        {
          "output_type": "stream",
          "text": [
            "time: 7.66 ms\n"
          ],
          "name": "stdout"
        }
      ]
    },
    {
      "cell_type": "code",
      "metadata": {
        "id": "voP957w0WjyM",
        "colab_type": "code",
        "outputId": "293c4336-9248-4cf1-8400-ea8c9ce34c37",
        "colab": {
          "base_uri": "https://localhost:8080/",
          "height": 53
        }
      },
      "source": [
        "df['Stage'].unique()"
      ],
      "execution_count": 0,
      "outputs": [
        {
          "output_type": "execute_result",
          "data": {
            "text/plain": [
              "array(['nan', 'vegetative', 'flowerbud', 'blossom', 'boll', 'bollopen'],\n",
              "      dtype=object)"
            ]
          },
          "metadata": {
            "tags": []
          },
          "execution_count": 14
        },
        {
          "output_type": "stream",
          "text": [
            "time: 14.6 ms\n"
          ],
          "name": "stdout"
        }
      ]
    },
    {
      "cell_type": "code",
      "metadata": {
        "id": "uDD75g_AWjyQ",
        "colab_type": "code",
        "outputId": "261ecc5b-4b84-4d39-ef19-244e7f1b19f6",
        "colab": {
          "base_uri": "https://localhost:8080/",
          "height": 35
        }
      },
      "source": [
        "le.fit(df['Stage'])"
      ],
      "execution_count": 0,
      "outputs": [
        {
          "output_type": "execute_result",
          "data": {
            "text/plain": [
              "LabelEncoder()"
            ]
          },
          "metadata": {
            "tags": []
          },
          "execution_count": 15
        },
        {
          "output_type": "stream",
          "text": [
            "time: 7.73 ms\n"
          ],
          "name": "stdout"
        }
      ]
    },
    {
      "cell_type": "code",
      "metadata": {
        "id": "MmRGm9urWjyV",
        "colab_type": "code",
        "outputId": "5e40dcab-2116-4d82-818b-75beb18a764f",
        "colab": {
          "base_uri": "https://localhost:8080/",
          "height": 53
        }
      },
      "source": [
        "le.classes_"
      ],
      "execution_count": 0,
      "outputs": [
        {
          "output_type": "execute_result",
          "data": {
            "text/plain": [
              "array(['blossom', 'boll', 'bollopen', 'flowerbud', 'nan', 'vegetative'],\n",
              "      dtype=object)"
            ]
          },
          "metadata": {
            "tags": []
          },
          "execution_count": 16
        },
        {
          "output_type": "stream",
          "text": [
            "time: 3.9 ms\n"
          ],
          "name": "stdout"
        }
      ]
    },
    {
      "cell_type": "code",
      "metadata": {
        "id": "2rNXKUrIWjyY",
        "colab_type": "code",
        "outputId": "dc90817b-6d8b-464f-dc6d-3bdc7e56ae21",
        "colab": {
          "base_uri": "https://localhost:8080/",
          "height": 35
        }
      },
      "source": [
        "df['StageNum'] = le.transform(df['Stage'])"
      ],
      "execution_count": 0,
      "outputs": [
        {
          "output_type": "stream",
          "text": [
            "time: 15.2 ms\n"
          ],
          "name": "stdout"
        }
      ]
    },
    {
      "cell_type": "code",
      "metadata": {
        "id": "IRrCWL2HWjyc",
        "colab_type": "code",
        "outputId": "7206da6e-0b56-429d-9d80-79da6f6e9363",
        "colab": {
          "base_uri": "https://localhost:8080/",
          "height": 35
        }
      },
      "source": [
        "df['StageNum'].unique()"
      ],
      "execution_count": 0,
      "outputs": [
        {
          "output_type": "execute_result",
          "data": {
            "text/plain": [
              "array([4, 5, 3, 0, 1, 2])"
            ]
          },
          "metadata": {
            "tags": []
          },
          "execution_count": 18
        },
        {
          "output_type": "stream",
          "text": [
            "time: 4.59 ms\n"
          ],
          "name": "stdout"
        }
      ]
    },
    {
      "cell_type": "markdown",
      "metadata": {
        "id": "AlKvKurVWjyf",
        "colab_type": "text"
      },
      "source": [
        "## Fix sclink number"
      ]
    },
    {
      "cell_type": "code",
      "metadata": {
        "id": "ul2QC0OIWjyg",
        "colab_type": "code",
        "outputId": "5c23085e-57f0-49b3-abff-ddeb415c3c67",
        "colab": {
          "base_uri": "https://localhost:8080/",
          "height": 35
        }
      },
      "source": [
        "le3 = preprocessing.LabelEncoder()"
      ],
      "execution_count": 0,
      "outputs": [
        {
          "output_type": "stream",
          "text": [
            "time: 1.64 ms\n"
          ],
          "name": "stdout"
        }
      ]
    },
    {
      "cell_type": "code",
      "metadata": {
        "id": "F-DpsIOpWjyj",
        "colab_type": "code",
        "outputId": "14d8a391-59d3-4f8b-bc80-f7c44bc26b57",
        "colab": {
          "base_uri": "https://localhost:8080/",
          "height": 35
        }
      },
      "source": [
        "df['SCLinkNum'] = le3.fit_transform(df['SCLink'])"
      ],
      "execution_count": 0,
      "outputs": [
        {
          "output_type": "stream",
          "text": [
            "time: 16.9 ms\n"
          ],
          "name": "stdout"
        }
      ]
    },
    {
      "cell_type": "code",
      "metadata": {
        "id": "Dbhsuk5uWjym",
        "colab_type": "code",
        "outputId": "570a99d6-6970-4189-8a17-cab4a93867d3",
        "colab": {
          "base_uri": "https://localhost:8080/",
          "height": 242
        }
      },
      "source": [
        "df.head()"
      ],
      "execution_count": 0,
      "outputs": [
        {
          "output_type": "execute_result",
          "data": {
            "text/html": [
              "<div>\n",
              "<style scoped>\n",
              "    .dataframe tbody tr th:only-of-type {\n",
              "        vertical-align: middle;\n",
              "    }\n",
              "\n",
              "    .dataframe tbody tr th {\n",
              "        vertical-align: top;\n",
              "    }\n",
              "\n",
              "    .dataframe thead th {\n",
              "        text-align: right;\n",
              "    }\n",
              "</style>\n",
              "<table border=\"1\" class=\"dataframe\">\n",
              "  <thead>\n",
              "    <tr style=\"text-align: right;\">\n",
              "      <th></th>\n",
              "      <th>UniqueIDDataset</th>\n",
              "      <th>UniqueIDRow</th>\n",
              "      <th>SCLink</th>\n",
              "      <th>System</th>\n",
              "      <th>Temperature</th>\n",
              "      <th>TemperatureHumid</th>\n",
              "      <th>RelativeHumidity</th>\n",
              "      <th>WindDirection</th>\n",
              "      <th>WindVelocity</th>\n",
              "      <th>LotNumber</th>\n",
              "      <th>Acetochlor</th>\n",
              "      <th>Atrazine</th>\n",
              "      <th>Ciat</th>\n",
              "      <th>Ceat</th>\n",
              "      <th>Dimethenamid</th>\n",
              "      <th>Stage</th>\n",
              "      <th>Defoliation</th>\n",
              "      <th>Reproductive</th>\n",
              "      <th>Bolls</th>\n",
              "      <th>Height</th>\n",
              "      <th>Nodes</th>\n",
              "      <th>Weight</th>\n",
              "      <th>Yield</th>\n",
              "      <th>BatchNumber</th>\n",
              "      <th>Destination</th>\n",
              "      <th>Defective</th>\n",
              "      <th>MeanSignalStrength</th>\n",
              "      <th>StdSignalStrength</th>\n",
              "      <th>MeanLinkQuality</th>\n",
              "      <th>StdLinkQuality</th>\n",
              "      <th>MeanNoiseFloor</th>\n",
              "      <th>StdNoiseFloor</th>\n",
              "      <th>StdTemperature</th>\n",
              "      <th>StdRH</th>\n",
              "      <th>Machine</th>\n",
              "      <th>pCutTorque</th>\n",
              "      <th>pCutLagError</th>\n",
              "      <th>pCutActualPosition</th>\n",
              "      <th>pCutActualSpeed</th>\n",
              "      <th>pSvolFilmActualPosition</th>\n",
              "      <th>pSvolFilmActualSpeed</th>\n",
              "      <th>pSvolFilmLagError</th>\n",
              "      <th>AcetocNum</th>\n",
              "      <th>StageNum</th>\n",
              "      <th>SCLinkNum</th>\n",
              "    </tr>\n",
              "  </thead>\n",
              "  <tbody>\n",
              "    <tr>\n",
              "      <th>0</th>\n",
              "      <td>1</td>\n",
              "      <td>1</td>\n",
              "      <td>Farm</td>\n",
              "      <td>2</td>\n",
              "      <td>24.4</td>\n",
              "      <td>22.4</td>\n",
              "      <td>84.0</td>\n",
              "      <td>0.0</td>\n",
              "      <td>0.0</td>\n",
              "      <td>NaN</td>\n",
              "      <td>NaN</td>\n",
              "      <td>NaN</td>\n",
              "      <td>NaN</td>\n",
              "      <td>NaN</td>\n",
              "      <td>NaN</td>\n",
              "      <td>nan</td>\n",
              "      <td>NaN</td>\n",
              "      <td>NaN</td>\n",
              "      <td>NaN</td>\n",
              "      <td>NaN</td>\n",
              "      <td>NaN</td>\n",
              "      <td>NaN</td>\n",
              "      <td>NaN</td>\n",
              "      <td>NaN</td>\n",
              "      <td>NaN</td>\n",
              "      <td>NaN</td>\n",
              "      <td>NaN</td>\n",
              "      <td>NaN</td>\n",
              "      <td>NaN</td>\n",
              "      <td>NaN</td>\n",
              "      <td>NaN</td>\n",
              "      <td>NaN</td>\n",
              "      <td>NaN</td>\n",
              "      <td>NaN</td>\n",
              "      <td>NaN</td>\n",
              "      <td>NaN</td>\n",
              "      <td>NaN</td>\n",
              "      <td>NaN</td>\n",
              "      <td>NaN</td>\n",
              "      <td>NaN</td>\n",
              "      <td>NaN</td>\n",
              "      <td>NaN</td>\n",
              "      <td>NaN</td>\n",
              "      <td>4</td>\n",
              "      <td>0</td>\n",
              "    </tr>\n",
              "    <tr>\n",
              "      <th>1</th>\n",
              "      <td>1</td>\n",
              "      <td>2</td>\n",
              "      <td>Farm</td>\n",
              "      <td>2</td>\n",
              "      <td>22.9</td>\n",
              "      <td>21.5</td>\n",
              "      <td>88.0</td>\n",
              "      <td>0.0</td>\n",
              "      <td>0.0</td>\n",
              "      <td>NaN</td>\n",
              "      <td>NaN</td>\n",
              "      <td>NaN</td>\n",
              "      <td>NaN</td>\n",
              "      <td>NaN</td>\n",
              "      <td>NaN</td>\n",
              "      <td>nan</td>\n",
              "      <td>NaN</td>\n",
              "      <td>NaN</td>\n",
              "      <td>NaN</td>\n",
              "      <td>NaN</td>\n",
              "      <td>NaN</td>\n",
              "      <td>NaN</td>\n",
              "      <td>NaN</td>\n",
              "      <td>NaN</td>\n",
              "      <td>NaN</td>\n",
              "      <td>NaN</td>\n",
              "      <td>NaN</td>\n",
              "      <td>NaN</td>\n",
              "      <td>NaN</td>\n",
              "      <td>NaN</td>\n",
              "      <td>NaN</td>\n",
              "      <td>NaN</td>\n",
              "      <td>NaN</td>\n",
              "      <td>NaN</td>\n",
              "      <td>NaN</td>\n",
              "      <td>NaN</td>\n",
              "      <td>NaN</td>\n",
              "      <td>NaN</td>\n",
              "      <td>NaN</td>\n",
              "      <td>NaN</td>\n",
              "      <td>NaN</td>\n",
              "      <td>NaN</td>\n",
              "      <td>NaN</td>\n",
              "      <td>4</td>\n",
              "      <td>0</td>\n",
              "    </tr>\n",
              "    <tr>\n",
              "      <th>2</th>\n",
              "      <td>1</td>\n",
              "      <td>3</td>\n",
              "      <td>Farm</td>\n",
              "      <td>2</td>\n",
              "      <td>26.6</td>\n",
              "      <td>23.3</td>\n",
              "      <td>75.0</td>\n",
              "      <td>5.0</td>\n",
              "      <td>3.0</td>\n",
              "      <td>NaN</td>\n",
              "      <td>NaN</td>\n",
              "      <td>NaN</td>\n",
              "      <td>NaN</td>\n",
              "      <td>NaN</td>\n",
              "      <td>NaN</td>\n",
              "      <td>nan</td>\n",
              "      <td>NaN</td>\n",
              "      <td>NaN</td>\n",
              "      <td>NaN</td>\n",
              "      <td>NaN</td>\n",
              "      <td>NaN</td>\n",
              "      <td>NaN</td>\n",
              "      <td>NaN</td>\n",
              "      <td>NaN</td>\n",
              "      <td>NaN</td>\n",
              "      <td>NaN</td>\n",
              "      <td>NaN</td>\n",
              "      <td>NaN</td>\n",
              "      <td>NaN</td>\n",
              "      <td>NaN</td>\n",
              "      <td>NaN</td>\n",
              "      <td>NaN</td>\n",
              "      <td>NaN</td>\n",
              "      <td>NaN</td>\n",
              "      <td>NaN</td>\n",
              "      <td>NaN</td>\n",
              "      <td>NaN</td>\n",
              "      <td>NaN</td>\n",
              "      <td>NaN</td>\n",
              "      <td>NaN</td>\n",
              "      <td>NaN</td>\n",
              "      <td>NaN</td>\n",
              "      <td>NaN</td>\n",
              "      <td>4</td>\n",
              "      <td>0</td>\n",
              "    </tr>\n",
              "    <tr>\n",
              "      <th>3</th>\n",
              "      <td>1</td>\n",
              "      <td>4</td>\n",
              "      <td>Farm</td>\n",
              "      <td>2</td>\n",
              "      <td>22.6</td>\n",
              "      <td>21.4</td>\n",
              "      <td>89.0</td>\n",
              "      <td>36.0</td>\n",
              "      <td>2.0</td>\n",
              "      <td>NaN</td>\n",
              "      <td>NaN</td>\n",
              "      <td>NaN</td>\n",
              "      <td>NaN</td>\n",
              "      <td>NaN</td>\n",
              "      <td>NaN</td>\n",
              "      <td>nan</td>\n",
              "      <td>NaN</td>\n",
              "      <td>NaN</td>\n",
              "      <td>NaN</td>\n",
              "      <td>NaN</td>\n",
              "      <td>NaN</td>\n",
              "      <td>NaN</td>\n",
              "      <td>NaN</td>\n",
              "      <td>NaN</td>\n",
              "      <td>NaN</td>\n",
              "      <td>NaN</td>\n",
              "      <td>NaN</td>\n",
              "      <td>NaN</td>\n",
              "      <td>NaN</td>\n",
              "      <td>NaN</td>\n",
              "      <td>NaN</td>\n",
              "      <td>NaN</td>\n",
              "      <td>NaN</td>\n",
              "      <td>NaN</td>\n",
              "      <td>NaN</td>\n",
              "      <td>NaN</td>\n",
              "      <td>NaN</td>\n",
              "      <td>NaN</td>\n",
              "      <td>NaN</td>\n",
              "      <td>NaN</td>\n",
              "      <td>NaN</td>\n",
              "      <td>NaN</td>\n",
              "      <td>NaN</td>\n",
              "      <td>4</td>\n",
              "      <td>0</td>\n",
              "    </tr>\n",
              "    <tr>\n",
              "      <th>4</th>\n",
              "      <td>1</td>\n",
              "      <td>5</td>\n",
              "      <td>Farm</td>\n",
              "      <td>2</td>\n",
              "      <td>22.4</td>\n",
              "      <td>21.3</td>\n",
              "      <td>90.0</td>\n",
              "      <td>36.0</td>\n",
              "      <td>4.0</td>\n",
              "      <td>NaN</td>\n",
              "      <td>NaN</td>\n",
              "      <td>NaN</td>\n",
              "      <td>NaN</td>\n",
              "      <td>NaN</td>\n",
              "      <td>NaN</td>\n",
              "      <td>nan</td>\n",
              "      <td>NaN</td>\n",
              "      <td>NaN</td>\n",
              "      <td>NaN</td>\n",
              "      <td>NaN</td>\n",
              "      <td>NaN</td>\n",
              "      <td>NaN</td>\n",
              "      <td>NaN</td>\n",
              "      <td>NaN</td>\n",
              "      <td>NaN</td>\n",
              "      <td>NaN</td>\n",
              "      <td>NaN</td>\n",
              "      <td>NaN</td>\n",
              "      <td>NaN</td>\n",
              "      <td>NaN</td>\n",
              "      <td>NaN</td>\n",
              "      <td>NaN</td>\n",
              "      <td>NaN</td>\n",
              "      <td>NaN</td>\n",
              "      <td>NaN</td>\n",
              "      <td>NaN</td>\n",
              "      <td>NaN</td>\n",
              "      <td>NaN</td>\n",
              "      <td>NaN</td>\n",
              "      <td>NaN</td>\n",
              "      <td>NaN</td>\n",
              "      <td>NaN</td>\n",
              "      <td>NaN</td>\n",
              "      <td>4</td>\n",
              "      <td>0</td>\n",
              "    </tr>\n",
              "  </tbody>\n",
              "</table>\n",
              "</div>"
            ],
            "text/plain": [
              "   UniqueIDDataset  UniqueIDRow SCLink  ...  AcetocNum  StageNum  SCLinkNum\n",
              "0                1            1   Farm  ...        NaN         4          0\n",
              "1                1            2   Farm  ...        NaN         4          0\n",
              "2                1            3   Farm  ...        NaN         4          0\n",
              "3                1            4   Farm  ...        NaN         4          0\n",
              "4                1            5   Farm  ...        NaN         4          0\n",
              "\n",
              "[5 rows x 45 columns]"
            ]
          },
          "metadata": {
            "tags": []
          },
          "execution_count": 21
        },
        {
          "output_type": "stream",
          "text": [
            "time: 107 ms\n"
          ],
          "name": "stdout"
        }
      ]
    },
    {
      "cell_type": "markdown",
      "metadata": {
        "id": "8ihqSZ9YWjyt",
        "colab_type": "text"
      },
      "source": [
        "## Fix batch number"
      ]
    },
    {
      "cell_type": "code",
      "metadata": {
        "id": "1lSaX0yVWjyy",
        "colab_type": "code",
        "outputId": "cf9dc15f-de0a-4382-b68c-97b847ee0dbd",
        "colab": {
          "base_uri": "https://localhost:8080/",
          "height": 35
        }
      },
      "source": [
        "le2 = preprocessing.LabelEncoder()"
      ],
      "execution_count": 0,
      "outputs": [
        {
          "output_type": "stream",
          "text": [
            "time: 1.74 ms\n"
          ],
          "name": "stdout"
        }
      ]
    },
    {
      "cell_type": "code",
      "metadata": {
        "id": "tTRzcdYbWjy5",
        "colab_type": "code",
        "outputId": "d8786a16-4bbe-40ad-a50f-1d806cc0992a",
        "colab": {
          "base_uri": "https://localhost:8080/",
          "height": 35
        }
      },
      "source": [
        "df['BatchNumber'].fillna(\"nan\",inplace=True)"
      ],
      "execution_count": 0,
      "outputs": [
        {
          "output_type": "stream",
          "text": [
            "time: 8.12 ms\n"
          ],
          "name": "stdout"
        }
      ]
    },
    {
      "cell_type": "code",
      "metadata": {
        "id": "0R7BMab_Wjy7",
        "colab_type": "code",
        "outputId": "0a796a63-81c5-42fa-97a1-b3b2c4e62fed",
        "colab": {
          "base_uri": "https://localhost:8080/",
          "height": 1000
        }
      },
      "source": [
        "df['BatchNumber'].unique()"
      ],
      "execution_count": 0,
      "outputs": [
        {
          "output_type": "execute_result",
          "data": {
            "text/plain": [
              "array(['nan', '8553FA02', '7162EG01', '4819CJ01', '8581FK05', '5066FL01',\n",
              "       '7858GP03', '1609GN01', '9566GC01', '7922GR01', '9534EO01',\n",
              "       '3625CF01', '1424FK01', '378FK01', '7375CB01', '7796EK03',\n",
              "       '8361EH01', '8010EJ03', '2081GA03', '3876EX01', '8728EL02',\n",
              "       '1074FL01', '2344FP01', '2480FH01', '4840FR01', '6330FT02',\n",
              "       '487GH01', '8438CG03', '804FK01', '9592EG01', '6960CT03',\n",
              "       '3063EV01', '4643FK02', '5238FK01', '6866GL01', '1929FR03',\n",
              "       '5920FF01', '2328FG03', '2203FS01', '1623FS01', '2441FP01',\n",
              "       '3063EU01', '4623EZ01', '6612FJ03', '1557GC01', '2256EN01',\n",
              "       '2371CE04', '8020EJ03', '3756EY01', '972FP02', '9621FL02',\n",
              "       '9750FN01', '6091EH01', '5869FB01', '5691FN01', '7323FA01',\n",
              "       '1423FK01', '9FE01', '2182CU03', '6312GC01', '3063GC01',\n",
              "       '9275GC01', '6573GL01', '2739FL01', '2773BH01', '1437FK01',\n",
              "       '1256FL01', '6392EJ01', '7066EU02', '6692CB01', '5366EQ01',\n",
              "       '8581FK03', '2666FG03', '8010EJ01', '6116FP01', '7356CL07',\n",
              "       '2455EJ01', '7772EZ01', '1987GF01', '3390FL01', '7922GR03',\n",
              "       '3899FR01', '4338FN03', '5011FE06', '15FC06', '6239FJ01',\n",
              "       '5065FK01', '220FT01', '8700FZ01', '4865FH01', '2342FP01',\n",
              "       '3511FG04', '7285FG01', '734GH01', '4647EE02', '7655GH05',\n",
              "       '3323FN01', '8853FG02', '1802FY01', '8456GS01', '8111GB01',\n",
              "       '2766FL07', '8582GC01', '4094GH01', '1086FK02', '2283EY01',\n",
              "       '9300ET02', '8069EZ01', '7819EL02', '4497FK02', '7095BE01',\n",
              "       '8622FK01', '2473FE01', '8082GT02', '3460FH01', '5416GC02',\n",
              "       '8554FA02', '1986FK01', '4755CP01', '6475FZ04', '9305ET02',\n",
              "       '6864CG02', '1934CK09', '11JG8350', '7100GE01', '4061FB01',\n",
              "       '8853FL02', '3986CK02', '5068FL01', '8082GTH04', '8560FA02',\n",
              "       '122CG01', '269EG02', '7633FU02', '4376AY01', '9821FJ04',\n",
              "       '6763FV01', '4070GZ01', '833GG01', '3510GY01', '5490GZ01',\n",
              "       '9912FH03', '2951GY01', '1450FG01', '730GH02', '4607FH01',\n",
              "       '5470GZ01', '2301FS01', '4566FK01', '5490FB01', '8592GZ01',\n",
              "       '4349EA01', '5690FR03', '2665FG01', '4234EZ02', '8084CB06',\n",
              "       '3014FC04', '2345EG01', '2984EN01', '9904FH03', '2665FG03',\n",
              "       '1131FJ01', '7911GR01', '409EB01', '9446EL03', '4329GZ01',\n",
              "       '6920FH01', '9728FL01', '209FC01', '3990EP01', '3812GX01',\n",
              "       '2325FP01', '4271GY02', '5824HA01', '1440ET02', '3494FK03',\n",
              "       '7563GY01', '8499FP01', '7800GY01', '9787HA03', '631EZ04',\n",
              "       '8998FH01', '70003EL01', '6102GV01', '6378GJ01', '6149FZ03',\n",
              "       '1073FL01', '8040FJ03', '8010FJ03', '3966FZ01', '2341FP01',\n",
              "       '142FK01', '8082GT01', '497GZ03', '3952GY03', '9372EK03',\n",
              "       '7518GB01', '1450GU01', '487GN01', '5486FJ01', '269EJ02',\n",
              "       '7364GV01', '2116FG02', '6805FJ01', '5922AY02', '3831FJ02',\n",
              "       '6411CV02', '4326GZ01', '2535FP01', '7798FJ01', '4048GP01',\n",
              "       '2666FG02', '7405EC03', '1379FT01', '2658AI01', '9903FH03',\n",
              "       '2013GP01', '5824HA', '6384FV04', '6093HA01', '8083AV02',\n",
              "       '217EJ04', '1277GA01', '6043FP01', '4822GP01', '8082GH04',\n",
              "       '4327GZ01', '4810GP01', '6619GZ03', '764AZ02', '3579CA01',\n",
              "       '8083AV01', '2666fg03', '1846FG01', '4873CR03', '7717FP01',\n",
              "       '2027HH07', '7019GR01', '378fk01', '5279EG01', '7694GH01',\n",
              "       '974GE01', '4308HA01', '3711EL01', '9621FL01', '8948HF01',\n",
              "       '764AZ01', '2305BC01', '7609FR03', '7030EF01', '974EG01',\n",
              "       '2666FG01', '1757GV02', '5922AV02', '4149CP01', '1522GN01',\n",
              "       '4071HC01', '4794HA01', '9012HJ04', '4326EC01', '2659GP01',\n",
              "       '7460EF01', '6425EG01', '1740HH01', '963HK01', '4136AZ02',\n",
              "       '5543CK01', '5824 HA01', '1009GS01', '2025HH07', '5116HF01',\n",
              "       '1073GS01', '2023HH07', '1735HH07', '1740HH07', '4165HG01'],\n",
              "      dtype=object)"
            ]
          },
          "metadata": {
            "tags": []
          },
          "execution_count": 24
        },
        {
          "output_type": "stream",
          "text": [
            "time: 9.33 ms\n"
          ],
          "name": "stdout"
        }
      ]
    },
    {
      "cell_type": "code",
      "metadata": {
        "id": "zQNlG9fPWjy-",
        "colab_type": "code",
        "outputId": "5af1d6b9-92fa-4858-a423-b396b58cd615",
        "colab": {
          "base_uri": "https://localhost:8080/",
          "height": 35
        }
      },
      "source": [
        "le2.fit(df['BatchNumber'])"
      ],
      "execution_count": 0,
      "outputs": [
        {
          "output_type": "execute_result",
          "data": {
            "text/plain": [
              "LabelEncoder()"
            ]
          },
          "metadata": {
            "tags": []
          },
          "execution_count": 25
        },
        {
          "output_type": "stream",
          "text": [
            "time: 5.28 ms\n"
          ],
          "name": "stdout"
        }
      ]
    },
    {
      "cell_type": "code",
      "metadata": {
        "id": "iU7jUsOWWjzD",
        "colab_type": "code",
        "outputId": "62eb44b4-6027-4a3d-f7ad-f95fa93be79b",
        "colab": {
          "base_uri": "https://localhost:8080/",
          "height": 1000
        }
      },
      "source": [
        "le2.classes_"
      ],
      "execution_count": 0,
      "outputs": [
        {
          "output_type": "execute_result",
          "data": {
            "text/plain": [
              "array(['1009GS01', '1073FL01', '1073GS01', '1074FL01', '1086FK02',\n",
              "       '1131FJ01', '11JG8350', '122CG01', '1256FL01', '1277GA01',\n",
              "       '1379FT01', '1423FK01', '1424FK01', '142FK01', '1437FK01',\n",
              "       '1440ET02', '1450FG01', '1450GU01', '1522GN01', '1557GC01',\n",
              "       '15FC06', '1609GN01', '1623FS01', '1735HH07', '1740HH01',\n",
              "       '1740HH07', '1757GV02', '1802FY01', '1846FG01', '1929FR03',\n",
              "       '1934CK09', '1986FK01', '1987GF01', '2013GP01', '2023HH07',\n",
              "       '2025HH07', '2027HH07', '2081GA03', '209FC01', '2116FG02',\n",
              "       '217EJ04', '2182CU03', '2203FS01', '220FT01', '2256EN01',\n",
              "       '2283EY01', '2301FS01', '2305BC01', '2325FP01', '2328FG03',\n",
              "       '2341FP01', '2342FP01', '2344FP01', '2345EG01', '2371CE04',\n",
              "       '2441FP01', '2455EJ01', '2473FE01', '2480FH01', '2535FP01',\n",
              "       '2658AI01', '2659GP01', '2665FG01', '2665FG03', '2666FG01',\n",
              "       '2666FG02', '2666FG03', '2666fg03', '269EG02', '269EJ02',\n",
              "       '2739FL01', '2766FL07', '2773BH01', '2951GY01', '2984EN01',\n",
              "       '3014FC04', '3063EU01', '3063EV01', '3063GC01', '3323FN01',\n",
              "       '3390FL01', '3460FH01', '3494FK03', '3510GY01', '3511FG04',\n",
              "       '3579CA01', '3625CF01', '3711EL01', '3756EY01', '378FK01',\n",
              "       '378fk01', '3812GX01', '3831FJ02', '3876EX01', '3899FR01',\n",
              "       '3952GY03', '3966FZ01', '3986CK02', '3990EP01', '4048GP01',\n",
              "       '4061FB01', '4070GZ01', '4071HC01', '4094GH01', '409EB01',\n",
              "       '4136AZ02', '4149CP01', '4165HG01', '4234EZ02', '4271GY02',\n",
              "       '4308HA01', '4326EC01', '4326GZ01', '4327GZ01', '4329GZ01',\n",
              "       '4338FN03', '4349EA01', '4376AY01', '4497FK02', '4566FK01',\n",
              "       '4607FH01', '4623EZ01', '4643FK02', '4647EE02', '4755CP01',\n",
              "       '4794HA01', '4810GP01', '4819CJ01', '4822GP01', '4840FR01',\n",
              "       '4865FH01', '4873CR03', '487GH01', '487GN01', '497GZ03',\n",
              "       '5011FE06', '5065FK01', '5066FL01', '5068FL01', '5116HF01',\n",
              "       '5238FK01', '5279EG01', '5366EQ01', '5416GC02', '5470GZ01',\n",
              "       '5486FJ01', '5490FB01', '5490GZ01', '5543CK01', '5690FR03',\n",
              "       '5691FN01', '5824 HA01', '5824HA', '5824HA01', '5869FB01',\n",
              "       '5920FF01', '5922AV02', '5922AY02', '6043FP01', '6091EH01',\n",
              "       '6093HA01', '6102GV01', '6116FP01', '6149FZ03', '6239FJ01',\n",
              "       '6312GC01', '631EZ04', '6330FT02', '6378GJ01', '6384FV04',\n",
              "       '6392EJ01', '6411CV02', '6425EG01', '6475FZ04', '6573GL01',\n",
              "       '6612FJ03', '6619GZ03', '6692CB01', '6763FV01', '6805FJ01',\n",
              "       '6864CG02', '6866GL01', '6920FH01', '6960CT03', '70003EL01',\n",
              "       '7019GR01', '7030EF01', '7066EU02', '7095BE01', '7100GE01',\n",
              "       '7162EG01', '7285FG01', '730GH02', '7323FA01', '734GH01',\n",
              "       '7356CL07', '7364GV01', '7375CB01', '7405EC03', '7460EF01',\n",
              "       '7518GB01', '7563GY01', '7609FR03', '7633FU02', '764AZ01',\n",
              "       '764AZ02', '7655GH05', '7694GH01', '7717FP01', '7772EZ01',\n",
              "       '7796EK03', '7798FJ01', '7800GY01', '7819EL02', '7858GP03',\n",
              "       '7911GR01', '7922GR01', '7922GR03', '8010EJ01', '8010EJ03',\n",
              "       '8010FJ03', '8020EJ03', '8040FJ03', '804FK01', '8069EZ01',\n",
              "       '8082GH04', '8082GT01', '8082GT02', '8082GTH04', '8083AV01',\n",
              "       '8083AV02', '8084CB06', '8111GB01', '833GG01', '8361EH01',\n",
              "       '8438CG03', '8456GS01', '8499FP01', '8553FA02', '8554FA02',\n",
              "       '8560FA02', '8581FK03', '8581FK05', '8582GC01', '8592GZ01',\n",
              "       '8622FK01', '8700FZ01', '8728EL02', '8853FG02', '8853FL02',\n",
              "       '8948HF01', '8998FH01', '9012HJ04', '9275GC01', '9300ET02',\n",
              "       '9305ET02', '9372EK03', '9446EL03', '9534EO01', '9566GC01',\n",
              "       '9592EG01', '9621FL01', '9621FL02', '963HK01', '9728FL01',\n",
              "       '972FP02', '974EG01', '974GE01', '9750FN01', '9787HA03',\n",
              "       '9821FJ04', '9903FH03', '9904FH03', '9912FH03', '9FE01', 'nan'],\n",
              "      dtype=object)"
            ]
          },
          "metadata": {
            "tags": []
          },
          "execution_count": 26
        },
        {
          "output_type": "stream",
          "text": [
            "time: 4.91 ms\n"
          ],
          "name": "stdout"
        }
      ]
    },
    {
      "cell_type": "code",
      "metadata": {
        "id": "FDz6r0QgWjzM",
        "colab_type": "code",
        "outputId": "73f6d035-96d6-41db-9795-389fa69807e9",
        "colab": {
          "base_uri": "https://localhost:8080/",
          "height": 35
        }
      },
      "source": [
        "df['BatchNum'] = le2.transform(df['BatchNumber'])"
      ],
      "execution_count": 0,
      "outputs": [
        {
          "output_type": "stream",
          "text": [
            "time: 12.1 ms\n"
          ],
          "name": "stdout"
        }
      ]
    },
    {
      "cell_type": "code",
      "metadata": {
        "id": "8s2fSs2gWjzO",
        "colab_type": "code",
        "outputId": "5a60a350-cbf2-46f6-8b3f-75d181359ad0",
        "colab": {
          "base_uri": "https://localhost:8080/",
          "height": 413
        }
      },
      "source": [
        "df['BatchNum'].unique()"
      ],
      "execution_count": 0,
      "outputs": [
        {
          "output_type": "execute_result",
          "data": {
            "text/plain": [
              "array([275, 238, 190, 127, 242, 137, 214,  21, 259, 216, 258,  86,  12,\n",
              "        89, 197, 210, 234, 219,  37,  93, 247,   3,  52,  58, 129, 167,\n",
              "       132, 235, 223, 260, 183,  77, 122, 140, 181,  29, 155,  49,  42,\n",
              "        22,  55,  76, 121, 175,  19,  44,  54, 221,  88, 265, 262, 268,\n",
              "       159, 154, 150, 193,  11, 274,  41, 165,  78, 253, 174,  70,  72,\n",
              "        14,   8, 170, 187, 177, 142, 241,  66, 218, 162, 195,  56, 209,\n",
              "        32,  80, 217,  94, 115, 135,  20, 164, 136,  43, 246, 130,  51,\n",
              "        84, 191, 194, 123, 206,  79, 248,  27, 236, 232,  71, 243, 103,\n",
              "         4,  45, 254, 224, 213, 118, 188, 245,  57, 227,  81, 143, 239,\n",
              "        31, 124, 173, 255, 180,  30,   6, 189, 100, 249,  97, 138, 228,\n",
              "       240,   7,  68, 203, 117, 270, 178, 101, 233,  83, 147, 273,  73,\n",
              "        16, 192, 120, 144,  46, 119, 146, 244, 116, 149,  62, 108, 231,\n",
              "        75,  53,  74, 272,  63,   5, 215, 104, 257, 114, 182, 264,  38,\n",
              "        98,  91,  48, 109, 153,  15,  82, 201, 237, 212, 269, 166, 251,\n",
              "       184, 161, 168, 163,   1, 222, 220,  96,  50,  13, 226, 134,  95,\n",
              "       256, 200,  17, 133, 145,  69, 196,  39, 179, 157,  92, 171, 112,\n",
              "        59, 211,  99,  65, 198,  10,  60, 271,  33, 152, 169, 160, 230,\n",
              "        40,   9, 158, 128, 225, 113, 126, 176, 205,  85, 229,  67,  28,\n",
              "       131, 208,  36, 185,  90, 141, 207, 267, 110,  87, 261, 250, 204,\n",
              "        47, 202, 186, 266,  64,  26, 156, 106,  18, 102, 125, 252, 111,\n",
              "        61, 199, 172,  24, 263, 105, 148, 151,   0,  35, 139,   2,  34,\n",
              "        23,  25, 107])"
            ]
          },
          "metadata": {
            "tags": []
          },
          "execution_count": 28
        },
        {
          "output_type": "stream",
          "text": [
            "time: 6.04 ms\n"
          ],
          "name": "stdout"
        }
      ]
    },
    {
      "cell_type": "code",
      "metadata": {
        "id": "ogmcxKEcWjzR",
        "colab_type": "code",
        "outputId": "5d545727-6cf8-4f57-99e9-edf39fe5fe06",
        "colab": {
          "base_uri": "https://localhost:8080/",
          "height": 953
        }
      },
      "source": [
        "df.info()"
      ],
      "execution_count": 0,
      "outputs": [
        {
          "output_type": "stream",
          "text": [
            "<class 'pandas.core.frame.DataFrame'>\n",
            "RangeIndex: 36351 entries, 0 to 36350\n",
            "Data columns (total 46 columns):\n",
            "UniqueIDDataset            36351 non-null int64\n",
            "UniqueIDRow                36351 non-null int64\n",
            "SCLink                     36351 non-null object\n",
            "System                     36351 non-null int64\n",
            "Temperature                22489 non-null float64\n",
            "TemperatureHumid           19175 non-null float64\n",
            "RelativeHumidity           23149 non-null float64\n",
            "WindDirection              20520 non-null float64\n",
            "WindVelocity               20518 non-null float64\n",
            "LotNumber                  1537 non-null float64\n",
            "Acetochlor                 184 non-null object\n",
            "Atrazine                   184 non-null object\n",
            "Ciat                       184 non-null object\n",
            "Ceat                       184 non-null object\n",
            "Dimethenamid               184 non-null object\n",
            "Stage                      36351 non-null object\n",
            "Defoliation                250 non-null float64\n",
            "Reproductive               250 non-null float64\n",
            "Bolls                      250 non-null float64\n",
            "Height                     250 non-null float64\n",
            "Nodes                      250 non-null float64\n",
            "Weight                     125 non-null float64\n",
            "Yield                      432 non-null float64\n",
            "BatchNumber                36351 non-null object\n",
            "Destination                671 non-null float64\n",
            "Defective                  465 non-null float64\n",
            "MeanSignalStrength         1998 non-null float64\n",
            "StdSignalStrength          1999 non-null float64\n",
            "MeanLinkQuality            1998 non-null float64\n",
            "StdLinkQuality             1998 non-null float64\n",
            "MeanNoiseFloor             1998 non-null float64\n",
            "StdNoiseFloor              1997 non-null float64\n",
            "StdTemperature             1998 non-null float64\n",
            "StdRH                      1998 non-null float64\n",
            "Machine                    14287 non-null float64\n",
            "pCutTorque                 12288 non-null float64\n",
            "pCutLagError               12288 non-null float64\n",
            "pCutActualPosition         12288 non-null float64\n",
            "pCutActualSpeed            12288 non-null float64\n",
            "pSvolFilmActualPosition    12288 non-null float64\n",
            "pSvolFilmActualSpeed       12288 non-null float64\n",
            "pSvolFilmLagError          12288 non-null float64\n",
            "AcetocNum                  184 non-null float64\n",
            "StageNum                   36351 non-null int64\n",
            "SCLinkNum                  36351 non-null int64\n",
            "BatchNum                   36351 non-null int64\n",
            "dtypes: float64(32), int64(6), object(8)\n",
            "memory usage: 12.8+ MB\n",
            "time: 48.6 ms\n"
          ],
          "name": "stdout"
        }
      ]
    },
    {
      "cell_type": "markdown",
      "metadata": {
        "id": "dyYy0d7fWjzW",
        "colab_type": "text"
      },
      "source": [
        "## Drop text columns"
      ]
    },
    {
      "cell_type": "code",
      "metadata": {
        "id": "TeCeJ1J9WjzY",
        "colab_type": "code",
        "outputId": "7d5eda20-8295-4f94-ff8b-de5ee6b31bfc",
        "colab": {
          "base_uri": "https://localhost:8080/",
          "height": 35
        }
      },
      "source": [
        "columns = [\"SCLink\",\"UniqueIDDataset\",\"UniqueIDRow\",\"System\",\"Atrazine\",\"Ciat\",\"Ceat\",\"Dimethenamid\",\"Acetochlor\",\"Stage\",\"BatchNumber\",\"SCLinkNum\"]\n",
        "data = dropColumns(df, columns)"
      ],
      "execution_count": 0,
      "outputs": [
        {
          "output_type": "stream",
          "text": [
            "time: 64.4 ms\n"
          ],
          "name": "stdout"
        }
      ]
    },
    {
      "cell_type": "markdown",
      "metadata": {
        "id": "APWMO3FXWjzc",
        "colab_type": "text"
      },
      "source": [
        "## Remove nans"
      ]
    },
    {
      "cell_type": "code",
      "metadata": {
        "id": "XspEf7bgWjzd",
        "colab_type": "code",
        "outputId": "3a37243d-3c46-4d8c-c90c-5216263558e9",
        "colab": {
          "base_uri": "https://localhost:8080/",
          "height": 35
        }
      },
      "source": [
        "data = fillNans(data, \"ZERO\")"
      ],
      "execution_count": 0,
      "outputs": [
        {
          "output_type": "stream",
          "text": [
            "time: 9.36 ms\n"
          ],
          "name": "stdout"
        }
      ]
    },
    {
      "cell_type": "code",
      "metadata": {
        "id": "B-yJYDfGWjzf",
        "colab_type": "code",
        "outputId": "01af20eb-f334-4e9c-fc97-7dfb8ad6d5c0",
        "colab": {
          "base_uri": "https://localhost:8080/",
          "height": 242
        }
      },
      "source": [
        "data.head()"
      ],
      "execution_count": 0,
      "outputs": [
        {
          "output_type": "execute_result",
          "data": {
            "text/html": [
              "<div>\n",
              "<style scoped>\n",
              "    .dataframe tbody tr th:only-of-type {\n",
              "        vertical-align: middle;\n",
              "    }\n",
              "\n",
              "    .dataframe tbody tr th {\n",
              "        vertical-align: top;\n",
              "    }\n",
              "\n",
              "    .dataframe thead th {\n",
              "        text-align: right;\n",
              "    }\n",
              "</style>\n",
              "<table border=\"1\" class=\"dataframe\">\n",
              "  <thead>\n",
              "    <tr style=\"text-align: right;\">\n",
              "      <th></th>\n",
              "      <th>Temperature</th>\n",
              "      <th>TemperatureHumid</th>\n",
              "      <th>RelativeHumidity</th>\n",
              "      <th>WindDirection</th>\n",
              "      <th>WindVelocity</th>\n",
              "      <th>LotNumber</th>\n",
              "      <th>Defoliation</th>\n",
              "      <th>Reproductive</th>\n",
              "      <th>Bolls</th>\n",
              "      <th>Height</th>\n",
              "      <th>Nodes</th>\n",
              "      <th>Weight</th>\n",
              "      <th>Yield</th>\n",
              "      <th>Destination</th>\n",
              "      <th>Defective</th>\n",
              "      <th>MeanSignalStrength</th>\n",
              "      <th>StdSignalStrength</th>\n",
              "      <th>MeanLinkQuality</th>\n",
              "      <th>StdLinkQuality</th>\n",
              "      <th>MeanNoiseFloor</th>\n",
              "      <th>StdNoiseFloor</th>\n",
              "      <th>StdTemperature</th>\n",
              "      <th>StdRH</th>\n",
              "      <th>Machine</th>\n",
              "      <th>pCutTorque</th>\n",
              "      <th>pCutLagError</th>\n",
              "      <th>pCutActualPosition</th>\n",
              "      <th>pCutActualSpeed</th>\n",
              "      <th>pSvolFilmActualPosition</th>\n",
              "      <th>pSvolFilmActualSpeed</th>\n",
              "      <th>pSvolFilmLagError</th>\n",
              "      <th>AcetocNum</th>\n",
              "      <th>StageNum</th>\n",
              "      <th>BatchNum</th>\n",
              "    </tr>\n",
              "  </thead>\n",
              "  <tbody>\n",
              "    <tr>\n",
              "      <th>0</th>\n",
              "      <td>24.4</td>\n",
              "      <td>22.4</td>\n",
              "      <td>84.0</td>\n",
              "      <td>0.0</td>\n",
              "      <td>0.0</td>\n",
              "      <td>0.0</td>\n",
              "      <td>0.0</td>\n",
              "      <td>0.0</td>\n",
              "      <td>0.0</td>\n",
              "      <td>0.0</td>\n",
              "      <td>0.0</td>\n",
              "      <td>0.0</td>\n",
              "      <td>0.0</td>\n",
              "      <td>0.0</td>\n",
              "      <td>0.0</td>\n",
              "      <td>0.0</td>\n",
              "      <td>0.0</td>\n",
              "      <td>0.0</td>\n",
              "      <td>0.0</td>\n",
              "      <td>0.0</td>\n",
              "      <td>0.0</td>\n",
              "      <td>0.0</td>\n",
              "      <td>0.0</td>\n",
              "      <td>0.0</td>\n",
              "      <td>0.0</td>\n",
              "      <td>0.0</td>\n",
              "      <td>0.0</td>\n",
              "      <td>0.0</td>\n",
              "      <td>0.0</td>\n",
              "      <td>0.0</td>\n",
              "      <td>0.0</td>\n",
              "      <td>0.0</td>\n",
              "      <td>4</td>\n",
              "      <td>275</td>\n",
              "    </tr>\n",
              "    <tr>\n",
              "      <th>1</th>\n",
              "      <td>22.9</td>\n",
              "      <td>21.5</td>\n",
              "      <td>88.0</td>\n",
              "      <td>0.0</td>\n",
              "      <td>0.0</td>\n",
              "      <td>0.0</td>\n",
              "      <td>0.0</td>\n",
              "      <td>0.0</td>\n",
              "      <td>0.0</td>\n",
              "      <td>0.0</td>\n",
              "      <td>0.0</td>\n",
              "      <td>0.0</td>\n",
              "      <td>0.0</td>\n",
              "      <td>0.0</td>\n",
              "      <td>0.0</td>\n",
              "      <td>0.0</td>\n",
              "      <td>0.0</td>\n",
              "      <td>0.0</td>\n",
              "      <td>0.0</td>\n",
              "      <td>0.0</td>\n",
              "      <td>0.0</td>\n",
              "      <td>0.0</td>\n",
              "      <td>0.0</td>\n",
              "      <td>0.0</td>\n",
              "      <td>0.0</td>\n",
              "      <td>0.0</td>\n",
              "      <td>0.0</td>\n",
              "      <td>0.0</td>\n",
              "      <td>0.0</td>\n",
              "      <td>0.0</td>\n",
              "      <td>0.0</td>\n",
              "      <td>0.0</td>\n",
              "      <td>4</td>\n",
              "      <td>275</td>\n",
              "    </tr>\n",
              "    <tr>\n",
              "      <th>2</th>\n",
              "      <td>26.6</td>\n",
              "      <td>23.3</td>\n",
              "      <td>75.0</td>\n",
              "      <td>5.0</td>\n",
              "      <td>3.0</td>\n",
              "      <td>0.0</td>\n",
              "      <td>0.0</td>\n",
              "      <td>0.0</td>\n",
              "      <td>0.0</td>\n",
              "      <td>0.0</td>\n",
              "      <td>0.0</td>\n",
              "      <td>0.0</td>\n",
              "      <td>0.0</td>\n",
              "      <td>0.0</td>\n",
              "      <td>0.0</td>\n",
              "      <td>0.0</td>\n",
              "      <td>0.0</td>\n",
              "      <td>0.0</td>\n",
              "      <td>0.0</td>\n",
              "      <td>0.0</td>\n",
              "      <td>0.0</td>\n",
              "      <td>0.0</td>\n",
              "      <td>0.0</td>\n",
              "      <td>0.0</td>\n",
              "      <td>0.0</td>\n",
              "      <td>0.0</td>\n",
              "      <td>0.0</td>\n",
              "      <td>0.0</td>\n",
              "      <td>0.0</td>\n",
              "      <td>0.0</td>\n",
              "      <td>0.0</td>\n",
              "      <td>0.0</td>\n",
              "      <td>4</td>\n",
              "      <td>275</td>\n",
              "    </tr>\n",
              "    <tr>\n",
              "      <th>3</th>\n",
              "      <td>22.6</td>\n",
              "      <td>21.4</td>\n",
              "      <td>89.0</td>\n",
              "      <td>36.0</td>\n",
              "      <td>2.0</td>\n",
              "      <td>0.0</td>\n",
              "      <td>0.0</td>\n",
              "      <td>0.0</td>\n",
              "      <td>0.0</td>\n",
              "      <td>0.0</td>\n",
              "      <td>0.0</td>\n",
              "      <td>0.0</td>\n",
              "      <td>0.0</td>\n",
              "      <td>0.0</td>\n",
              "      <td>0.0</td>\n",
              "      <td>0.0</td>\n",
              "      <td>0.0</td>\n",
              "      <td>0.0</td>\n",
              "      <td>0.0</td>\n",
              "      <td>0.0</td>\n",
              "      <td>0.0</td>\n",
              "      <td>0.0</td>\n",
              "      <td>0.0</td>\n",
              "      <td>0.0</td>\n",
              "      <td>0.0</td>\n",
              "      <td>0.0</td>\n",
              "      <td>0.0</td>\n",
              "      <td>0.0</td>\n",
              "      <td>0.0</td>\n",
              "      <td>0.0</td>\n",
              "      <td>0.0</td>\n",
              "      <td>0.0</td>\n",
              "      <td>4</td>\n",
              "      <td>275</td>\n",
              "    </tr>\n",
              "    <tr>\n",
              "      <th>4</th>\n",
              "      <td>22.4</td>\n",
              "      <td>21.3</td>\n",
              "      <td>90.0</td>\n",
              "      <td>36.0</td>\n",
              "      <td>4.0</td>\n",
              "      <td>0.0</td>\n",
              "      <td>0.0</td>\n",
              "      <td>0.0</td>\n",
              "      <td>0.0</td>\n",
              "      <td>0.0</td>\n",
              "      <td>0.0</td>\n",
              "      <td>0.0</td>\n",
              "      <td>0.0</td>\n",
              "      <td>0.0</td>\n",
              "      <td>0.0</td>\n",
              "      <td>0.0</td>\n",
              "      <td>0.0</td>\n",
              "      <td>0.0</td>\n",
              "      <td>0.0</td>\n",
              "      <td>0.0</td>\n",
              "      <td>0.0</td>\n",
              "      <td>0.0</td>\n",
              "      <td>0.0</td>\n",
              "      <td>0.0</td>\n",
              "      <td>0.0</td>\n",
              "      <td>0.0</td>\n",
              "      <td>0.0</td>\n",
              "      <td>0.0</td>\n",
              "      <td>0.0</td>\n",
              "      <td>0.0</td>\n",
              "      <td>0.0</td>\n",
              "      <td>0.0</td>\n",
              "      <td>4</td>\n",
              "      <td>275</td>\n",
              "    </tr>\n",
              "  </tbody>\n",
              "</table>\n",
              "</div>"
            ],
            "text/plain": [
              "   Temperature  TemperatureHumid  ...  StageNum  BatchNum\n",
              "0         24.4              22.4  ...         4       275\n",
              "1         22.9              21.5  ...         4       275\n",
              "2         26.6              23.3  ...         4       275\n",
              "3         22.6              21.4  ...         4       275\n",
              "4         22.4              21.3  ...         4       275\n",
              "\n",
              "[5 rows x 34 columns]"
            ]
          },
          "metadata": {
            "tags": []
          },
          "execution_count": 32
        },
        {
          "output_type": "stream",
          "text": [
            "time: 80.7 ms\n"
          ],
          "name": "stdout"
        }
      ]
    },
    {
      "cell_type": "code",
      "metadata": {
        "scrolled": true,
        "id": "h3_1zgJYWjzh",
        "colab_type": "code",
        "outputId": "d7c763c6-49b0-4b54-eed4-763223df4b89",
        "colab": {
          "base_uri": "https://localhost:8080/",
          "height": 179
        }
      },
      "source": [
        "data.columns"
      ],
      "execution_count": 0,
      "outputs": [
        {
          "output_type": "execute_result",
          "data": {
            "text/plain": [
              "Index(['Temperature', 'TemperatureHumid', 'RelativeHumidity', 'WindDirection',\n",
              "       'WindVelocity', 'LotNumber', 'Defoliation', 'Reproductive', 'Bolls',\n",
              "       'Height', 'Nodes', 'Weight', 'Yield', 'Destination', 'Defective',\n",
              "       'MeanSignalStrength', 'StdSignalStrength', 'MeanLinkQuality',\n",
              "       'StdLinkQuality', 'MeanNoiseFloor', 'StdNoiseFloor', 'StdTemperature',\n",
              "       'StdRH', 'Machine', 'pCutTorque', 'pCutLagError', 'pCutActualPosition',\n",
              "       'pCutActualSpeed', 'pSvolFilmActualPosition', 'pSvolFilmActualSpeed',\n",
              "       'pSvolFilmLagError', 'AcetocNum', 'StageNum', 'BatchNum'],\n",
              "      dtype='object')"
            ]
          },
          "metadata": {
            "tags": []
          },
          "execution_count": 33
        },
        {
          "output_type": "stream",
          "text": [
            "time: 5.02 ms\n"
          ],
          "name": "stdout"
        }
      ]
    },
    {
      "cell_type": "markdown",
      "metadata": {
        "id": "UR6wu9V4Wjzk",
        "colab_type": "text"
      },
      "source": [
        "## Scale data"
      ]
    },
    {
      "cell_type": "code",
      "metadata": {
        "id": "H2jFl-eHWjzl",
        "colab_type": "code",
        "outputId": "6ce4bf44-fdad-458e-b79b-568950185304",
        "colab": {
          "base_uri": "https://localhost:8080/",
          "height": 35
        }
      },
      "source": [
        "scaler = StandardScaler()"
      ],
      "execution_count": 0,
      "outputs": [
        {
          "output_type": "stream",
          "text": [
            "time: 1.14 ms\n"
          ],
          "name": "stdout"
        }
      ]
    },
    {
      "cell_type": "code",
      "metadata": {
        "id": "qx3sPcwtWjzo",
        "colab_type": "code",
        "outputId": "0f30e206-2917-4f6d-843d-16711b50ad7a",
        "colab": {
          "base_uri": "https://localhost:8080/",
          "height": 35
        }
      },
      "source": [
        "data = pd.DataFrame(scaler.fit_transform(data), columns= data.columns)"
      ],
      "execution_count": 0,
      "outputs": [
        {
          "output_type": "stream",
          "text": [
            "time: 37.9 ms\n"
          ],
          "name": "stdout"
        }
      ]
    },
    {
      "cell_type": "code",
      "metadata": {
        "scrolled": true,
        "id": "il1V1l9wWjzq",
        "colab_type": "code",
        "outputId": "9f60a2c0-dabc-42a1-c4c4-8a07980e85a3",
        "colab": {
          "base_uri": "https://localhost:8080/",
          "height": 242
        }
      },
      "source": [
        "data.head()"
      ],
      "execution_count": 0,
      "outputs": [
        {
          "output_type": "execute_result",
          "data": {
            "text/html": [
              "<div>\n",
              "<style scoped>\n",
              "    .dataframe tbody tr th:only-of-type {\n",
              "        vertical-align: middle;\n",
              "    }\n",
              "\n",
              "    .dataframe tbody tr th {\n",
              "        vertical-align: top;\n",
              "    }\n",
              "\n",
              "    .dataframe thead th {\n",
              "        text-align: right;\n",
              "    }\n",
              "</style>\n",
              "<table border=\"1\" class=\"dataframe\">\n",
              "  <thead>\n",
              "    <tr style=\"text-align: right;\">\n",
              "      <th></th>\n",
              "      <th>Temperature</th>\n",
              "      <th>TemperatureHumid</th>\n",
              "      <th>RelativeHumidity</th>\n",
              "      <th>WindDirection</th>\n",
              "      <th>WindVelocity</th>\n",
              "      <th>LotNumber</th>\n",
              "      <th>Defoliation</th>\n",
              "      <th>Reproductive</th>\n",
              "      <th>Bolls</th>\n",
              "      <th>Height</th>\n",
              "      <th>Nodes</th>\n",
              "      <th>Weight</th>\n",
              "      <th>Yield</th>\n",
              "      <th>Destination</th>\n",
              "      <th>Defective</th>\n",
              "      <th>MeanSignalStrength</th>\n",
              "      <th>StdSignalStrength</th>\n",
              "      <th>MeanLinkQuality</th>\n",
              "      <th>StdLinkQuality</th>\n",
              "      <th>MeanNoiseFloor</th>\n",
              "      <th>StdNoiseFloor</th>\n",
              "      <th>StdTemperature</th>\n",
              "      <th>StdRH</th>\n",
              "      <th>Machine</th>\n",
              "      <th>pCutTorque</th>\n",
              "      <th>pCutLagError</th>\n",
              "      <th>pCutActualPosition</th>\n",
              "      <th>pCutActualSpeed</th>\n",
              "      <th>pSvolFilmActualPosition</th>\n",
              "      <th>pSvolFilmActualSpeed</th>\n",
              "      <th>pSvolFilmLagError</th>\n",
              "      <th>AcetocNum</th>\n",
              "      <th>StageNum</th>\n",
              "      <th>BatchNum</th>\n",
              "    </tr>\n",
              "  </thead>\n",
              "  <tbody>\n",
              "    <tr>\n",
              "      <th>0</th>\n",
              "      <td>0.784279</td>\n",
              "      <td>1.218901</td>\n",
              "      <td>1.279492</td>\n",
              "      <td>-0.722900</td>\n",
              "      <td>-0.709612</td>\n",
              "      <td>-0.146399</td>\n",
              "      <td>-0.067868</td>\n",
              "      <td>-0.080137</td>\n",
              "      <td>-0.079004</td>\n",
              "      <td>-0.082626</td>\n",
              "      <td>-0.08264</td>\n",
              "      <td>-0.05679</td>\n",
              "      <td>-0.083894</td>\n",
              "      <td>-0.130232</td>\n",
              "      <td>-0.105027</td>\n",
              "      <td>0.239411</td>\n",
              "      <td>-0.039961</td>\n",
              "      <td>-0.240978</td>\n",
              "      <td>-0.18362</td>\n",
              "      <td>0.241033</td>\n",
              "      <td>-0.091436</td>\n",
              "      <td>-0.114869</td>\n",
              "      <td>-0.048458</td>\n",
              "      <td>-0.661933</td>\n",
              "      <td>0.157187</td>\n",
              "      <td>-0.000177</td>\n",
              "      <td>0.713943</td>\n",
              "      <td>-0.347866</td>\n",
              "      <td>-0.541648</td>\n",
              "      <td>-0.622194</td>\n",
              "      <td>-0.69774</td>\n",
              "      <td>-0.025228</td>\n",
              "      <td>0.060058</td>\n",
              "      <td>0.12105</td>\n",
              "    </tr>\n",
              "    <tr>\n",
              "      <th>1</th>\n",
              "      <td>0.660796</td>\n",
              "      <td>1.128350</td>\n",
              "      <td>1.395258</td>\n",
              "      <td>-0.722900</td>\n",
              "      <td>-0.709612</td>\n",
              "      <td>-0.146399</td>\n",
              "      <td>-0.067868</td>\n",
              "      <td>-0.080137</td>\n",
              "      <td>-0.079004</td>\n",
              "      <td>-0.082626</td>\n",
              "      <td>-0.08264</td>\n",
              "      <td>-0.05679</td>\n",
              "      <td>-0.083894</td>\n",
              "      <td>-0.130232</td>\n",
              "      <td>-0.105027</td>\n",
              "      <td>0.239411</td>\n",
              "      <td>-0.039961</td>\n",
              "      <td>-0.240978</td>\n",
              "      <td>-0.18362</td>\n",
              "      <td>0.241033</td>\n",
              "      <td>-0.091436</td>\n",
              "      <td>-0.114869</td>\n",
              "      <td>-0.048458</td>\n",
              "      <td>-0.661933</td>\n",
              "      <td>0.157187</td>\n",
              "      <td>-0.000177</td>\n",
              "      <td>0.713943</td>\n",
              "      <td>-0.347866</td>\n",
              "      <td>-0.541648</td>\n",
              "      <td>-0.622194</td>\n",
              "      <td>-0.69774</td>\n",
              "      <td>-0.025228</td>\n",
              "      <td>0.060058</td>\n",
              "      <td>0.12105</td>\n",
              "    </tr>\n",
              "    <tr>\n",
              "      <th>2</th>\n",
              "      <td>0.965388</td>\n",
              "      <td>1.309452</td>\n",
              "      <td>1.019019</td>\n",
              "      <td>-0.311225</td>\n",
              "      <td>1.182286</td>\n",
              "      <td>-0.146399</td>\n",
              "      <td>-0.067868</td>\n",
              "      <td>-0.080137</td>\n",
              "      <td>-0.079004</td>\n",
              "      <td>-0.082626</td>\n",
              "      <td>-0.08264</td>\n",
              "      <td>-0.05679</td>\n",
              "      <td>-0.083894</td>\n",
              "      <td>-0.130232</td>\n",
              "      <td>-0.105027</td>\n",
              "      <td>0.239411</td>\n",
              "      <td>-0.039961</td>\n",
              "      <td>-0.240978</td>\n",
              "      <td>-0.18362</td>\n",
              "      <td>0.241033</td>\n",
              "      <td>-0.091436</td>\n",
              "      <td>-0.114869</td>\n",
              "      <td>-0.048458</td>\n",
              "      <td>-0.661933</td>\n",
              "      <td>0.157187</td>\n",
              "      <td>-0.000177</td>\n",
              "      <td>0.713943</td>\n",
              "      <td>-0.347866</td>\n",
              "      <td>-0.541648</td>\n",
              "      <td>-0.622194</td>\n",
              "      <td>-0.69774</td>\n",
              "      <td>-0.025228</td>\n",
              "      <td>0.060058</td>\n",
              "      <td>0.12105</td>\n",
              "    </tr>\n",
              "    <tr>\n",
              "      <th>3</th>\n",
              "      <td>0.636099</td>\n",
              "      <td>1.118288</td>\n",
              "      <td>1.424200</td>\n",
              "      <td>2.241163</td>\n",
              "      <td>0.551653</td>\n",
              "      <td>-0.146399</td>\n",
              "      <td>-0.067868</td>\n",
              "      <td>-0.080137</td>\n",
              "      <td>-0.079004</td>\n",
              "      <td>-0.082626</td>\n",
              "      <td>-0.08264</td>\n",
              "      <td>-0.05679</td>\n",
              "      <td>-0.083894</td>\n",
              "      <td>-0.130232</td>\n",
              "      <td>-0.105027</td>\n",
              "      <td>0.239411</td>\n",
              "      <td>-0.039961</td>\n",
              "      <td>-0.240978</td>\n",
              "      <td>-0.18362</td>\n",
              "      <td>0.241033</td>\n",
              "      <td>-0.091436</td>\n",
              "      <td>-0.114869</td>\n",
              "      <td>-0.048458</td>\n",
              "      <td>-0.661933</td>\n",
              "      <td>0.157187</td>\n",
              "      <td>-0.000177</td>\n",
              "      <td>0.713943</td>\n",
              "      <td>-0.347866</td>\n",
              "      <td>-0.541648</td>\n",
              "      <td>-0.622194</td>\n",
              "      <td>-0.69774</td>\n",
              "      <td>-0.025228</td>\n",
              "      <td>0.060058</td>\n",
              "      <td>0.12105</td>\n",
              "    </tr>\n",
              "    <tr>\n",
              "      <th>4</th>\n",
              "      <td>0.619634</td>\n",
              "      <td>1.108227</td>\n",
              "      <td>1.453141</td>\n",
              "      <td>2.241163</td>\n",
              "      <td>1.812918</td>\n",
              "      <td>-0.146399</td>\n",
              "      <td>-0.067868</td>\n",
              "      <td>-0.080137</td>\n",
              "      <td>-0.079004</td>\n",
              "      <td>-0.082626</td>\n",
              "      <td>-0.08264</td>\n",
              "      <td>-0.05679</td>\n",
              "      <td>-0.083894</td>\n",
              "      <td>-0.130232</td>\n",
              "      <td>-0.105027</td>\n",
              "      <td>0.239411</td>\n",
              "      <td>-0.039961</td>\n",
              "      <td>-0.240978</td>\n",
              "      <td>-0.18362</td>\n",
              "      <td>0.241033</td>\n",
              "      <td>-0.091436</td>\n",
              "      <td>-0.114869</td>\n",
              "      <td>-0.048458</td>\n",
              "      <td>-0.661933</td>\n",
              "      <td>0.157187</td>\n",
              "      <td>-0.000177</td>\n",
              "      <td>0.713943</td>\n",
              "      <td>-0.347866</td>\n",
              "      <td>-0.541648</td>\n",
              "      <td>-0.622194</td>\n",
              "      <td>-0.69774</td>\n",
              "      <td>-0.025228</td>\n",
              "      <td>0.060058</td>\n",
              "      <td>0.12105</td>\n",
              "    </tr>\n",
              "  </tbody>\n",
              "</table>\n",
              "</div>"
            ],
            "text/plain": [
              "   Temperature  TemperatureHumid  ...  StageNum  BatchNum\n",
              "0     0.784279          1.218901  ...  0.060058   0.12105\n",
              "1     0.660796          1.128350  ...  0.060058   0.12105\n",
              "2     0.965388          1.309452  ...  0.060058   0.12105\n",
              "3     0.636099          1.118288  ...  0.060058   0.12105\n",
              "4     0.619634          1.108227  ...  0.060058   0.12105\n",
              "\n",
              "[5 rows x 34 columns]"
            ]
          },
          "metadata": {
            "tags": []
          },
          "execution_count": 36
        },
        {
          "output_type": "stream",
          "text": [
            "time: 75.9 ms\n"
          ],
          "name": "stdout"
        }
      ]
    },
    {
      "cell_type": "code",
      "metadata": {
        "id": "b8Cwh1suWjzs",
        "colab_type": "code",
        "outputId": "cbab9f07-284d-4766-c605-1b21acdc7095",
        "colab": {
          "base_uri": "https://localhost:8080/",
          "height": 179
        }
      },
      "source": [
        "data.columns"
      ],
      "execution_count": 0,
      "outputs": [
        {
          "output_type": "execute_result",
          "data": {
            "text/plain": [
              "Index(['Temperature', 'TemperatureHumid', 'RelativeHumidity', 'WindDirection',\n",
              "       'WindVelocity', 'LotNumber', 'Defoliation', 'Reproductive', 'Bolls',\n",
              "       'Height', 'Nodes', 'Weight', 'Yield', 'Destination', 'Defective',\n",
              "       'MeanSignalStrength', 'StdSignalStrength', 'MeanLinkQuality',\n",
              "       'StdLinkQuality', 'MeanNoiseFloor', 'StdNoiseFloor', 'StdTemperature',\n",
              "       'StdRH', 'Machine', 'pCutTorque', 'pCutLagError', 'pCutActualPosition',\n",
              "       'pCutActualSpeed', 'pSvolFilmActualPosition', 'pSvolFilmActualSpeed',\n",
              "       'pSvolFilmLagError', 'AcetocNum', 'StageNum', 'BatchNum'],\n",
              "      dtype='object')"
            ]
          },
          "metadata": {
            "tags": []
          },
          "execution_count": 37
        },
        {
          "output_type": "stream",
          "text": [
            "time: 5.91 ms\n"
          ],
          "name": "stdout"
        }
      ]
    },
    {
      "cell_type": "markdown",
      "metadata": {
        "id": "tbKTn9-cWjzv",
        "colab_type": "text"
      },
      "source": [
        "## Create full features scenarios (all features) - sc1"
      ]
    },
    {
      "cell_type": "markdown",
      "metadata": {
        "id": "6Z1lRj6UZh_8",
        "colab_type": "text"
      },
      "source": [
        "This was the scenario implemented on this book chapter\n"
      ]
    },
    {
      "cell_type": "markdown",
      "metadata": {
        "id": "AA-xZBwCWjzv",
        "colab_type": "text"
      },
      "source": [
        "## sc1 inputs"
      ]
    },
    {
      "cell_type": "code",
      "metadata": {
        "id": "wVh6RaL5Wjzw",
        "colab_type": "code",
        "outputId": "df4f203b-a9fe-40da-b68a-4a931651edad",
        "colab": {
          "base_uri": "https://localhost:8080/",
          "height": 35
        }
      },
      "source": [
        "dfsc1 = data[['Temperature', 'TemperatureHumid', 'RelativeHumidity', 'WindDirection',\n",
        "       'WindVelocity', 'LotNumber', 'Defoliation', 'Reproductive', 'Bolls',\n",
        "       'Height', 'Nodes', 'Weight', 'Yield', 'Destination', 'Defective',\n",
        "       'MeanSignalStrength', 'StdSignalStrength', 'MeanLinkQuality',\n",
        "       'StdLinkQuality', 'MeanNoiseFloor', 'StdNoiseFloor', 'StdTemperature',\n",
        "       'StdRH', 'Machine', 'pCutTorque', 'pCutLagError', 'pCutActualPosition',\n",
        "       'pCutActualSpeed', 'pSvolFilmActualPosition', 'pSvolFilmActualSpeed',\n",
        "       'pSvolFilmLagError', 'AcetocNum', 'StageNum', 'BatchNum']].copy()"
      ],
      "execution_count": 0,
      "outputs": [
        {
          "output_type": "stream",
          "text": [
            "time: 16.1 ms\n"
          ],
          "name": "stdout"
        }
      ]
    },
    {
      "cell_type": "code",
      "metadata": {
        "scrolled": true,
        "id": "WylmBKYbWjzy",
        "colab_type": "code",
        "outputId": "504f7fe2-a11e-4cdc-d796-4d80d3d5862b",
        "colab": {
          "base_uri": "https://localhost:8080/",
          "height": 242
        }
      },
      "source": [
        "dfsc1.head()"
      ],
      "execution_count": 0,
      "outputs": [
        {
          "output_type": "execute_result",
          "data": {
            "text/html": [
              "<div>\n",
              "<style scoped>\n",
              "    .dataframe tbody tr th:only-of-type {\n",
              "        vertical-align: middle;\n",
              "    }\n",
              "\n",
              "    .dataframe tbody tr th {\n",
              "        vertical-align: top;\n",
              "    }\n",
              "\n",
              "    .dataframe thead th {\n",
              "        text-align: right;\n",
              "    }\n",
              "</style>\n",
              "<table border=\"1\" class=\"dataframe\">\n",
              "  <thead>\n",
              "    <tr style=\"text-align: right;\">\n",
              "      <th></th>\n",
              "      <th>Temperature</th>\n",
              "      <th>TemperatureHumid</th>\n",
              "      <th>RelativeHumidity</th>\n",
              "      <th>WindDirection</th>\n",
              "      <th>WindVelocity</th>\n",
              "      <th>LotNumber</th>\n",
              "      <th>Defoliation</th>\n",
              "      <th>Reproductive</th>\n",
              "      <th>Bolls</th>\n",
              "      <th>Height</th>\n",
              "      <th>Nodes</th>\n",
              "      <th>Weight</th>\n",
              "      <th>Yield</th>\n",
              "      <th>Destination</th>\n",
              "      <th>Defective</th>\n",
              "      <th>MeanSignalStrength</th>\n",
              "      <th>StdSignalStrength</th>\n",
              "      <th>MeanLinkQuality</th>\n",
              "      <th>StdLinkQuality</th>\n",
              "      <th>MeanNoiseFloor</th>\n",
              "      <th>StdNoiseFloor</th>\n",
              "      <th>StdTemperature</th>\n",
              "      <th>StdRH</th>\n",
              "      <th>Machine</th>\n",
              "      <th>pCutTorque</th>\n",
              "      <th>pCutLagError</th>\n",
              "      <th>pCutActualPosition</th>\n",
              "      <th>pCutActualSpeed</th>\n",
              "      <th>pSvolFilmActualPosition</th>\n",
              "      <th>pSvolFilmActualSpeed</th>\n",
              "      <th>pSvolFilmLagError</th>\n",
              "      <th>AcetocNum</th>\n",
              "      <th>StageNum</th>\n",
              "      <th>BatchNum</th>\n",
              "    </tr>\n",
              "  </thead>\n",
              "  <tbody>\n",
              "    <tr>\n",
              "      <th>0</th>\n",
              "      <td>0.784279</td>\n",
              "      <td>1.218901</td>\n",
              "      <td>1.279492</td>\n",
              "      <td>-0.722900</td>\n",
              "      <td>-0.709612</td>\n",
              "      <td>-0.146399</td>\n",
              "      <td>-0.067868</td>\n",
              "      <td>-0.080137</td>\n",
              "      <td>-0.079004</td>\n",
              "      <td>-0.082626</td>\n",
              "      <td>-0.08264</td>\n",
              "      <td>-0.05679</td>\n",
              "      <td>-0.083894</td>\n",
              "      <td>-0.130232</td>\n",
              "      <td>-0.105027</td>\n",
              "      <td>0.239411</td>\n",
              "      <td>-0.039961</td>\n",
              "      <td>-0.240978</td>\n",
              "      <td>-0.18362</td>\n",
              "      <td>0.241033</td>\n",
              "      <td>-0.091436</td>\n",
              "      <td>-0.114869</td>\n",
              "      <td>-0.048458</td>\n",
              "      <td>-0.661933</td>\n",
              "      <td>0.157187</td>\n",
              "      <td>-0.000177</td>\n",
              "      <td>0.713943</td>\n",
              "      <td>-0.347866</td>\n",
              "      <td>-0.541648</td>\n",
              "      <td>-0.622194</td>\n",
              "      <td>-0.69774</td>\n",
              "      <td>-0.025228</td>\n",
              "      <td>0.060058</td>\n",
              "      <td>0.12105</td>\n",
              "    </tr>\n",
              "    <tr>\n",
              "      <th>1</th>\n",
              "      <td>0.660796</td>\n",
              "      <td>1.128350</td>\n",
              "      <td>1.395258</td>\n",
              "      <td>-0.722900</td>\n",
              "      <td>-0.709612</td>\n",
              "      <td>-0.146399</td>\n",
              "      <td>-0.067868</td>\n",
              "      <td>-0.080137</td>\n",
              "      <td>-0.079004</td>\n",
              "      <td>-0.082626</td>\n",
              "      <td>-0.08264</td>\n",
              "      <td>-0.05679</td>\n",
              "      <td>-0.083894</td>\n",
              "      <td>-0.130232</td>\n",
              "      <td>-0.105027</td>\n",
              "      <td>0.239411</td>\n",
              "      <td>-0.039961</td>\n",
              "      <td>-0.240978</td>\n",
              "      <td>-0.18362</td>\n",
              "      <td>0.241033</td>\n",
              "      <td>-0.091436</td>\n",
              "      <td>-0.114869</td>\n",
              "      <td>-0.048458</td>\n",
              "      <td>-0.661933</td>\n",
              "      <td>0.157187</td>\n",
              "      <td>-0.000177</td>\n",
              "      <td>0.713943</td>\n",
              "      <td>-0.347866</td>\n",
              "      <td>-0.541648</td>\n",
              "      <td>-0.622194</td>\n",
              "      <td>-0.69774</td>\n",
              "      <td>-0.025228</td>\n",
              "      <td>0.060058</td>\n",
              "      <td>0.12105</td>\n",
              "    </tr>\n",
              "    <tr>\n",
              "      <th>2</th>\n",
              "      <td>0.965388</td>\n",
              "      <td>1.309452</td>\n",
              "      <td>1.019019</td>\n",
              "      <td>-0.311225</td>\n",
              "      <td>1.182286</td>\n",
              "      <td>-0.146399</td>\n",
              "      <td>-0.067868</td>\n",
              "      <td>-0.080137</td>\n",
              "      <td>-0.079004</td>\n",
              "      <td>-0.082626</td>\n",
              "      <td>-0.08264</td>\n",
              "      <td>-0.05679</td>\n",
              "      <td>-0.083894</td>\n",
              "      <td>-0.130232</td>\n",
              "      <td>-0.105027</td>\n",
              "      <td>0.239411</td>\n",
              "      <td>-0.039961</td>\n",
              "      <td>-0.240978</td>\n",
              "      <td>-0.18362</td>\n",
              "      <td>0.241033</td>\n",
              "      <td>-0.091436</td>\n",
              "      <td>-0.114869</td>\n",
              "      <td>-0.048458</td>\n",
              "      <td>-0.661933</td>\n",
              "      <td>0.157187</td>\n",
              "      <td>-0.000177</td>\n",
              "      <td>0.713943</td>\n",
              "      <td>-0.347866</td>\n",
              "      <td>-0.541648</td>\n",
              "      <td>-0.622194</td>\n",
              "      <td>-0.69774</td>\n",
              "      <td>-0.025228</td>\n",
              "      <td>0.060058</td>\n",
              "      <td>0.12105</td>\n",
              "    </tr>\n",
              "    <tr>\n",
              "      <th>3</th>\n",
              "      <td>0.636099</td>\n",
              "      <td>1.118288</td>\n",
              "      <td>1.424200</td>\n",
              "      <td>2.241163</td>\n",
              "      <td>0.551653</td>\n",
              "      <td>-0.146399</td>\n",
              "      <td>-0.067868</td>\n",
              "      <td>-0.080137</td>\n",
              "      <td>-0.079004</td>\n",
              "      <td>-0.082626</td>\n",
              "      <td>-0.08264</td>\n",
              "      <td>-0.05679</td>\n",
              "      <td>-0.083894</td>\n",
              "      <td>-0.130232</td>\n",
              "      <td>-0.105027</td>\n",
              "      <td>0.239411</td>\n",
              "      <td>-0.039961</td>\n",
              "      <td>-0.240978</td>\n",
              "      <td>-0.18362</td>\n",
              "      <td>0.241033</td>\n",
              "      <td>-0.091436</td>\n",
              "      <td>-0.114869</td>\n",
              "      <td>-0.048458</td>\n",
              "      <td>-0.661933</td>\n",
              "      <td>0.157187</td>\n",
              "      <td>-0.000177</td>\n",
              "      <td>0.713943</td>\n",
              "      <td>-0.347866</td>\n",
              "      <td>-0.541648</td>\n",
              "      <td>-0.622194</td>\n",
              "      <td>-0.69774</td>\n",
              "      <td>-0.025228</td>\n",
              "      <td>0.060058</td>\n",
              "      <td>0.12105</td>\n",
              "    </tr>\n",
              "    <tr>\n",
              "      <th>4</th>\n",
              "      <td>0.619634</td>\n",
              "      <td>1.108227</td>\n",
              "      <td>1.453141</td>\n",
              "      <td>2.241163</td>\n",
              "      <td>1.812918</td>\n",
              "      <td>-0.146399</td>\n",
              "      <td>-0.067868</td>\n",
              "      <td>-0.080137</td>\n",
              "      <td>-0.079004</td>\n",
              "      <td>-0.082626</td>\n",
              "      <td>-0.08264</td>\n",
              "      <td>-0.05679</td>\n",
              "      <td>-0.083894</td>\n",
              "      <td>-0.130232</td>\n",
              "      <td>-0.105027</td>\n",
              "      <td>0.239411</td>\n",
              "      <td>-0.039961</td>\n",
              "      <td>-0.240978</td>\n",
              "      <td>-0.18362</td>\n",
              "      <td>0.241033</td>\n",
              "      <td>-0.091436</td>\n",
              "      <td>-0.114869</td>\n",
              "      <td>-0.048458</td>\n",
              "      <td>-0.661933</td>\n",
              "      <td>0.157187</td>\n",
              "      <td>-0.000177</td>\n",
              "      <td>0.713943</td>\n",
              "      <td>-0.347866</td>\n",
              "      <td>-0.541648</td>\n",
              "      <td>-0.622194</td>\n",
              "      <td>-0.69774</td>\n",
              "      <td>-0.025228</td>\n",
              "      <td>0.060058</td>\n",
              "      <td>0.12105</td>\n",
              "    </tr>\n",
              "  </tbody>\n",
              "</table>\n",
              "</div>"
            ],
            "text/plain": [
              "   Temperature  TemperatureHumid  ...  StageNum  BatchNum\n",
              "0     0.784279          1.218901  ...  0.060058   0.12105\n",
              "1     0.660796          1.128350  ...  0.060058   0.12105\n",
              "2     0.965388          1.309452  ...  0.060058   0.12105\n",
              "3     0.636099          1.118288  ...  0.060058   0.12105\n",
              "4     0.619634          1.108227  ...  0.060058   0.12105\n",
              "\n",
              "[5 rows x 34 columns]"
            ]
          },
          "metadata": {
            "tags": []
          },
          "execution_count": 39
        },
        {
          "output_type": "stream",
          "text": [
            "time: 79.9 ms\n"
          ],
          "name": "stdout"
        }
      ]
    },
    {
      "cell_type": "code",
      "metadata": {
        "id": "9G6UvNprWjz6",
        "colab_type": "code",
        "outputId": "a8140d00-e510-4215-c3a7-a19d6f0d0e44",
        "colab": {
          "base_uri": "https://localhost:8080/",
          "height": 737
        }
      },
      "source": [
        "dfsc1.info()"
      ],
      "execution_count": 0,
      "outputs": [
        {
          "output_type": "stream",
          "text": [
            "<class 'pandas.core.frame.DataFrame'>\n",
            "RangeIndex: 36351 entries, 0 to 36350\n",
            "Data columns (total 34 columns):\n",
            "Temperature                36351 non-null float64\n",
            "TemperatureHumid           36351 non-null float64\n",
            "RelativeHumidity           36351 non-null float64\n",
            "WindDirection              36351 non-null float64\n",
            "WindVelocity               36351 non-null float64\n",
            "LotNumber                  36351 non-null float64\n",
            "Defoliation                36351 non-null float64\n",
            "Reproductive               36351 non-null float64\n",
            "Bolls                      36351 non-null float64\n",
            "Height                     36351 non-null float64\n",
            "Nodes                      36351 non-null float64\n",
            "Weight                     36351 non-null float64\n",
            "Yield                      36351 non-null float64\n",
            "Destination                36351 non-null float64\n",
            "Defective                  36351 non-null float64\n",
            "MeanSignalStrength         36351 non-null float64\n",
            "StdSignalStrength          36351 non-null float64\n",
            "MeanLinkQuality            36351 non-null float64\n",
            "StdLinkQuality             36351 non-null float64\n",
            "MeanNoiseFloor             36351 non-null float64\n",
            "StdNoiseFloor              36351 non-null float64\n",
            "StdTemperature             36351 non-null float64\n",
            "StdRH                      36351 non-null float64\n",
            "Machine                    36351 non-null float64\n",
            "pCutTorque                 36351 non-null float64\n",
            "pCutLagError               36351 non-null float64\n",
            "pCutActualPosition         36351 non-null float64\n",
            "pCutActualSpeed            36351 non-null float64\n",
            "pSvolFilmActualPosition    36351 non-null float64\n",
            "pSvolFilmActualSpeed       36351 non-null float64\n",
            "pSvolFilmLagError          36351 non-null float64\n",
            "AcetocNum                  36351 non-null float64\n",
            "StageNum                   36351 non-null float64\n",
            "BatchNum                   36351 non-null float64\n",
            "dtypes: float64(34)\n",
            "memory usage: 9.4 MB\n",
            "time: 20 ms\n"
          ],
          "name": "stdout"
        }
      ]
    },
    {
      "cell_type": "markdown",
      "metadata": {
        "id": "ME_2ab2YWjz8",
        "colab_type": "text"
      },
      "source": [
        "## Create less features scenarios (less features) - sc2"
      ]
    },
    {
      "cell_type": "markdown",
      "metadata": {
        "id": "7e51t8OZZlPG",
        "colab_type": "text"
      },
      "source": [
        "This scenario is related to future works, in which fewer features were selected"
      ]
    },
    {
      "cell_type": "markdown",
      "metadata": {
        "id": "TYhkQdCaZnQ3",
        "colab_type": "text"
      },
      "source": [
        "These are: TemperatureHumid, WindDirection, WindVerlocity, Reproductive, Bolls, Height, Nodes, Weight, Defective, MeanSignalStrength, StdSignalStrength, MeanLinkQuality, StdLinkQuality, StdTemperature, stdRH, pCutActualPosition, pCutActualSpeed, pSvolFilmActualPosition, pSvolFilmActualSpeed and pSvolFilmeLagError"
      ]
    },
    {
      "cell_type": "markdown",
      "metadata": {
        "id": "3gFNohQSWjz9",
        "colab_type": "text"
      },
      "source": [
        "## sc2 inputs"
      ]
    },
    {
      "cell_type": "code",
      "metadata": {
        "id": "ujIfBLqfWj0B",
        "colab_type": "code",
        "outputId": "ca9864bb-b6ac-48c9-adbb-dbe806dc47f8",
        "colab": {
          "base_uri": "https://localhost:8080/",
          "height": 35
        }
      },
      "source": [
        "dfsc2 = data[['Temperature', 'RelativeHumidity','LotNumber', 'Defoliation',\n",
        "              'Yield', 'Destination','MeanNoiseFloor', 'StdNoiseFloor','Machine',\n",
        "              'pCutTorque', 'pCutLagError','AcetocNum', 'StageNum', 'BatchNum']].copy()"
      ],
      "execution_count": 0,
      "outputs": [
        {
          "output_type": "stream",
          "text": [
            "time: 9.96 ms\n"
          ],
          "name": "stdout"
        }
      ]
    },
    {
      "cell_type": "code",
      "metadata": {
        "id": "n2D3Oy0WWj0E",
        "colab_type": "code",
        "outputId": "05280ce7-3089-4edb-8776-68715148a061",
        "colab": {
          "base_uri": "https://localhost:8080/",
          "height": 242
        }
      },
      "source": [
        "dfsc2.head()"
      ],
      "execution_count": 0,
      "outputs": [
        {
          "output_type": "execute_result",
          "data": {
            "text/html": [
              "<div>\n",
              "<style scoped>\n",
              "    .dataframe tbody tr th:only-of-type {\n",
              "        vertical-align: middle;\n",
              "    }\n",
              "\n",
              "    .dataframe tbody tr th {\n",
              "        vertical-align: top;\n",
              "    }\n",
              "\n",
              "    .dataframe thead th {\n",
              "        text-align: right;\n",
              "    }\n",
              "</style>\n",
              "<table border=\"1\" class=\"dataframe\">\n",
              "  <thead>\n",
              "    <tr style=\"text-align: right;\">\n",
              "      <th></th>\n",
              "      <th>Temperature</th>\n",
              "      <th>RelativeHumidity</th>\n",
              "      <th>LotNumber</th>\n",
              "      <th>Defoliation</th>\n",
              "      <th>Yield</th>\n",
              "      <th>Destination</th>\n",
              "      <th>MeanNoiseFloor</th>\n",
              "      <th>StdNoiseFloor</th>\n",
              "      <th>Machine</th>\n",
              "      <th>pCutTorque</th>\n",
              "      <th>pCutLagError</th>\n",
              "      <th>AcetocNum</th>\n",
              "      <th>StageNum</th>\n",
              "      <th>BatchNum</th>\n",
              "    </tr>\n",
              "  </thead>\n",
              "  <tbody>\n",
              "    <tr>\n",
              "      <th>0</th>\n",
              "      <td>0.784279</td>\n",
              "      <td>1.279492</td>\n",
              "      <td>-0.146399</td>\n",
              "      <td>-0.067868</td>\n",
              "      <td>-0.083894</td>\n",
              "      <td>-0.130232</td>\n",
              "      <td>0.241033</td>\n",
              "      <td>-0.091436</td>\n",
              "      <td>-0.661933</td>\n",
              "      <td>0.157187</td>\n",
              "      <td>-0.000177</td>\n",
              "      <td>-0.025228</td>\n",
              "      <td>0.060058</td>\n",
              "      <td>0.12105</td>\n",
              "    </tr>\n",
              "    <tr>\n",
              "      <th>1</th>\n",
              "      <td>0.660796</td>\n",
              "      <td>1.395258</td>\n",
              "      <td>-0.146399</td>\n",
              "      <td>-0.067868</td>\n",
              "      <td>-0.083894</td>\n",
              "      <td>-0.130232</td>\n",
              "      <td>0.241033</td>\n",
              "      <td>-0.091436</td>\n",
              "      <td>-0.661933</td>\n",
              "      <td>0.157187</td>\n",
              "      <td>-0.000177</td>\n",
              "      <td>-0.025228</td>\n",
              "      <td>0.060058</td>\n",
              "      <td>0.12105</td>\n",
              "    </tr>\n",
              "    <tr>\n",
              "      <th>2</th>\n",
              "      <td>0.965388</td>\n",
              "      <td>1.019019</td>\n",
              "      <td>-0.146399</td>\n",
              "      <td>-0.067868</td>\n",
              "      <td>-0.083894</td>\n",
              "      <td>-0.130232</td>\n",
              "      <td>0.241033</td>\n",
              "      <td>-0.091436</td>\n",
              "      <td>-0.661933</td>\n",
              "      <td>0.157187</td>\n",
              "      <td>-0.000177</td>\n",
              "      <td>-0.025228</td>\n",
              "      <td>0.060058</td>\n",
              "      <td>0.12105</td>\n",
              "    </tr>\n",
              "    <tr>\n",
              "      <th>3</th>\n",
              "      <td>0.636099</td>\n",
              "      <td>1.424200</td>\n",
              "      <td>-0.146399</td>\n",
              "      <td>-0.067868</td>\n",
              "      <td>-0.083894</td>\n",
              "      <td>-0.130232</td>\n",
              "      <td>0.241033</td>\n",
              "      <td>-0.091436</td>\n",
              "      <td>-0.661933</td>\n",
              "      <td>0.157187</td>\n",
              "      <td>-0.000177</td>\n",
              "      <td>-0.025228</td>\n",
              "      <td>0.060058</td>\n",
              "      <td>0.12105</td>\n",
              "    </tr>\n",
              "    <tr>\n",
              "      <th>4</th>\n",
              "      <td>0.619634</td>\n",
              "      <td>1.453141</td>\n",
              "      <td>-0.146399</td>\n",
              "      <td>-0.067868</td>\n",
              "      <td>-0.083894</td>\n",
              "      <td>-0.130232</td>\n",
              "      <td>0.241033</td>\n",
              "      <td>-0.091436</td>\n",
              "      <td>-0.661933</td>\n",
              "      <td>0.157187</td>\n",
              "      <td>-0.000177</td>\n",
              "      <td>-0.025228</td>\n",
              "      <td>0.060058</td>\n",
              "      <td>0.12105</td>\n",
              "    </tr>\n",
              "  </tbody>\n",
              "</table>\n",
              "</div>"
            ],
            "text/plain": [
              "   Temperature  RelativeHumidity  LotNumber  ...  AcetocNum  StageNum  BatchNum\n",
              "0     0.784279          1.279492  -0.146399  ...  -0.025228  0.060058   0.12105\n",
              "1     0.660796          1.395258  -0.146399  ...  -0.025228  0.060058   0.12105\n",
              "2     0.965388          1.019019  -0.146399  ...  -0.025228  0.060058   0.12105\n",
              "3     0.636099          1.424200  -0.146399  ...  -0.025228  0.060058   0.12105\n",
              "4     0.619634          1.453141  -0.146399  ...  -0.025228  0.060058   0.12105\n",
              "\n",
              "[5 rows x 14 columns]"
            ]
          },
          "metadata": {
            "tags": []
          },
          "execution_count": 43
        },
        {
          "output_type": "stream",
          "text": [
            "time: 47.3 ms\n"
          ],
          "name": "stdout"
        }
      ]
    },
    {
      "cell_type": "markdown",
      "metadata": {
        "id": "IXz2R3gRWj0K",
        "colab_type": "text"
      },
      "source": [
        "## Targets"
      ]
    },
    {
      "cell_type": "markdown",
      "metadata": {
        "id": "wGRCAraUZtgl",
        "colab_type": "text"
      },
      "source": [
        "This is the target that was used in this book chapter\n"
      ]
    },
    {
      "cell_type": "code",
      "metadata": {
        "id": "MyAql-nOWj0N",
        "colab_type": "code",
        "outputId": "27d609ca-5ce5-4c48-d432-9a461079b176",
        "colab": {
          "base_uri": "https://localhost:8080/",
          "height": 35
        }
      },
      "source": [
        "target_system = df[['System']].copy()"
      ],
      "execution_count": 0,
      "outputs": [
        {
          "output_type": "stream",
          "text": [
            "time: 4.93 ms\n"
          ],
          "name": "stdout"
        }
      ]
    },
    {
      "cell_type": "code",
      "metadata": {
        "scrolled": true,
        "id": "KCZOhJ35Wj0P",
        "colab_type": "code",
        "outputId": "6e003f3e-26ce-4c8e-d3b5-3679a6114fc4",
        "colab": {
          "base_uri": "https://localhost:8080/",
          "height": 143
        }
      },
      "source": [
        "target_system.info()"
      ],
      "execution_count": 0,
      "outputs": [
        {
          "output_type": "stream",
          "text": [
            "<class 'pandas.core.frame.DataFrame'>\n",
            "RangeIndex: 36351 entries, 0 to 36350\n",
            "Data columns (total 1 columns):\n",
            "System    36351 non-null int64\n",
            "dtypes: int64(1)\n",
            "memory usage: 284.1 KB\n",
            "time: 8.96 ms\n"
          ],
          "name": "stdout"
        }
      ]
    },
    {
      "cell_type": "code",
      "metadata": {
        "id": "aBF2_Q1OWj0S",
        "colab_type": "code",
        "outputId": "a86e5b02-410d-4b97-c7c7-4afea8eb67df",
        "colab": {
          "base_uri": "https://localhost:8080/",
          "height": 222
        }
      },
      "source": [
        "target_system.head()"
      ],
      "execution_count": 0,
      "outputs": [
        {
          "output_type": "execute_result",
          "data": {
            "text/html": [
              "<div>\n",
              "<style scoped>\n",
              "    .dataframe tbody tr th:only-of-type {\n",
              "        vertical-align: middle;\n",
              "    }\n",
              "\n",
              "    .dataframe tbody tr th {\n",
              "        vertical-align: top;\n",
              "    }\n",
              "\n",
              "    .dataframe thead th {\n",
              "        text-align: right;\n",
              "    }\n",
              "</style>\n",
              "<table border=\"1\" class=\"dataframe\">\n",
              "  <thead>\n",
              "    <tr style=\"text-align: right;\">\n",
              "      <th></th>\n",
              "      <th>System</th>\n",
              "    </tr>\n",
              "  </thead>\n",
              "  <tbody>\n",
              "    <tr>\n",
              "      <th>0</th>\n",
              "      <td>2</td>\n",
              "    </tr>\n",
              "    <tr>\n",
              "      <th>1</th>\n",
              "      <td>2</td>\n",
              "    </tr>\n",
              "    <tr>\n",
              "      <th>2</th>\n",
              "      <td>2</td>\n",
              "    </tr>\n",
              "    <tr>\n",
              "      <th>3</th>\n",
              "      <td>2</td>\n",
              "    </tr>\n",
              "    <tr>\n",
              "      <th>4</th>\n",
              "      <td>2</td>\n",
              "    </tr>\n",
              "  </tbody>\n",
              "</table>\n",
              "</div>"
            ],
            "text/plain": [
              "   System\n",
              "0       2\n",
              "1       2\n",
              "2       2\n",
              "3       2\n",
              "4       2"
            ]
          },
          "metadata": {
            "tags": []
          },
          "execution_count": 46
        },
        {
          "output_type": "stream",
          "text": [
            "time: 14.5 ms\n"
          ],
          "name": "stdout"
        }
      ]
    },
    {
      "cell_type": "markdown",
      "metadata": {
        "id": "sdGXIkJcZx6H",
        "colab_type": "text"
      },
      "source": [
        "The following target is related to future works, in which the supply chain link could also be predicted"
      ]
    },
    {
      "cell_type": "code",
      "metadata": {
        "id": "BVwNdbHQWj0Z",
        "colab_type": "code",
        "outputId": "1d12c307-bfb9-4c40-9f81-1269044ea64c",
        "colab": {
          "base_uri": "https://localhost:8080/",
          "height": 35
        }
      },
      "source": [
        "target_sclink = df[['SCLinkNum']]"
      ],
      "execution_count": 0,
      "outputs": [
        {
          "output_type": "stream",
          "text": [
            "time: 3.86 ms\n"
          ],
          "name": "stdout"
        }
      ]
    },
    {
      "cell_type": "code",
      "metadata": {
        "id": "a9I79oSXWj0c",
        "colab_type": "code",
        "outputId": "140827bd-065c-48b0-be33-1f41c2b4c8e3",
        "colab": {
          "base_uri": "https://localhost:8080/",
          "height": 143
        }
      },
      "source": [
        "target_sclink.info()"
      ],
      "execution_count": 0,
      "outputs": [
        {
          "output_type": "stream",
          "text": [
            "<class 'pandas.core.frame.DataFrame'>\n",
            "RangeIndex: 36351 entries, 0 to 36350\n",
            "Data columns (total 1 columns):\n",
            "SCLinkNum    36351 non-null int64\n",
            "dtypes: int64(1)\n",
            "memory usage: 284.1 KB\n",
            "time: 14.7 ms\n"
          ],
          "name": "stdout"
        }
      ]
    },
    {
      "cell_type": "code",
      "metadata": {
        "id": "swUG4-VaWj0e",
        "colab_type": "code",
        "outputId": "2eaf3a1d-518d-4599-e987-0525a53ef17e",
        "colab": {
          "base_uri": "https://localhost:8080/",
          "height": 222
        }
      },
      "source": [
        "target_sclink.head()"
      ],
      "execution_count": 0,
      "outputs": [
        {
          "output_type": "execute_result",
          "data": {
            "text/html": [
              "<div>\n",
              "<style scoped>\n",
              "    .dataframe tbody tr th:only-of-type {\n",
              "        vertical-align: middle;\n",
              "    }\n",
              "\n",
              "    .dataframe tbody tr th {\n",
              "        vertical-align: top;\n",
              "    }\n",
              "\n",
              "    .dataframe thead th {\n",
              "        text-align: right;\n",
              "    }\n",
              "</style>\n",
              "<table border=\"1\" class=\"dataframe\">\n",
              "  <thead>\n",
              "    <tr style=\"text-align: right;\">\n",
              "      <th></th>\n",
              "      <th>SCLinkNum</th>\n",
              "    </tr>\n",
              "  </thead>\n",
              "  <tbody>\n",
              "    <tr>\n",
              "      <th>0</th>\n",
              "      <td>0</td>\n",
              "    </tr>\n",
              "    <tr>\n",
              "      <th>1</th>\n",
              "      <td>0</td>\n",
              "    </tr>\n",
              "    <tr>\n",
              "      <th>2</th>\n",
              "      <td>0</td>\n",
              "    </tr>\n",
              "    <tr>\n",
              "      <th>3</th>\n",
              "      <td>0</td>\n",
              "    </tr>\n",
              "    <tr>\n",
              "      <th>4</th>\n",
              "      <td>0</td>\n",
              "    </tr>\n",
              "  </tbody>\n",
              "</table>\n",
              "</div>"
            ],
            "text/plain": [
              "   SCLinkNum\n",
              "0          0\n",
              "1          0\n",
              "2          0\n",
              "3          0\n",
              "4          0"
            ]
          },
          "metadata": {
            "tags": []
          },
          "execution_count": 49
        },
        {
          "output_type": "stream",
          "text": [
            "time: 18.5 ms\n"
          ],
          "name": "stdout"
        }
      ]
    },
    {
      "cell_type": "code",
      "metadata": {
        "id": "BNgA7NWxgtnx",
        "colab_type": "code",
        "outputId": "1edf5e78-8d01-4cc7-99e9-11759a40f5b9",
        "colab": {
          "base_uri": "https://localhost:8080/",
          "height": 35
        }
      },
      "source": [
        "dfsc1 = PCA(n_components=3).fit_transform(dfsc1)"
      ],
      "execution_count": 0,
      "outputs": [
        {
          "output_type": "stream",
          "text": [
            "time: 179 ms\n"
          ],
          "name": "stdout"
        }
      ]
    },
    {
      "cell_type": "markdown",
      "metadata": {
        "id": "NID5Jp3PWj0g",
        "colab_type": "text"
      },
      "source": [
        "# 3. Model building and implementation"
      ]
    },
    {
      "cell_type": "markdown",
      "metadata": {
        "id": "qzKf_egwWj0h",
        "colab_type": "text"
      },
      "source": [
        "## SC1 with target = system"
      ]
    },
    {
      "cell_type": "markdown",
      "metadata": {
        "id": "bizRREHTWj0h",
        "colab_type": "text"
      },
      "source": [
        "## Model building with 3 clusters (optimal answer)"
      ]
    },
    {
      "cell_type": "code",
      "metadata": {
        "scrolled": true,
        "id": "kcN3NeEqWj0i",
        "colab_type": "code",
        "outputId": "1d0dc90a-9e06-4ea4-eaaf-99f4f963029b",
        "colab": {
          "base_uri": "https://localhost:8080/",
          "height": 89
        }
      },
      "source": [
        "target_system.System.value_counts()"
      ],
      "execution_count": 0,
      "outputs": [
        {
          "output_type": "execute_result",
          "data": {
            "text/plain": [
              "2    20527\n",
              "3    15153\n",
              "1      671\n",
              "Name: System, dtype: int64"
            ]
          },
          "metadata": {
            "tags": []
          },
          "execution_count": 51
        },
        {
          "output_type": "stream",
          "text": [
            "time: 20.1 ms\n"
          ],
          "name": "stdout"
        }
      ]
    },
    {
      "cell_type": "code",
      "metadata": {
        "id": "Lehr4f7OWj0k",
        "colab_type": "code",
        "outputId": "06b3a692-29c5-42f1-b0a3-200ecb50aad5",
        "colab": {
          "base_uri": "https://localhost:8080/",
          "height": 71
        }
      },
      "source": [
        "%%time\n",
        "kmeansc1pp3 = KMeans(n_clusters=3, random_state=42).fit(dfsc1)"
      ],
      "execution_count": 0,
      "outputs": [
        {
          "output_type": "stream",
          "text": [
            "CPU times: user 170 ms, sys: 132 ms, total: 302 ms\n",
            "Wall time: 157 ms\n",
            "time: 159 ms\n"
          ],
          "name": "stdout"
        }
      ]
    },
    {
      "cell_type": "code",
      "metadata": {
        "scrolled": false,
        "id": "WdSW65UsWj0m",
        "colab_type": "code",
        "outputId": "68c726db-4658-4ef4-a474-60dda2be22c5",
        "colab": {
          "base_uri": "https://localhost:8080/",
          "height": 35
        }
      },
      "source": [
        "kmeansc1pp3.labels_"
      ],
      "execution_count": 0,
      "outputs": [
        {
          "output_type": "execute_result",
          "data": {
            "text/plain": [
              "array([0, 0, 0, ..., 1, 1, 1], dtype=int32)"
            ]
          },
          "metadata": {
            "tags": []
          },
          "execution_count": 53
        },
        {
          "output_type": "stream",
          "text": [
            "time: 10.7 ms\n"
          ],
          "name": "stdout"
        }
      ]
    },
    {
      "cell_type": "code",
      "metadata": {
        "id": "2GtDLmg6Wj0o",
        "colab_type": "code",
        "outputId": "f933bbd3-5df4-4986-8df9-9e0ea6dd6ac6",
        "colab": {
          "base_uri": "https://localhost:8080/",
          "height": 35
        }
      },
      "source": [
        "sc1pp3labels = pd.Series(kmeansc1pp3.labels_)"
      ],
      "execution_count": 0,
      "outputs": [
        {
          "output_type": "stream",
          "text": [
            "time: 1.28 ms\n"
          ],
          "name": "stdout"
        }
      ]
    },
    {
      "cell_type": "code",
      "metadata": {
        "id": "mTTy4muyWj0q",
        "colab_type": "code",
        "outputId": "0c9d2e5f-42ab-4cad-a83f-7e7b2addb317",
        "colab": {
          "base_uri": "https://localhost:8080/",
          "height": 89
        }
      },
      "source": [
        "sc1pp3labels.value_counts()"
      ],
      "execution_count": 0,
      "outputs": [
        {
          "output_type": "execute_result",
          "data": {
            "text/plain": [
              "0    23813\n",
              "1    12288\n",
              "2      250\n",
              "dtype: int64"
            ]
          },
          "metadata": {
            "tags": []
          },
          "execution_count": 55
        },
        {
          "output_type": "stream",
          "text": [
            "time: 14.1 ms\n"
          ],
          "name": "stdout"
        }
      ]
    },
    {
      "cell_type": "code",
      "metadata": {
        "id": "OJ7wt2NlWj0v",
        "colab_type": "code",
        "outputId": "940c2e2a-c1c6-4a71-dc72-91d6f02d89f3",
        "colab": {
          "base_uri": "https://localhost:8080/",
          "height": 35
        }
      },
      "source": [
        "cmpp3 = confusion_matrix(target_system.System, sc1pp3labels)"
      ],
      "execution_count": 0,
      "outputs": [
        {
          "output_type": "stream",
          "text": [
            "time: 51.7 ms\n"
          ],
          "name": "stdout"
        }
      ]
    },
    {
      "cell_type": "code",
      "metadata": {
        "id": "ZB7cg78WWj0x",
        "colab_type": "code",
        "outputId": "f0b1a090-f3de-4ec7-ddd6-375e964b5a89",
        "colab": {
          "base_uri": "https://localhost:8080/",
          "height": 89
        }
      },
      "source": [
        "cmpp3"
      ],
      "execution_count": 0,
      "outputs": [
        {
          "output_type": "execute_result",
          "data": {
            "text/plain": [
              "array([[    0,     0,     0,     0],\n",
              "       [  671,     0,     0,     0],\n",
              "       [20527,     0,     0,     0],\n",
              "       [ 2615, 12288,   250,     0]])"
            ]
          },
          "metadata": {
            "tags": []
          },
          "execution_count": 57
        },
        {
          "output_type": "stream",
          "text": [
            "time: 4.63 ms\n"
          ],
          "name": "stdout"
        }
      ]
    },
    {
      "cell_type": "markdown",
      "metadata": {
        "id": "1rATPm2PWj0z",
        "colab_type": "text"
      },
      "source": [
        "## Check correct labels"
      ]
    },
    {
      "cell_type": "code",
      "metadata": {
        "scrolled": true,
        "id": "ec1sXncsWj00",
        "colab_type": "code",
        "outputId": "229d33b5-d9c6-4e9f-b9b3-ba6351aee7cc",
        "colab": {
          "base_uri": "https://localhost:8080/",
          "height": 321
        }
      },
      "source": [
        "sns.heatmap(cmpp3,annot=True,cmap='coolwarm')\n",
        "plt.xlabel('Predicted')\n",
        "plt.ylabel('True')"
      ],
      "execution_count": 0,
      "outputs": [
        {
          "output_type": "execute_result",
          "data": {
            "text/plain": [
              "Text(30.5, 0.5, 'True')"
            ]
          },
          "metadata": {
            "tags": []
          },
          "execution_count": 58
        },
        {
          "output_type": "display_data",
          "data": {
            "image/png": "[encoded data removed]",
            "text/plain": [
              "<Figure size 432x288 with 2 Axes>"
            ]
          },
          "metadata": {
            "tags": []
          }
        },
        {
          "output_type": "stream",
          "text": [
            "time: 337 ms\n"
          ],
          "name": "stdout"
        }
      ]
    },
    {
      "cell_type": "markdown",
      "metadata": {
        "id": "kJBpYqwtWj06",
        "colab_type": "text"
      },
      "source": [
        "## Change to correct labels"
      ]
    },
    {
      "cell_type": "code",
      "metadata": {
        "id": "HHhDVs51Wj0-",
        "colab_type": "code",
        "outputId": "f5fb381d-11cb-44f9-db72-f716ac37f0f2",
        "colab": {
          "base_uri": "https://localhost:8080/",
          "height": 35
        }
      },
      "source": [
        "labelspp3 = kmeansc1pp3.labels_\n",
        "labelspp3[labelspp3 == 0] = 4\n",
        "labelspp3[labelspp3 == 1] = 5\n",
        "labelspp3[labelspp3 == 2] = 6"
      ],
      "execution_count": 0,
      "outputs": [
        {
          "output_type": "stream",
          "text": [
            "time: 1.92 ms\n"
          ],
          "name": "stdout"
        }
      ]
    },
    {
      "cell_type": "code",
      "metadata": {
        "id": "FmbDVS_lWj1B",
        "colab_type": "code",
        "outputId": "e353dc08-2724-4e60-9b0a-8cf1e077e907",
        "colab": {
          "base_uri": "https://localhost:8080/",
          "height": 35
        }
      },
      "source": [
        "labelspp3[labelspp3 == 4] = 2\n",
        "labelspp3[labelspp3 == 5] = 3\n",
        "labelspp3[labelspp3 == 6] = 1"
      ],
      "execution_count": 0,
      "outputs": [
        {
          "output_type": "stream",
          "text": [
            "time: 3.59 ms\n"
          ],
          "name": "stdout"
        }
      ]
    },
    {
      "cell_type": "markdown",
      "metadata": {
        "id": "4xvVpC8vWj1D",
        "colab_type": "text"
      },
      "source": [
        "## Check heatmap"
      ]
    },
    {
      "cell_type": "code",
      "metadata": {
        "id": "3xS2u-xvWj1E",
        "colab_type": "code",
        "outputId": "95cff5a0-3d3b-4eeb-bfd3-50b8ca06dc1c",
        "colab": {
          "base_uri": "https://localhost:8080/",
          "height": 35
        }
      },
      "source": [
        "cmpp3 = confusion_matrix(target_system, labelspp3)"
      ],
      "execution_count": 0,
      "outputs": [
        {
          "output_type": "stream",
          "text": [
            "time: 36.1 ms\n"
          ],
          "name": "stdout"
        }
      ]
    },
    {
      "cell_type": "code",
      "metadata": {
        "id": "qy0copygWj1G",
        "colab_type": "code",
        "outputId": "68be3fa6-56ed-4de9-fb13-ea4905ca1d85",
        "colab": {
          "base_uri": "https://localhost:8080/",
          "height": 321
        }
      },
      "source": [
        "sns.heatmap(cmpp3,annot=True,cmap='coolwarm')\n",
        "plt.xlabel('Predicted')\n",
        "plt.ylabel('True')"
      ],
      "execution_count": 0,
      "outputs": [
        {
          "output_type": "execute_result",
          "data": {
            "text/plain": [
              "Text(30.5, 0.5, 'True')"
            ]
          },
          "metadata": {
            "tags": []
          },
          "execution_count": 62
        },
        {
          "output_type": "display_data",
          "data": {
            "image/png": "[encoded data removed]",
            "text/plain": [
              "<Figure size 432x288 with 2 Axes>"
            ]
          },
          "metadata": {
            "tags": []
          }
        },
        {
          "output_type": "stream",
          "text": [
            "time: 272 ms\n"
          ],
          "name": "stdout"
        }
      ]
    },
    {
      "cell_type": "code",
      "metadata": {
        "id": "mrYpY84_Wj1J",
        "colab_type": "code",
        "outputId": "414d32cc-5165-4324-cf42-a02f39fa8f79",
        "colab": {
          "base_uri": "https://localhost:8080/",
          "height": 35
        }
      },
      "source": [
        "reportpp3 = classification_report(target_system, labelspp3,output_dict = True)"
      ],
      "execution_count": 0,
      "outputs": [
        {
          "output_type": "stream",
          "text": [
            "time: 37.2 ms\n"
          ],
          "name": "stdout"
        }
      ]
    },
    {
      "cell_type": "code",
      "metadata": {
        "id": "5zlrNvJXWj1M",
        "colab_type": "code",
        "outputId": "516068bf-45c1-4bb5-8b51-58d35fd95b94",
        "colab": {
          "base_uri": "https://localhost:8080/",
          "height": 341
        }
      },
      "source": [
        "reportpp3"
      ],
      "execution_count": 0,
      "outputs": [
        {
          "output_type": "execute_result",
          "data": {
            "text/plain": [
              "{'1': {'f1-score': 0.0, 'precision': 0.0, 'recall': 0.0, 'support': 671},\n",
              " '2': {'f1-score': 0.9258908434821831,\n",
              "  'precision': 0.8620081468105657,\n",
              "  'recall': 1.0,\n",
              "  'support': 20527},\n",
              " '3': {'f1-score': 0.895594183885427,\n",
              "  'precision': 1.0,\n",
              "  'recall': 0.8109285290041576,\n",
              "  'support': 15153},\n",
              " 'accuracy': 0.9027261973535804,\n",
              " 'macro avg': {'f1-score': 0.6071616757892033,\n",
              "  'precision': 0.6206693822701886,\n",
              "  'recall': 0.6036428430013858,\n",
              "  'support': 36351},\n",
              " 'weighted avg': {'f1-score': 0.8961706696535073,\n",
              "  'precision': 0.9036186412913119,\n",
              "  'recall': 0.9027261973535804,\n",
              "  'support': 36351}}"
            ]
          },
          "metadata": {
            "tags": []
          },
          "execution_count": 64
        },
        {
          "output_type": "stream",
          "text": [
            "time: 6.12 ms\n"
          ],
          "name": "stdout"
        }
      ]
    },
    {
      "cell_type": "markdown",
      "metadata": {
        "id": "Ou0-dGcRWj1Q",
        "colab_type": "text"
      },
      "source": [
        "## Calculating the elbow method (optimal number of clusters)"
      ]
    },
    {
      "cell_type": "code",
      "metadata": {
        "id": "1uYQ-TzrahoY",
        "colab_type": "code",
        "outputId": "3f40d4ff-afd3-4010-fe64-d612207aa59a",
        "colab": {
          "base_uri": "https://localhost:8080/",
          "height": 35
        }
      },
      "source": [
        "wcss =[]\n",
        "for i in range(1,30):\n",
        "  kmeanModel = KMeans(n_clusters = i, init = 'k-means++', random_state = 42)\n",
        "  kmeanModel.fit(dfsc1)\n",
        "  wcss.append(kmeanModel.inertia_)"
      ],
      "execution_count": 0,
      "outputs": [
        {
          "output_type": "stream",
          "text": [
            "time: 32.3 s\n"
          ],
          "name": "stdout"
        }
      ]
    },
    {
      "cell_type": "code",
      "metadata": {
        "id": "GEs2aTFwa7f2",
        "colab_type": "code",
        "outputId": "647a0acc-2cd9-4e2e-8249-d3937683ce01",
        "colab": {
          "base_uri": "https://localhost:8080/",
          "height": 591
        }
      },
      "source": [
        "plt.figure(figsize=(12,9))\n",
        "plt.plot(range(1,30),wcss,marker='o',linestyle='--')\n",
        "plt.xlabel('Number of Clusters')\n",
        "plt.ylabel('WCSS')\n",
        "plt.xticks(np.arange(0, 30, 1))\n",
        "plt.title('K-means Clustering Elbow Method')\n",
        "plt.show()"
      ],
      "execution_count": 0,
      "outputs": [
        {
          "output_type": "display_data",
          "data": {
            "image/png": "[encoded data removed]",
            "text/plain": [
              "<Figure size 864x648 with 1 Axes>"
            ]
          },
          "metadata": {
            "tags": []
          }
        },
        {
          "output_type": "stream",
          "text": [
            "time: 486 ms\n"
          ],
          "name": "stdout"
        }
      ]
    },
    {
      "cell_type": "markdown",
      "metadata": {
        "id": "2kcDcZcmWj1V",
        "colab_type": "text"
      },
      "source": [
        "## Results analysis"
      ]
    },
    {
      "cell_type": "code",
      "metadata": {
        "id": "4i4W1x6YWj1W",
        "colab_type": "code",
        "outputId": "aa11313a-deda-4539-f713-848f8b894fe9",
        "colab": {
          "base_uri": "https://localhost:8080/",
          "height": 305
        }
      },
      "source": [
        "print(\"Confusion matrix\\n\",metrics.confusion_matrix(y_true=target_system.System,y_pred=labelspp3)) \n",
        "print(\"Classification report\\n\",metrics.classification_report(y_true=target_system.System,y_pred=labelspp3)) "
      ],
      "execution_count": 0,
      "outputs": [
        {
          "output_type": "stream",
          "text": [
            "Confusion matrix\n",
            " [[    0   671     0]\n",
            " [    0 20527     0]\n",
            " [  250  2615 12288]]\n",
            "Classification report\n",
            "               precision    recall  f1-score   support\n",
            "\n",
            "           1       0.00      0.00      0.00       671\n",
            "           2       0.86      1.00      0.93     20527\n",
            "           3       1.00      0.81      0.90     15153\n",
            "\n",
            "    accuracy                           0.90     36351\n",
            "   macro avg       0.62      0.60      0.61     36351\n",
            "weighted avg       0.90      0.90      0.90     36351\n",
            "\n",
            "time: 71.9 ms\n"
          ],
          "name": "stdout"
        }
      ]
    },
    {
      "cell_type": "code",
      "metadata": {
        "id": "F_hhRUaAWj1Z",
        "colab_type": "code",
        "outputId": "247b0b03-3bdc-40ff-f683-8aea73570dab",
        "colab": {
          "base_uri": "https://localhost:8080/",
          "height": 323
        }
      },
      "source": [
        "print('\\033[1m'+\"Kmeans++:\"+'\\033[0m')\n",
        "print('\\033[1m'+\"System 1\"+'\\033[0m')\n",
        "print(\"Precision = {0:0.3f}\".format(reportpp3[\"1\"][\"precision\"]))\n",
        "print(\"Recall = {0:0.3f}\".format(reportpp3[\"1\"][\"recall\"]))\n",
        "print(\"F1-score = {0:0.3f}\".format(reportpp3[\"1\"][\"f1-score\"]))\n",
        "print(\"Support = {0:0.3f}\".format(reportpp3[\"1\"][\"support\"]))\n",
        "print('\\033[1m'+\"System 2\"+'\\033[0m')\n",
        "print(\"Precision = {0:0.3f}\".format(reportpp3[\"2\"][\"precision\"]))\n",
        "print(\"Recall = {0:0.3f}\".format(reportpp3[\"2\"][\"recall\"]))\n",
        "print(\"F1-score = {0:0.3f}\".format(reportpp3[\"2\"][\"f1-score\"]))\n",
        "print(\"Support = {0:0.3f}\".format(reportpp3[\"2\"][\"support\"]))\n",
        "print('\\033[1m'+\"System 3\"+'\\033[0m')\n",
        "print(\"Precision = {0:0.3f}\".format(reportpp3[\"3\"][\"precision\"]))\n",
        "print(\"Recall = {0:0.3f}\".format(reportpp3[\"3\"][\"recall\"]))\n",
        "print(\"F1-score = {0:0.3f}\".format(reportpp3[\"3\"][\"f1-score\"]))\n",
        "print(\"Support = {0:0.3f}\".format(reportpp3[\"3\"][\"support\"]))"
      ],
      "execution_count": 0,
      "outputs": [
        {
          "output_type": "stream",
          "text": [
            "\u001b[1mKmeans++:\u001b[0m\n",
            "\u001b[1mSystem 1\u001b[0m\n",
            "Precision = 0.000\n",
            "Recall = 0.000\n",
            "F1-score = 0.000\n",
            "Support = 671.000\n",
            "\u001b[1mSystem 2\u001b[0m\n",
            "Precision = 0.862\n",
            "Recall = 1.000\n",
            "F1-score = 0.926\n",
            "Support = 20527.000\n",
            "\u001b[1mSystem 3\u001b[0m\n",
            "Precision = 1.000\n",
            "Recall = 0.811\n",
            "F1-score = 0.896\n",
            "Support = 15153.000\n",
            "time: 17 ms\n"
          ],
          "name": "stdout"
        }
      ]
    },
    {
      "cell_type": "code",
      "metadata": {
        "id": "6HgzQoT2Wj1b",
        "colab_type": "code",
        "outputId": "cc668411-bd8e-4be0-afa6-2beb7d0a8e0e",
        "colab": {
          "base_uri": "https://localhost:8080/",
          "height": 161
        }
      },
      "source": [
        "print('\\033[1m'+'Clustering metrics - supervised'+'\\033[0m')\n",
        "print('Adjusted Rand score: ', metrics.adjusted_rand_score(target_system.System, labelspp3))\n",
        "print('Mutual info score: ', metrics.adjusted_mutual_info_score(target_system.System, labelspp3))\n",
        "print('Homogeneity score: ', metrics.homogeneity_score(target_system.System, labelspp3))\n",
        "print('Completeness score: ', metrics.completeness_score(target_system.System, labelspp3))\n",
        "print('V-measure: ', metrics.v_measure_score(target_system.System, labelspp3))\n",
        "print('Fowlkes-Mallows score: ', metrics.fowlkes_mallows_score(target_system.System, labelspp3))"
      ],
      "execution_count": 0,
      "outputs": [
        {
          "output_type": "stream",
          "text": [
            "\u001b[1mClustering metrics - supervised\u001b[0m\n",
            "Adjusted Rand score:  0.6823361077431518\n",
            "Mutual info score:  0.6288415438002335\n",
            "Homogeneity score:  0.5945082951466247\n",
            "Completeness score:  0.6674481883802669\n",
            "V-measure:  0.6288703132831919\n",
            "Fowlkes-Mallows score:  0.8475658942266868\n",
            "time: 62.6 ms\n"
          ],
          "name": "stdout"
        }
      ]
    },
    {
      "cell_type": "code",
      "metadata": {
        "id": "qmOukazDWj1e",
        "colab_type": "code",
        "outputId": "c0177d20-a235-496f-83f8-5d8692895e9e",
        "colab": {
          "base_uri": "https://localhost:8080/",
          "height": 163
        }
      },
      "source": [
        "print('\\033[1m'+'Clustering metrics - unsupervised'+'\\033[0m')\n",
        "print('Silhouette: ',metrics.silhouette_score(dfsc1, labelspp3, metric='euclidean'))\n",
        "print('Davies-Bouldin Index: ',metrics.davies_bouldin_score(dfsc1, labelspp3))\n",
        "print('Calinski-Harabasz Index: ',metrics.calinski_harabaz_score(dfsc1, labelspp3))"
      ],
      "execution_count": 0,
      "outputs": [
        {
          "output_type": "stream",
          "text": [
            "\u001b[1mClustering metrics - unsupervised\u001b[0m\n",
            "Silhouette:  0.7084899313103125\n",
            "Davies-Bouldin Index:  0.35351468150384296\n",
            "Calinski-Harabasz Index:  40095.43389737366\n",
            "time: 18.9 s\n"
          ],
          "name": "stdout"
        },
        {
          "output_type": "stream",
          "text": [
            "/usr/local/lib/python3.6/dist-packages/sklearn/utils/deprecation.py:87: FutureWarning: Function calinski_harabaz_score is deprecated; Function 'calinski_harabaz_score' has been renamed to 'calinski_harabasz_score' and will be removed in version 0.23.\n",
            "  warnings.warn(msg, category=FutureWarning)\n"
          ],
          "name": "stderr"
        }
      ]
    },
    {
      "cell_type": "markdown",
      "metadata": {
        "id": "oxH5PMPIWj1h",
        "colab_type": "text"
      },
      "source": [
        "## Hyperparameter analysis: n_init"
      ]
    },
    {
      "cell_type": "markdown",
      "metadata": {
        "id": "IVIP8s4vWj1h",
        "colab_type": "text"
      },
      "source": [
        "### 3 scenarios: 100, 300 and 500"
      ]
    },
    {
      "cell_type": "markdown",
      "metadata": {
        "id": "Lfyuwl-gWj1i",
        "colab_type": "text"
      },
      "source": [
        "### 01 - n_init = 100"
      ]
    },
    {
      "cell_type": "code",
      "metadata": {
        "id": "IolqyukWWj1i",
        "colab_type": "code",
        "outputId": "327c7aab-40c4-449a-bb14-95eaee2e6689",
        "colab": {
          "base_uri": "https://localhost:8080/",
          "height": 35
        }
      },
      "source": [
        "kmeansc1pp3hyp1_01 = KMeans(n_clusters=3, random_state=42, n_init=100).fit(dfsc1)"
      ],
      "execution_count": 0,
      "outputs": [
        {
          "output_type": "stream",
          "text": [
            "time: 1.47 s\n"
          ],
          "name": "stdout"
        }
      ]
    },
    {
      "cell_type": "code",
      "metadata": {
        "id": "m9apDzgRWj1l",
        "colab_type": "code",
        "outputId": "de8630ca-c7a4-46c6-afe9-85c755da9d34",
        "colab": {
          "base_uri": "https://localhost:8080/",
          "height": 35
        }
      },
      "source": [
        "kmeansc1pp3hyp1_01.labels_"
      ],
      "execution_count": 0,
      "outputs": [
        {
          "output_type": "execute_result",
          "data": {
            "text/plain": [
              "array([0, 0, 0, ..., 1, 1, 1], dtype=int32)"
            ]
          },
          "metadata": {
            "tags": []
          },
          "execution_count": 72
        },
        {
          "output_type": "stream",
          "text": [
            "time: 5.26 ms\n"
          ],
          "name": "stdout"
        }
      ]
    },
    {
      "cell_type": "code",
      "metadata": {
        "id": "9UQne1RWWj1p",
        "colab_type": "code",
        "outputId": "b7df3cda-6cb0-4a93-d739-d64daacf3eb0",
        "colab": {
          "base_uri": "https://localhost:8080/",
          "height": 35
        }
      },
      "source": [
        "sc1pp3labelshyp1_01 = pd.Series(kmeansc1pp3hyp1_01.labels_)"
      ],
      "execution_count": 0,
      "outputs": [
        {
          "output_type": "stream",
          "text": [
            "time: 1.52 ms\n"
          ],
          "name": "stdout"
        }
      ]
    },
    {
      "cell_type": "code",
      "metadata": {
        "id": "PdzsSoVRWj1r",
        "colab_type": "code",
        "outputId": "56cb550c-0c3b-4f0e-abf0-655cf45a1790",
        "colab": {
          "base_uri": "https://localhost:8080/",
          "height": 89
        }
      },
      "source": [
        "sc1pp3labelshyp1_01.value_counts()"
      ],
      "execution_count": 0,
      "outputs": [
        {
          "output_type": "execute_result",
          "data": {
            "text/plain": [
              "0    23813\n",
              "1    12288\n",
              "2      250\n",
              "dtype: int64"
            ]
          },
          "metadata": {
            "tags": []
          },
          "execution_count": 74
        },
        {
          "output_type": "stream",
          "text": [
            "time: 17.5 ms\n"
          ],
          "name": "stdout"
        }
      ]
    },
    {
      "cell_type": "code",
      "metadata": {
        "id": "tTVXVNBTWj1t",
        "colab_type": "code",
        "outputId": "ab31015f-accc-4a34-c805-8e980d8c8561",
        "colab": {
          "base_uri": "https://localhost:8080/",
          "height": 35
        }
      },
      "source": [
        "cmpp3hyp1_01 = confusion_matrix(target_system.System, sc1pp3labelshyp1_01)"
      ],
      "execution_count": 0,
      "outputs": [
        {
          "output_type": "stream",
          "text": [
            "time: 71.1 ms\n"
          ],
          "name": "stdout"
        }
      ]
    },
    {
      "cell_type": "code",
      "metadata": {
        "id": "humYoRPgWj1v",
        "colab_type": "code",
        "outputId": "bd13cfde-5e58-49a6-f983-5ef7a22a8be3",
        "colab": {
          "base_uri": "https://localhost:8080/",
          "height": 89
        }
      },
      "source": [
        "cmpp3hyp1_01"
      ],
      "execution_count": 0,
      "outputs": [
        {
          "output_type": "execute_result",
          "data": {
            "text/plain": [
              "array([[    0,     0,     0,     0],\n",
              "       [  671,     0,     0,     0],\n",
              "       [20527,     0,     0,     0],\n",
              "       [ 2615, 12288,   250,     0]])"
            ]
          },
          "metadata": {
            "tags": []
          },
          "execution_count": 76
        },
        {
          "output_type": "stream",
          "text": [
            "time: 5.28 ms\n"
          ],
          "name": "stdout"
        }
      ]
    },
    {
      "cell_type": "markdown",
      "metadata": {
        "id": "n74OG3DAWj1y",
        "colab_type": "text"
      },
      "source": [
        "## Check correct labels"
      ]
    },
    {
      "cell_type": "code",
      "metadata": {
        "id": "bN6pLZN1Wj1z",
        "colab_type": "code",
        "outputId": "3cfdd651-94b0-4db1-f765-7fb8e5a87e47",
        "colab": {
          "base_uri": "https://localhost:8080/",
          "height": 321
        }
      },
      "source": [
        "sns.heatmap(cmpp3hyp1_01,annot=True,cmap='coolwarm')\n",
        "plt.xlabel('Predicted')\n",
        "plt.ylabel('True')"
      ],
      "execution_count": 0,
      "outputs": [
        {
          "output_type": "execute_result",
          "data": {
            "text/plain": [
              "Text(30.5, 0.5, 'True')"
            ]
          },
          "metadata": {
            "tags": []
          },
          "execution_count": 77
        },
        {
          "output_type": "display_data",
          "data": {
            "image/png": "[encoded data removed]",
            "text/plain": [
              "<Figure size 432x288 with 2 Axes>"
            ]
          },
          "metadata": {
            "tags": []
          }
        },
        {
          "output_type": "stream",
          "text": [
            "time: 314 ms\n"
          ],
          "name": "stdout"
        }
      ]
    },
    {
      "cell_type": "markdown",
      "metadata": {
        "id": "BOB8GH7GWj14",
        "colab_type": "text"
      },
      "source": [
        "## Change to correct labels"
      ]
    },
    {
      "cell_type": "code",
      "metadata": {
        "id": "7fyPQsG7Wj15",
        "colab_type": "code",
        "outputId": "98d528a0-9749-452a-b549-62f4c3f6329e",
        "colab": {
          "base_uri": "https://localhost:8080/",
          "height": 35
        }
      },
      "source": [
        "sc1pp3labelshyp1_01\n",
        "sc1pp3labelshyp1_01[sc1pp3labelshyp1_01 == 0] = 4\n",
        "sc1pp3labelshyp1_01[sc1pp3labelshyp1_01 == 1] = 5\n",
        "sc1pp3labelshyp1_01[sc1pp3labelshyp1_01 == 2] = 6"
      ],
      "execution_count": 0,
      "outputs": [
        {
          "output_type": "stream",
          "text": [
            "time: 14.5 ms\n"
          ],
          "name": "stdout"
        }
      ]
    },
    {
      "cell_type": "code",
      "metadata": {
        "id": "04fQ2CsvWj1_",
        "colab_type": "code",
        "outputId": "85be4328-fa56-4388-c8d9-76ab6939bfa6",
        "colab": {
          "base_uri": "https://localhost:8080/",
          "height": 35
        }
      },
      "source": [
        "sc1pp3labelshyp1_01[sc1pp3labelshyp1_01 == 4] = 2\n",
        "sc1pp3labelshyp1_01[sc1pp3labelshyp1_01 == 5] = 3\n",
        "sc1pp3labelshyp1_01[sc1pp3labelshyp1_01 == 6] = 1"
      ],
      "execution_count": 0,
      "outputs": [
        {
          "output_type": "stream",
          "text": [
            "time: 15.5 ms\n"
          ],
          "name": "stdout"
        }
      ]
    },
    {
      "cell_type": "markdown",
      "metadata": {
        "id": "5J1rsaL3Wj2B",
        "colab_type": "text"
      },
      "source": [
        "## Check heatmap"
      ]
    },
    {
      "cell_type": "code",
      "metadata": {
        "id": "TeC4ndxYWj2C",
        "colab_type": "code",
        "outputId": "95cf4187-e6ba-4d48-98b5-28e6234ed4c2",
        "colab": {
          "base_uri": "https://localhost:8080/",
          "height": 35
        }
      },
      "source": [
        "cmpp3hyp1_01 = confusion_matrix(target_system.System, sc1pp3labelshyp1_01)"
      ],
      "execution_count": 0,
      "outputs": [
        {
          "output_type": "stream",
          "text": [
            "time: 35.9 ms\n"
          ],
          "name": "stdout"
        }
      ]
    },
    {
      "cell_type": "code",
      "metadata": {
        "id": "ZeUCQI7jWj2E",
        "colab_type": "code",
        "outputId": "8fc50d51-59ac-4517-eae4-a297c611521f",
        "colab": {
          "base_uri": "https://localhost:8080/",
          "height": 71
        }
      },
      "source": [
        "cmpp3hyp1_01"
      ],
      "execution_count": 0,
      "outputs": [
        {
          "output_type": "execute_result",
          "data": {
            "text/plain": [
              "array([[    0,   671,     0],\n",
              "       [    0, 20527,     0],\n",
              "       [  250,  2615, 12288]])"
            ]
          },
          "metadata": {
            "tags": []
          },
          "execution_count": 81
        },
        {
          "output_type": "stream",
          "text": [
            "time: 3.58 ms\n"
          ],
          "name": "stdout"
        }
      ]
    },
    {
      "cell_type": "code",
      "metadata": {
        "id": "wvWv7fgJWj2F",
        "colab_type": "code",
        "outputId": "e25906ea-c4d3-49e2-f890-26ff25636b22",
        "colab": {
          "base_uri": "https://localhost:8080/",
          "height": 321
        }
      },
      "source": [
        "sns.heatmap(cmpp3hyp1_01,annot=True,cmap='coolwarm')\n",
        "plt.xlabel('Predicted')\n",
        "plt.ylabel('True')"
      ],
      "execution_count": 0,
      "outputs": [
        {
          "output_type": "execute_result",
          "data": {
            "text/plain": [
              "Text(30.5, 0.5, 'True')"
            ]
          },
          "metadata": {
            "tags": []
          },
          "execution_count": 82
        },
        {
          "output_type": "display_data",
          "data": {
            "image/png": "[encoded data removed]",
            "text/plain": [
              "<Figure size 432x288 with 2 Axes>"
            ]
          },
          "metadata": {
            "tags": []
          }
        },
        {
          "output_type": "stream",
          "text": [
            "time: 271 ms\n"
          ],
          "name": "stdout"
        }
      ]
    },
    {
      "cell_type": "code",
      "metadata": {
        "id": "ih2vJdxRWj2K",
        "colab_type": "code",
        "outputId": "5b832a1f-8c24-497c-89b8-f8b7d6280b98",
        "colab": {
          "base_uri": "https://localhost:8080/",
          "height": 35
        }
      },
      "source": [
        "reportpp3hyp1_01 = classification_report(target_system, sc1pp3labelshyp1_01,output_dict = True)"
      ],
      "execution_count": 0,
      "outputs": [
        {
          "output_type": "stream",
          "text": [
            "time: 39.9 ms\n"
          ],
          "name": "stdout"
        }
      ]
    },
    {
      "cell_type": "code",
      "metadata": {
        "id": "kFIaLMQoWj2M",
        "colab_type": "code",
        "outputId": "bbeb8e37-6f10-4062-a992-776f194a4a3b",
        "colab": {
          "base_uri": "https://localhost:8080/",
          "height": 341
        }
      },
      "source": [
        "reportpp3hyp1_01"
      ],
      "execution_count": 0,
      "outputs": [
        {
          "output_type": "execute_result",
          "data": {
            "text/plain": [
              "{'1': {'f1-score': 0.0, 'precision': 0.0, 'recall': 0.0, 'support': 671},\n",
              " '2': {'f1-score': 0.9258908434821831,\n",
              "  'precision': 0.8620081468105657,\n",
              "  'recall': 1.0,\n",
              "  'support': 20527},\n",
              " '3': {'f1-score': 0.895594183885427,\n",
              "  'precision': 1.0,\n",
              "  'recall': 0.8109285290041576,\n",
              "  'support': 15153},\n",
              " 'accuracy': 0.9027261973535804,\n",
              " 'macro avg': {'f1-score': 0.6071616757892033,\n",
              "  'precision': 0.6206693822701886,\n",
              "  'recall': 0.6036428430013858,\n",
              "  'support': 36351},\n",
              " 'weighted avg': {'f1-score': 0.8961706696535073,\n",
              "  'precision': 0.9036186412913119,\n",
              "  'recall': 0.9027261973535804,\n",
              "  'support': 36351}}"
            ]
          },
          "metadata": {
            "tags": []
          },
          "execution_count": 84
        },
        {
          "output_type": "stream",
          "text": [
            "time: 3.75 ms\n"
          ],
          "name": "stdout"
        }
      ]
    },
    {
      "cell_type": "code",
      "metadata": {
        "id": "vUeYdPnTWj2O",
        "colab_type": "code",
        "outputId": "6bc37b75-0a90-4678-cee1-ebffeb7d5e1e",
        "colab": {
          "base_uri": "https://localhost:8080/",
          "height": 305
        }
      },
      "source": [
        "print(\"Confusion matrix\\n\",metrics.confusion_matrix(y_true=target_system.System,y_pred=sc1pp3labelshyp1_01)) \n",
        "print(\"Classification report\\n\",metrics.classification_report(y_true=target_system.System,y_pred=sc1pp3labelshyp1_01))"
      ],
      "execution_count": 0,
      "outputs": [
        {
          "output_type": "stream",
          "text": [
            "Confusion matrix\n",
            " [[    0   671     0]\n",
            " [    0 20527     0]\n",
            " [  250  2615 12288]]\n",
            "Classification report\n",
            "               precision    recall  f1-score   support\n",
            "\n",
            "           1       0.00      0.00      0.00       671\n",
            "           2       0.86      1.00      0.93     20527\n",
            "           3       1.00      0.81      0.90     15153\n",
            "\n",
            "    accuracy                           0.90     36351\n",
            "   macro avg       0.62      0.60      0.61     36351\n",
            "weighted avg       0.90      0.90      0.90     36351\n",
            "\n",
            "time: 80.5 ms\n"
          ],
          "name": "stdout"
        }
      ]
    },
    {
      "cell_type": "code",
      "metadata": {
        "id": "-SshvHQKWj2S",
        "colab_type": "code",
        "outputId": "2c696cc1-e3c9-4a02-9f77-b76f48975438",
        "colab": {
          "base_uri": "https://localhost:8080/",
          "height": 323
        }
      },
      "source": [
        "print('\\033[1m'+\"Kmeans++:\"+'\\033[0m')\n",
        "print('\\033[1m'+\"System 1\"+'\\033[0m')\n",
        "print(\"Precision = {0:0.3f}\".format(reportpp3hyp1_01[\"1\"][\"precision\"]))\n",
        "print(\"Recall = {0:0.3f}\".format(reportpp3hyp1_01[\"1\"][\"recall\"]))\n",
        "print(\"F1-score = {0:0.3f}\".format(reportpp3hyp1_01[\"1\"][\"f1-score\"]))\n",
        "print(\"Support = {0:0.3f}\".format(reportpp3hyp1_01[\"1\"][\"support\"]))\n",
        "print('\\033[1m'+\"System 2\"+'\\033[0m')\n",
        "print(\"Precision = {0:0.3f}\".format(reportpp3hyp1_01[\"2\"][\"precision\"]))\n",
        "print(\"Recall = {0:0.3f}\".format(reportpp3hyp1_01[\"2\"][\"recall\"]))\n",
        "print(\"F1-score = {0:0.3f}\".format(reportpp3hyp1_01[\"2\"][\"f1-score\"]))\n",
        "print(\"Support = {0:0.3f}\".format(reportpp3hyp1_01[\"2\"][\"support\"]))\n",
        "print('\\033[1m'+\"System 3\"+'\\033[0m')\n",
        "print(\"Precision = {0:0.3f}\".format(reportpp3hyp1_01[\"3\"][\"precision\"]))\n",
        "print(\"Recall = {0:0.3f}\".format(reportpp3hyp1_01[\"3\"][\"recall\"]))\n",
        "print(\"F1-score = {0:0.3f}\".format(reportpp3hyp1_01[\"3\"][\"f1-score\"]))\n",
        "print(\"Support = {0:0.3f}\".format(reportpp3hyp1_01[\"3\"][\"support\"]))"
      ],
      "execution_count": 0,
      "outputs": [
        {
          "output_type": "stream",
          "text": [
            "\u001b[1mKmeans++:\u001b[0m\n",
            "\u001b[1mSystem 1\u001b[0m\n",
            "Precision = 0.000\n",
            "Recall = 0.000\n",
            "F1-score = 0.000\n",
            "Support = 671.000\n",
            "\u001b[1mSystem 2\u001b[0m\n",
            "Precision = 0.862\n",
            "Recall = 1.000\n",
            "F1-score = 0.926\n",
            "Support = 20527.000\n",
            "\u001b[1mSystem 3\u001b[0m\n",
            "Precision = 1.000\n",
            "Recall = 0.811\n",
            "F1-score = 0.896\n",
            "Support = 15153.000\n",
            "time: 18.4 ms\n"
          ],
          "name": "stdout"
        }
      ]
    },
    {
      "cell_type": "code",
      "metadata": {
        "id": "GmKt9DeaWj2U",
        "colab_type": "code",
        "outputId": "bb3754d1-93f7-49cc-abcd-cc870db80c5d",
        "colab": {
          "base_uri": "https://localhost:8080/",
          "height": 161
        }
      },
      "source": [
        "print('\\033[1m'+'Clustering metrics - supervised'+'\\033[0m')\n",
        "print('Adjusted Rand score: ', metrics.adjusted_rand_score(target_system.System, sc1pp3labelshyp1_01))\n",
        "print('Mutual info score: ', metrics.adjusted_mutual_info_score(target_system.System, sc1pp3labelshyp1_01))\n",
        "print('Homogeneity score: ', metrics.homogeneity_score(target_system.System, sc1pp3labelshyp1_01))\n",
        "print('Completeness score: ', metrics.completeness_score(target_system.System, sc1pp3labelshyp1_01))\n",
        "print('V-measure: ', metrics.v_measure_score(target_system.System, sc1pp3labelshyp1_01))\n",
        "print('Fowlkes-Mallows score: ', metrics.fowlkes_mallows_score(target_system.System, sc1pp3labelshyp1_01))"
      ],
      "execution_count": 0,
      "outputs": [
        {
          "output_type": "stream",
          "text": [
            "\u001b[1mClustering metrics - supervised\u001b[0m\n",
            "Adjusted Rand score:  0.6823361077431518\n",
            "Mutual info score:  0.6288415438002335\n",
            "Homogeneity score:  0.5945082951466247\n",
            "Completeness score:  0.6674481883802669\n",
            "V-measure:  0.6288703132831919\n",
            "Fowlkes-Mallows score:  0.8475658942266868\n",
            "time: 60.4 ms\n"
          ],
          "name": "stdout"
        }
      ]
    },
    {
      "cell_type": "code",
      "metadata": {
        "id": "vUHLT_ojWj2X",
        "colab_type": "code",
        "outputId": "c8894ea8-1a07-493a-aef8-20dbc611d115",
        "colab": {
          "base_uri": "https://localhost:8080/",
          "height": 163
        }
      },
      "source": [
        "print('\\033[1m'+'Clustering metrics - unsupervised'+'\\033[0m')\n",
        "print('Silhouette: ',metrics.silhouette_score(dfsc1, sc1pp3labelshyp1_01, metric='euclidean'))\n",
        "print('Davies-Bouldin Index: ',metrics.davies_bouldin_score(dfsc1, sc1pp3labelshyp1_01))\n",
        "print('Calinski-Harabasz Index: ',metrics.calinski_harabaz_score(dfsc1, sc1pp3labelshyp1_01))"
      ],
      "execution_count": 0,
      "outputs": [
        {
          "output_type": "stream",
          "text": [
            "\u001b[1mClustering metrics - unsupervised\u001b[0m\n",
            "Silhouette:  0.7084899313103125\n",
            "Davies-Bouldin Index:  0.35351468150384296\n",
            "Calinski-Harabasz Index:  40095.43389737366\n",
            "time: 18.8 s\n"
          ],
          "name": "stdout"
        },
        {
          "output_type": "stream",
          "text": [
            "/usr/local/lib/python3.6/dist-packages/sklearn/utils/deprecation.py:87: FutureWarning: Function calinski_harabaz_score is deprecated; Function 'calinski_harabaz_score' has been renamed to 'calinski_harabasz_score' and will be removed in version 0.23.\n",
            "  warnings.warn(msg, category=FutureWarning)\n"
          ],
          "name": "stderr"
        }
      ]
    },
    {
      "cell_type": "markdown",
      "metadata": {
        "id": "FNIGm5NVWj2b",
        "colab_type": "text"
      },
      "source": [
        "### 02 - n_init = 300"
      ]
    },
    {
      "cell_type": "code",
      "metadata": {
        "id": "BfNZUAWDWj2c",
        "colab_type": "code",
        "outputId": "cd3497ef-bd23-45e2-b01c-2ddf81b0b805",
        "colab": {
          "base_uri": "https://localhost:8080/",
          "height": 35
        }
      },
      "source": [
        "kmeansc1pp3hyp1_02 = KMeans(n_clusters=3, random_state=42, n_init=300).fit(dfsc1)"
      ],
      "execution_count": 0,
      "outputs": [
        {
          "output_type": "stream",
          "text": [
            "time: 4.33 s\n"
          ],
          "name": "stdout"
        }
      ]
    },
    {
      "cell_type": "code",
      "metadata": {
        "id": "yR2_-AZHWj2e",
        "colab_type": "code",
        "outputId": "21195d1e-6d40-45b5-fafd-9b834041370f",
        "colab": {
          "base_uri": "https://localhost:8080/",
          "height": 35
        }
      },
      "source": [
        "kmeansc1pp3hyp1_02.labels_"
      ],
      "execution_count": 0,
      "outputs": [
        {
          "output_type": "execute_result",
          "data": {
            "text/plain": [
              "array([0, 0, 0, ..., 1, 1, 1], dtype=int32)"
            ]
          },
          "metadata": {
            "tags": []
          },
          "execution_count": 90
        },
        {
          "output_type": "stream",
          "text": [
            "time: 5.55 ms\n"
          ],
          "name": "stdout"
        }
      ]
    },
    {
      "cell_type": "code",
      "metadata": {
        "id": "279bPgQFWj2h",
        "colab_type": "code",
        "outputId": "88b8e91c-984a-45d7-8802-84455906919c",
        "colab": {
          "base_uri": "https://localhost:8080/",
          "height": 35
        }
      },
      "source": [
        "sc1pp3labelshyp1_02 = pd.Series(kmeansc1pp3hyp1_02.labels_)"
      ],
      "execution_count": 0,
      "outputs": [
        {
          "output_type": "stream",
          "text": [
            "time: 1.15 ms\n"
          ],
          "name": "stdout"
        }
      ]
    },
    {
      "cell_type": "code",
      "metadata": {
        "id": "MNggTpT_Wj2l",
        "colab_type": "code",
        "outputId": "4d3bbe60-1b1e-4580-9f91-806fb3c58672",
        "colab": {
          "base_uri": "https://localhost:8080/",
          "height": 89
        }
      },
      "source": [
        "sc1pp3labelshyp1_02.value_counts()"
      ],
      "execution_count": 0,
      "outputs": [
        {
          "output_type": "execute_result",
          "data": {
            "text/plain": [
              "0    23813\n",
              "1    12288\n",
              "2      250\n",
              "dtype: int64"
            ]
          },
          "metadata": {
            "tags": []
          },
          "execution_count": 92
        },
        {
          "output_type": "stream",
          "text": [
            "time: 13.4 ms\n"
          ],
          "name": "stdout"
        }
      ]
    },
    {
      "cell_type": "code",
      "metadata": {
        "id": "HuwiZG8WWj2n",
        "colab_type": "code",
        "outputId": "0d98a6dc-f099-49e9-d1fe-38ad07fe9934",
        "colab": {
          "base_uri": "https://localhost:8080/",
          "height": 35
        }
      },
      "source": [
        "cmpp3hyp1_02 = confusion_matrix(target_system.System, sc1pp3labelshyp1_02)"
      ],
      "execution_count": 0,
      "outputs": [
        {
          "output_type": "stream",
          "text": [
            "time: 53 ms\n"
          ],
          "name": "stdout"
        }
      ]
    },
    {
      "cell_type": "code",
      "metadata": {
        "id": "LkgwifsQWj2o",
        "colab_type": "code",
        "outputId": "ded252f8-5c3d-4124-ef84-24e4fa55cf75",
        "colab": {
          "base_uri": "https://localhost:8080/",
          "height": 89
        }
      },
      "source": [
        "cmpp3hyp1_02"
      ],
      "execution_count": 0,
      "outputs": [
        {
          "output_type": "execute_result",
          "data": {
            "text/plain": [
              "array([[    0,     0,     0,     0],\n",
              "       [  671,     0,     0,     0],\n",
              "       [20527,     0,     0,     0],\n",
              "       [ 2615, 12288,   250,     0]])"
            ]
          },
          "metadata": {
            "tags": []
          },
          "execution_count": 94
        },
        {
          "output_type": "stream",
          "text": [
            "time: 4.52 ms\n"
          ],
          "name": "stdout"
        }
      ]
    },
    {
      "cell_type": "markdown",
      "metadata": {
        "id": "jPnsle5UWj2p",
        "colab_type": "text"
      },
      "source": [
        "## Check correct labels"
      ]
    },
    {
      "cell_type": "code",
      "metadata": {
        "id": "0TrftLOJWj2q",
        "colab_type": "code",
        "outputId": "3a068e42-28ec-46f8-e138-f1ca0266af1a",
        "colab": {
          "base_uri": "https://localhost:8080/",
          "height": 321
        }
      },
      "source": [
        "sns.heatmap(cmpp3hyp1_02,annot=True,cmap='coolwarm')\n",
        "plt.xlabel('Predicted')\n",
        "plt.ylabel('True')"
      ],
      "execution_count": 0,
      "outputs": [
        {
          "output_type": "execute_result",
          "data": {
            "text/plain": [
              "Text(30.5, 0.5, 'True')"
            ]
          },
          "metadata": {
            "tags": []
          },
          "execution_count": 95
        },
        {
          "output_type": "display_data",
          "data": {
            "image/png": "[encoded data removed]",
            "text/plain": [
              "<Figure size 432x288 with 2 Axes>"
            ]
          },
          "metadata": {
            "tags": []
          }
        },
        {
          "output_type": "stream",
          "text": [
            "time: 307 ms\n"
          ],
          "name": "stdout"
        }
      ]
    },
    {
      "cell_type": "markdown",
      "metadata": {
        "id": "excSc2aBWj2r",
        "colab_type": "text"
      },
      "source": [
        "## Change to correct labels"
      ]
    },
    {
      "cell_type": "code",
      "metadata": {
        "id": "kJw1IffUWj2r",
        "colab_type": "code",
        "outputId": "9aece50b-a5b1-441c-aad3-8cbc73bc7bf6",
        "colab": {
          "base_uri": "https://localhost:8080/",
          "height": 35
        }
      },
      "source": [
        "sc1pp3labelshyp1_02\n",
        "sc1pp3labelshyp1_02[sc1pp3labelshyp1_02 == 0] = 4\n",
        "sc1pp3labelshyp1_02[sc1pp3labelshyp1_02 == 1] = 5\n",
        "sc1pp3labelshyp1_02[sc1pp3labelshyp1_02 == 2] = 6"
      ],
      "execution_count": 0,
      "outputs": [
        {
          "output_type": "stream",
          "text": [
            "time: 16.9 ms\n"
          ],
          "name": "stdout"
        }
      ]
    },
    {
      "cell_type": "code",
      "metadata": {
        "id": "tGNBXYMlWj2s",
        "colab_type": "code",
        "outputId": "85326f2c-4c17-4c2b-bc24-faa625507753",
        "colab": {
          "base_uri": "https://localhost:8080/",
          "height": 35
        }
      },
      "source": [
        "sc1pp3labelshyp1_02[sc1pp3labelshyp1_02 == 4] = 2\n",
        "sc1pp3labelshyp1_02[sc1pp3labelshyp1_02 == 5] = 3\n",
        "sc1pp3labelshyp1_02[sc1pp3labelshyp1_02 == 6] = 1"
      ],
      "execution_count": 0,
      "outputs": [
        {
          "output_type": "stream",
          "text": [
            "time: 13.9 ms\n"
          ],
          "name": "stdout"
        }
      ]
    },
    {
      "cell_type": "markdown",
      "metadata": {
        "id": "bFmuN7p8Wj2t",
        "colab_type": "text"
      },
      "source": [
        "## Check heatmap"
      ]
    },
    {
      "cell_type": "code",
      "metadata": {
        "id": "aEIXUuiFWj2u",
        "colab_type": "code",
        "outputId": "3db392f3-e77e-4a53-9504-6844d9b1a67e",
        "colab": {
          "base_uri": "https://localhost:8080/",
          "height": 35
        }
      },
      "source": [
        "cmpp3hyp1_02 = confusion_matrix(target_system.System, sc1pp3labelshyp1_02)"
      ],
      "execution_count": 0,
      "outputs": [
        {
          "output_type": "stream",
          "text": [
            "time: 36 ms\n"
          ],
          "name": "stdout"
        }
      ]
    },
    {
      "cell_type": "code",
      "metadata": {
        "id": "2t2pn9pJWj2v",
        "colab_type": "code",
        "outputId": "0ea17181-084d-4b94-c445-7473a8a18661",
        "colab": {
          "base_uri": "https://localhost:8080/",
          "height": 71
        }
      },
      "source": [
        "cmpp3hyp1_02"
      ],
      "execution_count": 0,
      "outputs": [
        {
          "output_type": "execute_result",
          "data": {
            "text/plain": [
              "array([[    0,   671,     0],\n",
              "       [    0, 20527,     0],\n",
              "       [  250,  2615, 12288]])"
            ]
          },
          "metadata": {
            "tags": []
          },
          "execution_count": 99
        },
        {
          "output_type": "stream",
          "text": [
            "time: 5.31 ms\n"
          ],
          "name": "stdout"
        }
      ]
    },
    {
      "cell_type": "code",
      "metadata": {
        "id": "xG-NFxPNWj2x",
        "colab_type": "code",
        "outputId": "d598fa46-a7ac-4171-c783-0cb95329f284",
        "colab": {
          "base_uri": "https://localhost:8080/",
          "height": 321
        }
      },
      "source": [
        "sns.heatmap(cmpp3hyp1_02,annot=True,cmap='coolwarm')\n",
        "plt.xlabel('Predicted')\n",
        "plt.ylabel('True')"
      ],
      "execution_count": 0,
      "outputs": [
        {
          "output_type": "execute_result",
          "data": {
            "text/plain": [
              "Text(30.5, 0.5, 'True')"
            ]
          },
          "metadata": {
            "tags": []
          },
          "execution_count": 100
        },
        {
          "output_type": "display_data",
          "data": {
            "image/png": "[encoded data removed]",
            "text/plain": [
              "<Figure size 432x288 with 2 Axes>"
            ]
          },
          "metadata": {
            "tags": []
          }
        },
        {
          "output_type": "stream",
          "text": [
            "time: 285 ms\n"
          ],
          "name": "stdout"
        }
      ]
    },
    {
      "cell_type": "code",
      "metadata": {
        "id": "Lrvx03V3Wj2z",
        "colab_type": "code",
        "outputId": "75ee756d-2bad-4cb4-eeb2-b32548913861",
        "colab": {
          "base_uri": "https://localhost:8080/",
          "height": 35
        }
      },
      "source": [
        "reportpp3hyp1_02 = classification_report(target_system, sc1pp3labelshyp1_02,output_dict = True)"
      ],
      "execution_count": 0,
      "outputs": [
        {
          "output_type": "stream",
          "text": [
            "time: 36.6 ms\n"
          ],
          "name": "stdout"
        }
      ]
    },
    {
      "cell_type": "code",
      "metadata": {
        "id": "uW_UueY3Wj20",
        "colab_type": "code",
        "outputId": "1205f9da-70fa-46ca-d469-206ac389792f",
        "colab": {
          "base_uri": "https://localhost:8080/",
          "height": 341
        }
      },
      "source": [
        "reportpp3hyp1_02"
      ],
      "execution_count": 0,
      "outputs": [
        {
          "output_type": "execute_result",
          "data": {
            "text/plain": [
              "{'1': {'f1-score': 0.0, 'precision': 0.0, 'recall': 0.0, 'support': 671},\n",
              " '2': {'f1-score': 0.9258908434821831,\n",
              "  'precision': 0.8620081468105657,\n",
              "  'recall': 1.0,\n",
              "  'support': 20527},\n",
              " '3': {'f1-score': 0.895594183885427,\n",
              "  'precision': 1.0,\n",
              "  'recall': 0.8109285290041576,\n",
              "  'support': 15153},\n",
              " 'accuracy': 0.9027261973535804,\n",
              " 'macro avg': {'f1-score': 0.6071616757892033,\n",
              "  'precision': 0.6206693822701886,\n",
              "  'recall': 0.6036428430013858,\n",
              "  'support': 36351},\n",
              " 'weighted avg': {'f1-score': 0.8961706696535073,\n",
              "  'precision': 0.9036186412913119,\n",
              "  'recall': 0.9027261973535804,\n",
              "  'support': 36351}}"
            ]
          },
          "metadata": {
            "tags": []
          },
          "execution_count": 102
        },
        {
          "output_type": "stream",
          "text": [
            "time: 5.31 ms\n"
          ],
          "name": "stdout"
        }
      ]
    },
    {
      "cell_type": "code",
      "metadata": {
        "id": "sLyExM7WWj21",
        "colab_type": "code",
        "outputId": "6f6ada55-83cc-4f01-f77b-e320cfb667da",
        "colab": {
          "base_uri": "https://localhost:8080/",
          "height": 305
        }
      },
      "source": [
        "print(\"Confusion matrix\\n\",metrics.confusion_matrix(y_true=target_system.System,y_pred=sc1pp3labelshyp1_02)) \n",
        "print(\"Classification report\\n\",metrics.classification_report(y_true=target_system.System,y_pred=sc1pp3labelshyp1_02))"
      ],
      "execution_count": 0,
      "outputs": [
        {
          "output_type": "stream",
          "text": [
            "Confusion matrix\n",
            " [[    0   671     0]\n",
            " [    0 20527     0]\n",
            " [  250  2615 12288]]\n",
            "Classification report\n",
            "               precision    recall  f1-score   support\n",
            "\n",
            "           1       0.00      0.00      0.00       671\n",
            "           2       0.86      1.00      0.93     20527\n",
            "           3       1.00      0.81      0.90     15153\n",
            "\n",
            "    accuracy                           0.90     36351\n",
            "   macro avg       0.62      0.60      0.61     36351\n",
            "weighted avg       0.90      0.90      0.90     36351\n",
            "\n",
            "time: 72.3 ms\n"
          ],
          "name": "stdout"
        }
      ]
    },
    {
      "cell_type": "code",
      "metadata": {
        "id": "-O6Yy4LyWj22",
        "colab_type": "code",
        "outputId": "26f36daa-f2b1-4d8f-b8d2-87df523e0ea1",
        "colab": {
          "base_uri": "https://localhost:8080/",
          "height": 323
        }
      },
      "source": [
        "print('\\033[1m'+\"Kmeans++:\"+'\\033[0m')\n",
        "print('\\033[1m'+\"System 1\"+'\\033[0m')\n",
        "print(\"Precision = {0:0.3f}\".format(reportpp3hyp1_02[\"1\"][\"precision\"]))\n",
        "print(\"Recall = {0:0.3f}\".format(reportpp3hyp1_02[\"1\"][\"recall\"]))\n",
        "print(\"F1-score = {0:0.3f}\".format(reportpp3hyp1_02[\"1\"][\"f1-score\"]))\n",
        "print(\"Support = {0:0.3f}\".format(reportpp3hyp1_02[\"1\"][\"support\"]))\n",
        "print('\\033[1m'+\"System 2\"+'\\033[0m')\n",
        "print(\"Precision = {0:0.3f}\".format(reportpp3hyp1_02[\"2\"][\"precision\"]))\n",
        "print(\"Recall = {0:0.3f}\".format(reportpp3hyp1_02[\"2\"][\"recall\"]))\n",
        "print(\"F1-score = {0:0.3f}\".format(reportpp3hyp1_02[\"2\"][\"f1-score\"]))\n",
        "print(\"Support = {0:0.3f}\".format(reportpp3hyp1_02[\"2\"][\"support\"]))\n",
        "print('\\033[1m'+\"System 3\"+'\\033[0m')\n",
        "print(\"Precision = {0:0.3f}\".format(reportpp3hyp1_02[\"3\"][\"precision\"]))\n",
        "print(\"Recall = {0:0.3f}\".format(reportpp3hyp1_02[\"3\"][\"recall\"]))\n",
        "print(\"F1-score = {0:0.3f}\".format(reportpp3hyp1_02[\"3\"][\"f1-score\"]))\n",
        "print(\"Support = {0:0.3f}\".format(reportpp3hyp1_02[\"3\"][\"support\"]))"
      ],
      "execution_count": 0,
      "outputs": [
        {
          "output_type": "stream",
          "text": [
            "\u001b[1mKmeans++:\u001b[0m\n",
            "\u001b[1mSystem 1\u001b[0m\n",
            "Precision = 0.000\n",
            "Recall = 0.000\n",
            "F1-score = 0.000\n",
            "Support = 671.000\n",
            "\u001b[1mSystem 2\u001b[0m\n",
            "Precision = 0.862\n",
            "Recall = 1.000\n",
            "F1-score = 0.926\n",
            "Support = 20527.000\n",
            "\u001b[1mSystem 3\u001b[0m\n",
            "Precision = 1.000\n",
            "Recall = 0.811\n",
            "F1-score = 0.896\n",
            "Support = 15153.000\n",
            "time: 17.1 ms\n"
          ],
          "name": "stdout"
        }
      ]
    },
    {
      "cell_type": "code",
      "metadata": {
        "id": "TIL8Kg4LWj23",
        "colab_type": "code",
        "outputId": "bab363a7-102c-4245-f233-0a8d88994c29",
        "colab": {
          "base_uri": "https://localhost:8080/",
          "height": 161
        }
      },
      "source": [
        "print('\\033[1m'+'Clustering metrics - supervised'+'\\033[0m')\n",
        "print('Adjusted Rand score: ', metrics.adjusted_rand_score(target_system.System, sc1pp3labelshyp1_02))\n",
        "print('Mutual info score: ', metrics.adjusted_mutual_info_score(target_system.System, sc1pp3labelshyp1_02))\n",
        "print('Homogeneity score: ', metrics.homogeneity_score(target_system.System, sc1pp3labelshyp1_02))\n",
        "print('Completeness score: ', metrics.completeness_score(target_system.System, sc1pp3labelshyp1_02))\n",
        "print('V-measure: ', metrics.v_measure_score(target_system.System, sc1pp3labelshyp1_02))\n",
        "print('Fowlkes-Mallows score: ', metrics.fowlkes_mallows_score(target_system.System, sc1pp3labelshyp1_02))"
      ],
      "execution_count": 0,
      "outputs": [
        {
          "output_type": "stream",
          "text": [
            "\u001b[1mClustering metrics - supervised\u001b[0m\n",
            "Adjusted Rand score:  0.6823361077431518\n",
            "Mutual info score:  0.6288415438002335\n",
            "Homogeneity score:  0.5945082951466247\n",
            "Completeness score:  0.6674481883802669\n",
            "V-measure:  0.6288703132831919\n",
            "Fowlkes-Mallows score:  0.8475658942266868\n",
            "time: 74.4 ms\n"
          ],
          "name": "stdout"
        }
      ]
    },
    {
      "cell_type": "code",
      "metadata": {
        "id": "5Xg-bPcaWj24",
        "colab_type": "code",
        "outputId": "279fcb79-d2d7-4319-f72e-cc619f82041e",
        "colab": {
          "base_uri": "https://localhost:8080/",
          "height": 163
        }
      },
      "source": [
        "print('\\033[1m'+'Clustering metrics - unsupervised'+'\\033[0m')\n",
        "print('Silhouette: ',metrics.silhouette_score(dfsc1, sc1pp3labelshyp1_02, metric='euclidean'))\n",
        "print('Davies-Bouldin Index: ',metrics.davies_bouldin_score(dfsc1, sc1pp3labelshyp1_02))\n",
        "print('Calinski-Harabasz Index: ',metrics.calinski_harabaz_score(dfsc1, sc1pp3labelshyp1_02))"
      ],
      "execution_count": 0,
      "outputs": [
        {
          "output_type": "stream",
          "text": [
            "\u001b[1mClustering metrics - unsupervised\u001b[0m\n",
            "Silhouette:  0.7084899313103125\n",
            "Davies-Bouldin Index:  0.35351468150384296\n",
            "Calinski-Harabasz Index:  40095.43389737366\n",
            "time: 18.8 s\n"
          ],
          "name": "stdout"
        },
        {
          "output_type": "stream",
          "text": [
            "/usr/local/lib/python3.6/dist-packages/sklearn/utils/deprecation.py:87: FutureWarning: Function calinski_harabaz_score is deprecated; Function 'calinski_harabaz_score' has been renamed to 'calinski_harabasz_score' and will be removed in version 0.23.\n",
            "  warnings.warn(msg, category=FutureWarning)\n"
          ],
          "name": "stderr"
        }
      ]
    },
    {
      "cell_type": "markdown",
      "metadata": {
        "id": "WKZm1ffuWj27",
        "colab_type": "text"
      },
      "source": [
        "### 03 - n_init = 500"
      ]
    },
    {
      "cell_type": "code",
      "metadata": {
        "id": "mQFc9-CUWj27",
        "colab_type": "code",
        "outputId": "1590d301-6906-42c0-b1e6-e9190863e05d",
        "colab": {
          "base_uri": "https://localhost:8080/",
          "height": 35
        }
      },
      "source": [
        "kmeansc1pp3hyp1_03 = KMeans(n_clusters=3, random_state=42, n_init=500).fit(dfsc1)"
      ],
      "execution_count": 0,
      "outputs": [
        {
          "output_type": "stream",
          "text": [
            "time: 7.12 s\n"
          ],
          "name": "stdout"
        }
      ]
    },
    {
      "cell_type": "code",
      "metadata": {
        "id": "kpY0erBuWj2_",
        "colab_type": "code",
        "outputId": "a857d3a1-0a12-401f-88b6-035dbd6f6cba",
        "colab": {
          "base_uri": "https://localhost:8080/",
          "height": 35
        }
      },
      "source": [
        "kmeansc1pp3hyp1_03.labels_"
      ],
      "execution_count": 0,
      "outputs": [
        {
          "output_type": "execute_result",
          "data": {
            "text/plain": [
              "array([0, 0, 0, ..., 1, 1, 1], dtype=int32)"
            ]
          },
          "metadata": {
            "tags": []
          },
          "execution_count": 108
        },
        {
          "output_type": "stream",
          "text": [
            "time: 7.14 ms\n"
          ],
          "name": "stdout"
        }
      ]
    },
    {
      "cell_type": "code",
      "metadata": {
        "id": "AwXXFKcMWj3B",
        "colab_type": "code",
        "outputId": "f3e139f0-9697-478a-f1fe-dcc99332c37a",
        "colab": {
          "base_uri": "https://localhost:8080/",
          "height": 35
        }
      },
      "source": [
        "sc1pp3labelshyp1_03 = pd.Series(kmeansc1pp3hyp1_03.labels_)"
      ],
      "execution_count": 0,
      "outputs": [
        {
          "output_type": "stream",
          "text": [
            "time: 1.17 ms\n"
          ],
          "name": "stdout"
        }
      ]
    },
    {
      "cell_type": "code",
      "metadata": {
        "id": "dyBax0hBWj3F",
        "colab_type": "code",
        "outputId": "e9f2f768-122b-4347-b154-72b12846a01f",
        "colab": {
          "base_uri": "https://localhost:8080/",
          "height": 89
        }
      },
      "source": [
        "sc1pp3labelshyp1_03.value_counts()"
      ],
      "execution_count": 0,
      "outputs": [
        {
          "output_type": "execute_result",
          "data": {
            "text/plain": [
              "0    23813\n",
              "1    12288\n",
              "2      250\n",
              "dtype: int64"
            ]
          },
          "metadata": {
            "tags": []
          },
          "execution_count": 110
        },
        {
          "output_type": "stream",
          "text": [
            "time: 17.6 ms\n"
          ],
          "name": "stdout"
        }
      ]
    },
    {
      "cell_type": "code",
      "metadata": {
        "id": "HsUfuGR0Wj3J",
        "colab_type": "code",
        "outputId": "ca6fa602-00d2-4d0d-a3b3-856d6f7b4791",
        "colab": {
          "base_uri": "https://localhost:8080/",
          "height": 35
        }
      },
      "source": [
        "cmpp3hyp1_03 = confusion_matrix(target_system.System, sc1pp3labelshyp1_03)"
      ],
      "execution_count": 0,
      "outputs": [
        {
          "output_type": "stream",
          "text": [
            "time: 44.3 ms\n"
          ],
          "name": "stdout"
        }
      ]
    },
    {
      "cell_type": "code",
      "metadata": {
        "id": "W-Ri1mFXWj3N",
        "colab_type": "code",
        "outputId": "628f8eb6-e6a9-4c8c-b63a-d45862cea3d5",
        "colab": {
          "base_uri": "https://localhost:8080/",
          "height": 89
        }
      },
      "source": [
        "cmpp3hyp1_03"
      ],
      "execution_count": 0,
      "outputs": [
        {
          "output_type": "execute_result",
          "data": {
            "text/plain": [
              "array([[    0,     0,     0,     0],\n",
              "       [  671,     0,     0,     0],\n",
              "       [20527,     0,     0,     0],\n",
              "       [ 2615, 12288,   250,     0]])"
            ]
          },
          "metadata": {
            "tags": []
          },
          "execution_count": 112
        },
        {
          "output_type": "stream",
          "text": [
            "time: 5.4 ms\n"
          ],
          "name": "stdout"
        }
      ]
    },
    {
      "cell_type": "markdown",
      "metadata": {
        "id": "YPf4F39wWj3O",
        "colab_type": "text"
      },
      "source": [
        "## Check correct labels"
      ]
    },
    {
      "cell_type": "code",
      "metadata": {
        "id": "IGZj1cFaWj3O",
        "colab_type": "code",
        "outputId": "31d8d130-c058-4b6b-ef8a-78ba29e10e0c",
        "colab": {
          "base_uri": "https://localhost:8080/",
          "height": 321
        }
      },
      "source": [
        "sns.heatmap(cmpp3hyp1_03,annot=True,cmap='coolwarm')\n",
        "plt.xlabel('Predicted')\n",
        "plt.ylabel('True')"
      ],
      "execution_count": 0,
      "outputs": [
        {
          "output_type": "execute_result",
          "data": {
            "text/plain": [
              "Text(30.5, 0.5, 'True')"
            ]
          },
          "metadata": {
            "tags": []
          },
          "execution_count": 113
        },
        {
          "output_type": "display_data",
          "data": {
            "image/png": "[encoded data removed]",
            "text/plain": [
              "<Figure size 432x288 with 2 Axes>"
            ]
          },
          "metadata": {
            "tags": []
          }
        },
        {
          "output_type": "stream",
          "text": [
            "time: 285 ms\n"
          ],
          "name": "stdout"
        }
      ]
    },
    {
      "cell_type": "markdown",
      "metadata": {
        "id": "9r1Ozv13Wj3P",
        "colab_type": "text"
      },
      "source": [
        "## Change to correct labels"
      ]
    },
    {
      "cell_type": "code",
      "metadata": {
        "id": "sLBMpnjCWj3R",
        "colab_type": "code",
        "outputId": "bed43117-c594-4853-fe5f-56f72677fa56",
        "colab": {
          "base_uri": "https://localhost:8080/",
          "height": 35
        }
      },
      "source": [
        "sc1pp3labelshyp1_03\n",
        "sc1pp3labelshyp1_03[sc1pp3labelshyp1_03 == 0] = 4\n",
        "sc1pp3labelshyp1_03[sc1pp3labelshyp1_03 == 1] = 5\n",
        "sc1pp3labelshyp1_03[sc1pp3labelshyp1_03 == 2] = 6"
      ],
      "execution_count": 0,
      "outputs": [
        {
          "output_type": "stream",
          "text": [
            "time: 18.2 ms\n"
          ],
          "name": "stdout"
        }
      ]
    },
    {
      "cell_type": "code",
      "metadata": {
        "id": "7a_hoetUWj3S",
        "colab_type": "code",
        "outputId": "69a3af6e-5f38-41c6-b1b9-169dcfb1082b",
        "colab": {
          "base_uri": "https://localhost:8080/",
          "height": 35
        }
      },
      "source": [
        "sc1pp3labelshyp1_03[sc1pp3labelshyp1_03 == 4] = 2\n",
        "sc1pp3labelshyp1_03[sc1pp3labelshyp1_03 == 5] = 3\n",
        "sc1pp3labelshyp1_03[sc1pp3labelshyp1_03 == 6] = 1"
      ],
      "execution_count": 0,
      "outputs": [
        {
          "output_type": "stream",
          "text": [
            "time: 15.2 ms\n"
          ],
          "name": "stdout"
        }
      ]
    },
    {
      "cell_type": "markdown",
      "metadata": {
        "id": "eYyu42eIWj3U",
        "colab_type": "text"
      },
      "source": [
        "## Check heatmap"
      ]
    },
    {
      "cell_type": "code",
      "metadata": {
        "id": "W_voCRnrWj3U",
        "colab_type": "code",
        "outputId": "42a1a19b-0aa8-4313-fb2d-d7e4b1c69e4d",
        "colab": {
          "base_uri": "https://localhost:8080/",
          "height": 35
        }
      },
      "source": [
        "cmpp3hyp1_03 = confusion_matrix(target_system.System, sc1pp3labelshyp1_03)"
      ],
      "execution_count": 0,
      "outputs": [
        {
          "output_type": "stream",
          "text": [
            "time: 36.4 ms\n"
          ],
          "name": "stdout"
        }
      ]
    },
    {
      "cell_type": "code",
      "metadata": {
        "id": "1oc5zs_7Wj3V",
        "colab_type": "code",
        "outputId": "f3ab133a-ca14-4331-dded-33dd140f3c83",
        "colab": {
          "base_uri": "https://localhost:8080/",
          "height": 71
        }
      },
      "source": [
        "cmpp3hyp1_03"
      ],
      "execution_count": 0,
      "outputs": [
        {
          "output_type": "execute_result",
          "data": {
            "text/plain": [
              "array([[    0,   671,     0],\n",
              "       [    0, 20527,     0],\n",
              "       [  250,  2615, 12288]])"
            ]
          },
          "metadata": {
            "tags": []
          },
          "execution_count": 117
        },
        {
          "output_type": "stream",
          "text": [
            "time: 4.38 ms\n"
          ],
          "name": "stdout"
        }
      ]
    },
    {
      "cell_type": "code",
      "metadata": {
        "scrolled": true,
        "id": "DkljOX51Wj3W",
        "colab_type": "code",
        "outputId": "137dacb3-1226-4f02-c69a-42157b801648",
        "colab": {
          "base_uri": "https://localhost:8080/",
          "height": 321
        }
      },
      "source": [
        "sns.heatmap(cmpp3hyp1_03,annot=True,cmap='coolwarm')\n",
        "plt.xlabel('Predicted')\n",
        "plt.ylabel('True')"
      ],
      "execution_count": 0,
      "outputs": [
        {
          "output_type": "execute_result",
          "data": {
            "text/plain": [
              "Text(30.5, 0.5, 'True')"
            ]
          },
          "metadata": {
            "tags": []
          },
          "execution_count": 118
        },
        {
          "output_type": "display_data",
          "data": {
            "image/png": "[encoded data removed]",
            "text/plain": [
              "<Figure size 432x288 with 2 Axes>"
            ]
          },
          "metadata": {
            "tags": []
          }
        },
        {
          "output_type": "stream",
          "text": [
            "time: 281 ms\n"
          ],
          "name": "stdout"
        }
      ]
    },
    {
      "cell_type": "code",
      "metadata": {
        "id": "oghc5qr8Wj3X",
        "colab_type": "code",
        "outputId": "9f0319c3-9f93-43b9-ee12-953a2aea06a3",
        "colab": {
          "base_uri": "https://localhost:8080/",
          "height": 35
        }
      },
      "source": [
        "reportpp3hyp1_03 = classification_report(target_system, sc1pp3labelshyp1_03,output_dict = True)"
      ],
      "execution_count": 0,
      "outputs": [
        {
          "output_type": "stream",
          "text": [
            "time: 40.8 ms\n"
          ],
          "name": "stdout"
        }
      ]
    },
    {
      "cell_type": "code",
      "metadata": {
        "id": "2xNVkg_AWj3Y",
        "colab_type": "code",
        "outputId": "7c11fb52-d1d9-447e-f27d-75186e1aae55",
        "colab": {
          "base_uri": "https://localhost:8080/",
          "height": 341
        }
      },
      "source": [
        "reportpp3hyp1_03"
      ],
      "execution_count": 0,
      "outputs": [
        {
          "output_type": "execute_result",
          "data": {
            "text/plain": [
              "{'1': {'f1-score': 0.0, 'precision': 0.0, 'recall': 0.0, 'support': 671},\n",
              " '2': {'f1-score': 0.9258908434821831,\n",
              "  'precision': 0.8620081468105657,\n",
              "  'recall': 1.0,\n",
              "  'support': 20527},\n",
              " '3': {'f1-score': 0.895594183885427,\n",
              "  'precision': 1.0,\n",
              "  'recall': 0.8109285290041576,\n",
              "  'support': 15153},\n",
              " 'accuracy': 0.9027261973535804,\n",
              " 'macro avg': {'f1-score': 0.6071616757892033,\n",
              "  'precision': 0.6206693822701886,\n",
              "  'recall': 0.6036428430013858,\n",
              "  'support': 36351},\n",
              " 'weighted avg': {'f1-score': 0.8961706696535073,\n",
              "  'precision': 0.9036186412913119,\n",
              "  'recall': 0.9027261973535804,\n",
              "  'support': 36351}}"
            ]
          },
          "metadata": {
            "tags": []
          },
          "execution_count": 120
        },
        {
          "output_type": "stream",
          "text": [
            "time: 7.84 ms\n"
          ],
          "name": "stdout"
        }
      ]
    },
    {
      "cell_type": "code",
      "metadata": {
        "id": "7pBMLGa1Wj3Z",
        "colab_type": "code",
        "outputId": "bb2c726f-f8c0-42b8-de9f-f5ab44e60032",
        "colab": {
          "base_uri": "https://localhost:8080/",
          "height": 305
        }
      },
      "source": [
        "print(\"Confusion matrix\\n\",metrics.confusion_matrix(y_true=target_system.System,y_pred=sc1pp3labelshyp1_03)) \n",
        "print(\"Classification report\\n\",metrics.classification_report(y_true=target_system.System,y_pred=sc1pp3labelshyp1_03)) "
      ],
      "execution_count": 0,
      "outputs": [
        {
          "output_type": "stream",
          "text": [
            "Confusion matrix\n",
            " [[    0   671     0]\n",
            " [    0 20527     0]\n",
            " [  250  2615 12288]]\n",
            "Classification report\n",
            "               precision    recall  f1-score   support\n",
            "\n",
            "           1       0.00      0.00      0.00       671\n",
            "           2       0.86      1.00      0.93     20527\n",
            "           3       1.00      0.81      0.90     15153\n",
            "\n",
            "    accuracy                           0.90     36351\n",
            "   macro avg       0.62      0.60      0.61     36351\n",
            "weighted avg       0.90      0.90      0.90     36351\n",
            "\n",
            "time: 72 ms\n"
          ],
          "name": "stdout"
        }
      ]
    },
    {
      "cell_type": "code",
      "metadata": {
        "id": "zasiz4VzWj3a",
        "colab_type": "code",
        "outputId": "d9191769-a751-40c4-9897-0561e5ea0abe",
        "colab": {
          "base_uri": "https://localhost:8080/",
          "height": 323
        }
      },
      "source": [
        "print('\\033[1m'+\"Kmeans++:\"+'\\033[0m')\n",
        "print('\\033[1m'+\"System 1\"+'\\033[0m')\n",
        "print(\"Precision = {0:0.3f}\".format(reportpp3hyp1_03[\"1\"][\"precision\"]))\n",
        "print(\"Recall = {0:0.3f}\".format(reportpp3hyp1_03[\"1\"][\"recall\"]))\n",
        "print(\"F1-score = {0:0.3f}\".format(reportpp3hyp1_03[\"1\"][\"f1-score\"]))\n",
        "print(\"Support = {0:0.3f}\".format(reportpp3hyp1_03[\"1\"][\"support\"]))\n",
        "print('\\033[1m'+\"System 2\"+'\\033[0m')\n",
        "print(\"Precision = {0:0.3f}\".format(reportpp3hyp1_03[\"2\"][\"precision\"]))\n",
        "print(\"Recall = {0:0.3f}\".format(reportpp3hyp1_03[\"2\"][\"recall\"]))\n",
        "print(\"F1-score = {0:0.3f}\".format(reportpp3hyp1_03[\"2\"][\"f1-score\"]))\n",
        "print(\"Support = {0:0.3f}\".format(reportpp3hyp1_03[\"2\"][\"support\"]))\n",
        "print('\\033[1m'+\"System 3\"+'\\033[0m')\n",
        "print(\"Precision = {0:0.3f}\".format(reportpp3hyp1_03[\"3\"][\"precision\"]))\n",
        "print(\"Recall = {0:0.3f}\".format(reportpp3hyp1_03[\"3\"][\"recall\"]))\n",
        "print(\"F1-score = {0:0.3f}\".format(reportpp3hyp1_03[\"3\"][\"f1-score\"]))\n",
        "print(\"Support = {0:0.3f}\".format(reportpp3hyp1_03[\"3\"][\"support\"]))"
      ],
      "execution_count": 0,
      "outputs": [
        {
          "output_type": "stream",
          "text": [
            "\u001b[1mKmeans++:\u001b[0m\n",
            "\u001b[1mSystem 1\u001b[0m\n",
            "Precision = 0.000\n",
            "Recall = 0.000\n",
            "F1-score = 0.000\n",
            "Support = 671.000\n",
            "\u001b[1mSystem 2\u001b[0m\n",
            "Precision = 0.862\n",
            "Recall = 1.000\n",
            "F1-score = 0.926\n",
            "Support = 20527.000\n",
            "\u001b[1mSystem 3\u001b[0m\n",
            "Precision = 1.000\n",
            "Recall = 0.811\n",
            "F1-score = 0.896\n",
            "Support = 15153.000\n",
            "time: 19.4 ms\n"
          ],
          "name": "stdout"
        }
      ]
    },
    {
      "cell_type": "code",
      "metadata": {
        "id": "yCQMhZpuWj3b",
        "colab_type": "code",
        "outputId": "42fa25b4-bff4-4ec0-a1cf-de6846524cf3",
        "colab": {
          "base_uri": "https://localhost:8080/",
          "height": 161
        }
      },
      "source": [
        "print('\\033[1m'+'Clustering metrics - supervised'+'\\033[0m')\n",
        "print('Adjusted Rand score: ', metrics.adjusted_rand_score(target_system.System, sc1pp3labelshyp1_03))\n",
        "print('Mutual info score: ', metrics.adjusted_mutual_info_score(target_system.System, sc1pp3labelshyp1_03))\n",
        "print('Homogeneity score: ', metrics.homogeneity_score(target_system.System, sc1pp3labelshyp1_03))\n",
        "print('Completeness score: ', metrics.completeness_score(target_system.System, sc1pp3labelshyp1_03))\n",
        "print('V-measure: ', metrics.v_measure_score(target_system.System, sc1pp3labelshyp1_03))\n",
        "print('Fowlkes-Mallows score: ', metrics.fowlkes_mallows_score(target_system.System, sc1pp3labelshyp1_03))"
      ],
      "execution_count": 0,
      "outputs": [
        {
          "output_type": "stream",
          "text": [
            "\u001b[1mClustering metrics - supervised\u001b[0m\n",
            "Adjusted Rand score:  0.6823361077431518\n",
            "Mutual info score:  0.6288415438002335\n",
            "Homogeneity score:  0.5945082951466247\n",
            "Completeness score:  0.6674481883802669\n",
            "V-measure:  0.6288703132831919\n",
            "Fowlkes-Mallows score:  0.8475658942266868\n",
            "time: 65.4 ms\n"
          ],
          "name": "stdout"
        }
      ]
    },
    {
      "cell_type": "code",
      "metadata": {
        "id": "Aarn_hp3Wj3d",
        "colab_type": "code",
        "outputId": "2204b45b-b85d-4839-d433-d66a61b664b9",
        "colab": {
          "base_uri": "https://localhost:8080/",
          "height": 163
        }
      },
      "source": [
        "print('\\033[1m'+'Clustering metrics - unsupervised'+'\\033[0m')\n",
        "print('Silhouette: ',metrics.silhouette_score(dfsc1, sc1pp3labelshyp1_03, metric='euclidean'))\n",
        "print('Davies-Bouldin Index: ',metrics.davies_bouldin_score(dfsc1, sc1pp3labelshyp1_03))\n",
        "print('Calinski-Harabasz Index: ',metrics.calinski_harabaz_score(dfsc1, sc1pp3labelshyp1_03))"
      ],
      "execution_count": 0,
      "outputs": [
        {
          "output_type": "stream",
          "text": [
            "\u001b[1mClustering metrics - unsupervised\u001b[0m\n",
            "Silhouette:  0.7084899313103125\n",
            "Davies-Bouldin Index:  0.35351468150384296\n",
            "Calinski-Harabasz Index:  40095.43389737366\n",
            "time: 19.1 s\n"
          ],
          "name": "stdout"
        },
        {
          "output_type": "stream",
          "text": [
            "/usr/local/lib/python3.6/dist-packages/sklearn/utils/deprecation.py:87: FutureWarning: Function calinski_harabaz_score is deprecated; Function 'calinski_harabaz_score' has been renamed to 'calinski_harabasz_score' and will be removed in version 0.23.\n",
            "  warnings.warn(msg, category=FutureWarning)\n"
          ],
          "name": "stderr"
        }
      ]
    },
    {
      "cell_type": "markdown",
      "metadata": {
        "id": "RsNDu3n4Wj3e",
        "colab_type": "text"
      },
      "source": [
        "## Hyperparameter analysis: max_iter"
      ]
    },
    {
      "cell_type": "markdown",
      "metadata": {
        "id": "Il_B6-Q_Wj3f",
        "colab_type": "text"
      },
      "source": [
        "### 3 scenarios: 100, 300 and 500"
      ]
    },
    {
      "cell_type": "markdown",
      "metadata": {
        "id": "_AZlw7lCWj3f",
        "colab_type": "text"
      },
      "source": [
        "### 01 - max_iter = 100"
      ]
    },
    {
      "cell_type": "code",
      "metadata": {
        "id": "h4E5l54WWj3f",
        "colab_type": "code",
        "outputId": "3158cc81-1836-4f57-e82e-38c904309ba7",
        "colab": {
          "base_uri": "https://localhost:8080/",
          "height": 35
        }
      },
      "source": [
        "kmeansc1pp3hyp2_01 = KMeans(n_clusters=3, random_state=42, max_iter=100).fit(dfsc1)"
      ],
      "execution_count": 0,
      "outputs": [
        {
          "output_type": "stream",
          "text": [
            "time: 159 ms\n"
          ],
          "name": "stdout"
        }
      ]
    },
    {
      "cell_type": "code",
      "metadata": {
        "id": "iJhFt3zzWj3h",
        "colab_type": "code",
        "outputId": "86438aba-7931-4561-8d1c-f6f597afa90b",
        "colab": {
          "base_uri": "https://localhost:8080/",
          "height": 35
        }
      },
      "source": [
        "kmeansc1pp3hyp2_01.labels_"
      ],
      "execution_count": 0,
      "outputs": [
        {
          "output_type": "execute_result",
          "data": {
            "text/plain": [
              "array([0, 0, 0, ..., 1, 1, 1], dtype=int32)"
            ]
          },
          "metadata": {
            "tags": []
          },
          "execution_count": 126
        },
        {
          "output_type": "stream",
          "text": [
            "time: 3.95 ms\n"
          ],
          "name": "stdout"
        }
      ]
    },
    {
      "cell_type": "code",
      "metadata": {
        "id": "CDtBXSrkWj3n",
        "colab_type": "code",
        "outputId": "d63e7106-a95a-45cb-ff53-17834909d0b5",
        "colab": {
          "base_uri": "https://localhost:8080/",
          "height": 35
        }
      },
      "source": [
        "sc1pp3labelshyp2_01 = pd.Series(kmeansc1pp3hyp2_01.labels_)"
      ],
      "execution_count": 0,
      "outputs": [
        {
          "output_type": "stream",
          "text": [
            "time: 1.69 ms\n"
          ],
          "name": "stdout"
        }
      ]
    },
    {
      "cell_type": "code",
      "metadata": {
        "id": "XBDS1sWSWj3o",
        "colab_type": "code",
        "outputId": "c9e8ad8a-d7bc-4f6c-b7a7-9cdf29583edf",
        "colab": {
          "base_uri": "https://localhost:8080/",
          "height": 89
        }
      },
      "source": [
        "sc1pp3labelshyp2_01.value_counts()"
      ],
      "execution_count": 0,
      "outputs": [
        {
          "output_type": "execute_result",
          "data": {
            "text/plain": [
              "0    23813\n",
              "1    12288\n",
              "2      250\n",
              "dtype: int64"
            ]
          },
          "metadata": {
            "tags": []
          },
          "execution_count": 128
        },
        {
          "output_type": "stream",
          "text": [
            "time: 9.44 ms\n"
          ],
          "name": "stdout"
        }
      ]
    },
    {
      "cell_type": "code",
      "metadata": {
        "id": "KDbr7x9nWj3q",
        "colab_type": "code",
        "outputId": "323f94a0-d95f-41b3-fc0f-30be31c31509",
        "colab": {
          "base_uri": "https://localhost:8080/",
          "height": 35
        }
      },
      "source": [
        "cmpp3hyp2_01 = confusion_matrix(target_system.System, sc1pp3labelshyp2_01)"
      ],
      "execution_count": 0,
      "outputs": [
        {
          "output_type": "stream",
          "text": [
            "time: 61.7 ms\n"
          ],
          "name": "stdout"
        }
      ]
    },
    {
      "cell_type": "code",
      "metadata": {
        "id": "Ton5-angWj3r",
        "colab_type": "code",
        "outputId": "d4e43684-7ad5-4d52-9040-e6d6c352ec8c",
        "colab": {
          "base_uri": "https://localhost:8080/",
          "height": 89
        }
      },
      "source": [
        "cmpp3hyp2_01"
      ],
      "execution_count": 0,
      "outputs": [
        {
          "output_type": "execute_result",
          "data": {
            "text/plain": [
              "array([[    0,     0,     0,     0],\n",
              "       [  671,     0,     0,     0],\n",
              "       [20527,     0,     0,     0],\n",
              "       [ 2615, 12288,   250,     0]])"
            ]
          },
          "metadata": {
            "tags": []
          },
          "execution_count": 130
        },
        {
          "output_type": "stream",
          "text": [
            "time: 4.91 ms\n"
          ],
          "name": "stdout"
        }
      ]
    },
    {
      "cell_type": "markdown",
      "metadata": {
        "id": "tirmTnIDWj3s",
        "colab_type": "text"
      },
      "source": [
        "## Check correct labels"
      ]
    },
    {
      "cell_type": "code",
      "metadata": {
        "id": "EvGzCM3dWj3u",
        "colab_type": "code",
        "outputId": "129b9f42-1faf-4b92-d019-a77220056a83",
        "colab": {
          "base_uri": "https://localhost:8080/",
          "height": 321
        }
      },
      "source": [
        "sns.heatmap(cmpp3hyp2_01,annot=True,cmap='coolwarm')\n",
        "plt.xlabel('Predicted')\n",
        "plt.ylabel('True')"
      ],
      "execution_count": 0,
      "outputs": [
        {
          "output_type": "execute_result",
          "data": {
            "text/plain": [
              "Text(30.5, 0.5, 'True')"
            ]
          },
          "metadata": {
            "tags": []
          },
          "execution_count": 131
        },
        {
          "output_type": "display_data",
          "data": {
            "image/png": "[encoded data removed]",
            "text/plain": [
              "<Figure size 432x288 with 2 Axes>"
            ]
          },
          "metadata": {
            "tags": []
          }
        },
        {
          "output_type": "stream",
          "text": [
            "time: 375 ms\n"
          ],
          "name": "stdout"
        }
      ]
    },
    {
      "cell_type": "markdown",
      "metadata": {
        "id": "BmDuf6cLWj3v",
        "colab_type": "text"
      },
      "source": [
        "## Change to correct labels"
      ]
    },
    {
      "cell_type": "code",
      "metadata": {
        "id": "rwORxuW2Wj3v",
        "colab_type": "code",
        "outputId": "b6d3ad7e-79c2-4f98-909f-836f9c6ec45a",
        "colab": {
          "base_uri": "https://localhost:8080/",
          "height": 35
        }
      },
      "source": [
        "sc1pp3labelshyp2_01\n",
        "sc1pp3labelshyp2_01[sc1pp3labelshyp2_01 == 0] = 4\n",
        "sc1pp3labelshyp2_01[sc1pp3labelshyp2_01 == 1] = 5\n",
        "sc1pp3labelshyp2_01[sc1pp3labelshyp2_01 == 2] = 6"
      ],
      "execution_count": 0,
      "outputs": [
        {
          "output_type": "stream",
          "text": [
            "time: 15.6 ms\n"
          ],
          "name": "stdout"
        }
      ]
    },
    {
      "cell_type": "code",
      "metadata": {
        "id": "FBnyixPkWj3x",
        "colab_type": "code",
        "outputId": "36565e43-3e1c-444f-c621-76f0b5a22583",
        "colab": {
          "base_uri": "https://localhost:8080/",
          "height": 35
        }
      },
      "source": [
        "sc1pp3labelshyp2_01[sc1pp3labelshyp2_01 == 4] = 2\n",
        "sc1pp3labelshyp2_01[sc1pp3labelshyp2_01 == 5] = 3\n",
        "sc1pp3labelshyp2_01[sc1pp3labelshyp2_01 == 6] = 1"
      ],
      "execution_count": 0,
      "outputs": [
        {
          "output_type": "stream",
          "text": [
            "time: 13.5 ms\n"
          ],
          "name": "stdout"
        }
      ]
    },
    {
      "cell_type": "markdown",
      "metadata": {
        "id": "zn3R5dhoWj3y",
        "colab_type": "text"
      },
      "source": [
        "## Check heatmap"
      ]
    },
    {
      "cell_type": "code",
      "metadata": {
        "id": "1vDiC6JIWj3z",
        "colab_type": "code",
        "outputId": "d0e2a96a-7d54-4616-e5a1-f44ea75bd1a5",
        "colab": {
          "base_uri": "https://localhost:8080/",
          "height": 35
        }
      },
      "source": [
        "cmpp3hyp2_01 = confusion_matrix(target_system.System, sc1pp3labelshyp2_01)"
      ],
      "execution_count": 0,
      "outputs": [
        {
          "output_type": "stream",
          "text": [
            "time: 38.4 ms\n"
          ],
          "name": "stdout"
        }
      ]
    },
    {
      "cell_type": "code",
      "metadata": {
        "id": "_O6k5ow2Wj31",
        "colab_type": "code",
        "outputId": "e7c91e7d-27d9-4628-ea0d-805dddd3335e",
        "colab": {
          "base_uri": "https://localhost:8080/",
          "height": 71
        }
      },
      "source": [
        "cmpp3hyp2_01"
      ],
      "execution_count": 0,
      "outputs": [
        {
          "output_type": "execute_result",
          "data": {
            "text/plain": [
              "array([[    0,   671,     0],\n",
              "       [    0, 20527,     0],\n",
              "       [  250,  2615, 12288]])"
            ]
          },
          "metadata": {
            "tags": []
          },
          "execution_count": 135
        },
        {
          "output_type": "stream",
          "text": [
            "time: 3.51 ms\n"
          ],
          "name": "stdout"
        }
      ]
    },
    {
      "cell_type": "code",
      "metadata": {
        "id": "e0Nzp8wLWj32",
        "colab_type": "code",
        "outputId": "aa1fd623-9e40-4a61-c785-b653b15a30a9",
        "colab": {
          "base_uri": "https://localhost:8080/",
          "height": 321
        }
      },
      "source": [
        "sns.heatmap(cmpp3hyp2_01,annot=True,cmap='coolwarm')\n",
        "plt.xlabel('Predicted')\n",
        "plt.ylabel('True')"
      ],
      "execution_count": 0,
      "outputs": [
        {
          "output_type": "execute_result",
          "data": {
            "text/plain": [
              "Text(30.5, 0.5, 'True')"
            ]
          },
          "metadata": {
            "tags": []
          },
          "execution_count": 136
        },
        {
          "output_type": "display_data",
          "data": {
            "image/png": "[encoded data removed]",
            "text/plain": [
              "<Figure size 432x288 with 2 Axes>"
            ]
          },
          "metadata": {
            "tags": []
          }
        },
        {
          "output_type": "stream",
          "text": [
            "time: 264 ms\n"
          ],
          "name": "stdout"
        }
      ]
    },
    {
      "cell_type": "code",
      "metadata": {
        "id": "QGfE4SwjWj35",
        "colab_type": "code",
        "outputId": "584fa4c2-a4b4-42f0-82e5-604b86b54d49",
        "colab": {
          "base_uri": "https://localhost:8080/",
          "height": 35
        }
      },
      "source": [
        "reportpp3hyp2_01 = classification_report(target_system, sc1pp3labelshyp2_01,output_dict = True)"
      ],
      "execution_count": 0,
      "outputs": [
        {
          "output_type": "stream",
          "text": [
            "time: 39.7 ms\n"
          ],
          "name": "stdout"
        }
      ]
    },
    {
      "cell_type": "code",
      "metadata": {
        "id": "ASe4F5q9Wj36",
        "colab_type": "code",
        "outputId": "ebf293e0-05ba-4565-97cf-2cb0bb5f2ff2",
        "colab": {
          "base_uri": "https://localhost:8080/",
          "height": 341
        }
      },
      "source": [
        "reportpp3hyp2_01"
      ],
      "execution_count": 0,
      "outputs": [
        {
          "output_type": "execute_result",
          "data": {
            "text/plain": [
              "{'1': {'f1-score': 0.0, 'precision': 0.0, 'recall': 0.0, 'support': 671},\n",
              " '2': {'f1-score': 0.9258908434821831,\n",
              "  'precision': 0.8620081468105657,\n",
              "  'recall': 1.0,\n",
              "  'support': 20527},\n",
              " '3': {'f1-score': 0.895594183885427,\n",
              "  'precision': 1.0,\n",
              "  'recall': 0.8109285290041576,\n",
              "  'support': 15153},\n",
              " 'accuracy': 0.9027261973535804,\n",
              " 'macro avg': {'f1-score': 0.6071616757892033,\n",
              "  'precision': 0.6206693822701886,\n",
              "  'recall': 0.6036428430013858,\n",
              "  'support': 36351},\n",
              " 'weighted avg': {'f1-score': 0.8961706696535073,\n",
              "  'precision': 0.9036186412913119,\n",
              "  'recall': 0.9027261973535804,\n",
              "  'support': 36351}}"
            ]
          },
          "metadata": {
            "tags": []
          },
          "execution_count": 138
        },
        {
          "output_type": "stream",
          "text": [
            "time: 4.54 ms\n"
          ],
          "name": "stdout"
        }
      ]
    },
    {
      "cell_type": "code",
      "metadata": {
        "id": "R58_c66RWj37",
        "colab_type": "code",
        "outputId": "f4051e8f-1b15-4155-e38f-97ab48fa0302",
        "colab": {
          "base_uri": "https://localhost:8080/",
          "height": 305
        }
      },
      "source": [
        "print(\"Confusion matrix\\n\",metrics.confusion_matrix(y_true=target_system.System,y_pred=sc1pp3labelshyp2_01)) \n",
        "print(\"Classification report\\n\",metrics.classification_report(y_true=target_system.System,y_pred=sc1pp3labelshyp2_01))"
      ],
      "execution_count": 0,
      "outputs": [
        {
          "output_type": "stream",
          "text": [
            "Confusion matrix\n",
            " [[    0   671     0]\n",
            " [    0 20527     0]\n",
            " [  250  2615 12288]]\n",
            "Classification report\n",
            "               precision    recall  f1-score   support\n",
            "\n",
            "           1       0.00      0.00      0.00       671\n",
            "           2       0.86      1.00      0.93     20527\n",
            "           3       1.00      0.81      0.90     15153\n",
            "\n",
            "    accuracy                           0.90     36351\n",
            "   macro avg       0.62      0.60      0.61     36351\n",
            "weighted avg       0.90      0.90      0.90     36351\n",
            "\n",
            "time: 73.6 ms\n"
          ],
          "name": "stdout"
        }
      ]
    },
    {
      "cell_type": "code",
      "metadata": {
        "id": "_bF-mSACWj4B",
        "colab_type": "code",
        "outputId": "5bbc7764-a081-4c1c-9466-ca1bca03d8c5",
        "colab": {
          "base_uri": "https://localhost:8080/",
          "height": 323
        }
      },
      "source": [
        "print('\\033[1m'+\"Kmeans++:\"+'\\033[0m')\n",
        "print('\\033[1m'+\"System 1\"+'\\033[0m')\n",
        "print(\"Precision = {0:0.3f}\".format(reportpp3hyp2_01[\"1\"][\"precision\"]))\n",
        "print(\"Recall = {0:0.3f}\".format(reportpp3hyp2_01[\"1\"][\"recall\"]))\n",
        "print(\"F1-score = {0:0.3f}\".format(reportpp3hyp2_01[\"1\"][\"f1-score\"]))\n",
        "print(\"Support = {0:0.3f}\".format(reportpp3hyp2_01[\"1\"][\"support\"]))\n",
        "print('\\033[1m'+\"System 2\"+'\\033[0m')\n",
        "print(\"Precision = {0:0.3f}\".format(reportpp3hyp2_01[\"2\"][\"precision\"]))\n",
        "print(\"Recall = {0:0.3f}\".format(reportpp3hyp2_01[\"2\"][\"recall\"]))\n",
        "print(\"F1-score = {0:0.3f}\".format(reportpp3hyp2_01[\"2\"][\"f1-score\"]))\n",
        "print(\"Support = {0:0.3f}\".format(reportpp3hyp2_01[\"2\"][\"support\"]))\n",
        "print('\\033[1m'+\"System 3\"+'\\033[0m')\n",
        "print(\"Precision = {0:0.3f}\".format(reportpp3hyp2_01[\"3\"][\"precision\"]))\n",
        "print(\"Recall = {0:0.3f}\".format(reportpp3hyp2_01[\"3\"][\"recall\"]))\n",
        "print(\"F1-score = {0:0.3f}\".format(reportpp3hyp2_01[\"3\"][\"f1-score\"]))\n",
        "print(\"Support = {0:0.3f}\".format(reportpp3hyp2_01[\"3\"][\"support\"]))"
      ],
      "execution_count": 0,
      "outputs": [
        {
          "output_type": "stream",
          "text": [
            "\u001b[1mKmeans++:\u001b[0m\n",
            "\u001b[1mSystem 1\u001b[0m\n",
            "Precision = 0.000\n",
            "Recall = 0.000\n",
            "F1-score = 0.000\n",
            "Support = 671.000\n",
            "\u001b[1mSystem 2\u001b[0m\n",
            "Precision = 0.862\n",
            "Recall = 1.000\n",
            "F1-score = 0.926\n",
            "Support = 20527.000\n",
            "\u001b[1mSystem 3\u001b[0m\n",
            "Precision = 1.000\n",
            "Recall = 0.811\n",
            "F1-score = 0.896\n",
            "Support = 15153.000\n",
            "time: 19.5 ms\n"
          ],
          "name": "stdout"
        }
      ]
    },
    {
      "cell_type": "code",
      "metadata": {
        "id": "ZopM9HmCWj4D",
        "colab_type": "code",
        "outputId": "71a6a228-3031-4614-a4d3-17628cb2d620",
        "colab": {
          "base_uri": "https://localhost:8080/",
          "height": 161
        }
      },
      "source": [
        "print('\\033[1m'+'Clustering metrics - supervised'+'\\033[0m')\n",
        "print('Adjusted Rand score: ', metrics.adjusted_rand_score(target_system.System, sc1pp3labelshyp2_01))\n",
        "print('Mutual info score: ', metrics.adjusted_mutual_info_score(target_system.System, sc1pp3labelshyp2_01))\n",
        "print('Homogeneity score: ', metrics.homogeneity_score(target_system.System, sc1pp3labelshyp2_01))\n",
        "print('Completeness score: ', metrics.completeness_score(target_system.System, sc1pp3labelshyp2_01))\n",
        "print('V-measure: ', metrics.v_measure_score(target_system.System, sc1pp3labelshyp2_01))\n",
        "print('Fowlkes-Mallows score: ', metrics.fowlkes_mallows_score(target_system.System, sc1pp3labelshyp2_01))"
      ],
      "execution_count": 0,
      "outputs": [
        {
          "output_type": "stream",
          "text": [
            "\u001b[1mClustering metrics - supervised\u001b[0m\n",
            "Adjusted Rand score:  0.6823361077431518\n",
            "Mutual info score:  0.6288415438002335\n",
            "Homogeneity score:  0.5945082951466247\n",
            "Completeness score:  0.6674481883802669\n",
            "V-measure:  0.6288703132831919\n",
            "Fowlkes-Mallows score:  0.8475658942266868\n",
            "time: 59.5 ms\n"
          ],
          "name": "stdout"
        }
      ]
    },
    {
      "cell_type": "code",
      "metadata": {
        "id": "YUlZfJHcWj4F",
        "colab_type": "code",
        "outputId": "a6cfdbd1-7c88-42c8-e7a0-9da283133992",
        "colab": {
          "base_uri": "https://localhost:8080/",
          "height": 163
        }
      },
      "source": [
        "print('\\033[1m'+'Clustering metrics - unsupervised'+'\\033[0m')\n",
        "print('Silhouette: ',metrics.silhouette_score(dfsc1, sc1pp3labelshyp2_01, metric='euclidean'))\n",
        "print('Davies-Bouldin Index: ',metrics.davies_bouldin_score(dfsc1, sc1pp3labelshyp2_01))\n",
        "print('Calinski-Harabasz Index: ',metrics.calinski_harabaz_score(dfsc1, sc1pp3labelshyp2_01))"
      ],
      "execution_count": 0,
      "outputs": [
        {
          "output_type": "stream",
          "text": [
            "\u001b[1mClustering metrics - unsupervised\u001b[0m\n",
            "Silhouette:  0.7084899313103125\n",
            "Davies-Bouldin Index:  0.35351468150384296\n",
            "Calinski-Harabasz Index:  40095.43389737366\n",
            "time: 18.9 s\n"
          ],
          "name": "stdout"
        },
        {
          "output_type": "stream",
          "text": [
            "/usr/local/lib/python3.6/dist-packages/sklearn/utils/deprecation.py:87: FutureWarning: Function calinski_harabaz_score is deprecated; Function 'calinski_harabaz_score' has been renamed to 'calinski_harabasz_score' and will be removed in version 0.23.\n",
            "  warnings.warn(msg, category=FutureWarning)\n"
          ],
          "name": "stderr"
        }
      ]
    },
    {
      "cell_type": "markdown",
      "metadata": {
        "id": "WeefBVGiWj4J",
        "colab_type": "text"
      },
      "source": [
        "### 02 - max_iter = 500"
      ]
    },
    {
      "cell_type": "code",
      "metadata": {
        "id": "o8wR2m2uWj4J",
        "colab_type": "code",
        "outputId": "bc4fcfb9-2d94-4a67-dcc7-1f613d796616",
        "colab": {
          "base_uri": "https://localhost:8080/",
          "height": 35
        }
      },
      "source": [
        "kmeansc1pp3hyp2_02 = KMeans(n_clusters=3, random_state=42, max_iter=500).fit(dfsc1)"
      ],
      "execution_count": 0,
      "outputs": [
        {
          "output_type": "stream",
          "text": [
            "time: 167 ms\n"
          ],
          "name": "stdout"
        }
      ]
    },
    {
      "cell_type": "code",
      "metadata": {
        "id": "jdCDoVdbWj4L",
        "colab_type": "code",
        "outputId": "309fcfa0-2cd1-4291-a4cf-04cd1309900f",
        "colab": {
          "base_uri": "https://localhost:8080/",
          "height": 35
        }
      },
      "source": [
        "kmeansc1pp3hyp2_02.labels_"
      ],
      "execution_count": 0,
      "outputs": [
        {
          "output_type": "execute_result",
          "data": {
            "text/plain": [
              "array([0, 0, 0, ..., 1, 1, 1], dtype=int32)"
            ]
          },
          "metadata": {
            "tags": []
          },
          "execution_count": 144
        },
        {
          "output_type": "stream",
          "text": [
            "time: 11.5 ms\n"
          ],
          "name": "stdout"
        }
      ]
    },
    {
      "cell_type": "code",
      "metadata": {
        "id": "vVSlSvMGWj4O",
        "colab_type": "code",
        "outputId": "dde87293-ae6e-4183-fe26-b2ae8fd54802",
        "colab": {
          "base_uri": "https://localhost:8080/",
          "height": 35
        }
      },
      "source": [
        "sc1pp3labelshyp2_02 = pd.Series(kmeansc1pp3hyp2_02.labels_)"
      ],
      "execution_count": 0,
      "outputs": [
        {
          "output_type": "stream",
          "text": [
            "time: 1.2 ms\n"
          ],
          "name": "stdout"
        }
      ]
    },
    {
      "cell_type": "code",
      "metadata": {
        "id": "6F5EfnmtWj4Q",
        "colab_type": "code",
        "outputId": "a149dd49-b574-42ac-a1d9-b2e4cac644c8",
        "colab": {
          "base_uri": "https://localhost:8080/",
          "height": 89
        }
      },
      "source": [
        "sc1pp3labelshyp2_02.value_counts()"
      ],
      "execution_count": 0,
      "outputs": [
        {
          "output_type": "execute_result",
          "data": {
            "text/plain": [
              "0    23813\n",
              "1    12288\n",
              "2      250\n",
              "dtype: int64"
            ]
          },
          "metadata": {
            "tags": []
          },
          "execution_count": 146
        },
        {
          "output_type": "stream",
          "text": [
            "time: 16.1 ms\n"
          ],
          "name": "stdout"
        }
      ]
    },
    {
      "cell_type": "code",
      "metadata": {
        "id": "DvLv02VPWj4U",
        "colab_type": "code",
        "outputId": "804b76d5-8d92-43e5-8df3-ef06cc4c46eb",
        "colab": {
          "base_uri": "https://localhost:8080/",
          "height": 35
        }
      },
      "source": [
        "cmpp3hyp2_02 = confusion_matrix(target_system.System, sc1pp3labelshyp2_02)"
      ],
      "execution_count": 0,
      "outputs": [
        {
          "output_type": "stream",
          "text": [
            "time: 48.7 ms\n"
          ],
          "name": "stdout"
        }
      ]
    },
    {
      "cell_type": "code",
      "metadata": {
        "id": "ECmkGNMFWj4V",
        "colab_type": "code",
        "outputId": "3d324ce1-7cfa-448a-a996-cc6e454450fe",
        "colab": {
          "base_uri": "https://localhost:8080/",
          "height": 89
        }
      },
      "source": [
        "cmpp3hyp2_02"
      ],
      "execution_count": 0,
      "outputs": [
        {
          "output_type": "execute_result",
          "data": {
            "text/plain": [
              "array([[    0,     0,     0,     0],\n",
              "       [  671,     0,     0,     0],\n",
              "       [20527,     0,     0,     0],\n",
              "       [ 2615, 12288,   250,     0]])"
            ]
          },
          "metadata": {
            "tags": []
          },
          "execution_count": 148
        },
        {
          "output_type": "stream",
          "text": [
            "time: 7.36 ms\n"
          ],
          "name": "stdout"
        }
      ]
    },
    {
      "cell_type": "markdown",
      "metadata": {
        "id": "R17bTBPPWj4W",
        "colab_type": "text"
      },
      "source": [
        "## Check correct labels"
      ]
    },
    {
      "cell_type": "code",
      "metadata": {
        "id": "A94TkD-wWj4X",
        "colab_type": "code",
        "outputId": "7f525997-48ea-4359-ac37-ecc401ca6667",
        "colab": {
          "base_uri": "https://localhost:8080/",
          "height": 321
        }
      },
      "source": [
        "sns.heatmap(cmpp3hyp2_02,annot=True,cmap='coolwarm')\n",
        "plt.xlabel('Predicted')\n",
        "plt.ylabel('True')"
      ],
      "execution_count": 0,
      "outputs": [
        {
          "output_type": "execute_result",
          "data": {
            "text/plain": [
              "Text(30.5, 0.5, 'True')"
            ]
          },
          "metadata": {
            "tags": []
          },
          "execution_count": 149
        },
        {
          "output_type": "display_data",
          "data": {
            "image/png": "[encoded data removed]",
            "text/plain": [
              "<Figure size 432x288 with 2 Axes>"
            ]
          },
          "metadata": {
            "tags": []
          }
        },
        {
          "output_type": "stream",
          "text": [
            "time: 308 ms\n"
          ],
          "name": "stdout"
        }
      ]
    },
    {
      "cell_type": "markdown",
      "metadata": {
        "id": "Z8TmktLDWj4Y",
        "colab_type": "text"
      },
      "source": [
        "## Change to correct labels"
      ]
    },
    {
      "cell_type": "code",
      "metadata": {
        "id": "re_lj9RqWj4Y",
        "colab_type": "code",
        "outputId": "328fe95d-5633-4e58-c887-2646b45eb8ee",
        "colab": {
          "base_uri": "https://localhost:8080/",
          "height": 35
        }
      },
      "source": [
        "sc1pp3labelshyp2_02\n",
        "sc1pp3labelshyp2_02[sc1pp3labelshyp2_02 == 0] = 4\n",
        "sc1pp3labelshyp2_02[sc1pp3labelshyp2_02 == 1] = 5\n",
        "sc1pp3labelshyp2_02[sc1pp3labelshyp2_02 == 2] = 6"
      ],
      "execution_count": 0,
      "outputs": [
        {
          "output_type": "stream",
          "text": [
            "time: 16.5 ms\n"
          ],
          "name": "stdout"
        }
      ]
    },
    {
      "cell_type": "code",
      "metadata": {
        "id": "696dpoZ6Wj4Z",
        "colab_type": "code",
        "outputId": "05bf1b95-b4b4-4f36-f557-8aa3550144e5",
        "colab": {
          "base_uri": "https://localhost:8080/",
          "height": 35
        }
      },
      "source": [
        "sc1pp3labelshyp2_02[sc1pp3labelshyp2_02 == 4] = 2\n",
        "sc1pp3labelshyp2_02[sc1pp3labelshyp2_02 == 5] = 3\n",
        "sc1pp3labelshyp2_02[sc1pp3labelshyp2_02 == 6] = 1"
      ],
      "execution_count": 0,
      "outputs": [
        {
          "output_type": "stream",
          "text": [
            "time: 21 ms\n"
          ],
          "name": "stdout"
        }
      ]
    },
    {
      "cell_type": "markdown",
      "metadata": {
        "id": "Tn9lmeGFWj4e",
        "colab_type": "text"
      },
      "source": [
        "## Check heatmap"
      ]
    },
    {
      "cell_type": "code",
      "metadata": {
        "id": "iWQVI2Q8Wj4e",
        "colab_type": "code",
        "outputId": "dff64c4c-6495-4f11-87dd-c830f0cf1ca7",
        "colab": {
          "base_uri": "https://localhost:8080/",
          "height": 35
        }
      },
      "source": [
        "cmpp3hyp2_02 = confusion_matrix(target_system.System, sc1pp3labelshyp2_02)"
      ],
      "execution_count": 0,
      "outputs": [
        {
          "output_type": "stream",
          "text": [
            "time: 37.2 ms\n"
          ],
          "name": "stdout"
        }
      ]
    },
    {
      "cell_type": "code",
      "metadata": {
        "id": "MmIWod5xWj4g",
        "colab_type": "code",
        "outputId": "00d9aa35-80d1-4833-9c9b-d803e1c0c88d",
        "colab": {
          "base_uri": "https://localhost:8080/",
          "height": 71
        }
      },
      "source": [
        "cmpp3hyp2_02"
      ],
      "execution_count": 0,
      "outputs": [
        {
          "output_type": "execute_result",
          "data": {
            "text/plain": [
              "array([[    0,   671,     0],\n",
              "       [    0, 20527,     0],\n",
              "       [  250,  2615, 12288]])"
            ]
          },
          "metadata": {
            "tags": []
          },
          "execution_count": 153
        },
        {
          "output_type": "stream",
          "text": [
            "time: 6.87 ms\n"
          ],
          "name": "stdout"
        }
      ]
    },
    {
      "cell_type": "code",
      "metadata": {
        "id": "r5SKzISwWj4n",
        "colab_type": "code",
        "outputId": "9faed47b-2a52-47da-8a23-bb32e368ce17",
        "colab": {
          "base_uri": "https://localhost:8080/",
          "height": 321
        }
      },
      "source": [
        "sns.heatmap(cmpp3hyp2_02,annot=True,cmap='coolwarm')\n",
        "plt.xlabel('Predicted')\n",
        "plt.ylabel('True')"
      ],
      "execution_count": 0,
      "outputs": [
        {
          "output_type": "execute_result",
          "data": {
            "text/plain": [
              "Text(30.5, 0.5, 'True')"
            ]
          },
          "metadata": {
            "tags": []
          },
          "execution_count": 154
        },
        {
          "output_type": "display_data",
          "data": {
            "image/png": "[encoded data removed]",
            "text/plain": [
              "<Figure size 432x288 with 2 Axes>"
            ]
          },
          "metadata": {
            "tags": []
          }
        },
        {
          "output_type": "stream",
          "text": [
            "time: 256 ms\n"
          ],
          "name": "stdout"
        }
      ]
    },
    {
      "cell_type": "code",
      "metadata": {
        "id": "xEGCokfcWj4p",
        "colab_type": "code",
        "outputId": "3dea844a-fa2c-4cb3-fbaf-4fd19ee132fa",
        "colab": {
          "base_uri": "https://localhost:8080/",
          "height": 35
        }
      },
      "source": [
        "reportpp3hyp2_02 = classification_report(target_system, sc1pp3labelshyp2_02,output_dict = True)"
      ],
      "execution_count": 0,
      "outputs": [
        {
          "output_type": "stream",
          "text": [
            "time: 36.1 ms\n"
          ],
          "name": "stdout"
        }
      ]
    },
    {
      "cell_type": "code",
      "metadata": {
        "id": "gzRUzHUsWj4q",
        "colab_type": "code",
        "outputId": "2c3be9b8-1938-422f-8bce-f0ffa99b183b",
        "colab": {
          "base_uri": "https://localhost:8080/",
          "height": 341
        }
      },
      "source": [
        "reportpp3hyp2_02"
      ],
      "execution_count": 0,
      "outputs": [
        {
          "output_type": "execute_result",
          "data": {
            "text/plain": [
              "{'1': {'f1-score': 0.0, 'precision': 0.0, 'recall': 0.0, 'support': 671},\n",
              " '2': {'f1-score': 0.9258908434821831,\n",
              "  'precision': 0.8620081468105657,\n",
              "  'recall': 1.0,\n",
              "  'support': 20527},\n",
              " '3': {'f1-score': 0.895594183885427,\n",
              "  'precision': 1.0,\n",
              "  'recall': 0.8109285290041576,\n",
              "  'support': 15153},\n",
              " 'accuracy': 0.9027261973535804,\n",
              " 'macro avg': {'f1-score': 0.6071616757892033,\n",
              "  'precision': 0.6206693822701886,\n",
              "  'recall': 0.6036428430013858,\n",
              "  'support': 36351},\n",
              " 'weighted avg': {'f1-score': 0.8961706696535073,\n",
              "  'precision': 0.9036186412913119,\n",
              "  'recall': 0.9027261973535804,\n",
              "  'support': 36351}}"
            ]
          },
          "metadata": {
            "tags": []
          },
          "execution_count": 156
        },
        {
          "output_type": "stream",
          "text": [
            "time: 6.89 ms\n"
          ],
          "name": "stdout"
        }
      ]
    },
    {
      "cell_type": "code",
      "metadata": {
        "id": "3N9KDgDxWj4r",
        "colab_type": "code",
        "outputId": "2e959ef5-605d-4460-c724-93a7a77b53b2",
        "colab": {
          "base_uri": "https://localhost:8080/",
          "height": 305
        }
      },
      "source": [
        "print(\"Confusion matrix\\n\",metrics.confusion_matrix(y_true=target_system.System,y_pred=sc1pp3labelshyp2_02)) \n",
        "print(\"Classification report\\n\",metrics.classification_report(y_true=target_system.System,y_pred=sc1pp3labelshyp2_02)) "
      ],
      "execution_count": 0,
      "outputs": [
        {
          "output_type": "stream",
          "text": [
            "Confusion matrix\n",
            " [[    0   671     0]\n",
            " [    0 20527     0]\n",
            " [  250  2615 12288]]\n",
            "Classification report\n",
            "               precision    recall  f1-score   support\n",
            "\n",
            "           1       0.00      0.00      0.00       671\n",
            "           2       0.86      1.00      0.93     20527\n",
            "           3       1.00      0.81      0.90     15153\n",
            "\n",
            "    accuracy                           0.90     36351\n",
            "   macro avg       0.62      0.60      0.61     36351\n",
            "weighted avg       0.90      0.90      0.90     36351\n",
            "\n",
            "time: 78.8 ms\n"
          ],
          "name": "stdout"
        }
      ]
    },
    {
      "cell_type": "code",
      "metadata": {
        "id": "YphtTaP8Wj4s",
        "colab_type": "code",
        "outputId": "c2882d7b-9545-4610-b035-36b2985405b5",
        "colab": {
          "base_uri": "https://localhost:8080/",
          "height": 323
        }
      },
      "source": [
        "print('\\033[1m'+\"Kmeans++:\"+'\\033[0m')\n",
        "print('\\033[1m'+\"System 1\"+'\\033[0m')\n",
        "print(\"Precision = {0:0.3f}\".format(reportpp3hyp2_02[\"1\"][\"precision\"]))\n",
        "print(\"Recall = {0:0.3f}\".format(reportpp3hyp2_02[\"1\"][\"recall\"]))\n",
        "print(\"F1-score = {0:0.3f}\".format(reportpp3hyp2_02[\"1\"][\"f1-score\"]))\n",
        "print(\"Support = {0:0.3f}\".format(reportpp3hyp2_02[\"1\"][\"support\"]))\n",
        "print('\\033[1m'+\"System 2\"+'\\033[0m')\n",
        "print(\"Precision = {0:0.3f}\".format(reportpp3hyp2_02[\"2\"][\"precision\"]))\n",
        "print(\"Recall = {0:0.3f}\".format(reportpp3hyp2_02[\"2\"][\"recall\"]))\n",
        "print(\"F1-score = {0:0.3f}\".format(reportpp3hyp2_02[\"2\"][\"f1-score\"]))\n",
        "print(\"Support = {0:0.3f}\".format(reportpp3hyp2_02[\"2\"][\"support\"]))\n",
        "print('\\033[1m'+\"System 3\"+'\\033[0m')\n",
        "print(\"Precision = {0:0.3f}\".format(reportpp3hyp2_02[\"3\"][\"precision\"]))\n",
        "print(\"Recall = {0:0.3f}\".format(reportpp3hyp2_02[\"3\"][\"recall\"]))\n",
        "print(\"F1-score = {0:0.3f}\".format(reportpp3hyp2_02[\"3\"][\"f1-score\"]))\n",
        "print(\"Support = {0:0.3f}\".format(reportpp3hyp2_02[\"3\"][\"support\"]))"
      ],
      "execution_count": 0,
      "outputs": [
        {
          "output_type": "stream",
          "text": [
            "\u001b[1mKmeans++:\u001b[0m\n",
            "\u001b[1mSystem 1\u001b[0m\n",
            "Precision = 0.000\n",
            "Recall = 0.000\n",
            "F1-score = 0.000\n",
            "Support = 671.000\n",
            "\u001b[1mSystem 2\u001b[0m\n",
            "Precision = 0.862\n",
            "Recall = 1.000\n",
            "F1-score = 0.926\n",
            "Support = 20527.000\n",
            "\u001b[1mSystem 3\u001b[0m\n",
            "Precision = 1.000\n",
            "Recall = 0.811\n",
            "F1-score = 0.896\n",
            "Support = 15153.000\n",
            "time: 18.4 ms\n"
          ],
          "name": "stdout"
        }
      ]
    },
    {
      "cell_type": "code",
      "metadata": {
        "id": "rkngiEFOWj4u",
        "colab_type": "code",
        "outputId": "deacc0a5-25fe-4584-e1d9-8b40f9f01b03",
        "colab": {
          "base_uri": "https://localhost:8080/",
          "height": 161
        }
      },
      "source": [
        "print('\\033[1m'+'Clustering metrics - supervised'+'\\033[0m')\n",
        "print('Adjusted Rand score: ', metrics.adjusted_rand_score(target_system.System, sc1pp3labelshyp2_02))\n",
        "print('Mutual info score: ', metrics.adjusted_mutual_info_score(target_system.System, sc1pp3labelshyp2_02))\n",
        "print('Homogeneity score: ', metrics.homogeneity_score(target_system.System, sc1pp3labelshyp2_02))\n",
        "print('Completeness score: ', metrics.completeness_score(target_system.System, sc1pp3labelshyp2_02))\n",
        "print('V-measure: ', metrics.v_measure_score(target_system.System, sc1pp3labelshyp2_02))\n",
        "print('Fowlkes-Mallows score: ', metrics.fowlkes_mallows_score(target_system.System, sc1pp3labelshyp2_02))"
      ],
      "execution_count": 0,
      "outputs": [
        {
          "output_type": "stream",
          "text": [
            "\u001b[1mClustering metrics - supervised\u001b[0m\n",
            "Adjusted Rand score:  0.6823361077431518\n",
            "Mutual info score:  0.6288415438002335\n",
            "Homogeneity score:  0.5945082951466247\n",
            "Completeness score:  0.6674481883802669\n",
            "V-measure:  0.6288703132831919\n",
            "Fowlkes-Mallows score:  0.8475658942266868\n",
            "time: 67.4 ms\n"
          ],
          "name": "stdout"
        }
      ]
    },
    {
      "cell_type": "code",
      "metadata": {
        "id": "P5bpWs7-Wj4w",
        "colab_type": "code",
        "outputId": "7ec8ed3c-a9dc-4ed3-f594-2d153a06aa96",
        "colab": {
          "base_uri": "https://localhost:8080/",
          "height": 163
        }
      },
      "source": [
        "print('\\033[1m'+'Clustering metrics - unsupervised'+'\\033[0m')\n",
        "print('Silhouette: ',metrics.silhouette_score(dfsc1, sc1pp3labelshyp2_02, metric='euclidean'))\n",
        "print('Davies-Bouldin Index: ',metrics.davies_bouldin_score(dfsc1, sc1pp3labelshyp2_02))\n",
        "print('Calinski-Harabasz Index: ',metrics.calinski_harabaz_score(dfsc1, sc1pp3labelshyp2_02))"
      ],
      "execution_count": 0,
      "outputs": [
        {
          "output_type": "stream",
          "text": [
            "\u001b[1mClustering metrics - unsupervised\u001b[0m\n",
            "Silhouette:  0.7084899313103125\n",
            "Davies-Bouldin Index:  0.35351468150384296\n",
            "Calinski-Harabasz Index:  40095.43389737366\n",
            "time: 18.8 s\n"
          ],
          "name": "stdout"
        },
        {
          "output_type": "stream",
          "text": [
            "/usr/local/lib/python3.6/dist-packages/sklearn/utils/deprecation.py:87: FutureWarning: Function calinski_harabaz_score is deprecated; Function 'calinski_harabaz_score' has been renamed to 'calinski_harabasz_score' and will be removed in version 0.23.\n",
            "  warnings.warn(msg, category=FutureWarning)\n"
          ],
          "name": "stderr"
        }
      ]
    },
    {
      "cell_type": "markdown",
      "metadata": {
        "id": "D3_WBjt0Wj4y",
        "colab_type": "text"
      },
      "source": [
        "### 03 - max_iter = 1000"
      ]
    },
    {
      "cell_type": "code",
      "metadata": {
        "id": "HFs10qPeWj4y",
        "colab_type": "code",
        "outputId": "6a412e63-602a-438d-c688-52285bccc110",
        "colab": {
          "base_uri": "https://localhost:8080/",
          "height": 35
        }
      },
      "source": [
        "kmeansc1pp3hyp2_03 = KMeans(n_clusters=3, random_state=42, max_iter=1000).fit(dfsc1)"
      ],
      "execution_count": 0,
      "outputs": [
        {
          "output_type": "stream",
          "text": [
            "time: 159 ms\n"
          ],
          "name": "stdout"
        }
      ]
    },
    {
      "cell_type": "code",
      "metadata": {
        "id": "Zb5lxdUzWj4z",
        "colab_type": "code",
        "outputId": "6b11bf3c-e2e5-4d82-c386-7876d04de64e",
        "colab": {
          "base_uri": "https://localhost:8080/",
          "height": 35
        }
      },
      "source": [
        "kmeansc1pp3hyp2_03.labels_"
      ],
      "execution_count": 0,
      "outputs": [
        {
          "output_type": "execute_result",
          "data": {
            "text/plain": [
              "array([0, 0, 0, ..., 1, 1, 1], dtype=int32)"
            ]
          },
          "metadata": {
            "tags": []
          },
          "execution_count": 162
        },
        {
          "output_type": "stream",
          "text": [
            "time: 7.26 ms\n"
          ],
          "name": "stdout"
        }
      ]
    },
    {
      "cell_type": "code",
      "metadata": {
        "id": "lgZuj1LYWj4z",
        "colab_type": "code",
        "outputId": "42718c6d-7e5c-4737-804d-b08df4a5b821",
        "colab": {
          "base_uri": "https://localhost:8080/",
          "height": 35
        }
      },
      "source": [
        "sc1pp3labelshyp2_03 = pd.Series(kmeansc1pp3hyp2_03.labels_)"
      ],
      "execution_count": 0,
      "outputs": [
        {
          "output_type": "stream",
          "text": [
            "time: 1.33 ms\n"
          ],
          "name": "stdout"
        }
      ]
    },
    {
      "cell_type": "code",
      "metadata": {
        "id": "rWNOIbkoWj46",
        "colab_type": "code",
        "outputId": "4c14bb86-22a8-44f4-d18d-51db6cde36c3",
        "colab": {
          "base_uri": "https://localhost:8080/",
          "height": 89
        }
      },
      "source": [
        "sc1pp3labelshyp2_03.value_counts()"
      ],
      "execution_count": 0,
      "outputs": [
        {
          "output_type": "execute_result",
          "data": {
            "text/plain": [
              "0    23813\n",
              "1    12288\n",
              "2      250\n",
              "dtype: int64"
            ]
          },
          "metadata": {
            "tags": []
          },
          "execution_count": 164
        },
        {
          "output_type": "stream",
          "text": [
            "time: 15.5 ms\n"
          ],
          "name": "stdout"
        }
      ]
    },
    {
      "cell_type": "code",
      "metadata": {
        "id": "WNnFNEGBWj47",
        "colab_type": "code",
        "outputId": "a35bb0cb-9699-4059-ca39-916ba17c1226",
        "colab": {
          "base_uri": "https://localhost:8080/",
          "height": 35
        }
      },
      "source": [
        "cmpp3hyp2_03 = confusion_matrix(target_system.System, sc1pp3labelshyp2_03)"
      ],
      "execution_count": 0,
      "outputs": [
        {
          "output_type": "stream",
          "text": [
            "time: 56 ms\n"
          ],
          "name": "stdout"
        }
      ]
    },
    {
      "cell_type": "code",
      "metadata": {
        "id": "n3YDphnZWj48",
        "colab_type": "code",
        "outputId": "70ef6aeb-a952-4491-c9c6-c23ebadc8d98",
        "colab": {
          "base_uri": "https://localhost:8080/",
          "height": 89
        }
      },
      "source": [
        "cmpp3hyp2_03"
      ],
      "execution_count": 0,
      "outputs": [
        {
          "output_type": "execute_result",
          "data": {
            "text/plain": [
              "array([[    0,     0,     0,     0],\n",
              "       [  671,     0,     0,     0],\n",
              "       [20527,     0,     0,     0],\n",
              "       [ 2615, 12288,   250,     0]])"
            ]
          },
          "metadata": {
            "tags": []
          },
          "execution_count": 166
        },
        {
          "output_type": "stream",
          "text": [
            "time: 6.25 ms\n"
          ],
          "name": "stdout"
        }
      ]
    },
    {
      "cell_type": "markdown",
      "metadata": {
        "id": "IccAJBfnWj4_",
        "colab_type": "text"
      },
      "source": [
        "## Check correct labels"
      ]
    },
    {
      "cell_type": "code",
      "metadata": {
        "id": "R0BWXZiMWj5A",
        "colab_type": "code",
        "outputId": "d693d6d3-60fb-4c30-aab7-1ccb34f4645b",
        "colab": {
          "base_uri": "https://localhost:8080/",
          "height": 321
        }
      },
      "source": [
        "sns.heatmap(cmpp3hyp2_03,annot=True,cmap='coolwarm')\n",
        "plt.xlabel('Predicted')\n",
        "plt.ylabel('True')"
      ],
      "execution_count": 0,
      "outputs": [
        {
          "output_type": "execute_result",
          "data": {
            "text/plain": [
              "Text(30.5, 0.5, 'True')"
            ]
          },
          "metadata": {
            "tags": []
          },
          "execution_count": 167
        },
        {
          "output_type": "display_data",
          "data": {
            "image/png": "[encoded data removed]",
            "text/plain": [
              "<Figure size 432x288 with 2 Axes>"
            ]
          },
          "metadata": {
            "tags": []
          }
        },
        {
          "output_type": "stream",
          "text": [
            "time: 312 ms\n"
          ],
          "name": "stdout"
        }
      ]
    },
    {
      "cell_type": "markdown",
      "metadata": {
        "id": "r2HVprDuWj5D",
        "colab_type": "text"
      },
      "source": [
        "## Change to correct labels"
      ]
    },
    {
      "cell_type": "code",
      "metadata": {
        "id": "3LBJMHrOWj5D",
        "colab_type": "code",
        "outputId": "9ee7a2d1-c87d-4a95-90ca-71ea55e6c417",
        "colab": {
          "base_uri": "https://localhost:8080/",
          "height": 35
        }
      },
      "source": [
        "sc1pp3labelshyp2_03\n",
        "sc1pp3labelshyp2_03[sc1pp3labelshyp2_03 == 0] = 4\n",
        "sc1pp3labelshyp2_03[sc1pp3labelshyp2_03 == 1] = 5\n",
        "sc1pp3labelshyp2_03[sc1pp3labelshyp2_03 == 2] = 6"
      ],
      "execution_count": 0,
      "outputs": [
        {
          "output_type": "stream",
          "text": [
            "time: 17.2 ms\n"
          ],
          "name": "stdout"
        }
      ]
    },
    {
      "cell_type": "code",
      "metadata": {
        "id": "STDM2NxTWj5F",
        "colab_type": "code",
        "outputId": "bff2de41-d04e-4c5b-87ec-d05fc07c74a5",
        "colab": {
          "base_uri": "https://localhost:8080/",
          "height": 35
        }
      },
      "source": [
        "sc1pp3labelshyp2_03[sc1pp3labelshyp2_03 == 4] = 2\n",
        "sc1pp3labelshyp2_03[sc1pp3labelshyp2_03 == 5] = 3\n",
        "sc1pp3labelshyp2_03[sc1pp3labelshyp2_03 == 6] = 1"
      ],
      "execution_count": 0,
      "outputs": [
        {
          "output_type": "stream",
          "text": [
            "time: 11.8 ms\n"
          ],
          "name": "stdout"
        }
      ]
    },
    {
      "cell_type": "markdown",
      "metadata": {
        "id": "lkbUItLcWj5K",
        "colab_type": "text"
      },
      "source": [
        "## Check heatmap"
      ]
    },
    {
      "cell_type": "code",
      "metadata": {
        "id": "7-kF6qU4Wj5K",
        "colab_type": "code",
        "outputId": "c1d568c3-0a57-4c73-fdc8-c7a1979a6d16",
        "colab": {
          "base_uri": "https://localhost:8080/",
          "height": 35
        }
      },
      "source": [
        "cmpp3hyp2_03 = confusion_matrix(target_system.System, sc1pp3labelshyp2_03)"
      ],
      "execution_count": 0,
      "outputs": [
        {
          "output_type": "stream",
          "text": [
            "time: 38 ms\n"
          ],
          "name": "stdout"
        }
      ]
    },
    {
      "cell_type": "code",
      "metadata": {
        "id": "54rgTiIvWj5N",
        "colab_type": "code",
        "outputId": "1a565106-eb4b-4e30-965c-a8a5f7e5343a",
        "colab": {
          "base_uri": "https://localhost:8080/",
          "height": 71
        }
      },
      "source": [
        "cmpp3hyp2_03"
      ],
      "execution_count": 0,
      "outputs": [
        {
          "output_type": "execute_result",
          "data": {
            "text/plain": [
              "array([[    0,   671,     0],\n",
              "       [    0, 20527,     0],\n",
              "       [  250,  2615, 12288]])"
            ]
          },
          "metadata": {
            "tags": []
          },
          "execution_count": 171
        },
        {
          "output_type": "stream",
          "text": [
            "time: 3.42 ms\n"
          ],
          "name": "stdout"
        }
      ]
    },
    {
      "cell_type": "code",
      "metadata": {
        "id": "wCUQPgfOWj5Q",
        "colab_type": "code",
        "outputId": "72c1718c-2fe3-4c6f-af75-6c0a907e1191",
        "colab": {
          "base_uri": "https://localhost:8080/",
          "height": 321
        }
      },
      "source": [
        "sns.heatmap(cmpp3hyp2_03,annot=True,cmap='coolwarm')\n",
        "plt.xlabel('Predicted')\n",
        "plt.ylabel('True')"
      ],
      "execution_count": 0,
      "outputs": [
        {
          "output_type": "execute_result",
          "data": {
            "text/plain": [
              "Text(30.5, 0.5, 'True')"
            ]
          },
          "metadata": {
            "tags": []
          },
          "execution_count": 172
        },
        {
          "output_type": "display_data",
          "data": {
            "image/png": "[encoded data removed]",
            "text/plain": [
              "<Figure size 432x288 with 2 Axes>"
            ]
          },
          "metadata": {
            "tags": []
          }
        },
        {
          "output_type": "stream",
          "text": [
            "time: 267 ms\n"
          ],
          "name": "stdout"
        }
      ]
    },
    {
      "cell_type": "code",
      "metadata": {
        "id": "c5uaoIGKWj5S",
        "colab_type": "code",
        "outputId": "b7d3cce4-a9e5-416b-96b2-ab20ae346e3d",
        "colab": {
          "base_uri": "https://localhost:8080/",
          "height": 35
        }
      },
      "source": [
        "reportpp3hyp2_03 = classification_report(target_system, sc1pp3labelshyp2_03,output_dict = True)"
      ],
      "execution_count": 0,
      "outputs": [
        {
          "output_type": "stream",
          "text": [
            "time: 40.9 ms\n"
          ],
          "name": "stdout"
        }
      ]
    },
    {
      "cell_type": "code",
      "metadata": {
        "id": "qAG862V6Wj5T",
        "colab_type": "code",
        "outputId": "7514a244-05ee-447d-8e95-7b1bdd02269c",
        "colab": {
          "base_uri": "https://localhost:8080/",
          "height": 341
        }
      },
      "source": [
        "reportpp3hyp2_03"
      ],
      "execution_count": 0,
      "outputs": [
        {
          "output_type": "execute_result",
          "data": {
            "text/plain": [
              "{'1': {'f1-score': 0.0, 'precision': 0.0, 'recall': 0.0, 'support': 671},\n",
              " '2': {'f1-score': 0.9258908434821831,\n",
              "  'precision': 0.8620081468105657,\n",
              "  'recall': 1.0,\n",
              "  'support': 20527},\n",
              " '3': {'f1-score': 0.895594183885427,\n",
              "  'precision': 1.0,\n",
              "  'recall': 0.8109285290041576,\n",
              "  'support': 15153},\n",
              " 'accuracy': 0.9027261973535804,\n",
              " 'macro avg': {'f1-score': 0.6071616757892033,\n",
              "  'precision': 0.6206693822701886,\n",
              "  'recall': 0.6036428430013858,\n",
              "  'support': 36351},\n",
              " 'weighted avg': {'f1-score': 0.8961706696535073,\n",
              "  'precision': 0.9036186412913119,\n",
              "  'recall': 0.9027261973535804,\n",
              "  'support': 36351}}"
            ]
          },
          "metadata": {
            "tags": []
          },
          "execution_count": 174
        },
        {
          "output_type": "stream",
          "text": [
            "time: 4.35 ms\n"
          ],
          "name": "stdout"
        }
      ]
    },
    {
      "cell_type": "code",
      "metadata": {
        "id": "dlCM1L8zWj5U",
        "colab_type": "code",
        "outputId": "37b08f7b-0fbb-4465-bed5-dd792fbf818c",
        "colab": {
          "base_uri": "https://localhost:8080/",
          "height": 305
        }
      },
      "source": [
        "print(\"Confusion matrix\\n\",metrics.confusion_matrix(y_true=target_system.System,y_pred=sc1pp3labelshyp2_03)) \n",
        "print(\"Classification report\\n\",metrics.classification_report(y_true=target_system.System,y_pred=sc1pp3labelshyp2_03))"
      ],
      "execution_count": 0,
      "outputs": [
        {
          "output_type": "stream",
          "text": [
            "Confusion matrix\n",
            " [[    0   671     0]\n",
            " [    0 20527     0]\n",
            " [  250  2615 12288]]\n",
            "Classification report\n",
            "               precision    recall  f1-score   support\n",
            "\n",
            "           1       0.00      0.00      0.00       671\n",
            "           2       0.86      1.00      0.93     20527\n",
            "           3       1.00      0.81      0.90     15153\n",
            "\n",
            "    accuracy                           0.90     36351\n",
            "   macro avg       0.62      0.60      0.61     36351\n",
            "weighted avg       0.90      0.90      0.90     36351\n",
            "\n",
            "time: 72.7 ms\n"
          ],
          "name": "stdout"
        }
      ]
    },
    {
      "cell_type": "code",
      "metadata": {
        "id": "xhkth9scWj5V",
        "colab_type": "code",
        "outputId": "7ba0e15b-71a7-4633-8219-3e959e272f5a",
        "colab": {
          "base_uri": "https://localhost:8080/",
          "height": 323
        }
      },
      "source": [
        "print('\\033[1m'+\"Kmeans++:\"+'\\033[0m')\n",
        "print('\\033[1m'+\"System 1\"+'\\033[0m')\n",
        "print(\"Precision = {0:0.3f}\".format(reportpp3hyp2_03[\"1\"][\"precision\"]))\n",
        "print(\"Recall = {0:0.3f}\".format(reportpp3hyp2_03[\"1\"][\"recall\"]))\n",
        "print(\"F1-score = {0:0.3f}\".format(reportpp3hyp2_03[\"1\"][\"f1-score\"]))\n",
        "print(\"Support = {0:0.3f}\".format(reportpp3hyp2_03[\"1\"][\"support\"]))\n",
        "print('\\033[1m'+\"System 2\"+'\\033[0m')\n",
        "print(\"Precision = {0:0.3f}\".format(reportpp3hyp2_03[\"2\"][\"precision\"]))\n",
        "print(\"Recall = {0:0.3f}\".format(reportpp3hyp2_03[\"2\"][\"recall\"]))\n",
        "print(\"F1-score = {0:0.3f}\".format(reportpp3hyp2_03[\"2\"][\"f1-score\"]))\n",
        "print(\"Support = {0:0.3f}\".format(reportpp3hyp2_03[\"2\"][\"support\"]))\n",
        "print('\\033[1m'+\"System 3\"+'\\033[0m')\n",
        "print(\"Precision = {0:0.3f}\".format(reportpp3hyp2_03[\"3\"][\"precision\"]))\n",
        "print(\"Recall = {0:0.3f}\".format(reportpp3hyp2_03[\"3\"][\"recall\"]))\n",
        "print(\"F1-score = {0:0.3f}\".format(reportpp3hyp2_03[\"3\"][\"f1-score\"]))\n",
        "print(\"Support = {0:0.3f}\".format(reportpp3hyp2_03[\"3\"][\"support\"]))"
      ],
      "execution_count": 0,
      "outputs": [
        {
          "output_type": "stream",
          "text": [
            "\u001b[1mKmeans++:\u001b[0m\n",
            "\u001b[1mSystem 1\u001b[0m\n",
            "Precision = 0.000\n",
            "Recall = 0.000\n",
            "F1-score = 0.000\n",
            "Support = 671.000\n",
            "\u001b[1mSystem 2\u001b[0m\n",
            "Precision = 0.862\n",
            "Recall = 1.000\n",
            "F1-score = 0.926\n",
            "Support = 20527.000\n",
            "\u001b[1mSystem 3\u001b[0m\n",
            "Precision = 1.000\n",
            "Recall = 0.811\n",
            "F1-score = 0.896\n",
            "Support = 15153.000\n",
            "time: 16.6 ms\n"
          ],
          "name": "stdout"
        }
      ]
    },
    {
      "cell_type": "code",
      "metadata": {
        "id": "vRGAOKtQWj5W",
        "colab_type": "code",
        "outputId": "374abeed-1755-4101-98f5-007811ca25c6",
        "colab": {
          "base_uri": "https://localhost:8080/",
          "height": 161
        }
      },
      "source": [
        "print('\\033[1m'+'Clustering metrics - supervised'+'\\033[0m')\n",
        "print('Adjusted Rand score: ', metrics.adjusted_rand_score(target_system.System, sc1pp3labelshyp2_03))\n",
        "print('Mutual info score: ', metrics.adjusted_mutual_info_score(target_system.System, sc1pp3labelshyp2_03))\n",
        "print('Homogeneity score: ', metrics.homogeneity_score(target_system.System, sc1pp3labelshyp2_03))\n",
        "print('Completeness score: ', metrics.completeness_score(target_system.System, sc1pp3labelshyp2_03))\n",
        "print('V-measure: ', metrics.v_measure_score(target_system.System, sc1pp3labelshyp2_03))\n",
        "print('Fowlkes-Mallows score: ', metrics.fowlkes_mallows_score(target_system.System, sc1pp3labelshyp2_03))"
      ],
      "execution_count": 0,
      "outputs": [
        {
          "output_type": "stream",
          "text": [
            "\u001b[1mClustering metrics - supervised\u001b[0m\n",
            "Adjusted Rand score:  0.6823361077431518\n",
            "Mutual info score:  0.6288415438002335\n",
            "Homogeneity score:  0.5945082951466247\n",
            "Completeness score:  0.6674481883802669\n",
            "V-measure:  0.6288703132831919\n",
            "Fowlkes-Mallows score:  0.8475658942266868\n",
            "time: 59.5 ms\n"
          ],
          "name": "stdout"
        }
      ]
    },
    {
      "cell_type": "code",
      "metadata": {
        "id": "XQBlkCH7Wj5X",
        "colab_type": "code",
        "outputId": "7bc71381-c8cb-4677-d41f-6ccd36a3a727",
        "colab": {
          "base_uri": "https://localhost:8080/",
          "height": 163
        }
      },
      "source": [
        "print('\\033[1m'+'Clustering metrics - unsupervised'+'\\033[0m')\n",
        "print('Silhouette: ',metrics.silhouette_score(dfsc1, sc1pp3labelshyp2_03, metric='euclidean'))\n",
        "print('Davies-Bouldin Index: ',metrics.davies_bouldin_score(dfsc1, sc1pp3labelshyp2_03))\n",
        "print('Calinski-Harabasz Index: ',metrics.calinski_harabaz_score(dfsc1, sc1pp3labelshyp2_03))"
      ],
      "execution_count": 0,
      "outputs": [
        {
          "output_type": "stream",
          "text": [
            "\u001b[1mClustering metrics - unsupervised\u001b[0m\n",
            "Silhouette:  0.7084899313103125\n",
            "Davies-Bouldin Index:  0.35351468150384296\n",
            "Calinski-Harabasz Index:  40095.43389737366\n",
            "time: 19 s\n"
          ],
          "name": "stdout"
        },
        {
          "output_type": "stream",
          "text": [
            "/usr/local/lib/python3.6/dist-packages/sklearn/utils/deprecation.py:87: FutureWarning: Function calinski_harabaz_score is deprecated; Function 'calinski_harabaz_score' has been renamed to 'calinski_harabasz_score' and will be removed in version 0.23.\n",
            "  warnings.warn(msg, category=FutureWarning)\n"
          ],
          "name": "stderr"
        }
      ]
    },
    {
      "cell_type": "markdown",
      "metadata": {
        "id": "skug6kAzWj5Y",
        "colab_type": "text"
      },
      "source": [
        "## Hyperparameter analysis: tol"
      ]
    },
    {
      "cell_type": "markdown",
      "metadata": {
        "id": "hXCkQzICWj5Y",
        "colab_type": "text"
      },
      "source": [
        "### 3 scenarios: 0.001, 0.01, 0.1"
      ]
    },
    {
      "cell_type": "markdown",
      "metadata": {
        "id": "yuYcm6b-Wj5b",
        "colab_type": "text"
      },
      "source": [
        "### 01 - tol = 0.001"
      ]
    },
    {
      "cell_type": "code",
      "metadata": {
        "id": "m9vxBieaWj5b",
        "colab_type": "code",
        "outputId": "098c6b6c-afae-41a2-eb78-b668e94a7f08",
        "colab": {
          "base_uri": "https://localhost:8080/",
          "height": 35
        }
      },
      "source": [
        "kmeansc1pp3hyp3_01 = KMeans(n_clusters=3, random_state=42, tol=0.001).fit(dfsc1)"
      ],
      "execution_count": 0,
      "outputs": [
        {
          "output_type": "stream",
          "text": [
            "time: 175 ms\n"
          ],
          "name": "stdout"
        }
      ]
    },
    {
      "cell_type": "code",
      "metadata": {
        "id": "Ov_h20aGWj5c",
        "colab_type": "code",
        "outputId": "97ef709e-b1f2-4f00-af14-efdb87cb3fa3",
        "colab": {
          "base_uri": "https://localhost:8080/",
          "height": 35
        }
      },
      "source": [
        "kmeansc1pp3hyp3_01.labels_"
      ],
      "execution_count": 0,
      "outputs": [
        {
          "output_type": "execute_result",
          "data": {
            "text/plain": [
              "array([0, 0, 0, ..., 1, 1, 1], dtype=int32)"
            ]
          },
          "metadata": {
            "tags": []
          },
          "execution_count": 180
        },
        {
          "output_type": "stream",
          "text": [
            "time: 9.47 ms\n"
          ],
          "name": "stdout"
        }
      ]
    },
    {
      "cell_type": "code",
      "metadata": {
        "id": "UsYBJ37MWj5d",
        "colab_type": "code",
        "outputId": "0b02e276-d8c3-41f2-c107-d98b860e81db",
        "colab": {
          "base_uri": "https://localhost:8080/",
          "height": 35
        }
      },
      "source": [
        "sc1pp3labelshyp3_01 = pd.Series(kmeansc1pp3hyp3_01.labels_)"
      ],
      "execution_count": 0,
      "outputs": [
        {
          "output_type": "stream",
          "text": [
            "time: 2.78 ms\n"
          ],
          "name": "stdout"
        }
      ]
    },
    {
      "cell_type": "code",
      "metadata": {
        "id": "Q9OOmIGiWj5e",
        "colab_type": "code",
        "outputId": "c3bcf8f9-4b07-4eeb-a04f-67d8ffe23345",
        "colab": {
          "base_uri": "https://localhost:8080/",
          "height": 89
        }
      },
      "source": [
        "sc1pp3labelshyp3_01.value_counts()"
      ],
      "execution_count": 0,
      "outputs": [
        {
          "output_type": "execute_result",
          "data": {
            "text/plain": [
              "0    23813\n",
              "1    12288\n",
              "2      250\n",
              "dtype: int64"
            ]
          },
          "metadata": {
            "tags": []
          },
          "execution_count": 182
        },
        {
          "output_type": "stream",
          "text": [
            "time: 16.2 ms\n"
          ],
          "name": "stdout"
        }
      ]
    },
    {
      "cell_type": "code",
      "metadata": {
        "id": "0BTFx7XRWj5f",
        "colab_type": "code",
        "outputId": "23947f25-0f1f-4039-8686-07b193c6479a",
        "colab": {
          "base_uri": "https://localhost:8080/",
          "height": 35
        }
      },
      "source": [
        "cmpp3hyp3_01 = confusion_matrix(target_system.System, sc1pp3labelshyp3_01)"
      ],
      "execution_count": 0,
      "outputs": [
        {
          "output_type": "stream",
          "text": [
            "time: 57.9 ms\n"
          ],
          "name": "stdout"
        }
      ]
    },
    {
      "cell_type": "code",
      "metadata": {
        "id": "GRGWrhYcWj5g",
        "colab_type": "code",
        "outputId": "dcfc94cb-85ca-44da-ce61-c3cf01b9d444",
        "colab": {
          "base_uri": "https://localhost:8080/",
          "height": 89
        }
      },
      "source": [
        "cmpp3hyp3_01"
      ],
      "execution_count": 0,
      "outputs": [
        {
          "output_type": "execute_result",
          "data": {
            "text/plain": [
              "array([[    0,     0,     0,     0],\n",
              "       [  671,     0,     0,     0],\n",
              "       [20527,     0,     0,     0],\n",
              "       [ 2615, 12288,   250,     0]])"
            ]
          },
          "metadata": {
            "tags": []
          },
          "execution_count": 184
        },
        {
          "output_type": "stream",
          "text": [
            "time: 5.1 ms\n"
          ],
          "name": "stdout"
        }
      ]
    },
    {
      "cell_type": "markdown",
      "metadata": {
        "id": "SkKan2YyWj5h",
        "colab_type": "text"
      },
      "source": [
        "## Check correct labels"
      ]
    },
    {
      "cell_type": "code",
      "metadata": {
        "id": "-I3_O2nZWj5h",
        "colab_type": "code",
        "outputId": "c3051734-a9ca-44df-deb4-4caaa60f0d06",
        "colab": {
          "base_uri": "https://localhost:8080/",
          "height": 321
        }
      },
      "source": [
        "sns.heatmap(cmpp3hyp3_01,annot=True,cmap='coolwarm')\n",
        "plt.xlabel('Predicted')\n",
        "plt.ylabel('True')"
      ],
      "execution_count": 0,
      "outputs": [
        {
          "output_type": "execute_result",
          "data": {
            "text/plain": [
              "Text(30.5, 0.5, 'True')"
            ]
          },
          "metadata": {
            "tags": []
          },
          "execution_count": 185
        },
        {
          "output_type": "display_data",
          "data": {
            "image/png": "[encoded data removed]",
            "text/plain": [
              "<Figure size 432x288 with 2 Axes>"
            ]
          },
          "metadata": {
            "tags": []
          }
        },
        {
          "output_type": "stream",
          "text": [
            "time: 319 ms\n"
          ],
          "name": "stdout"
        }
      ]
    },
    {
      "cell_type": "markdown",
      "metadata": {
        "id": "36k66W6-Wj5m",
        "colab_type": "text"
      },
      "source": [
        "## Change to correct labels"
      ]
    },
    {
      "cell_type": "code",
      "metadata": {
        "id": "IPYk4Hq9Wj5n",
        "colab_type": "code",
        "outputId": "7a89fd49-59e0-4c09-d420-470fc31cd764",
        "colab": {
          "base_uri": "https://localhost:8080/",
          "height": 35
        }
      },
      "source": [
        "sc1pp3labelshyp3_01\n",
        "sc1pp3labelshyp3_01[sc1pp3labelshyp3_01 == 0] = 4\n",
        "sc1pp3labelshyp3_01[sc1pp3labelshyp3_01 == 1] = 5\n",
        "sc1pp3labelshyp3_01[sc1pp3labelshyp3_01 == 2] = 6"
      ],
      "execution_count": 0,
      "outputs": [
        {
          "output_type": "stream",
          "text": [
            "time: 15.4 ms\n"
          ],
          "name": "stdout"
        }
      ]
    },
    {
      "cell_type": "code",
      "metadata": {
        "id": "GLv27MrhWj5o",
        "colab_type": "code",
        "outputId": "033cfc7a-5d45-4a3e-95ad-7b0180508c79",
        "colab": {
          "base_uri": "https://localhost:8080/",
          "height": 35
        }
      },
      "source": [
        "sc1pp3labelshyp3_01[sc1pp3labelshyp3_01 == 4] = 2\n",
        "sc1pp3labelshyp3_01[sc1pp3labelshyp3_01 == 5] = 3\n",
        "sc1pp3labelshyp3_01[sc1pp3labelshyp3_01 == 6] = 1"
      ],
      "execution_count": 0,
      "outputs": [
        {
          "output_type": "stream",
          "text": [
            "time: 14.9 ms\n"
          ],
          "name": "stdout"
        }
      ]
    },
    {
      "cell_type": "markdown",
      "metadata": {
        "id": "KhgKEWKYWj5q",
        "colab_type": "text"
      },
      "source": [
        "## Check heatmap"
      ]
    },
    {
      "cell_type": "code",
      "metadata": {
        "id": "dMTXm_LIWj5q",
        "colab_type": "code",
        "outputId": "ecd1f692-37c2-4dcf-bcb1-ce2c8b659fed",
        "colab": {
          "base_uri": "https://localhost:8080/",
          "height": 35
        }
      },
      "source": [
        "cmpp3hyp3_01 = confusion_matrix(target_system.System, sc1pp3labelshyp3_01)"
      ],
      "execution_count": 0,
      "outputs": [
        {
          "output_type": "stream",
          "text": [
            "time: 41 ms\n"
          ],
          "name": "stdout"
        }
      ]
    },
    {
      "cell_type": "code",
      "metadata": {
        "id": "xa04oG_HWj5s",
        "colab_type": "code",
        "outputId": "5aa4881a-992a-4cc1-f340-b16dcfdcbeb9",
        "colab": {
          "base_uri": "https://localhost:8080/",
          "height": 71
        }
      },
      "source": [
        "cmpp3hyp3_01"
      ],
      "execution_count": 0,
      "outputs": [
        {
          "output_type": "execute_result",
          "data": {
            "text/plain": [
              "array([[    0,   671,     0],\n",
              "       [    0, 20527,     0],\n",
              "       [  250,  2615, 12288]])"
            ]
          },
          "metadata": {
            "tags": []
          },
          "execution_count": 189
        },
        {
          "output_type": "stream",
          "text": [
            "time: 3.74 ms\n"
          ],
          "name": "stdout"
        }
      ]
    },
    {
      "cell_type": "code",
      "metadata": {
        "id": "QVEeqbNRWj5t",
        "colab_type": "code",
        "outputId": "7f45b401-4f6e-4d47-db6c-b3eef055912b",
        "colab": {
          "base_uri": "https://localhost:8080/",
          "height": 321
        }
      },
      "source": [
        "sns.heatmap(cmpp3hyp3_01,annot=True,cmap='coolwarm')\n",
        "plt.xlabel('Predicted')\n",
        "plt.ylabel('True')"
      ],
      "execution_count": 0,
      "outputs": [
        {
          "output_type": "execute_result",
          "data": {
            "text/plain": [
              "Text(30.5, 0.5, 'True')"
            ]
          },
          "metadata": {
            "tags": []
          },
          "execution_count": 190
        },
        {
          "output_type": "display_data",
          "data": {
            "image/png": "[encoded data removed]",
            "text/plain": [
              "<Figure size 432x288 with 2 Axes>"
            ]
          },
          "metadata": {
            "tags": []
          }
        },
        {
          "output_type": "stream",
          "text": [
            "time: 289 ms\n"
          ],
          "name": "stdout"
        }
      ]
    },
    {
      "cell_type": "code",
      "metadata": {
        "id": "r3lAB-UbWj5u",
        "colab_type": "code",
        "outputId": "25123c4e-f388-4a7f-b23b-9ddb128015a1",
        "colab": {
          "base_uri": "https://localhost:8080/",
          "height": 35
        }
      },
      "source": [
        "reportpp3hyp3_01 = classification_report(target_system, sc1pp3labelshyp3_01,output_dict = True)"
      ],
      "execution_count": 0,
      "outputs": [
        {
          "output_type": "stream",
          "text": [
            "time: 43 ms\n"
          ],
          "name": "stdout"
        }
      ]
    },
    {
      "cell_type": "code",
      "metadata": {
        "id": "CLEGj_6hWj5v",
        "colab_type": "code",
        "outputId": "065f38eb-2004-4b28-f0ab-a380a93a0e85",
        "colab": {
          "base_uri": "https://localhost:8080/",
          "height": 341
        }
      },
      "source": [
        "reportpp3hyp3_01"
      ],
      "execution_count": 0,
      "outputs": [
        {
          "output_type": "execute_result",
          "data": {
            "text/plain": [
              "{'1': {'f1-score': 0.0, 'precision': 0.0, 'recall': 0.0, 'support': 671},\n",
              " '2': {'f1-score': 0.9258908434821831,\n",
              "  'precision': 0.8620081468105657,\n",
              "  'recall': 1.0,\n",
              "  'support': 20527},\n",
              " '3': {'f1-score': 0.895594183885427,\n",
              "  'precision': 1.0,\n",
              "  'recall': 0.8109285290041576,\n",
              "  'support': 15153},\n",
              " 'accuracy': 0.9027261973535804,\n",
              " 'macro avg': {'f1-score': 0.6071616757892033,\n",
              "  'precision': 0.6206693822701886,\n",
              "  'recall': 0.6036428430013858,\n",
              "  'support': 36351},\n",
              " 'weighted avg': {'f1-score': 0.8961706696535073,\n",
              "  'precision': 0.9036186412913119,\n",
              "  'recall': 0.9027261973535804,\n",
              "  'support': 36351}}"
            ]
          },
          "metadata": {
            "tags": []
          },
          "execution_count": 192
        },
        {
          "output_type": "stream",
          "text": [
            "time: 4.88 ms\n"
          ],
          "name": "stdout"
        }
      ]
    },
    {
      "cell_type": "code",
      "metadata": {
        "id": "Qbl1o_WyWj5x",
        "colab_type": "code",
        "outputId": "56f2a5dc-65ea-477d-b8a9-d8ab3b8ad6fe",
        "colab": {
          "base_uri": "https://localhost:8080/",
          "height": 305
        }
      },
      "source": [
        "print(\"Confusion matrix\\n\",metrics.confusion_matrix(y_true=target_system.System,y_pred=sc1pp3labelshyp3_01)) \n",
        "print(\"Classification report\\n\",metrics.classification_report(y_true=target_system.System,y_pred=sc1pp3labelshyp3_01))"
      ],
      "execution_count": 0,
      "outputs": [
        {
          "output_type": "stream",
          "text": [
            "Confusion matrix\n",
            " [[    0   671     0]\n",
            " [    0 20527     0]\n",
            " [  250  2615 12288]]\n",
            "Classification report\n",
            "               precision    recall  f1-score   support\n",
            "\n",
            "           1       0.00      0.00      0.00       671\n",
            "           2       0.86      1.00      0.93     20527\n",
            "           3       1.00      0.81      0.90     15153\n",
            "\n",
            "    accuracy                           0.90     36351\n",
            "   macro avg       0.62      0.60      0.61     36351\n",
            "weighted avg       0.90      0.90      0.90     36351\n",
            "\n",
            "time: 81 ms\n"
          ],
          "name": "stdout"
        }
      ]
    },
    {
      "cell_type": "code",
      "metadata": {
        "id": "1IBi_ukrWj5y",
        "colab_type": "code",
        "outputId": "dfca1e0b-4adb-4d35-afb9-b96f7493139a",
        "colab": {
          "base_uri": "https://localhost:8080/",
          "height": 323
        }
      },
      "source": [
        "print('\\033[1m'+\"Kmeans++:\"+'\\033[0m')\n",
        "print('\\033[1m'+\"System 1\"+'\\033[0m')\n",
        "print(\"Precision = {0:0.3f}\".format(reportpp3hyp3_01[\"1\"][\"precision\"]))\n",
        "print(\"Recall = {0:0.3f}\".format(reportpp3hyp3_01[\"1\"][\"recall\"]))\n",
        "print(\"F1-score = {0:0.3f}\".format(reportpp3hyp3_01[\"1\"][\"f1-score\"]))\n",
        "print(\"Support = {0:0.3f}\".format(reportpp3hyp3_01[\"1\"][\"support\"]))\n",
        "print('\\033[1m'+\"System 2\"+'\\033[0m')\n",
        "print(\"Precision = {0:0.3f}\".format(reportpp3hyp3_01[\"2\"][\"precision\"]))\n",
        "print(\"Recall = {0:0.3f}\".format(reportpp3hyp3_01[\"2\"][\"recall\"]))\n",
        "print(\"F1-score = {0:0.3f}\".format(reportpp3hyp3_01[\"2\"][\"f1-score\"]))\n",
        "print(\"Support = {0:0.3f}\".format(reportpp3hyp3_01[\"2\"][\"support\"]))\n",
        "print('\\033[1m'+\"System 3\"+'\\033[0m')\n",
        "print(\"Precision = {0:0.3f}\".format(reportpp3hyp3_01[\"3\"][\"precision\"]))\n",
        "print(\"Recall = {0:0.3f}\".format(reportpp3hyp3_01[\"3\"][\"recall\"]))\n",
        "print(\"F1-score = {0:0.3f}\".format(reportpp3hyp3_01[\"3\"][\"f1-score\"]))\n",
        "print(\"Support = {0:0.3f}\".format(reportpp3hyp3_01[\"3\"][\"support\"]))"
      ],
      "execution_count": 0,
      "outputs": [
        {
          "output_type": "stream",
          "text": [
            "\u001b[1mKmeans++:\u001b[0m\n",
            "\u001b[1mSystem 1\u001b[0m\n",
            "Precision = 0.000\n",
            "Recall = 0.000\n",
            "F1-score = 0.000\n",
            "Support = 671.000\n",
            "\u001b[1mSystem 2\u001b[0m\n",
            "Precision = 0.862\n",
            "Recall = 1.000\n",
            "F1-score = 0.926\n",
            "Support = 20527.000\n",
            "\u001b[1mSystem 3\u001b[0m\n",
            "Precision = 1.000\n",
            "Recall = 0.811\n",
            "F1-score = 0.896\n",
            "Support = 15153.000\n",
            "time: 22.7 ms\n"
          ],
          "name": "stdout"
        }
      ]
    },
    {
      "cell_type": "code",
      "metadata": {
        "id": "LwONGM-FWj5y",
        "colab_type": "code",
        "outputId": "e79f464d-7770-4315-f40a-a0f1927b01a6",
        "colab": {
          "base_uri": "https://localhost:8080/",
          "height": 161
        }
      },
      "source": [
        "print('\\033[1m'+'Clustering metrics - supervised'+'\\033[0m')\n",
        "print('Adjusted Rand score: ', metrics.adjusted_rand_score(target_system.System, sc1pp3labelshyp3_01))\n",
        "print('Mutual info score: ', metrics.adjusted_mutual_info_score(target_system.System, sc1pp3labelshyp3_01))\n",
        "print('Homogeneity score: ', metrics.homogeneity_score(target_system.System, sc1pp3labelshyp3_01))\n",
        "print('Completeness score: ', metrics.completeness_score(target_system.System, sc1pp3labelshyp3_01))\n",
        "print('V-measure: ', metrics.v_measure_score(target_system.System, sc1pp3labelshyp3_01))\n",
        "print('Fowlkes-Mallows score: ', metrics.fowlkes_mallows_score(target_system.System, sc1pp3labelshyp3_01))"
      ],
      "execution_count": 0,
      "outputs": [
        {
          "output_type": "stream",
          "text": [
            "\u001b[1mClustering metrics - supervised\u001b[0m\n",
            "Adjusted Rand score:  0.6823361077431518\n",
            "Mutual info score:  0.6288415438002335\n",
            "Homogeneity score:  0.5945082951466247\n",
            "Completeness score:  0.6674481883802669\n",
            "V-measure:  0.6288703132831919\n",
            "Fowlkes-Mallows score:  0.8475658942266868\n",
            "time: 61 ms\n"
          ],
          "name": "stdout"
        }
      ]
    },
    {
      "cell_type": "code",
      "metadata": {
        "id": "Hl6qlDg6Wj5z",
        "colab_type": "code",
        "outputId": "3f4cb92e-e86b-4797-c44c-c6b0007d03aa",
        "colab": {
          "base_uri": "https://localhost:8080/",
          "height": 163
        }
      },
      "source": [
        "print('\\033[1m'+'Clustering metrics - unsupervised'+'\\033[0m')\n",
        "print('Silhouette: ',metrics.silhouette_score(dfsc1, sc1pp3labelshyp3_01, metric='euclidean'))\n",
        "print('Davies-Bouldin Index: ',metrics.davies_bouldin_score(dfsc1, sc1pp3labelshyp3_01))\n",
        "print('Calinski-Harabasz Index: ',metrics.calinski_harabaz_score(dfsc1, sc1pp3labelshyp3_01))"
      ],
      "execution_count": 0,
      "outputs": [
        {
          "output_type": "stream",
          "text": [
            "\u001b[1mClustering metrics - unsupervised\u001b[0m\n",
            "Silhouette:  0.7084899313103125\n",
            "Davies-Bouldin Index:  0.35351468150384296\n",
            "Calinski-Harabasz Index:  40095.43389737366\n",
            "time: 19.5 s\n"
          ],
          "name": "stdout"
        },
        {
          "output_type": "stream",
          "text": [
            "/usr/local/lib/python3.6/dist-packages/sklearn/utils/deprecation.py:87: FutureWarning: Function calinski_harabaz_score is deprecated; Function 'calinski_harabaz_score' has been renamed to 'calinski_harabasz_score' and will be removed in version 0.23.\n",
            "  warnings.warn(msg, category=FutureWarning)\n"
          ],
          "name": "stderr"
        }
      ]
    },
    {
      "cell_type": "markdown",
      "metadata": {
        "id": "tLz0C6mdWj50",
        "colab_type": "text"
      },
      "source": [
        "### 02 - tol = 0.01"
      ]
    },
    {
      "cell_type": "code",
      "metadata": {
        "id": "JsIgXetLWj50",
        "colab_type": "code",
        "outputId": "13c8f959-fba1-4df0-b85c-c95016034241",
        "colab": {
          "base_uri": "https://localhost:8080/",
          "height": 35
        }
      },
      "source": [
        "kmeansc1pp3hyp3_02 = KMeans(n_clusters=3, random_state=42, tol=0.01).fit(dfsc1)"
      ],
      "execution_count": 0,
      "outputs": [
        {
          "output_type": "stream",
          "text": [
            "time: 163 ms\n"
          ],
          "name": "stdout"
        }
      ]
    },
    {
      "cell_type": "code",
      "metadata": {
        "id": "Sfe108uAWj50",
        "colab_type": "code",
        "outputId": "b02b35ca-4ab6-4b5f-ca9d-1d1a060109dc",
        "colab": {
          "base_uri": "https://localhost:8080/",
          "height": 35
        }
      },
      "source": [
        "kmeansc1pp3hyp3_02.labels_"
      ],
      "execution_count": 0,
      "outputs": [
        {
          "output_type": "execute_result",
          "data": {
            "text/plain": [
              "array([0, 0, 0, ..., 1, 1, 1], dtype=int32)"
            ]
          },
          "metadata": {
            "tags": []
          },
          "execution_count": 198
        },
        {
          "output_type": "stream",
          "text": [
            "time: 5 ms\n"
          ],
          "name": "stdout"
        }
      ]
    },
    {
      "cell_type": "code",
      "metadata": {
        "id": "8tdZE-09Wj51",
        "colab_type": "code",
        "outputId": "62a62f71-6e84-4aaf-e201-b5bf5234213c",
        "colab": {
          "base_uri": "https://localhost:8080/",
          "height": 35
        }
      },
      "source": [
        "sc1pp3labelshyp3_02 = pd.Series(kmeansc1pp3hyp3_02.labels_)"
      ],
      "execution_count": 0,
      "outputs": [
        {
          "output_type": "stream",
          "text": [
            "time: 1.49 ms\n"
          ],
          "name": "stdout"
        }
      ]
    },
    {
      "cell_type": "code",
      "metadata": {
        "id": "jBEL5_z2Wj52",
        "colab_type": "code",
        "outputId": "6b9d04bd-507a-4e05-d885-21ef68f33505",
        "colab": {
          "base_uri": "https://localhost:8080/",
          "height": 89
        }
      },
      "source": [
        "sc1pp3labelshyp3_02.value_counts()"
      ],
      "execution_count": 0,
      "outputs": [
        {
          "output_type": "execute_result",
          "data": {
            "text/plain": [
              "0    23813\n",
              "1    12288\n",
              "2      250\n",
              "dtype: int64"
            ]
          },
          "metadata": {
            "tags": []
          },
          "execution_count": 200
        },
        {
          "output_type": "stream",
          "text": [
            "time: 17.4 ms\n"
          ],
          "name": "stdout"
        }
      ]
    },
    {
      "cell_type": "code",
      "metadata": {
        "id": "ygS4vZw6Wj53",
        "colab_type": "code",
        "outputId": "947b039b-5abd-4d05-f4a5-7b23e1ef5906",
        "colab": {
          "base_uri": "https://localhost:8080/",
          "height": 35
        }
      },
      "source": [
        "cmpp3hyp3_02 = confusion_matrix(target_system.System, sc1pp3labelshyp3_02)"
      ],
      "execution_count": 0,
      "outputs": [
        {
          "output_type": "stream",
          "text": [
            "time: 74 ms\n"
          ],
          "name": "stdout"
        }
      ]
    },
    {
      "cell_type": "code",
      "metadata": {
        "id": "ceZX-HT-Wj54",
        "colab_type": "code",
        "outputId": "32b16827-c3e0-4ad3-a2ba-40d9066fedcb",
        "colab": {
          "base_uri": "https://localhost:8080/",
          "height": 89
        }
      },
      "source": [
        "cmpp3hyp3_02"
      ],
      "execution_count": 0,
      "outputs": [
        {
          "output_type": "execute_result",
          "data": {
            "text/plain": [
              "array([[    0,     0,     0,     0],\n",
              "       [  671,     0,     0,     0],\n",
              "       [20527,     0,     0,     0],\n",
              "       [ 2615, 12288,   250,     0]])"
            ]
          },
          "metadata": {
            "tags": []
          },
          "execution_count": 202
        },
        {
          "output_type": "stream",
          "text": [
            "time: 5.78 ms\n"
          ],
          "name": "stdout"
        }
      ]
    },
    {
      "cell_type": "markdown",
      "metadata": {
        "id": "x0-cYmhTWj56",
        "colab_type": "text"
      },
      "source": [
        "## Check correct labels"
      ]
    },
    {
      "cell_type": "code",
      "metadata": {
        "id": "czdwXz_BWj56",
        "colab_type": "code",
        "outputId": "e0a4d129-8c43-4e71-a16c-b924d1628783",
        "colab": {
          "base_uri": "https://localhost:8080/",
          "height": 321
        }
      },
      "source": [
        "sns.heatmap(cmpp3hyp3_02,annot=True,cmap='coolwarm')\n",
        "plt.xlabel('Predicted')\n",
        "plt.ylabel('True')"
      ],
      "execution_count": 0,
      "outputs": [
        {
          "output_type": "execute_result",
          "data": {
            "text/plain": [
              "Text(30.5, 0.5, 'True')"
            ]
          },
          "metadata": {
            "tags": []
          },
          "execution_count": 203
        },
        {
          "output_type": "display_data",
          "data": {
            "image/png": "[encoded data removed]",
            "text/plain": [
              "<Figure size 432x288 with 2 Axes>"
            ]
          },
          "metadata": {
            "tags": []
          }
        },
        {
          "output_type": "stream",
          "text": [
            "time: 308 ms\n"
          ],
          "name": "stdout"
        }
      ]
    },
    {
      "cell_type": "markdown",
      "metadata": {
        "id": "EQKpDNMzWj57",
        "colab_type": "text"
      },
      "source": [
        "## Change to correct labels"
      ]
    },
    {
      "cell_type": "code",
      "metadata": {
        "id": "kl1voQNeWj57",
        "colab_type": "code",
        "outputId": "fad2d6ee-5134-4345-bfce-af5194e7d1e2",
        "colab": {
          "base_uri": "https://localhost:8080/",
          "height": 35
        }
      },
      "source": [
        "sc1pp3labelshyp3_02\n",
        "sc1pp3labelshyp3_02[sc1pp3labelshyp3_02 == 0] = 4\n",
        "sc1pp3labelshyp3_02[sc1pp3labelshyp3_02 == 1] = 5\n",
        "sc1pp3labelshyp3_02[sc1pp3labelshyp3_02 == 2] = 6"
      ],
      "execution_count": 0,
      "outputs": [
        {
          "output_type": "stream",
          "text": [
            "time: 12.6 ms\n"
          ],
          "name": "stdout"
        }
      ]
    },
    {
      "cell_type": "code",
      "metadata": {
        "id": "Lf7H53LlWj58",
        "colab_type": "code",
        "outputId": "e0ce69b2-08f3-4c58-bcb8-af930e8c4b5d",
        "colab": {
          "base_uri": "https://localhost:8080/",
          "height": 35
        }
      },
      "source": [
        "sc1pp3labelshyp3_02[sc1pp3labelshyp3_02 == 4] = 2\n",
        "sc1pp3labelshyp3_02[sc1pp3labelshyp3_02 == 5] = 3\n",
        "sc1pp3labelshyp3_02[sc1pp3labelshyp3_02 == 6] = 1"
      ],
      "execution_count": 0,
      "outputs": [
        {
          "output_type": "stream",
          "text": [
            "time: 14.6 ms\n"
          ],
          "name": "stdout"
        }
      ]
    },
    {
      "cell_type": "markdown",
      "metadata": {
        "id": "zEQKvMmKWj59",
        "colab_type": "text"
      },
      "source": [
        "## Check heatmap"
      ]
    },
    {
      "cell_type": "code",
      "metadata": {
        "id": "GN5QGMSHWj59",
        "colab_type": "code",
        "outputId": "5e0c3484-4da7-466c-8cbb-3c0726ca282f",
        "colab": {
          "base_uri": "https://localhost:8080/",
          "height": 35
        }
      },
      "source": [
        "cmpp3hyp3_02 = confusion_matrix(target_system.System, sc1pp3labelshyp3_02)"
      ],
      "execution_count": 0,
      "outputs": [
        {
          "output_type": "stream",
          "text": [
            "time: 40.6 ms\n"
          ],
          "name": "stdout"
        }
      ]
    },
    {
      "cell_type": "code",
      "metadata": {
        "id": "SbVOP4ndWj5-",
        "colab_type": "code",
        "outputId": "1feb495f-257a-4ebe-9f5a-6f242626e600",
        "colab": {
          "base_uri": "https://localhost:8080/",
          "height": 71
        }
      },
      "source": [
        "cmpp3hyp3_02"
      ],
      "execution_count": 0,
      "outputs": [
        {
          "output_type": "execute_result",
          "data": {
            "text/plain": [
              "array([[    0,   671,     0],\n",
              "       [    0, 20527,     0],\n",
              "       [  250,  2615, 12288]])"
            ]
          },
          "metadata": {
            "tags": []
          },
          "execution_count": 207
        },
        {
          "output_type": "stream",
          "text": [
            "time: 3.91 ms\n"
          ],
          "name": "stdout"
        }
      ]
    },
    {
      "cell_type": "code",
      "metadata": {
        "id": "5jwLtXx7Wj5_",
        "colab_type": "code",
        "outputId": "095b44a6-6f08-45d6-9bbb-7c8a5898aba4",
        "colab": {
          "base_uri": "https://localhost:8080/",
          "height": 321
        }
      },
      "source": [
        "sns.heatmap(cmpp3hyp3_02,annot=True,cmap='coolwarm')\n",
        "plt.xlabel('Predicted')\n",
        "plt.ylabel('True')"
      ],
      "execution_count": 0,
      "outputs": [
        {
          "output_type": "execute_result",
          "data": {
            "text/plain": [
              "Text(30.5, 0.5, 'True')"
            ]
          },
          "metadata": {
            "tags": []
          },
          "execution_count": 208
        },
        {
          "output_type": "display_data",
          "data": {
            "image/png": "[encoded data removed]",
            "text/plain": [
              "<Figure size 432x288 with 2 Axes>"
            ]
          },
          "metadata": {
            "tags": []
          }
        },
        {
          "output_type": "stream",
          "text": [
            "time: 293 ms\n"
          ],
          "name": "stdout"
        }
      ]
    },
    {
      "cell_type": "code",
      "metadata": {
        "id": "_VyPvrJLWj5_",
        "colab_type": "code",
        "outputId": "a701173e-1669-4d51-fdf0-c7c9050225ab",
        "colab": {
          "base_uri": "https://localhost:8080/",
          "height": 35
        }
      },
      "source": [
        "reportpp3hyp3_02 = classification_report(target_system, sc1pp3labelshyp3_02,output_dict = True)"
      ],
      "execution_count": 0,
      "outputs": [
        {
          "output_type": "stream",
          "text": [
            "time: 37.5 ms\n"
          ],
          "name": "stdout"
        }
      ]
    },
    {
      "cell_type": "code",
      "metadata": {
        "id": "FYlNCJsAWj6A",
        "colab_type": "code",
        "outputId": "1c7b894d-81d8-4fa9-f581-fe4957efcb33",
        "colab": {
          "base_uri": "https://localhost:8080/",
          "height": 341
        }
      },
      "source": [
        "reportpp3hyp3_02"
      ],
      "execution_count": 0,
      "outputs": [
        {
          "output_type": "execute_result",
          "data": {
            "text/plain": [
              "{'1': {'f1-score': 0.0, 'precision': 0.0, 'recall': 0.0, 'support': 671},\n",
              " '2': {'f1-score': 0.9258908434821831,\n",
              "  'precision': 0.8620081468105657,\n",
              "  'recall': 1.0,\n",
              "  'support': 20527},\n",
              " '3': {'f1-score': 0.895594183885427,\n",
              "  'precision': 1.0,\n",
              "  'recall': 0.8109285290041576,\n",
              "  'support': 15153},\n",
              " 'accuracy': 0.9027261973535804,\n",
              " 'macro avg': {'f1-score': 0.6071616757892033,\n",
              "  'precision': 0.6206693822701886,\n",
              "  'recall': 0.6036428430013858,\n",
              "  'support': 36351},\n",
              " 'weighted avg': {'f1-score': 0.8961706696535073,\n",
              "  'precision': 0.9036186412913119,\n",
              "  'recall': 0.9027261973535804,\n",
              "  'support': 36351}}"
            ]
          },
          "metadata": {
            "tags": []
          },
          "execution_count": 210
        },
        {
          "output_type": "stream",
          "text": [
            "time: 6.09 ms\n"
          ],
          "name": "stdout"
        }
      ]
    },
    {
      "cell_type": "code",
      "metadata": {
        "id": "wEk3VZiBWj6B",
        "colab_type": "code",
        "outputId": "7e11c5fa-423c-431a-9cd6-3d65019c6cff",
        "colab": {
          "base_uri": "https://localhost:8080/",
          "height": 305
        }
      },
      "source": [
        "print(\"Confusion matrix\\n\",metrics.confusion_matrix(y_true=target_system.System,y_pred=sc1pp3labelshyp3_02)) \n",
        "print(\"Classification report\\n\",metrics.classification_report(y_true=target_system.System,y_pred=sc1pp3labelshyp3_02))"
      ],
      "execution_count": 0,
      "outputs": [
        {
          "output_type": "stream",
          "text": [
            "Confusion matrix\n",
            " [[    0   671     0]\n",
            " [    0 20527     0]\n",
            " [  250  2615 12288]]\n",
            "Classification report\n",
            "               precision    recall  f1-score   support\n",
            "\n",
            "           1       0.00      0.00      0.00       671\n",
            "           2       0.86      1.00      0.93     20527\n",
            "           3       1.00      0.81      0.90     15153\n",
            "\n",
            "    accuracy                           0.90     36351\n",
            "   macro avg       0.62      0.60      0.61     36351\n",
            "weighted avg       0.90      0.90      0.90     36351\n",
            "\n",
            "time: 80.8 ms\n"
          ],
          "name": "stdout"
        }
      ]
    },
    {
      "cell_type": "code",
      "metadata": {
        "id": "U1ndqt-wWj6D",
        "colab_type": "code",
        "outputId": "7bdb16cc-34e0-4ecb-e5a5-937ef238c2ab",
        "colab": {
          "base_uri": "https://localhost:8080/",
          "height": 323
        }
      },
      "source": [
        "print('\\033[1m'+\"Kmeans++:\"+'\\033[0m')\n",
        "print('\\033[1m'+\"System 1\"+'\\033[0m')\n",
        "print(\"Precision = {0:0.3f}\".format(reportpp3hyp3_02[\"1\"][\"precision\"]))\n",
        "print(\"Recall = {0:0.3f}\".format(reportpp3hyp3_02[\"1\"][\"recall\"]))\n",
        "print(\"F1-score = {0:0.3f}\".format(reportpp3hyp3_02[\"1\"][\"f1-score\"]))\n",
        "print(\"Support = {0:0.3f}\".format(reportpp3hyp3_02[\"1\"][\"support\"]))\n",
        "print('\\033[1m'+\"System 2\"+'\\033[0m')\n",
        "print(\"Precision = {0:0.3f}\".format(reportpp3hyp3_02[\"2\"][\"precision\"]))\n",
        "print(\"Recall = {0:0.3f}\".format(reportpp3hyp3_02[\"2\"][\"recall\"]))\n",
        "print(\"F1-score = {0:0.3f}\".format(reportpp3hyp3_02[\"2\"][\"f1-score\"]))\n",
        "print(\"Support = {0:0.3f}\".format(reportpp3hyp3_02[\"2\"][\"support\"]))\n",
        "print('\\033[1m'+\"System 3\"+'\\033[0m')\n",
        "print(\"Precision = {0:0.3f}\".format(reportpp3hyp3_02[\"3\"][\"precision\"]))\n",
        "print(\"Recall = {0:0.3f}\".format(reportpp3hyp3_02[\"3\"][\"recall\"]))\n",
        "print(\"F1-score = {0:0.3f}\".format(reportpp3hyp3_02[\"3\"][\"f1-score\"]))\n",
        "print(\"Support = {0:0.3f}\".format(reportpp3hyp3_02[\"3\"][\"support\"]))"
      ],
      "execution_count": 0,
      "outputs": [
        {
          "output_type": "stream",
          "text": [
            "\u001b[1mKmeans++:\u001b[0m\n",
            "\u001b[1mSystem 1\u001b[0m\n",
            "Precision = 0.000\n",
            "Recall = 0.000\n",
            "F1-score = 0.000\n",
            "Support = 671.000\n",
            "\u001b[1mSystem 2\u001b[0m\n",
            "Precision = 0.862\n",
            "Recall = 1.000\n",
            "F1-score = 0.926\n",
            "Support = 20527.000\n",
            "\u001b[1mSystem 3\u001b[0m\n",
            "Precision = 1.000\n",
            "Recall = 0.811\n",
            "F1-score = 0.896\n",
            "Support = 15153.000\n",
            "time: 20.2 ms\n"
          ],
          "name": "stdout"
        }
      ]
    },
    {
      "cell_type": "code",
      "metadata": {
        "id": "QNtLVdAqWj6E",
        "colab_type": "code",
        "outputId": "48813238-f9a7-4921-9051-c0cb5dfa0144",
        "colab": {
          "base_uri": "https://localhost:8080/",
          "height": 161
        }
      },
      "source": [
        "print('\\033[1m'+'Clustering metrics - supervised'+'\\033[0m')\n",
        "print('Adjusted Rand score: ', metrics.adjusted_rand_score(target_system.System, sc1pp3labelshyp3_02))\n",
        "print('Mutual info score: ', metrics.adjusted_mutual_info_score(target_system.System, sc1pp3labelshyp3_02))\n",
        "print('Homogeneity score: ', metrics.homogeneity_score(target_system.System, sc1pp3labelshyp3_02))\n",
        "print('Completeness score: ', metrics.completeness_score(target_system.System, sc1pp3labelshyp3_02))\n",
        "print('V-measure: ', metrics.v_measure_score(target_system.System, sc1pp3labelshyp3_02))\n",
        "print('Fowlkes-Mallows score: ', metrics.fowlkes_mallows_score(target_system.System, sc1pp3labelshyp3_02))"
      ],
      "execution_count": 0,
      "outputs": [
        {
          "output_type": "stream",
          "text": [
            "\u001b[1mClustering metrics - supervised\u001b[0m\n",
            "Adjusted Rand score:  0.6823361077431518\n",
            "Mutual info score:  0.6288415438002335\n",
            "Homogeneity score:  0.5945082951466247\n",
            "Completeness score:  0.6674481883802669\n",
            "V-measure:  0.6288703132831919\n",
            "Fowlkes-Mallows score:  0.8475658942266868\n",
            "time: 65.1 ms\n"
          ],
          "name": "stdout"
        }
      ]
    },
    {
      "cell_type": "code",
      "metadata": {
        "id": "mBMkB8vEWj6F",
        "colab_type": "code",
        "outputId": "6ad15059-5f22-4d79-86fe-c9fde308ad88",
        "colab": {
          "base_uri": "https://localhost:8080/",
          "height": 163
        }
      },
      "source": [
        "print('\\033[1m'+'Clustering metrics - unsupervised'+'\\033[0m')\n",
        "print('Silhouette: ',metrics.silhouette_score(dfsc1, sc1pp3labelshyp3_02, metric='euclidean'))\n",
        "print('Davies-Bouldin Index: ',metrics.davies_bouldin_score(dfsc1, sc1pp3labelshyp3_02))\n",
        "print('Calinski-Harabasz Index: ',metrics.calinski_harabaz_score(dfsc1, sc1pp3labelshyp3_02))"
      ],
      "execution_count": 0,
      "outputs": [
        {
          "output_type": "stream",
          "text": [
            "\u001b[1mClustering metrics - unsupervised\u001b[0m\n",
            "Silhouette:  0.7084899313103125\n",
            "Davies-Bouldin Index:  0.35351468150384296\n",
            "Calinski-Harabasz Index:  40095.43389737366\n",
            "time: 19.4 s\n"
          ],
          "name": "stdout"
        },
        {
          "output_type": "stream",
          "text": [
            "/usr/local/lib/python3.6/dist-packages/sklearn/utils/deprecation.py:87: FutureWarning: Function calinski_harabaz_score is deprecated; Function 'calinski_harabaz_score' has been renamed to 'calinski_harabasz_score' and will be removed in version 0.23.\n",
            "  warnings.warn(msg, category=FutureWarning)\n"
          ],
          "name": "stderr"
        }
      ]
    },
    {
      "cell_type": "markdown",
      "metadata": {
        "id": "gEfc6M0IWj6G",
        "colab_type": "text"
      },
      "source": [
        "### 03 - tol = 0.1"
      ]
    },
    {
      "cell_type": "code",
      "metadata": {
        "id": "SXomSAkJWj6G",
        "colab_type": "code",
        "outputId": "9a9eb6e3-93e4-4b3a-88c5-6a1841c9ac41",
        "colab": {
          "base_uri": "https://localhost:8080/",
          "height": 35
        }
      },
      "source": [
        "kmeansc1pp3hyp3_03 = KMeans(n_clusters=3, random_state=42, tol=0.1).fit(dfsc1)"
      ],
      "execution_count": 0,
      "outputs": [
        {
          "output_type": "stream",
          "text": [
            "time: 160 ms\n"
          ],
          "name": "stdout"
        }
      ]
    },
    {
      "cell_type": "code",
      "metadata": {
        "id": "cxmb_c39Wj6I",
        "colab_type": "code",
        "outputId": "ef853681-f4a1-436e-cd51-d0fdadabc91e",
        "colab": {
          "base_uri": "https://localhost:8080/",
          "height": 35
        }
      },
      "source": [
        "kmeansc1pp3hyp3_03.labels_"
      ],
      "execution_count": 0,
      "outputs": [
        {
          "output_type": "execute_result",
          "data": {
            "text/plain": [
              "array([0, 0, 0, ..., 1, 1, 1], dtype=int32)"
            ]
          },
          "metadata": {
            "tags": []
          },
          "execution_count": 216
        },
        {
          "output_type": "stream",
          "text": [
            "time: 3.52 ms\n"
          ],
          "name": "stdout"
        }
      ]
    },
    {
      "cell_type": "code",
      "metadata": {
        "id": "p0VbZIcGWj6I",
        "colab_type": "code",
        "outputId": "6346d2a0-02ab-4467-df75-3e1b3c811c3a",
        "colab": {
          "base_uri": "https://localhost:8080/",
          "height": 35
        }
      },
      "source": [
        "sc1pp3labelshyp3_03 = pd.Series(kmeansc1pp3hyp3_03.labels_)"
      ],
      "execution_count": 0,
      "outputs": [
        {
          "output_type": "stream",
          "text": [
            "time: 1.47 ms\n"
          ],
          "name": "stdout"
        }
      ]
    },
    {
      "cell_type": "code",
      "metadata": {
        "id": "Pw0sPrxUWj6J",
        "colab_type": "code",
        "outputId": "6278020b-5db0-40b5-fb05-8171ba407c2a",
        "colab": {
          "base_uri": "https://localhost:8080/",
          "height": 89
        }
      },
      "source": [
        "sc1pp3labelshyp3_03.value_counts()"
      ],
      "execution_count": 0,
      "outputs": [
        {
          "output_type": "execute_result",
          "data": {
            "text/plain": [
              "0    23813\n",
              "1    12288\n",
              "2      250\n",
              "dtype: int64"
            ]
          },
          "metadata": {
            "tags": []
          },
          "execution_count": 218
        },
        {
          "output_type": "stream",
          "text": [
            "time: 8.27 ms\n"
          ],
          "name": "stdout"
        }
      ]
    },
    {
      "cell_type": "code",
      "metadata": {
        "id": "SEkzfyLeWj6K",
        "colab_type": "code",
        "outputId": "6abe5cba-d844-4608-9006-565cb93be487",
        "colab": {
          "base_uri": "https://localhost:8080/",
          "height": 35
        }
      },
      "source": [
        "cmpp3hyp3_03 = confusion_matrix(target_system.System, sc1pp3labelshyp3_03)"
      ],
      "execution_count": 0,
      "outputs": [
        {
          "output_type": "stream",
          "text": [
            "time: 77.5 ms\n"
          ],
          "name": "stdout"
        }
      ]
    },
    {
      "cell_type": "code",
      "metadata": {
        "id": "spfIVcH4Wj6K",
        "colab_type": "code",
        "outputId": "3153ad80-b348-4413-e7b8-5de21693543e",
        "colab": {
          "base_uri": "https://localhost:8080/",
          "height": 89
        }
      },
      "source": [
        "cmpp3hyp3_03"
      ],
      "execution_count": 0,
      "outputs": [
        {
          "output_type": "execute_result",
          "data": {
            "text/plain": [
              "array([[    0,     0,     0,     0],\n",
              "       [  671,     0,     0,     0],\n",
              "       [20527,     0,     0,     0],\n",
              "       [ 2615, 12288,   250,     0]])"
            ]
          },
          "metadata": {
            "tags": []
          },
          "execution_count": 220
        },
        {
          "output_type": "stream",
          "text": [
            "time: 5.25 ms\n"
          ],
          "name": "stdout"
        }
      ]
    },
    {
      "cell_type": "markdown",
      "metadata": {
        "id": "imvwo6qgWj6L",
        "colab_type": "text"
      },
      "source": [
        "## Check correct labels"
      ]
    },
    {
      "cell_type": "code",
      "metadata": {
        "id": "VetxMqxiWj6L",
        "colab_type": "code",
        "outputId": "6ad3f0e2-a33d-4eef-d413-e367b92c60f1",
        "colab": {
          "base_uri": "https://localhost:8080/",
          "height": 321
        }
      },
      "source": [
        "sns.heatmap(cmpp3hyp3_03,annot=True,cmap='coolwarm')\n",
        "plt.xlabel('Predicted')\n",
        "plt.ylabel('True')"
      ],
      "execution_count": 0,
      "outputs": [
        {
          "output_type": "execute_result",
          "data": {
            "text/plain": [
              "Text(30.5, 0.5, 'True')"
            ]
          },
          "metadata": {
            "tags": []
          },
          "execution_count": 221
        },
        {
          "output_type": "display_data",
          "data": {
            "image/png": "[encoded data removed]",
            "text/plain": [
              "<Figure size 432x288 with 2 Axes>"
            ]
          },
          "metadata": {
            "tags": []
          }
        },
        {
          "output_type": "stream",
          "text": [
            "time: 299 ms\n"
          ],
          "name": "stdout"
        }
      ]
    },
    {
      "cell_type": "markdown",
      "metadata": {
        "id": "gSNQXAMOWj6M",
        "colab_type": "text"
      },
      "source": [
        "## Change to correct labels"
      ]
    },
    {
      "cell_type": "code",
      "metadata": {
        "id": "vJhgBf5CWj6M",
        "colab_type": "code",
        "outputId": "ccbea81c-99ff-477c-ca1c-db74e4e82f1a",
        "colab": {
          "base_uri": "https://localhost:8080/",
          "height": 35
        }
      },
      "source": [
        "sc1pp3labelshyp3_03\n",
        "sc1pp3labelshyp3_03[sc1pp3labelshyp3_03 == 0] = 4\n",
        "sc1pp3labelshyp3_03[sc1pp3labelshyp3_03 == 1] = 5\n",
        "sc1pp3labelshyp3_03[sc1pp3labelshyp3_03 == 2] = 6"
      ],
      "execution_count": 0,
      "outputs": [
        {
          "output_type": "stream",
          "text": [
            "time: 14.5 ms\n"
          ],
          "name": "stdout"
        }
      ]
    },
    {
      "cell_type": "code",
      "metadata": {
        "id": "xedvb2PfWj6N",
        "colab_type": "code",
        "outputId": "e53a32c0-999a-4000-8d30-3370b6dcf6c2",
        "colab": {
          "base_uri": "https://localhost:8080/",
          "height": 35
        }
      },
      "source": [
        "sc1pp3labelshyp3_03[sc1pp3labelshyp3_03 == 4] = 2\n",
        "sc1pp3labelshyp3_03[sc1pp3labelshyp3_03 == 5] = 3\n",
        "sc1pp3labelshyp3_03[sc1pp3labelshyp3_03 == 6] = 1"
      ],
      "execution_count": 0,
      "outputs": [
        {
          "output_type": "stream",
          "text": [
            "time: 14.8 ms\n"
          ],
          "name": "stdout"
        }
      ]
    },
    {
      "cell_type": "markdown",
      "metadata": {
        "id": "oCA79ofIWj6O",
        "colab_type": "text"
      },
      "source": [
        "## Check heatmap"
      ]
    },
    {
      "cell_type": "code",
      "metadata": {
        "id": "jS_HPt4tWj6O",
        "colab_type": "code",
        "outputId": "6dd4fc2f-53ae-4d1a-dc84-8b59cb625949",
        "colab": {
          "base_uri": "https://localhost:8080/",
          "height": 35
        }
      },
      "source": [
        "cmpp3hyp3_03 = confusion_matrix(target_system.System, sc1pp3labelshyp3_03)"
      ],
      "execution_count": 0,
      "outputs": [
        {
          "output_type": "stream",
          "text": [
            "time: 36.9 ms\n"
          ],
          "name": "stdout"
        }
      ]
    },
    {
      "cell_type": "code",
      "metadata": {
        "id": "tammqR2tWj6O",
        "colab_type": "code",
        "outputId": "09d88861-79e7-4f2f-c89b-78062859d575",
        "colab": {
          "base_uri": "https://localhost:8080/",
          "height": 71
        }
      },
      "source": [
        "cmpp3hyp3_03"
      ],
      "execution_count": 0,
      "outputs": [
        {
          "output_type": "execute_result",
          "data": {
            "text/plain": [
              "array([[    0,   671,     0],\n",
              "       [    0, 20527,     0],\n",
              "       [  250,  2615, 12288]])"
            ]
          },
          "metadata": {
            "tags": []
          },
          "execution_count": 225
        },
        {
          "output_type": "stream",
          "text": [
            "time: 4.84 ms\n"
          ],
          "name": "stdout"
        }
      ]
    },
    {
      "cell_type": "code",
      "metadata": {
        "id": "23o5uf7GWj6P",
        "colab_type": "code",
        "outputId": "6773b699-39bc-4bd4-a9db-40bf79d65345",
        "colab": {
          "base_uri": "https://localhost:8080/",
          "height": 321
        }
      },
      "source": [
        "sns.heatmap(cmpp3hyp3_03,annot=True,cmap='coolwarm')\n",
        "plt.xlabel('Predicted')\n",
        "plt.ylabel('True')"
      ],
      "execution_count": 0,
      "outputs": [
        {
          "output_type": "execute_result",
          "data": {
            "text/plain": [
              "Text(30.5, 0.5, 'True')"
            ]
          },
          "metadata": {
            "tags": []
          },
          "execution_count": 226
        },
        {
          "output_type": "display_data",
          "data": {
            "image/png": "[encoded data removed]",
            "text/plain": [
              "<Figure size 432x288 with 2 Axes>"
            ]
          },
          "metadata": {
            "tags": []
          }
        },
        {
          "output_type": "stream",
          "text": [
            "time: 408 ms\n"
          ],
          "name": "stdout"
        }
      ]
    },
    {
      "cell_type": "code",
      "metadata": {
        "id": "PXxxs3tIWj6Q",
        "colab_type": "code",
        "outputId": "9ae4d6eb-daf1-470d-f35a-df1cab42e0d0",
        "colab": {
          "base_uri": "https://localhost:8080/",
          "height": 35
        }
      },
      "source": [
        "reportpp3hyp3_03 = classification_report(target_system, sc1pp3labelshyp3_03,output_dict = True)"
      ],
      "execution_count": 0,
      "outputs": [
        {
          "output_type": "stream",
          "text": [
            "time: 38.8 ms\n"
          ],
          "name": "stdout"
        }
      ]
    },
    {
      "cell_type": "code",
      "metadata": {
        "id": "0oLB51QCWj6R",
        "colab_type": "code",
        "outputId": "57cb6928-bd15-4a81-bc34-fa67a795a85c",
        "colab": {
          "base_uri": "https://localhost:8080/",
          "height": 341
        }
      },
      "source": [
        "reportpp3hyp3_03"
      ],
      "execution_count": 0,
      "outputs": [
        {
          "output_type": "execute_result",
          "data": {
            "text/plain": [
              "{'1': {'f1-score': 0.0, 'precision': 0.0, 'recall': 0.0, 'support': 671},\n",
              " '2': {'f1-score': 0.9258908434821831,\n",
              "  'precision': 0.8620081468105657,\n",
              "  'recall': 1.0,\n",
              "  'support': 20527},\n",
              " '3': {'f1-score': 0.895594183885427,\n",
              "  'precision': 1.0,\n",
              "  'recall': 0.8109285290041576,\n",
              "  'support': 15153},\n",
              " 'accuracy': 0.9027261973535804,\n",
              " 'macro avg': {'f1-score': 0.6071616757892033,\n",
              "  'precision': 0.6206693822701886,\n",
              "  'recall': 0.6036428430013858,\n",
              "  'support': 36351},\n",
              " 'weighted avg': {'f1-score': 0.8961706696535073,\n",
              "  'precision': 0.9036186412913119,\n",
              "  'recall': 0.9027261973535804,\n",
              "  'support': 36351}}"
            ]
          },
          "metadata": {
            "tags": []
          },
          "execution_count": 228
        },
        {
          "output_type": "stream",
          "text": [
            "time: 5.53 ms\n"
          ],
          "name": "stdout"
        }
      ]
    },
    {
      "cell_type": "code",
      "metadata": {
        "id": "O90JoOnLWj6S",
        "colab_type": "code",
        "outputId": "ebebe21e-428d-44a2-add4-48cfa039ecf5",
        "colab": {
          "base_uri": "https://localhost:8080/",
          "height": 305
        }
      },
      "source": [
        "print(\"Confusion matrix\\n\",metrics.confusion_matrix(y_true=target_system.System,y_pred=sc1pp3labelshyp3_03)) \n",
        "print(\"Classification report\\n\",metrics.classification_report(y_true=target_system.System,y_pred=sc1pp3labelshyp3_03))"
      ],
      "execution_count": 0,
      "outputs": [
        {
          "output_type": "stream",
          "text": [
            "Confusion matrix\n",
            " [[    0   671     0]\n",
            " [    0 20527     0]\n",
            " [  250  2615 12288]]\n",
            "Classification report\n",
            "               precision    recall  f1-score   support\n",
            "\n",
            "           1       0.00      0.00      0.00       671\n",
            "           2       0.86      1.00      0.93     20527\n",
            "           3       1.00      0.81      0.90     15153\n",
            "\n",
            "    accuracy                           0.90     36351\n",
            "   macro avg       0.62      0.60      0.61     36351\n",
            "weighted avg       0.90      0.90      0.90     36351\n",
            "\n",
            "time: 82.5 ms\n"
          ],
          "name": "stdout"
        }
      ]
    },
    {
      "cell_type": "code",
      "metadata": {
        "id": "iRm7f77QWj6U",
        "colab_type": "code",
        "outputId": "ab118335-1510-4763-afce-90d76a0b75f0",
        "colab": {
          "base_uri": "https://localhost:8080/",
          "height": 323
        }
      },
      "source": [
        "print('\\033[1m'+\"Kmeans++:\"+'\\033[0m')\n",
        "print('\\033[1m'+\"System 1\"+'\\033[0m')\n",
        "print(\"Precision = {0:0.3f}\".format(reportpp3hyp3_03[\"1\"][\"precision\"]))\n",
        "print(\"Recall = {0:0.3f}\".format(reportpp3hyp3_03[\"1\"][\"recall\"]))\n",
        "print(\"F1-score = {0:0.3f}\".format(reportpp3hyp3_03[\"1\"][\"f1-score\"]))\n",
        "print(\"Support = {0:0.3f}\".format(reportpp3hyp3_03[\"1\"][\"support\"]))\n",
        "print('\\033[1m'+\"System 2\"+'\\033[0m')\n",
        "print(\"Precision = {0:0.3f}\".format(reportpp3hyp3_03[\"2\"][\"precision\"]))\n",
        "print(\"Recall = {0:0.3f}\".format(reportpp3hyp3_03[\"2\"][\"recall\"]))\n",
        "print(\"F1-score = {0:0.3f}\".format(reportpp3hyp3_03[\"2\"][\"f1-score\"]))\n",
        "print(\"Support = {0:0.3f}\".format(reportpp3hyp3_03[\"2\"][\"support\"]))\n",
        "print('\\033[1m'+\"System 3\"+'\\033[0m')\n",
        "print(\"Precision = {0:0.3f}\".format(reportpp3hyp3_03[\"3\"][\"precision\"]))\n",
        "print(\"Recall = {0:0.3f}\".format(reportpp3hyp3_03[\"3\"][\"recall\"]))\n",
        "print(\"F1-score = {0:0.3f}\".format(reportpp3hyp3_03[\"3\"][\"f1-score\"]))\n",
        "print(\"Support = {0:0.3f}\".format(reportpp3hyp3_03[\"3\"][\"support\"]))"
      ],
      "execution_count": 0,
      "outputs": [
        {
          "output_type": "stream",
          "text": [
            "\u001b[1mKmeans++:\u001b[0m\n",
            "\u001b[1mSystem 1\u001b[0m\n",
            "Precision = 0.000\n",
            "Recall = 0.000\n",
            "F1-score = 0.000\n",
            "Support = 671.000\n",
            "\u001b[1mSystem 2\u001b[0m\n",
            "Precision = 0.862\n",
            "Recall = 1.000\n",
            "F1-score = 0.926\n",
            "Support = 20527.000\n",
            "\u001b[1mSystem 3\u001b[0m\n",
            "Precision = 1.000\n",
            "Recall = 0.811\n",
            "F1-score = 0.896\n",
            "Support = 15153.000\n",
            "time: 19.5 ms\n"
          ],
          "name": "stdout"
        }
      ]
    },
    {
      "cell_type": "code",
      "metadata": {
        "id": "eeiHsfTwWj6W",
        "colab_type": "code",
        "outputId": "1b04ec25-b279-40e5-a07b-0b5e6b70cb59",
        "colab": {
          "base_uri": "https://localhost:8080/",
          "height": 161
        }
      },
      "source": [
        "print('\\033[1m'+'Clustering metrics - supervised'+'\\033[0m')\n",
        "print('Adjusted Rand score: ', metrics.adjusted_rand_score(target_system.System, sc1pp3labelshyp3_03))\n",
        "print('Mutual info score: ', metrics.adjusted_mutual_info_score(target_system.System, sc1pp3labelshyp3_03))\n",
        "print('Homogeneity score: ', metrics.homogeneity_score(target_system.System, sc1pp3labelshyp3_03))\n",
        "print('Completeness score: ', metrics.completeness_score(target_system.System, sc1pp3labelshyp3_03))\n",
        "print('V-measure: ', metrics.v_measure_score(target_system.System, sc1pp3labelshyp3_03))\n",
        "print('Fowlkes-Mallows score: ', metrics.fowlkes_mallows_score(target_system.System, sc1pp3labelshyp3_03))"
      ],
      "execution_count": 0,
      "outputs": [
        {
          "output_type": "stream",
          "text": [
            "\u001b[1mClustering metrics - supervised\u001b[0m\n",
            "Adjusted Rand score:  0.6823361077431518\n",
            "Mutual info score:  0.6288415438002335\n",
            "Homogeneity score:  0.5945082951466247\n",
            "Completeness score:  0.6674481883802669\n",
            "V-measure:  0.6288703132831919\n",
            "Fowlkes-Mallows score:  0.8475658942266868\n",
            "time: 64.1 ms\n"
          ],
          "name": "stdout"
        }
      ]
    },
    {
      "cell_type": "code",
      "metadata": {
        "id": "PCH0LR6SWj6X",
        "colab_type": "code",
        "outputId": "f6e3d375-6ff8-4ba4-d4f2-89941da2dada",
        "colab": {
          "base_uri": "https://localhost:8080/",
          "height": 163
        }
      },
      "source": [
        "print('\\033[1m'+'Clustering metrics - unsupervised'+'\\033[0m')\n",
        "print('Silhouette: ',metrics.silhouette_score(dfsc1, sc1pp3labelshyp3_03, metric='euclidean'))\n",
        "print('Davies-Bouldin Index: ',metrics.davies_bouldin_score(dfsc1, sc1pp3labelshyp3_03))\n",
        "print('Calinski-Harabasz Index: ',metrics.calinski_harabaz_score(dfsc1, sc1pp3labelshyp3_03))"
      ],
      "execution_count": 0,
      "outputs": [
        {
          "output_type": "stream",
          "text": [
            "\u001b[1mClustering metrics - unsupervised\u001b[0m\n",
            "Silhouette:  0.7084899313103125\n",
            "Davies-Bouldin Index:  0.35351468150384296\n",
            "Calinski-Harabasz Index:  40095.43389737366\n",
            "time: 19.3 s\n"
          ],
          "name": "stdout"
        },
        {
          "output_type": "stream",
          "text": [
            "/usr/local/lib/python3.6/dist-packages/sklearn/utils/deprecation.py:87: FutureWarning: Function calinski_harabaz_score is deprecated; Function 'calinski_harabaz_score' has been renamed to 'calinski_harabasz_score' and will be removed in version 0.23.\n",
            "  warnings.warn(msg, category=FutureWarning)\n"
          ],
          "name": "stderr"
        }
      ]
    },
    {
      "cell_type": "markdown",
      "metadata": {
        "id": "bKlozeDTWj6Y",
        "colab_type": "text"
      },
      "source": [
        "# 4 Visualize data with PCA"
      ]
    },
    {
      "cell_type": "markdown",
      "metadata": {
        "id": "qRkefy08Z3NH",
        "colab_type": "text"
      },
      "source": [
        "Source: https://scikit-learn.org/stable/auto_examples/cluster/plot_kmeans_digits.html"
      ]
    },
    {
      "cell_type": "code",
      "metadata": {
        "id": "oKd58gKeWj6Y",
        "colab_type": "code",
        "outputId": "247b3952-112c-40c6-ea4f-edb6d2d3c941",
        "colab": {
          "base_uri": "https://localhost:8080/",
          "height": 71
        }
      },
      "source": [
        "reduced_data = PCA(n_components=2).fit_transform(dfsc1)\n",
        "kmeans = KMeans(init='k-means++', n_clusters=3, n_init=100)\n",
        "kmeans.fit(reduced_data)"
      ],
      "execution_count": 0,
      "outputs": [
        {
          "output_type": "execute_result",
          "data": {
            "text/plain": [
              "KMeans(algorithm='auto', copy_x=True, init='k-means++', max_iter=300,\n",
              "       n_clusters=3, n_init=100, n_jobs=None, precompute_distances='auto',\n",
              "       random_state=None, tol=0.0001, verbose=0)"
            ]
          },
          "metadata": {
            "tags": []
          },
          "execution_count": 233
        },
        {
          "output_type": "stream",
          "text": [
            "time: 1.59 s\n"
          ],
          "name": "stdout"
        }
      ]
    },
    {
      "cell_type": "code",
      "metadata": {
        "id": "YfVBkVpyXTBL",
        "colab_type": "code",
        "outputId": "f1625e93-6a7c-4b38-c3cd-7bf718cc78fa",
        "colab": {
          "base_uri": "https://localhost:8080/",
          "height": 554
        }
      },
      "source": [
        "h = .02\n",
        "\n",
        "\n",
        "x_min, x_max = reduced_data[:, 0].min() - 1, reduced_data[:, 0].max() + 1\n",
        "y_min, y_max = reduced_data[:, 1].min() - 1, reduced_data[:, 1].max() + 1\n",
        "xx, yy = np.meshgrid(np.arange(x_min, x_max, h), np.arange(y_min, y_max, h))\n",
        "\n",
        "Z = kmeans.predict(np.c_[xx.ravel(), yy.ravel()])\n",
        "\n",
        "Z = Z.reshape(xx.shape)\n",
        "\n",
        "plt.figure(figsize = (12,9))\n",
        "plt.clf()\n",
        "plt.imshow(Z, interpolation='nearest',\n",
        "           extent=(xx.min(), xx.max(), yy.min(), yy.max()),\n",
        "           cmap=plt.cm.Paired,\n",
        "           aspect='auto', origin='lower')\n",
        "\n",
        "plt.plot(reduced_data[:, 0], reduced_data[:, 1], 'k.', markersize=2)\n",
        "\n",
        "centroids = kmeans.cluster_centers_\n",
        "plt.scatter(centroids[:, 0], centroids[:, 1],\n",
        "            marker='x', s=169, linewidths=3,\n",
        "            color='w', zorder=10)\n",
        "\n",
        "\n",
        "plt.title('K-means Clustering')\n",
        "plt.xlim(x_min, x_max)\n",
        "plt.ylim(y_min, y_max)\n",
        "plt.xticks(())\n",
        "plt.yticks(())\n",
        "plt.show()"
      ],
      "execution_count": 0,
      "outputs": [
        {
          "output_type": "display_data",
          "data": {
            "image/png": "[encoded data removed]",
            "text/plain": [
              "<Figure size 864x648 with 1 Axes>"
            ]
          },
          "metadata": {
            "tags": []
          }
        },
        {
          "output_type": "stream",
          "text": [
            "time: 502 ms\n"
          ],
          "name": "stdout"
        }
      ]
    }
  ]
}